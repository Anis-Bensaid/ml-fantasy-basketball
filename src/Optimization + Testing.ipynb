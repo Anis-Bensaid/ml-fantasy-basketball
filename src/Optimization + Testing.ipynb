{
 "cells": [
  {
   "cell_type": "code",
   "execution_count": 324,
   "metadata": {},
   "outputs": [],
   "source": [
    "using CSV, JuMP, Gurobi, DataFrames, Statistics;"
   ]
  },
  {
   "cell_type": "code",
   "execution_count": 114,
   "metadata": {},
   "outputs": [
    {
     "name": "stdout",
     "output_type": "stream",
     "text": [
      "Academic license - for non-commercial use only\r\n"
     ]
    }
   ],
   "source": [
    "GUROBI_ENV = Gurobi.Env();"
   ]
  },
  {
   "cell_type": "markdown",
   "metadata": {},
   "source": [
    "# Reading Data"
   ]
  },
  {
   "cell_type": "markdown",
   "metadata": {},
   "source": [
    "# IP Formulation"
   ]
  },
  {
   "cell_type": "code",
   "execution_count": 392,
   "metadata": {},
   "outputs": [],
   "source": [
    "function optimize_lineups(players; nb_lineups=1, max_overlap=6, fp_column=\"prediction\", use_std=false, adj=false, std_column=\"leaf_std\", std_weight = 0.5, MAX_PG=2, MAX_SG=2, MAX_SF=2, MAX_PF=2, MAX_C=1, BUDGET=60000.0, save=true, output_path=\"../output/lineups.csv\")\n",
    "    # Columns names\n",
    "    NAME = Symbol(\"Nickname\")\n",
    "    TEAM = Symbol(\"Team\")\n",
    "    POSITION = Symbol(\"Position\")\n",
    "    SALARY = Symbol(\"Salary\")\n",
    "    INJURY = Symbol(\"Injury Indicator\")\n",
    "    FP = Symbol(fp_column)\n",
    "    STD = Symbol(std_column)\n",
    "    if use_std\n",
    "        output_columns = [NAME, POSITION, TEAM , FP, STD]\n",
    "        output_column_names = [\"Name_\", \"Position_\", \"Team_\", \"FP_\", \"STD_\"]\n",
    "    else\n",
    "        output_columns = [NAME, POSITION, TEAM , FP]\n",
    "        output_column_names = [\"Name_\", \"Position_\", \"Team_\", \"FP_\"]\n",
    "    end \n",
    "    \n",
    "    # Reading inputs\n",
    "    ## Fantasy points\n",
    "    fp = players[:,FP];\n",
    "    ## Positions\n",
    "    PG = Int.(players[:,POSITION].==\"PG\")\n",
    "    SG = Int.(players[:,POSITION].==\"SG\")\n",
    "    SF = Int.(players[:,POSITION].==\"SF\")\n",
    "    PF = Int.(players[:,POSITION].==\"PF\")\n",
    "    C  = Int.(players[:,POSITION].==\"C\")\n",
    "    ## Salary\n",
    "    salary = players[:,SALARY];\n",
    "    ## Injuries\n",
    "#     injury = 1 .- ismissing.(players[:,INJURY]) \n",
    "#     o_injury = Int.(Missings.coalesce.(players[:,INJURY], 0).==\"O\")\n",
    "#     q_injury = Int.(Missings.coalesce.(players[:,INJURY], 0).==\"Q\")\n",
    "#     p_injury = Int.(Missings.coalesce.(players[:,INJURY], 0).==\"P\");\n",
    "\n",
    "    ## Number of players\n",
    "    nb_players = size(players)[1]\n",
    "\n",
    "    # Model\n",
    "    model = Model(solver=GurobiSolver(OutputFlag=0, GUROBI_ENV))\n",
    "\n",
    "    # Variable\n",
    "    @variable(model, z[i=1:nb_players], Bin)\n",
    "\n",
    "    # Objective function\n",
    "    if use_std\n",
    "        ## With std \n",
    "        stds = players[:,STD];\n",
    "        if adj\n",
    "            @objective(model, Max, sum((fp .+ std_weight.*abs.(stds)).*z))\n",
    "        else            \n",
    "            @objective(model, Max, (1-std_weight)*sum(fp.*z) + std_weight*sum(stds.^2 .*z))\n",
    "        end\n",
    "    else\n",
    "        ## Without std        \n",
    "        @objective(model, Max, sum(fp.*z))\n",
    "    end\n",
    "    \n",
    "    # Constrains without the overleap constraint\n",
    "    @constraint(model, sum(salary.*z) <= BUDGET)\n",
    "    @constraint(model, sum(PG.*z) == MAX_PG)\n",
    "    @constraint(model, sum(SG.*z) == MAX_SG)\n",
    "    @constraint(model, sum(SF.*z) == MAX_SF)\n",
    "    @constraint(model, sum(PF.*z) == MAX_PF)\n",
    "    @constraint(model, sum(C.*z) == MAX_C)\n",
    "#     @constraint(model, z .<= (1 .- injury))\n",
    "\n",
    "    # Initialization (iteration=1)\n",
    "    solve(model)\n",
    "    x = round.(Int,getvalue(z))\n",
    "    lineups = players[x.==1, output_columns]    \n",
    "    names!(lineups, Symbol.(string.(output_column_names, 1)))  \n",
    "\n",
    "    # Rest of iterations\n",
    "    @constraint(model, sum(x.*z) <= max_overlap)\n",
    "    for i=2:nb_lineups\n",
    "        solve(model)\n",
    "        x = hcat(x,round.(Int,getvalue(z)))\n",
    "        lineups_names = players[x[:,i].==1, output_columns]\n",
    "        names!(lineups_names, Symbol.(string.(output_column_names, i)))    \n",
    "        lineups = hcat(lineups, lineups_names)\n",
    "        @constraint(model, sum(x[:,i].*z) <= max_overlap)\n",
    "    end\n",
    "    if save\n",
    "        CSV.write(output_path, lineups);\n",
    "    end\n",
    "    score_per_lineup = get_score_lineups(lineups)\n",
    "    return lineups, score_per_lineup\n",
    "end;\n",
    "    "
   ]
  },
  {
   "cell_type": "markdown",
   "metadata": {},
   "source": [
    "# Annexe functions"
   ]
  },
  {
   "cell_type": "code",
   "execution_count": 254,
   "metadata": {},
   "outputs": [],
   "source": [
    "function get_number_of_lineups(lineups; fp_column = \"FP_\")\n",
    "    # Return the number of lineups using the columns fp_column_i\n",
    "    colnames = names(lineups)\n",
    "    nb_lineups = 0\n",
    "    for col in colnames\n",
    "        if startswith(string(col), fp_column)\n",
    "            nb_lineups = nb_lineups+1\n",
    "        end\n",
    "    end\n",
    "    nb_lineups\n",
    "end;"
   ]
  },
  {
   "cell_type": "code",
   "execution_count": 255,
   "metadata": {},
   "outputs": [],
   "source": [
    "function get_score_lineups(lineups; fp_column = \"FP_\")\n",
    "    # Returns the scores of the lineups based on the columns \n",
    "    nb_lineups = get_number_of_lineups(lineups; fp_column = fp_column)\n",
    "    return aggregate(lineups[:,Symbol.([string(fp_column,i) for i=1:nb_lineups])], sum)\n",
    "end;"
   ]
  },
  {
   "cell_type": "code",
   "execution_count": 256,
   "metadata": {},
   "outputs": [],
   "source": [
    "function add_true_scores(lineups, test_set; fp_column = \"FP_\", true_fp_column = \"FP\")\n",
    "    # Adds the columns true_fp_column_i from the test_set to the lineups\n",
    "    nb_lineups = get_number_of_lineups(lineups; fp_column = fp_column)\n",
    "    for lineup=1:nb_lineups\n",
    "        player_names = lineups[!,Symbol(string(\"Name_\",lineup))]\n",
    "        lineups[!,Symbol(string(\"True_FP_\",lineup))] = filter(row -> row[:Nickname] in player_names, test_set)[!,Symbol(true_fp_column)]\n",
    "    end\n",
    "    return order_lineups(lineups)\n",
    "end;"
   ]
  },
  {
   "cell_type": "code",
   "execution_count": 257,
   "metadata": {},
   "outputs": [],
   "source": [
    "function order_lineups(lineups)\n",
    "    # Orders the column of lineups based on the lineup index\n",
    "    nb_lineups = get_number_of_lineups(lineups)\n",
    "    colnames = names(lineups)\n",
    "    ordered_colnames = []\n",
    "    for lineup=1:nb_lineups\n",
    "        for col in colnames\n",
    "            if endswith(string(col), string(\"_\",lineup))\n",
    "                push!(ordered_colnames, col)\n",
    "            end\n",
    "        end\n",
    "    end\n",
    "    return lineups[:,ordered_colnames]\n",
    "end;"
   ]
  },
  {
   "cell_type": "code",
   "execution_count": 258,
   "metadata": {},
   "outputs": [],
   "source": [
    "function get_lineup(lineups, lineup_idx)\n",
    "    # Returns all the columns of the lineup with index lineup_idx\n",
    "    all_colnames = names(lineups)\n",
    "    lineup_colnames = []\n",
    "    for col in all_colnames\n",
    "        if endswith(string(col), string(lineup_idx))\n",
    "            push!(lineup_colnames, col)\n",
    "        end\n",
    "    end\n",
    "    return lineups[:,lineup_colnames]\n",
    "end;"
   ]
  },
  {
   "cell_type": "code",
   "execution_count": 259,
   "metadata": {},
   "outputs": [],
   "source": [
    "function get_best_lineup(lineups; fp_column = \"FP_\")\n",
    "    # Returns the best lineup and its score based on the column fp_column_i\n",
    "    nb_lineups = get_number_of_lineups(lineups)\n",
    "    scores = get_score_lineups(lineups, fp_column=fp_column)\n",
    "    best_lineup_idx = 1\n",
    "    for lineup=2:nb_lineups\n",
    "        if scores[1,lineup]>scores[1,best_lineup_idx]\n",
    "            best_lineup_idx=lineup\n",
    "        end\n",
    "    end\n",
    "    return get_lineup(lineups, best_lineup_idx), scores[:,[best_lineup_idx]]\n",
    "end;"
   ]
  },
  {
   "cell_type": "code",
   "execution_count": 260,
   "metadata": {},
   "outputs": [],
   "source": [
    "function test_lineups(lineups, test_set; pred_column = \"prediction\", true_column=\"FP\")\n",
    "    best_lineup, best_score = optimize_lineups(test_set, fp_column=true_column, nb_lineups=1)\n",
    "    lineup_with_true_scores = add_true_scores(lineups, test_set; fp_column = \"FP_\", true_fp_column = true_column)\n",
    "    best_lineup_with_true_scores, best_lineup_true_score = get_best_lineup(lineup_with_true_scores; fp_column = \"True_FP_\")\n",
    "    captured_score = (best_lineup_true_score[1,1]/best_score[1,1])*100\n",
    "    return captured_score, lineup_with_true_scores, best_lineup, best_lineup_with_true_scores  \n",
    "end;"
   ]
  },
  {
   "cell_type": "markdown",
   "metadata": {},
   "source": [
    "# Testing Functions"
   ]
  },
  {
   "cell_type": "code",
   "execution_count": 263,
   "metadata": {},
   "outputs": [],
   "source": [
    "function generate_paths(suffix)\n",
    "    paths = DataFrame(keys = String[], \n",
    "        optimization_inputs_paths = String[], \n",
    "        lineups_output_paths = String[], \n",
    "        best_lineup_output_paths = String[], \n",
    "        scores_ouput_paths = String[])\n",
    "    for (root, dirs, files) in walkdir(\"../data/optimization_inputs/\")\n",
    "        for file in files\n",
    "            if occursin(\"_fake\", file)\n",
    "                # Keys\n",
    "                key = split(file,\"_\")[1]\n",
    "                # Paths\n",
    "                optimization_inputs_path = string(\"../data/optimization_inputs/\",key,\"_fake.csv\")\n",
    "                lineups_output_path = string(\"../data/test_results/\",key,\"_fake_lineups_\",suffix,\".csv\")\n",
    "                best_lineup_output_path = string(\"../data/test_results/\",key,\"_fake_best_lineup_\",suffix,\".csv\")\n",
    "                scores_ouputs_path = string(\"../data/test_results/results_\",suffix,\".csv\")\n",
    "                push!(paths, [key, optimization_inputs_path, lineups_output_path, best_lineup_output_path, scores_ouputs_path])\n",
    "            end\n",
    "        end\n",
    "    end\n",
    "    sort!(paths);\n",
    "    return paths\n",
    "end;"
   ]
  },
  {
   "cell_type": "code",
   "execution_count": 340,
   "metadata": {},
   "outputs": [],
   "source": [
    "function run_tests(paths, nb_lineups, max_overlap, use_std; adj=false, std_weight=0.1)\n",
    "    results = DataFrame(keys = String[], score = Float64[])\n",
    "    for i=1:size(paths)[1]\n",
    "        println(paths[i,:keys])\n",
    "        key =  paths[i,:keys]\n",
    "        optimization_inputs_path = paths[i,:optimization_inputs_paths]\n",
    "        lineups_output_path = paths[i,:lineups_output_paths]\n",
    "        best_lineup_output_path = paths[i,:best_lineup_output_paths]\n",
    "\n",
    "        players = CSV.read(optimization_inputs_path);\n",
    "\n",
    "        lineups, scores = optimize_lineups(players; nb_lineups=nb_lineups, max_overlap=max_overlap, use_std=use_std, adj=adj, std_weight = std_weight, save=false);\n",
    "\n",
    "        captured_score, lineup_with_true_scores, best_lineup, best_lineup_with_true_scores = test_lineups(lineups, players)\n",
    "\n",
    "        push!(results, [key, captured_score])\n",
    "\n",
    "        CSV.write(lineups_output_path, lineup_with_true_scores)\n",
    "        CSV.write(best_lineup_output_path, best_lineup)\n",
    "\n",
    "    end\n",
    "    CSV.write(paths[1,:scores_ouput_paths], results)\n",
    "    return results\n",
    "end;\n",
    "\n",
    "# function count_positive(results)\n",
    "#     size(filter(x->x[:score]>=90,results))[1]\n",
    "    "
   ]
  },
  {
   "cell_type": "markdown",
   "metadata": {},
   "source": [
    "### Baseline"
   ]
  },
  {
   "cell_type": "code",
   "execution_count": 365,
   "metadata": {},
   "outputs": [
    {
     "name": "stdout",
     "output_type": "stream",
     "text": [
      "2012-01-14\n",
      "2012-03-01\n",
      "2013-03-05\n",
      "2013-10-30\n",
      "2013-11-17\n",
      "2014-01-11\n",
      "2014-02-11\n",
      "2014-03-12\n",
      "2014-03-17\n",
      "2014-11-17\n",
      "2015-01-11\n",
      "2015-02-24\n",
      "2015-03-13\n",
      "2015-04-11\n",
      "2015-05-11\n",
      "2015-11-27\n"
     ]
    },
    {
     "data": {
      "text/html": [
       "<table class=\"data-frame\"><thead><tr><th></th><th>keys</th><th>score</th></tr><tr><th></th><th>String</th><th>Float64</th></tr></thead><tbody><p>16 rows × 2 columns</p><tr><th>1</th><td>2015-05-11</td><td>95.6286</td></tr><tr><th>2</th><td>2013-03-05</td><td>94.3958</td></tr><tr><th>3</th><td>2015-11-27</td><td>89.9864</td></tr><tr><th>4</th><td>2013-11-17</td><td>89.8762</td></tr><tr><th>5</th><td>2014-03-12</td><td>84.6154</td></tr><tr><th>6</th><td>2012-01-14</td><td>84.6008</td></tr><tr><th>7</th><td>2013-10-30</td><td>84.0945</td></tr><tr><th>8</th><td>2015-02-24</td><td>83.5415</td></tr><tr><th>9</th><td>2014-01-11</td><td>82.952</td></tr><tr><th>10</th><td>2015-03-13</td><td>81.7791</td></tr><tr><th>11</th><td>2012-03-01</td><td>81.5613</td></tr><tr><th>12</th><td>2015-01-11</td><td>80.9089</td></tr><tr><th>13</th><td>2014-02-11</td><td>80.7331</td></tr><tr><th>14</th><td>2015-04-11</td><td>80.4131</td></tr><tr><th>15</th><td>2014-11-17</td><td>79.7997</td></tr><tr><th>16</th><td>2014-03-17</td><td>72.8017</td></tr></tbody></table>"
      ],
      "text/latex": [
       "\\begin{tabular}{r|cc}\n",
       "\t& keys & score\\\\\n",
       "\t\\hline\n",
       "\t& String & Float64\\\\\n",
       "\t\\hline\n",
       "\t1 & 2015-05-11 & 95.6286 \\\\\n",
       "\t2 & 2013-03-05 & 94.3958 \\\\\n",
       "\t3 & 2015-11-27 & 89.9864 \\\\\n",
       "\t4 & 2013-11-17 & 89.8762 \\\\\n",
       "\t5 & 2014-03-12 & 84.6154 \\\\\n",
       "\t6 & 2012-01-14 & 84.6008 \\\\\n",
       "\t7 & 2013-10-30 & 84.0945 \\\\\n",
       "\t8 & 2015-02-24 & 83.5415 \\\\\n",
       "\t9 & 2014-01-11 & 82.952 \\\\\n",
       "\t10 & 2015-03-13 & 81.7791 \\\\\n",
       "\t11 & 2012-03-01 & 81.5613 \\\\\n",
       "\t12 & 2015-01-11 & 80.9089 \\\\\n",
       "\t13 & 2014-02-11 & 80.7331 \\\\\n",
       "\t14 & 2015-04-11 & 80.4131 \\\\\n",
       "\t15 & 2014-11-17 & 79.7997 \\\\\n",
       "\t16 & 2014-03-17 & 72.8017 \\\\\n",
       "\\end{tabular}\n"
      ],
      "text/plain": [
       "16×2 DataFrame\n",
       "│ Row │ keys       │ score   │\n",
       "│     │ \u001b[90mString\u001b[39m     │ \u001b[90mFloat64\u001b[39m │\n",
       "├─────┼────────────┼─────────┤\n",
       "│ 1   │ 2015-05-11 │ 95.6286 │\n",
       "│ 2   │ 2013-03-05 │ 94.3958 │\n",
       "│ 3   │ 2015-11-27 │ 89.9864 │\n",
       "│ 4   │ 2013-11-17 │ 89.8762 │\n",
       "│ 5   │ 2014-03-12 │ 84.6154 │\n",
       "│ 6   │ 2012-01-14 │ 84.6008 │\n",
       "│ 7   │ 2013-10-30 │ 84.0945 │\n",
       "│ 8   │ 2015-02-24 │ 83.5415 │\n",
       "│ 9   │ 2014-01-11 │ 82.952  │\n",
       "│ 10  │ 2015-03-13 │ 81.7791 │\n",
       "│ 11  │ 2012-03-01 │ 81.5613 │\n",
       "│ 12  │ 2015-01-11 │ 80.9089 │\n",
       "│ 13  │ 2014-02-11 │ 80.7331 │\n",
       "│ 14  │ 2015-04-11 │ 80.4131 │\n",
       "│ 15  │ 2014-11-17 │ 79.7997 │\n",
       "│ 16  │ 2014-03-17 │ 72.8017 │"
      ]
     },
     "execution_count": 365,
     "metadata": {},
     "output_type": "execute_result"
    }
   ],
   "source": [
    "nb_lineups = 50\n",
    "max_overlap = 5\n",
    "use_std = false\n",
    "\n",
    "paths = generate_paths(\"no_std\")\n",
    "results = run_tests(paths, nb_lineups, max_overlap, use_std)\n",
    "sort!(results, 2, rev=true)"
   ]
  },
  {
   "cell_type": "code",
   "execution_count": 371,
   "metadata": {},
   "outputs": [
    {
     "data": {
      "text/plain": [
       "85.3633259547918"
      ]
     },
     "execution_count": 371,
     "metadata": {},
     "output_type": "execute_result"
    }
   ],
   "source": [
    "mean(results[,:score])"
   ]
  },
  {
   "cell_type": "code",
   "execution_count": 410,
   "metadata": {},
   "outputs": [
    {
     "data": {
      "text/plain": [
       "0.25"
      ]
     },
     "execution_count": 410,
     "metadata": {},
     "output_type": "execute_result"
    }
   ],
   "source": [
    "size(filter(x->round(Int, x[:score])>=90,results))[1]/size(results)[1]"
   ]
  },
  {
   "cell_type": "code",
   "execution_count": 412,
   "metadata": {},
   "outputs": [
    {
     "data": {
      "text/plain": [
       "0.0625"
      ]
     },
     "execution_count": 412,
     "metadata": {},
     "output_type": "execute_result"
    }
   ],
   "source": [
    "size(filter(x->round(Int, x[:score])>=95,results))[1]/size(results)[1]"
   ]
  },
  {
   "cell_type": "markdown",
   "metadata": {},
   "source": [
    "### Not adjusted"
   ]
  },
  {
   "cell_type": "code",
   "execution_count": 377,
   "metadata": {},
   "outputs": [
    {
     "name": "stdout",
     "output_type": "stream",
     "text": [
      "2012-01-14\n",
      "2012-03-01\n",
      "2013-03-05\n",
      "2013-10-30\n",
      "2013-11-17\n",
      "2014-01-11\n",
      "2014-02-11\n",
      "2014-03-12\n",
      "2015-01-11\n",
      "2015-02-24\n",
      "2015-03-13\n",
      "2015-04-11\n",
      "2015-05-11\n",
      "2015-11-27\n"
     ]
    },
    {
     "data": {
      "text/html": [
       "<table class=\"data-frame\"><thead><tr><th></th><th>keys</th><th>score</th></tr><tr><th></th><th>String</th><th>Float64</th></tr></thead><tbody><p>14 rows × 2 columns</p><tr><th>1</th><td>2015-05-11</td><td>96.0942</td></tr><tr><th>2</th><td>2013-03-05</td><td>89.7211</td></tr><tr><th>3</th><td>2013-10-30</td><td>88.7514</td></tr><tr><th>4</th><td>2012-01-14</td><td>88.1666</td></tr><tr><th>5</th><td>2013-11-17</td><td>86.9326</td></tr><tr><th>6</th><td>2015-02-24</td><td>85.8437</td></tr><tr><th>7</th><td>2014-03-12</td><td>83.5023</td></tr><tr><th>8</th><td>2015-11-27</td><td>83.4352</td></tr><tr><th>9</th><td>2014-01-11</td><td>82.7264</td></tr><tr><th>10</th><td>2012-03-01</td><td>79.7262</td></tr><tr><th>11</th><td>2015-04-11</td><td>78.847</td></tr><tr><th>12</th><td>2015-01-11</td><td>77.303</td></tr><tr><th>13</th><td>2014-02-11</td><td>76.6337</td></tr><tr><th>14</th><td>2015-03-13</td><td>74.8294</td></tr></tbody></table>"
      ],
      "text/latex": [
       "\\begin{tabular}{r|cc}\n",
       "\t& keys & score\\\\\n",
       "\t\\hline\n",
       "\t& String & Float64\\\\\n",
       "\t\\hline\n",
       "\t1 & 2015-05-11 & 96.0942 \\\\\n",
       "\t2 & 2013-03-05 & 89.7211 \\\\\n",
       "\t3 & 2013-10-30 & 88.7514 \\\\\n",
       "\t4 & 2012-01-14 & 88.1666 \\\\\n",
       "\t5 & 2013-11-17 & 86.9326 \\\\\n",
       "\t6 & 2015-02-24 & 85.8437 \\\\\n",
       "\t7 & 2014-03-12 & 83.5023 \\\\\n",
       "\t8 & 2015-11-27 & 83.4352 \\\\\n",
       "\t9 & 2014-01-11 & 82.7264 \\\\\n",
       "\t10 & 2012-03-01 & 79.7262 \\\\\n",
       "\t11 & 2015-04-11 & 78.847 \\\\\n",
       "\t12 & 2015-01-11 & 77.303 \\\\\n",
       "\t13 & 2014-02-11 & 76.6337 \\\\\n",
       "\t14 & 2015-03-13 & 74.8294 \\\\\n",
       "\\end{tabular}\n"
      ],
      "text/plain": [
       "14×2 DataFrame\n",
       "│ Row │ keys       │ score   │\n",
       "│     │ \u001b[90mString\u001b[39m     │ \u001b[90mFloat64\u001b[39m │\n",
       "├─────┼────────────┼─────────┤\n",
       "│ 1   │ 2015-05-11 │ 96.0942 │\n",
       "│ 2   │ 2013-03-05 │ 89.7211 │\n",
       "│ 3   │ 2013-10-30 │ 88.7514 │\n",
       "│ 4   │ 2012-01-14 │ 88.1666 │\n",
       "│ 5   │ 2013-11-17 │ 86.9326 │\n",
       "│ 6   │ 2015-02-24 │ 85.8437 │\n",
       "│ 7   │ 2014-03-12 │ 83.5023 │\n",
       "│ 8   │ 2015-11-27 │ 83.4352 │\n",
       "│ 9   │ 2014-01-11 │ 82.7264 │\n",
       "│ 10  │ 2012-03-01 │ 79.7262 │\n",
       "│ 11  │ 2015-04-11 │ 78.847  │\n",
       "│ 12  │ 2015-01-11 │ 77.303  │\n",
       "│ 13  │ 2014-02-11 │ 76.6337 │\n",
       "│ 14  │ 2015-03-13 │ 74.8294 │"
      ]
     },
     "execution_count": 377,
     "metadata": {},
     "output_type": "execute_result"
    }
   ],
   "source": [
    "nb_lineups = 50\n",
    "max_overlap = 5\n",
    "use_std = true\n",
    "std_weight = 0.2\n",
    "\n",
    "paths_1 = generate_paths(\"with_std\")\n",
    "results_1 = run_tests(paths_1, nb_lineups, max_overlap, use_std; std_weight=std_weight)\n",
    "sort!(results_1, 2, rev=true)"
   ]
  },
  {
   "cell_type": "code",
   "execution_count": 415,
   "metadata": {},
   "outputs": [
    {
     "data": {
      "text/plain": [
       "83.75092290855038"
      ]
     },
     "execution_count": 415,
     "metadata": {},
     "output_type": "execute_result"
    }
   ],
   "source": [
    "mean(results_1[:,:score])"
   ]
  },
  {
   "cell_type": "code",
   "execution_count": 414,
   "metadata": {},
   "outputs": [
    {
     "data": {
      "text/plain": [
       "0.14285714285714285"
      ]
     },
     "execution_count": 414,
     "metadata": {},
     "output_type": "execute_result"
    }
   ],
   "source": [
    "size(filter(x->round(Int, x[:score])>=90,results_1))[1]/size(results_1)[1]"
   ]
  },
  {
   "cell_type": "code",
   "execution_count": 417,
   "metadata": {},
   "outputs": [
    {
     "data": {
      "text/plain": [
       "0.07142857142857142"
      ]
     },
     "execution_count": 417,
     "metadata": {},
     "output_type": "execute_result"
    }
   ],
   "source": [
    "size(filter(x->round(Int, x[:score])>=95,results_1))[1]/size(results_1)[1]"
   ]
  },
  {
   "cell_type": "markdown",
   "metadata": {},
   "source": [
    "### Adjusted"
   ]
  },
  {
   "cell_type": "code",
   "execution_count": 418,
   "metadata": {},
   "outputs": [
    {
     "name": "stdout",
     "output_type": "stream",
     "text": [
      "2012-01-14\n",
      "2012-03-01\n",
      "2013-03-05\n",
      "2013-10-30\n",
      "2013-11-17\n",
      "2014-01-11\n",
      "2014-02-11\n",
      "2014-03-12\n",
      "2015-01-11\n",
      "2015-02-24\n",
      "2015-03-13\n",
      "2015-04-11\n",
      "2015-05-11\n",
      "2015-11-27\n"
     ]
    },
    {
     "data": {
      "text/html": [
       "<table class=\"data-frame\"><thead><tr><th></th><th>keys</th><th>score</th></tr><tr><th></th><th>String</th><th>Float64</th></tr></thead><tbody><p>14 rows × 2 columns</p><tr><th>1</th><td>2015-05-11</td><td>95.6286</td></tr><tr><th>2</th><td>2013-03-05</td><td>91.9522</td></tr><tr><th>3</th><td>2013-11-17</td><td>91.6919</td></tr><tr><th>4</th><td>2015-11-27</td><td>89.9864</td></tr><tr><th>5</th><td>2015-02-24</td><td>88.5623</td></tr><tr><th>6</th><td>2014-03-12</td><td>88.1276</td></tr><tr><th>7</th><td>2013-10-30</td><td>86.8166</td></tr><tr><th>8</th><td>2014-01-11</td><td>85.2401</td></tr><tr><th>9</th><td>2012-01-14</td><td>84.9164</td></tr><tr><th>10</th><td>2012-03-01</td><td>82.9304</td></tr><tr><th>11</th><td>2015-04-11</td><td>80.7081</td></tr><tr><th>12</th><td>2015-01-11</td><td>78.9084</td></tr><tr><th>13</th><td>2014-02-11</td><td>78.7557</td></tr><tr><th>14</th><td>2015-03-13</td><td>75.7897</td></tr></tbody></table>"
      ],
      "text/latex": [
       "\\begin{tabular}{r|cc}\n",
       "\t& keys & score\\\\\n",
       "\t\\hline\n",
       "\t& String & Float64\\\\\n",
       "\t\\hline\n",
       "\t1 & 2015-05-11 & 95.6286 \\\\\n",
       "\t2 & 2013-03-05 & 91.9522 \\\\\n",
       "\t3 & 2013-11-17 & 91.6919 \\\\\n",
       "\t4 & 2015-11-27 & 89.9864 \\\\\n",
       "\t5 & 2015-02-24 & 88.5623 \\\\\n",
       "\t6 & 2014-03-12 & 88.1276 \\\\\n",
       "\t7 & 2013-10-30 & 86.8166 \\\\\n",
       "\t8 & 2014-01-11 & 85.2401 \\\\\n",
       "\t9 & 2012-01-14 & 84.9164 \\\\\n",
       "\t10 & 2012-03-01 & 82.9304 \\\\\n",
       "\t11 & 2015-04-11 & 80.7081 \\\\\n",
       "\t12 & 2015-01-11 & 78.9084 \\\\\n",
       "\t13 & 2014-02-11 & 78.7557 \\\\\n",
       "\t14 & 2015-03-13 & 75.7897 \\\\\n",
       "\\end{tabular}\n"
      ],
      "text/plain": [
       "14×2 DataFrame\n",
       "│ Row │ keys       │ score   │\n",
       "│     │ \u001b[90mString\u001b[39m     │ \u001b[90mFloat64\u001b[39m │\n",
       "├─────┼────────────┼─────────┤\n",
       "│ 1   │ 2015-05-11 │ 95.6286 │\n",
       "│ 2   │ 2013-03-05 │ 91.9522 │\n",
       "│ 3   │ 2013-11-17 │ 91.6919 │\n",
       "│ 4   │ 2015-11-27 │ 89.9864 │\n",
       "│ 5   │ 2015-02-24 │ 88.5623 │\n",
       "│ 6   │ 2014-03-12 │ 88.1276 │\n",
       "│ 7   │ 2013-10-30 │ 86.8166 │\n",
       "│ 8   │ 2014-01-11 │ 85.2401 │\n",
       "│ 9   │ 2012-01-14 │ 84.9164 │\n",
       "│ 10  │ 2012-03-01 │ 82.9304 │\n",
       "│ 11  │ 2015-04-11 │ 80.7081 │\n",
       "│ 12  │ 2015-01-11 │ 78.9084 │\n",
       "│ 13  │ 2014-02-11 │ 78.7557 │\n",
       "│ 14  │ 2015-03-13 │ 75.7897 │"
      ]
     },
     "execution_count": 418,
     "metadata": {},
     "output_type": "execute_result"
    }
   ],
   "source": [
    "nb_lineups = 50\n",
    "max_overlap = 5\n",
    "use_std = true\n",
    "adj = true\n",
    "std_weight = 1\n",
    "\n",
    "paths_2 = generate_paths(\"with_std_adj\")\n",
    "results_2 = run_tests(paths_2, nb_lineups, max_overlap, use_std; adj=adj, std_weight=std_weight)\n",
    "sort!(results_2, 2, rev=true)"
   ]
  },
  {
   "cell_type": "code",
   "execution_count": 405,
   "metadata": {},
   "outputs": [
    {
     "data": {
      "text/plain": [
       "85.71531970217062"
      ]
     },
     "execution_count": 405,
     "metadata": {},
     "output_type": "execute_result"
    }
   ],
   "source": [
    "mean(results_2[1:14,:score])"
   ]
  },
  {
   "cell_type": "code",
   "execution_count": 406,
   "metadata": {},
   "outputs": [
    {
     "data": {
      "text/plain": [
       "0.0625"
      ]
     },
     "execution_count": 406,
     "metadata": {},
     "output_type": "execute_result"
    }
   ],
   "source": [
    "size(filter(x->round(Int, x[:score])>=95,results_1))[1]/size(results_1)[1]"
   ]
  },
  {
   "cell_type": "code",
   "execution_count": 407,
   "metadata": {},
   "outputs": [
    {
     "data": {
      "text/plain": [
       "0.1875"
      ]
     },
     "execution_count": 407,
     "metadata": {},
     "output_type": "execute_result"
    }
   ],
   "source": [
    "size(filter(x->round(Int, x[:score])>=90,results_1))[1]/size(results_1)[1]"
   ]
  }
 ],
 "metadata": {
  "kernelspec": {
   "display_name": "Julia 1.2.0",
   "language": "julia",
   "name": "julia-1.2"
  },
  "language_info": {
   "file_extension": ".jl",
   "mimetype": "application/julia",
   "name": "julia",
   "version": "1.2.0"
  }
 },
 "nbformat": 4,
 "nbformat_minor": 2
}
