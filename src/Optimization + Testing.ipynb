{
 "cells": [
  {
   "cell_type": "code",
   "execution_count": 31,
   "metadata": {},
   "outputs": [],
   "source": [
    "using CSV, JuMP, Gurobi, DataFrames;"
   ]
  },
  {
   "cell_type": "code",
   "execution_count": 32,
   "metadata": {},
   "outputs": [
    {
     "name": "stdout",
     "output_type": "stream",
     "text": [
      "Academic license - for non-commercial use only\r\n"
     ]
    }
   ],
   "source": [
    "GUROBI_ENV = Gurobi.Env();"
   ]
  },
  {
   "cell_type": "markdown",
   "metadata": {},
   "source": [
    "# Reading Data"
   ]
  },
  {
   "cell_type": "code",
   "execution_count": 69,
   "metadata": {},
   "outputs": [
    {
     "data": {
      "text/plain": [
       "\"../data/optimization_input.csv\""
      ]
     },
     "execution_count": 69,
     "metadata": {},
     "output_type": "execute_result"
    }
   ],
   "source": [
    "PLAYERS_DATA_PATH = \"../data/optimization_input.csv\";\n",
    "OUTPUT_PATH = \"../output/lineups.csv\";\n",
    "TEST_DATA_PATH = \"../data/optimization_input.csv\""
   ]
  },
  {
   "cell_type": "code",
   "execution_count": 70,
   "metadata": {},
   "outputs": [],
   "source": [
    "players = CSV.read(PLAYERS_DATA_PATH);"
   ]
  },
  {
   "cell_type": "code",
   "execution_count": 71,
   "metadata": {},
   "outputs": [],
   "source": [
    "test_set = CSV.read(TEST_DATA_PATH);"
   ]
  },
  {
   "cell_type": "code",
   "execution_count": 72,
   "metadata": {
    "scrolled": true
   },
   "outputs": [
    {
     "data": {
      "text/plain": [
       "7-element Array{String,1}:\n",
       " \"HOU@SA\" \n",
       " \"LAL@DEN\"\n",
       " \"POR@LAC\"\n",
       " \"DET@CLE\"\n",
       " \"ORL@WAS\"\n",
       " \"DAL@NO\" \n",
       " \"MIA@TOR\""
      ]
     },
     "execution_count": 72,
     "metadata": {},
     "output_type": "execute_result"
    }
   ],
   "source": [
    "players[:,:Game].pool"
   ]
  },
  {
   "cell_type": "markdown",
   "metadata": {},
   "source": [
    "# IP Formulation"
   ]
  },
  {
   "cell_type": "code",
   "execution_count": 57,
   "metadata": {},
   "outputs": [],
   "source": [
    "function optimize_lineups(players; nb_lineups=1, max_overlap=6, fp_column=\"prediction\", use_std=false, std_column=\"leaf_std\", std_weight = 0.5, MAX_PG=2, MAX_SG=2, MAX_SF=2, MAX_PF=2, MAX_C=1, BUDGET=60000.0, save=true, output_path=\"../output/lineups.csv\")\n",
    "    # Columns names\n",
    "    NAME = Symbol(\"name\")\n",
    "    TEAM = Symbol(\"team_key\")\n",
    "    POSITION = Symbol(\"Position\")\n",
    "    SALARY = Symbol(\"Salary\")\n",
    "    INJURY = Symbol(\"Injury Indicator\")\n",
    "    FP = Symbol(fp_column)\n",
    "    STD = Symbol(std_column)\n",
    "    if use_std\n",
    "        output_columns = [NAME, POSITION, TEAM , FP, STD]\n",
    "        output_column_names = [\"Name_\", \"Position_\", \"TEAM_\", \"FP_\", \"STD_\"]\n",
    "    else\n",
    "        output_columns = [NAME, POSITION, TEAM , FP]\n",
    "        output_column_names = [\"Name_\", \"Position_\", \"TEAM_\", \"FP_\"]\n",
    "    end \n",
    "    \n",
    "    # Reading inputs\n",
    "    ## Fantasy points\n",
    "    fp = players[:,FP];\n",
    "    ## Positions\n",
    "    PG = Int.(players[:,POSITION].==\"PG\")\n",
    "    SG = Int.(players[:,POSITION].==\"SG\")\n",
    "    SF = Int.(players[:,POSITION].==\"SF\")\n",
    "    PF = Int.(players[:,POSITION].==\"PF\")\n",
    "    C  = Int.(players[:,POSITION].==\"C\")\n",
    "    ## Salary\n",
    "    salary = players[:,SALARY];\n",
    "    ## Injuries\n",
    "    injury = 1 .- ismissing.(players[:,INJURY]) \n",
    "    o_injury = Int.(Missings.coalesce.(players[:,INJURY], 0).==\"O\")\n",
    "    q_injury = Int.(Missings.coalesce.(players[:,INJURY], 0).==\"Q\")\n",
    "    p_injury = Int.(Missings.coalesce.(players[:,INJURY], 0).==\"P\");\n",
    "\n",
    "    ## Number of players\n",
    "    nb_players = size(players)[1]\n",
    "\n",
    "    # Model\n",
    "    model = Model(solver=GurobiSolver(OutputFlag=0, GUROBI_ENV))\n",
    "\n",
    "    # Variable\n",
    "    @variable(model, z[i=1:nb_players], Bin)\n",
    "\n",
    "    # Objective function\n",
    "    if use_std\n",
    "        ## With std \n",
    "        std = players[:,STD];\n",
    "        @objective(model, Max, (1-std_weight)*sum(fp.*z) + std_weight*sum(std.*z))\n",
    "    else\n",
    "        ## Without std        \n",
    "        @objective(model, Max, sum(fp.*z))\n",
    "    end\n",
    "\n",
    "    # Constrains without the overleap constraint\n",
    "    @constraint(model, sum(salary.*z) <= BUDGET)\n",
    "    @constraint(model, sum(PG.*z) == MAX_PG)\n",
    "    @constraint(model, sum(SG.*z) == MAX_SG)\n",
    "    @constraint(model, sum(SF.*z) == MAX_SF)\n",
    "    @constraint(model, sum(PF.*z) == MAX_PF)\n",
    "    @constraint(model, sum(C.*z) == MAX_C)\n",
    "    @constraint(model, z .<= (1 .- injury))\n",
    "\n",
    "    # Initialization (iteration=1)\n",
    "    solve(model)\n",
    "    x = Int.(getvalue(z))\n",
    "    lineups = players[x.==1, output_columns]    \n",
    "    names!(lineups, Symbol.(string.(output_column_names, 1)))  \n",
    "\n",
    "    # Rest of iterations\n",
    "    @constraint(model, sum(x.*z) <= max_overlap)\n",
    "    for i=2:nb_lineups\n",
    "        solve(model)\n",
    "        x = hcat(x,Int.(getvalue(z)))\n",
    "        lineups_names = players[x[:,i].==1, output_columns]\n",
    "        names!(lineups_names, Symbol.(string.(output_column_names, i)))    \n",
    "        lineups = hcat(lineups, lineups_names)\n",
    "        @constraint(model, sum(x[:,i].*z) <= max_overlap)\n",
    "    end\n",
    "    if save\n",
    "        CSV.write(output_path, lineups);\n",
    "    end\n",
    "    score_per_lineup = get_score_lineups(lineups)\n",
    "    return lineups, score_per_lineup\n",
    "end;\n",
    "    "
   ]
  },
  {
   "cell_type": "markdown",
   "metadata": {},
   "source": [
    "# Annexe functions"
   ]
  },
  {
   "cell_type": "code",
   "execution_count": 58,
   "metadata": {},
   "outputs": [],
   "source": [
    "function get_number_of_lineups(lineups; fp_column = \"FP_\")\n",
    "    # Return the number of lineups using the columns fp_column_i\n",
    "    colnames = names(lineups)\n",
    "    nb_lineups = 0\n",
    "    for col in colnames\n",
    "        if startswith(string(col), fp_column)\n",
    "            nb_lineups = nb_lineups+1\n",
    "        end\n",
    "    end\n",
    "    nb_lineups\n",
    "end;"
   ]
  },
  {
   "cell_type": "code",
   "execution_count": 59,
   "metadata": {},
   "outputs": [],
   "source": [
    "function get_score_lineups(lineups; fp_column = \"FP_\")\n",
    "    # Returns the scores of the lineups based on the columns \n",
    "    nb_lineups = get_number_of_lineups(lineups; fp_column = fp_column)\n",
    "    return aggregate(lineups[:,Symbol.([string(fp_column,i) for i=1:nb_lineups])], sum)\n",
    "end;"
   ]
  },
  {
   "cell_type": "code",
   "execution_count": 60,
   "metadata": {},
   "outputs": [],
   "source": [
    "function add_true_scores(lineups, test_set; fp_column = \"FP_\", true_fp_column = \"FP\")\n",
    "    # Adds the columns true_fp_column_i from the test_set to the lineups\n",
    "    nb_lineups = get_number_of_lineups(lineups; fp_column = fp_column)\n",
    "    for lineup=1:nb_lineups\n",
    "        player_names = lineups[!,Symbol(string(\"Name_\",lineup))]\n",
    "        lineups[!,Symbol(string(\"True_FP_\",lineup))] = filter(row -> row[:name] in player_names, test_set)[!,Symbol(true_fp_column)]\n",
    "    end\n",
    "    return order_lineups(lineups)\n",
    "end;"
   ]
  },
  {
   "cell_type": "code",
   "execution_count": 61,
   "metadata": {},
   "outputs": [],
   "source": [
    "function order_lineups(lineups)\n",
    "    # Orders the column of lineups based on the lineup index\n",
    "    nb_lineups = get_number_of_lineups(lineups)\n",
    "    colnames = names(lineups)\n",
    "    ordered_colnames = []\n",
    "    for lineup=1:nb_lineups\n",
    "        for col in colnames\n",
    "            if endswith(string(col), string(\"_\",lineup))\n",
    "                push!(ordered_colnames, col)\n",
    "            end\n",
    "        end\n",
    "    end\n",
    "    return lineups[:,ordered_colnames]\n",
    "end;"
   ]
  },
  {
   "cell_type": "code",
   "execution_count": 62,
   "metadata": {},
   "outputs": [],
   "source": [
    "function get_lineup(lineups, lineup_idx)\n",
    "    # Returns all the columns of the lineup with index lineup_idx\n",
    "    all_colnames = names(lineups)\n",
    "    lineup_colnames = []\n",
    "    for col in all_colnames\n",
    "        if endswith(string(col), string(lineup_idx))\n",
    "            push!(lineup_colnames, col)\n",
    "        end\n",
    "    end\n",
    "    return lineups[:,lineup_colnames]\n",
    "end;"
   ]
  },
  {
   "cell_type": "code",
   "execution_count": 63,
   "metadata": {},
   "outputs": [],
   "source": [
    "function get_best_lineup(lineups; fp_column = \"FP_\")\n",
    "    # Returns the best lineup and its score based on the column fp_column_i\n",
    "    nb_lineups = get_number_of_lineups(lineups)\n",
    "    scores = get_score_lineups(lineups, fp_column=fp_column)\n",
    "    best_lineup_idx = 1\n",
    "    for lineup=2:nb_lineups\n",
    "        if scores[1,lineup]>scores[1,best_lineup_idx]\n",
    "            best_lineup_idx=lineup\n",
    "        end\n",
    "    end\n",
    "    return get_lineup(lineups, best_lineup_idx), scores[:,[best_lineup_idx]]\n",
    "end;"
   ]
  },
  {
   "cell_type": "code",
   "execution_count": 64,
   "metadata": {},
   "outputs": [],
   "source": [
    "function test_lineups(lineups, test_set; pred_column = \"prediction\", true_column=\"FP\")\n",
    "    best_lineup, best_score = optimize_lineups(test_set, fp_column=true_column, nb_lineups=1)\n",
    "    lineup_with_true_scores = add_true_scores(lineups, test_set; fp_column = \"FP_\", true_fp_column = true_column)\n",
    "    best_lineup_with_true_scores, best_lineup_true_score = get_best_lineup(lineup_with_true_scores; fp_column = \"True_FP_\")\n",
    "    captured_score = (best_lineup_true_score[1,1]/best_score[1,1])*100\n",
    "    return best_lineup_with_true_scores, best_lineup, captured_score\n",
    "end;"
   ]
  },
  {
   "cell_type": "markdown",
   "metadata": {},
   "source": [
    "# Testing Functions"
   ]
  },
  {
   "cell_type": "code",
   "execution_count": 66,
   "metadata": {},
   "outputs": [
    {
     "data": {
      "text/plain": [
       "(9×80 DataFrame. Omitted printing of 76 columns\n",
       "│ Row │ Name_1                   │ Position_1 │ TEAM_1 │ FP_1    │\n",
       "│     │ \u001b[90mString\u001b[39m                   │ \u001b[90mString\u001b[39m     │ \u001b[90mString\u001b[39m │ \u001b[90mFloat64\u001b[39m │\n",
       "├─────┼──────────────────────────┼────────────┼────────┼─────────┤\n",
       "│ 1   │ Kawhi Leonard            │ PF         │ LAC    │ 48.5727 │\n",
       "│ 2   │ Paul George              │ SF         │ LAC    │ 48.5727 │\n",
       "│ 3   │ DeMar DeRozan            │ SG         │ SA     │ 48.5727 │\n",
       "│ 4   │ Jamal Murray             │ PG         │ DEN    │ 48.5727 │\n",
       "│ 5   │ Blake Griffin            │ PF         │ DET    │ 48.5727 │\n",
       "│ 6   │ Rudy Gay                 │ SF         │ SA     │ 33.9071 │\n",
       "│ 7   │ JaVale McGee             │ C          │ LAL    │ 33.9071 │\n",
       "│ 8   │ Nickeil Alexander-Walker │ SG         │ NO     │ 33.9071 │\n",
       "│ 9   │ Seth Curry               │ PG         │ DAL    │ 33.9071 │, 1×20 DataFrame. Omitted printing of 14 columns\n",
       "│ Row │ FP_1_sum │ FP_2_sum │ FP_3_sum │ FP_4_sum │ FP_5_sum │ FP_6_sum │\n",
       "│     │ \u001b[90mFloat64\u001b[39m  │ \u001b[90mFloat64\u001b[39m  │ \u001b[90mFloat64\u001b[39m  │ \u001b[90mFloat64\u001b[39m  │ \u001b[90mFloat64\u001b[39m  │ \u001b[90mFloat64\u001b[39m  │\n",
       "├─────┼──────────┼──────────┼──────────┼──────────┼──────────┼──────────┤\n",
       "│ 1   │ 378.492  │ 378.492  │ 378.492  │ 378.492  │ 378.492  │ 378.492  │)"
      ]
     },
     "execution_count": 66,
     "metadata": {},
     "output_type": "execute_result"
    }
   ],
   "source": [
    "lineups, scores = optimize_lineups(players; nb_lineups=20, max_overlap=6, fp_column=\"prediction\", use_std=false, std_weight = 0.5, save=true, output_path=\"../output/lineups.csv\")"
   ]
  },
  {
   "cell_type": "code",
   "execution_count": 75,
   "metadata": {},
   "outputs": [
    {
     "ename": "ArgumentError",
     "evalue": "ArgumentError: New columns must have the same length as old columns",
     "output_type": "error",
     "traceback": [
      "ArgumentError: New columns must have the same length as old columns",
      "",
      "Stacktrace:",
      " [1] insert_single_column!(::DataFrame, ::Array{Float64,1}, ::Symbol) at C:\\Users\\iai\\builds\\InterpretableAI\\SysImgBuilder\\.julia\\packages\\DataFrames\\yH0f6\\src\\dataframe\\dataframe.jl:431",
      " [2] setindex!(::DataFrame, ::Array{Float64,1}, ::typeof(!), ::Symbol) at C:\\Users\\iai\\builds\\InterpretableAI\\SysImgBuilder\\.julia\\packages\\DataFrames\\yH0f6\\src\\dataframe\\dataframe.jl:488",
      " [3] #add_true_scores#29(::String, ::String, ::typeof(add_true_scores), ::DataFrame, ::DataFrame) at .\\In[60]:6",
      " [4] #add_true_scores at .\\none:0 [inlined]",
      " [5] #test_lineups#33(::String, ::String, ::typeof(test_lineups), ::DataFrame, ::DataFrame) at .\\In[64]:3",
      " [6] (::getfield(Main, Symbol(\"#kw##test_lineups\")))(::NamedTuple{(:pred_column, :true_column),Tuple{String,String}}, ::typeof(test_lineups), ::DataFrame, ::DataFrame) at .\\none:0",
      " [7] top-level scope at In[75]:1"
     ]
    }
   ],
   "source": [
    "best_lineup_with_true_scores, best_lineup, captured_score = test_lineups(lineups, test_set; pred_column = \"prediction\", true_column=\"FP\")"
   ]
  },
  {
   "cell_type": "code",
   "execution_count": 79,
   "metadata": {},
   "outputs": [
    {
     "ename": "ArgumentError",
     "evalue": "ArgumentError: New columns must have the same length as old columns",
     "output_type": "error",
     "traceback": [
      "ArgumentError: New columns must have the same length as old columns",
      "",
      "Stacktrace:",
      " [1] insert_single_column!(::DataFrame, ::Array{Float64,1}, ::Symbol) at C:\\Users\\iai\\builds\\InterpretableAI\\SysImgBuilder\\.julia\\packages\\DataFrames\\yH0f6\\src\\dataframe\\dataframe.jl:431",
      " [2] setindex!(::DataFrame, ::Array{Float64,1}, ::typeof(!), ::Symbol) at C:\\Users\\iai\\builds\\InterpretableAI\\SysImgBuilder\\.julia\\packages\\DataFrames\\yH0f6\\src\\dataframe\\dataframe.jl:488",
      " [3] #add_true_scores#29(::String, ::String, ::typeof(add_true_scores), ::DataFrame, ::DataFrame) at .\\In[60]:6",
      " [4] (::getfield(Main, Symbol(\"#kw##add_true_scores\")))(::NamedTuple{(:fp_column, :true_fp_column),Tuple{String,String}}, ::typeof(add_true_scores), ::DataFrame, ::DataFrame) at .\\none:0",
      " [5] top-level scope at In[79]:3"
     ]
    }
   ],
   "source": [
    "true_column = \"FP\"    \n",
    "best_lineup, best_score = optimize_lineups(test_set, fp_column=true_column, nb_lineups=1)\n",
    "    lineup_with_true_scores = add_true_scores(lineups, test_set; fp_column = \"FP_\", true_fp_column = true_column)\n",
    "    best_lineup_with_true_scores, best_lineup_true_score = get_best_lineup(lineup_with_true_scores; fp_column = \"True_FP_\")\n",
    "    captured_score = (best_lineup_true_score[1,1]/best_score[1,1])*100\n",
    "#     return best_lineup_with_true_scores, best_lineup, captured_score"
   ]
  }
 ],
 "metadata": {
  "kernelspec": {
   "display_name": "Julia 1.2.0",
   "language": "julia",
   "name": "julia-1.2"
  },
  "language_info": {
   "file_extension": ".jl",
   "mimetype": "application/julia",
   "name": "julia",
   "version": "1.2.0"
  }
 },
 "nbformat": 4,
 "nbformat_minor": 2
}
