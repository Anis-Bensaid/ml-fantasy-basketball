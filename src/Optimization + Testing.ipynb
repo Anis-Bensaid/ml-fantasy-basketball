{
 "cells": [
  {
   "cell_type": "code",
   "execution_count": 52,
   "metadata": {},
   "outputs": [],
   "source": [
    "using CSV, JuMP, Gurobi, DataFrames;"
   ]
  },
  {
   "cell_type": "code",
   "execution_count": 53,
   "metadata": {},
   "outputs": [
    {
     "name": "stdout",
     "output_type": "stream",
     "text": [
      "Academic license - for non-commercial use only\r\n"
     ]
    }
   ],
   "source": [
    "GUROBI_ENV = Gurobi.Env();"
   ]
  },
  {
   "cell_type": "markdown",
   "metadata": {},
   "source": [
    "# Reading Data"
   ]
  },
  {
   "cell_type": "code",
   "execution_count": 54,
   "metadata": {},
   "outputs": [
    {
     "data": {
      "text/plain": [
       "\"../data/test_input.csv\""
      ]
     },
     "execution_count": 54,
     "metadata": {},
     "output_type": "execute_result"
    }
   ],
   "source": [
    "PLAYERS_DATA_PATH = \"../data/optimization_input.csv\";\n",
    "OUTPUT_PATH = \"../output/lineups.csv\";\n",
    "TEST_DATA_PATH = \"../data/test_input.csv\""
   ]
  },
  {
   "cell_type": "code",
   "execution_count": 55,
   "metadata": {},
   "outputs": [],
   "source": [
    "players = CSV.read(PLAYERS_DATA_PATH);"
   ]
  },
  {
   "cell_type": "code",
   "execution_count": 56,
   "metadata": {},
   "outputs": [],
   "source": [
    "test_set = CSV.read(TEST_DATA_PATH);"
   ]
  },
  {
   "cell_type": "code",
   "execution_count": 57,
   "metadata": {
    "scrolled": true
   },
   "outputs": [
    {
     "data": {
      "text/plain": [
       "3-element Array{String,1}:\n",
       " \"WAS@LAC\"\n",
       " \"UTA@TOR\"\n",
       " \"GS@ORL\" "
      ]
     },
     "execution_count": 57,
     "metadata": {},
     "output_type": "execute_result"
    }
   ],
   "source": [
    "players[:,:Game].pool"
   ]
  },
  {
   "cell_type": "markdown",
   "metadata": {},
   "source": [
    "# IP Formulation"
   ]
  },
  {
   "cell_type": "code",
   "execution_count": 58,
   "metadata": {},
   "outputs": [
    {
     "ename": "LoadError",
     "evalue": "syntax: extra token \"]\" after end of expression",
     "output_type": "error",
     "traceback": [
      "syntax: extra token \"]\" after end of expression",
      ""
     ]
    }
   ],
   "source": [
    "function optimize_lineups(players; nb_lineups=1, max_overlap=6, fp_column=\"prediction\", MAX_PG=2, MAX_SG=2, MAX_SF=2, MAX_PF=2, MAX_C=1, BUDGET=60000.0, save=true, output_path=\"../output/lineups.csv\")\n",
    "    # Columns names\n",
    "    NAME = Symbole(\"name\")\n",
    "    TEAM = Symbole(\"team_key\")\n",
    "    POSITION = Symbol(\"Position\")\n",
    "    SALARY = Symbol(\"Salary\")\n",
    "    INJURY = Symbol(\"Injury Indicator\")\n",
    "    FP = Symbol(fp_column)\n",
    "\n",
    "    # Reading inputs\n",
    "    ## Fantasy points\n",
    "    fp = players[:,FP];\n",
    "    ## Positions\n",
    "    PG = Int.(players[:,POSITION].==\"PG\")\n",
    "    SG = Int.(players[:,POSITION].==\"SG\")\n",
    "    SF = Int.(players[:,POSITION].==\"SF\")\n",
    "    PF = Int.(players[:,POSITION].==\"PF\")\n",
    "    C  = Int.(players[:,POSITION].==\"C\")\n",
    "    ## Salary\n",
    "    salary = players[:,SALARY];\n",
    "    ## Injuries\n",
    "    injury = 1 .- ismissing.(players[:,INJURY]) \n",
    "    o_injury = Int.(Missings.coalesce.(players[:,INJURY], 0).==\"O\")\n",
    "    q_injury = Int.(Missings.coalesce.(players[:,INJURY], 0).==\"Q\")\n",
    "    p_injury = Int.(Missings.coalesce.(players[:,INJURY], 0).==\"P\");\n",
    "\n",
    "    ## Number of players\n",
    "    nb_players = size(players)[1]\n",
    "\n",
    "    # Model\n",
    "    model = Model(solver=GurobiSolver(OutputFlag=0, GUROBI_ENV))\n",
    "\n",
    "    # Variable\n",
    "    @variable(model, z[i=1:nb_players], Bin)\n",
    "\n",
    "    # Constrains without the overleap constraint\n",
    "    @objective(model, Max, sum(fp.*z))\n",
    "    @constraint(model, sum(salary.*z) <= BUDGET)\n",
    "    @constraint(model, sum(PG.*z) == MAX_PG)\n",
    "    @constraint(model, sum(SG.*z) == MAX_SG)\n",
    "    @constraint(model, sum(SF.*z) == MAX_SF)\n",
    "    @constraint(model, sum(PF.*z) == MAX_PF)\n",
    "    @constraint(model, sum(C.*z) == MAX_C)\n",
    "    @constraint(model, z .<= (1 .- injury))\n",
    "\n",
    "    # Initialization (iteration=1)\n",
    "    solve(model)\n",
    "    x = Int.(getvalue(z))\n",
    "    lineups = players[x.==1, [NAME, POSITION, TEAM , FP]]    \n",
    "    names!(lineups, Symbol.([string(\"Name_\",1), string(\"Position_\",1), string(\"Team_\",1), string(\"FP_\",1)]))  \n",
    "\n",
    "    # Rest of iterations\n",
    "    @constraint(model, sum(x.*z) <= max_overlap)\n",
    "    for i=2:nb_lineups\n",
    "        solve(model)\n",
    "        x = hcat(x,Int.(getvalue(z)))\n",
    "        lineups_names = players[x[:,i].==1, NAME, POSITION, TEAM , FP]]\n",
    "        names!(lineups_names, Symbol.([string(\"Name_\",i), string(\"Position_\",i), string(\"Team_\",i), string(\"FP_\",i)]))    \n",
    "        lineups = hcat(lineups, lineups_names)\n",
    "        @constraint(model, sum(x[:,i].*z) <= max_overlap)\n",
    "    end\n",
    "    if save\n",
    "        CSV.write(output_path, lineups);\n",
    "    end\n",
    "    score_per_lineup = get_score_lineups(lineups)\n",
    "    return lineups, score_per_lineup\n",
    "end;\n",
    "    "
   ]
  },
  {
   "cell_type": "markdown",
   "metadata": {},
   "source": [
    "# Annexe functions"
   ]
  },
  {
   "cell_type": "code",
   "execution_count": 59,
   "metadata": {},
   "outputs": [],
   "source": [
    "function get_number_of_lineups(lineups; fp_column = \"FP_\")\n",
    "    # Return the number of lineups using the columns fp_column_i\n",
    "    colnames = names(lineups)\n",
    "    nb_lineups = 0\n",
    "    for col in colnames\n",
    "        if startswith(string(col), fp_column)\n",
    "            nb_lineups = nb_lineups+1\n",
    "        end\n",
    "    end\n",
    "    nb_lineups\n",
    "end;"
   ]
  },
  {
   "cell_type": "code",
   "execution_count": 116,
   "metadata": {},
   "outputs": [],
   "source": [
    "function get_score_lineups(lineups; fp_column = \"FP_\")\n",
    "    # Returns the scores of the lineups based on the columns \n",
    "    nb_lineups = get_number_of_lineups(lineups; fp_column = fp_column)\n",
    "    return aggregate(lineups[:,Symbol.([string(fp_column,i) for i=1:nb_lineups])], sum)\n",
    "end;"
   ]
  },
  {
   "cell_type": "code",
   "execution_count": 61,
   "metadata": {},
   "outputs": [],
   "source": [
    "function add_true_scores(lineups, test_set; fp_column = \"FP_\", true_fp_column = \"fp\")\n",
    "    # Adds the columns true_fp_column_i from the test_set to the lineups\n",
    "    nb_lineups = get_number_of_lineups(lineups; fp_column = fp_column)\n",
    "    for lineup=1:nb_lineups\n",
    "        player_names = lineups[!,Symbol(string(\"Name_\",lineup))]\n",
    "        lineups[!,Symbol(string(\"True_FP_\",lineup))] = filter(row -> row[:name] in player_names, test_set)[!,Symbol(true_fp_column)]\n",
    "    end\n",
    "    return order_lineups(lineups)\n",
    "end;"
   ]
  },
  {
   "cell_type": "code",
   "execution_count": 62,
   "metadata": {},
   "outputs": [],
   "source": [
    "function order_lineups(lineups)\n",
    "    # Orders the column of lineups based on the lineup index\n",
    "    nb_lineups = get_number_of_lineups(lineups)\n",
    "    colnames = names(lineups)\n",
    "    ordered_colnames = []\n",
    "    for lineup=1:nb_lineups\n",
    "        for col in colnames\n",
    "            if endswith(string(col), string(\"_\",lineup))\n",
    "                push!(ordered_colnames, col)\n",
    "            end\n",
    "        end\n",
    "    end\n",
    "    return lineups[:,ordered_colnames]\n",
    "end;"
   ]
  },
  {
   "cell_type": "code",
   "execution_count": 77,
   "metadata": {},
   "outputs": [],
   "source": [
    "function get_lineup(lineups, lineup_idx)\n",
    "    # Returns all the columns of the lineup with index lineup_idx\n",
    "    all_colnames = names(lineups)\n",
    "    lineup_colnames = []\n",
    "    for col in all_colnames\n",
    "        if endswith(string(col), string(lineup_idx))\n",
    "            push!(lineup_colnames, col)\n",
    "        end\n",
    "    end\n",
    "    return lineups[:,lineup_colnames]\n",
    "end;"
   ]
  },
  {
   "cell_type": "code",
   "execution_count": 64,
   "metadata": {},
   "outputs": [],
   "source": [
    "function get_best_lineup(lineups; fp_column = \"FP_\")\n",
    "    # Returns the best lineup and its score based on the column fp_column_i\n",
    "    nb_lineups = get_number_of_lineups(lineups)\n",
    "    scores = get_score_lineups(lineups, fp_column=fp_column)\n",
    "    best_lineup_idx = 1\n",
    "    for lineup=2:nb_lineups\n",
    "        if scores[1,lineup]>scores[1,best_lineup_idx]\n",
    "            best_lineup_idx=lineup\n",
    "        end\n",
    "    end\n",
    "    return get_lineup(lineups, best_lineup_idx), scores[:,[best_lineup_idx]]\n",
    "end;"
   ]
  },
  {
   "cell_type": "code",
   "execution_count": 87,
   "metadata": {},
   "outputs": [],
   "source": [
    "function test_lineups(lineups, test_set; pred_column = \"prediction\", true_column=\"fp\")\n",
    "    best_lineup, best_score = optimize_lineups(test_set, fp_column=true_column, nb_lineups=1)\n",
    "    lineup_with_true_scores = add_true_scores(lineups, test_set; fp_column = \"FP_\", true_fp_column = true_column)\n",
    "    best_lineup_with_true_scores, best_lineup_true_score = get_best_lineup(lineup_with_true_scores; fp_column = \"True_FP_\")\n",
    "    captured_score = (best_lineup_true_score[1,1]/best_score[1,1])*100\n",
    "    return best_lineup_with_true_scores, best_lineup, captured_score\n",
    "end;"
   ]
  },
  {
   "cell_type": "markdown",
   "metadata": {},
   "source": [
    "# Testing Functions"
   ]
  },
  {
   "cell_type": "code",
   "execution_count": 69,
   "metadata": {},
   "outputs": [],
   "source": [
    "lineups, lineups_scores =  optimize_lineups(players; nb_lineups=10, max_overlap=6, fp_column=\"prediction\", save=true, output_path=\"../output/lineups.csv\");"
   ]
  },
  {
   "cell_type": "code",
   "execution_count": 70,
   "metadata": {},
   "outputs": [
    {
     "data": {
      "text/html": [
       "<table class=\"data-frame\"><thead><tr><th></th><th>Name_1</th><th>Position_1</th><th>Team_1</th><th>FP_1</th><th>Name_2</th><th>Position_2</th><th>Team_2</th></tr><tr><th></th><th>String</th><th>String</th><th>String</th><th>Float64</th><th>String</th><th>String</th><th>String</th></tr></thead><tbody><p>9 rows × 40 columns (omitted printing of 33 columns)</p><tr><th>1</th><td>Bradley Beal</td><td>SG</td><td>WAS</td><td>53.4317</td><td>Bradley Beal</td><td>SG</td><td>WAS</td></tr><tr><th>2</th><td>Paul George</td><td>SF</td><td>LAC</td><td>54.6104</td><td>Paul George</td><td>SF</td><td>LAC</td></tr><tr><th>3</th><td>Fred VanVleet</td><td>PG</td><td>TOR</td><td>43.2081</td><td>Donovan Mitchell</td><td>SG</td><td>UTA</td></tr><tr><th>4</th><td>Bojan Bogdanovic</td><td>SF</td><td>UTA</td><td>39.0917</td><td>Bojan Bogdanovic</td><td>SF</td><td>UTA</td></tr><tr><th>5</th><td>Evan Fournier</td><td>SG</td><td>ORL</td><td>39.2203</td><td>Mike Conley</td><td>PG</td><td>UTA</td></tr><tr><th>6</th><td>Aaron Gordon</td><td>PF</td><td>ORL</td><td>34.4912</td><td>Eric Paschall</td><td>PF</td><td>GS</td></tr><tr><th>7</th><td>D.J. Augustin</td><td>PG</td><td>ORL</td><td>28.7639</td><td>D.J. Augustin</td><td>PG</td><td>ORL</td></tr><tr><th>8</th><td>Mo Bamba</td><td>C</td><td>ORL</td><td>25.7915</td><td>Mo Bamba</td><td>C</td><td>ORL</td></tr><tr><th>9</th><td>Omari Spellman</td><td>PF</td><td>GS</td><td>27.3356</td><td>Omari Spellman</td><td>PF</td><td>GS</td></tr></tbody></table>"
      ],
      "text/latex": [
       "\\begin{tabular}{r|cccccccc}\n",
       "\t& Name\\_1 & Position\\_1 & Team\\_1 & FP\\_1 & Name\\_2 & Position\\_2 & Team\\_2 & \\\\\n",
       "\t\\hline\n",
       "\t& String & String & String & Float64 & String & String & String & \\\\\n",
       "\t\\hline\n",
       "\t1 & Bradley Beal & SG & WAS & 53.4317 & Bradley Beal & SG & WAS & $\\dots$ \\\\\n",
       "\t2 & Paul George & SF & LAC & 54.6104 & Paul George & SF & LAC & $\\dots$ \\\\\n",
       "\t3 & Fred VanVleet & PG & TOR & 43.2081 & Donovan Mitchell & SG & UTA & $\\dots$ \\\\\n",
       "\t4 & Bojan Bogdanovic & SF & UTA & 39.0917 & Bojan Bogdanovic & SF & UTA & $\\dots$ \\\\\n",
       "\t5 & Evan Fournier & SG & ORL & 39.2203 & Mike Conley & PG & UTA & $\\dots$ \\\\\n",
       "\t6 & Aaron Gordon & PF & ORL & 34.4912 & Eric Paschall & PF & GS & $\\dots$ \\\\\n",
       "\t7 & D.J. Augustin & PG & ORL & 28.7639 & D.J. Augustin & PG & ORL & $\\dots$ \\\\\n",
       "\t8 & Mo Bamba & C & ORL & 25.7915 & Mo Bamba & C & ORL & $\\dots$ \\\\\n",
       "\t9 & Omari Spellman & PF & GS & 27.3356 & Omari Spellman & PF & GS & $\\dots$ \\\\\n",
       "\\end{tabular}\n"
      ],
      "text/plain": [
       "9×40 DataFrame. Omitted printing of 35 columns\n",
       "│ Row │ Name_1           │ Position_1 │ Team_1 │ FP_1    │ Name_2           │\n",
       "│     │ \u001b[90mString\u001b[39m           │ \u001b[90mString\u001b[39m     │ \u001b[90mString\u001b[39m │ \u001b[90mFloat64\u001b[39m │ \u001b[90mString\u001b[39m           │\n",
       "├─────┼──────────────────┼────────────┼────────┼─────────┼──────────────────┤\n",
       "│ 1   │ Bradley Beal     │ SG         │ WAS    │ 53.4317 │ Bradley Beal     │\n",
       "│ 2   │ Paul George      │ SF         │ LAC    │ 54.6104 │ Paul George      │\n",
       "│ 3   │ Fred VanVleet    │ PG         │ TOR    │ 43.2081 │ Donovan Mitchell │\n",
       "│ 4   │ Bojan Bogdanovic │ SF         │ UTA    │ 39.0917 │ Bojan Bogdanovic │\n",
       "│ 5   │ Evan Fournier    │ SG         │ ORL    │ 39.2203 │ Mike Conley      │\n",
       "│ 6   │ Aaron Gordon     │ PF         │ ORL    │ 34.4912 │ Eric Paschall    │\n",
       "│ 7   │ D.J. Augustin    │ PG         │ ORL    │ 28.7639 │ D.J. Augustin    │\n",
       "│ 8   │ Mo Bamba         │ C          │ ORL    │ 25.7915 │ Mo Bamba         │\n",
       "│ 9   │ Omari Spellman   │ PF         │ GS     │ 27.3356 │ Omari Spellman   │"
      ]
     },
     "execution_count": 70,
     "metadata": {},
     "output_type": "execute_result"
    }
   ],
   "source": [
    "lineups"
   ]
  },
  {
   "cell_type": "code",
   "execution_count": 71,
   "metadata": {},
   "outputs": [
    {
     "data": {
      "text/html": [
       "<table class=\"data-frame\"><thead><tr><th></th><th>FP_1_sum</th><th>FP_2_sum</th><th>FP_3_sum</th><th>FP_4_sum</th><th>FP_5_sum</th><th>FP_6_sum</th><th>FP_7_sum</th><th>FP_8_sum</th></tr><tr><th></th><th>Float64</th><th>Float64</th><th>Float64</th><th>Float64</th><th>Float64</th><th>Float64</th><th>Float64</th><th>Float64</th></tr></thead><tbody><p>1 rows × 10 columns (omitted printing of 2 columns)</p><tr><th>1</th><td>345.944</td><td>343.864</td><td>343.627</td><td>343.493</td><td>343.425</td><td>343.335</td><td>343.281</td><td>343.141</td></tr></tbody></table>"
      ],
      "text/latex": [
       "\\begin{tabular}{r|ccccccccc}\n",
       "\t& FP\\_1\\_sum & FP\\_2\\_sum & FP\\_3\\_sum & FP\\_4\\_sum & FP\\_5\\_sum & FP\\_6\\_sum & FP\\_7\\_sum & FP\\_8\\_sum & \\\\\n",
       "\t\\hline\n",
       "\t& Float64 & Float64 & Float64 & Float64 & Float64 & Float64 & Float64 & Float64 & \\\\\n",
       "\t\\hline\n",
       "\t1 & 345.944 & 343.864 & 343.627 & 343.493 & 343.425 & 343.335 & 343.281 & 343.141 & $\\dots$ \\\\\n",
       "\\end{tabular}\n"
      ],
      "text/plain": [
       "1×10 DataFrame. Omitted printing of 4 columns\n",
       "│ Row │ FP_1_sum │ FP_2_sum │ FP_3_sum │ FP_4_sum │ FP_5_sum │ FP_6_sum │\n",
       "│     │ \u001b[90mFloat64\u001b[39m  │ \u001b[90mFloat64\u001b[39m  │ \u001b[90mFloat64\u001b[39m  │ \u001b[90mFloat64\u001b[39m  │ \u001b[90mFloat64\u001b[39m  │ \u001b[90mFloat64\u001b[39m  │\n",
       "├─────┼──────────┼──────────┼──────────┼──────────┼──────────┼──────────┤\n",
       "│ 1   │ 345.944  │ 343.864  │ 343.627  │ 343.493  │ 343.425  │ 343.335  │"
      ]
     },
     "execution_count": 71,
     "metadata": {},
     "output_type": "execute_result"
    }
   ],
   "source": [
    "lineups_scores"
   ]
  },
  {
   "cell_type": "code",
   "execution_count": 72,
   "metadata": {},
   "outputs": [
    {
     "data": {
      "text/plain": [
       "10"
      ]
     },
     "execution_count": 72,
     "metadata": {},
     "output_type": "execute_result"
    }
   ],
   "source": [
    "get_number_of_lineups(lineups; fp_column = \"FP_\")"
   ]
  },
  {
   "cell_type": "code",
   "execution_count": 117,
   "metadata": {},
   "outputs": [
    {
     "data": {
      "text/html": [
       "<table class=\"data-frame\"><thead><tr><th></th><th>FP_1_sum</th><th>FP_2_sum</th><th>FP_3_sum</th><th>FP_4_sum</th><th>FP_5_sum</th><th>FP_6_sum</th><th>FP_7_sum</th><th>FP_8_sum</th></tr><tr><th></th><th>Float64</th><th>Float64</th><th>Float64</th><th>Float64</th><th>Float64</th><th>Float64</th><th>Float64</th><th>Float64</th></tr></thead><tbody><p>1 rows × 10 columns (omitted printing of 2 columns)</p><tr><th>1</th><td>345.944</td><td>343.864</td><td>343.627</td><td>343.493</td><td>343.425</td><td>343.335</td><td>343.281</td><td>343.141</td></tr></tbody></table>"
      ],
      "text/latex": [
       "\\begin{tabular}{r|ccccccccc}\n",
       "\t& FP\\_1\\_sum & FP\\_2\\_sum & FP\\_3\\_sum & FP\\_4\\_sum & FP\\_5\\_sum & FP\\_6\\_sum & FP\\_7\\_sum & FP\\_8\\_sum & \\\\\n",
       "\t\\hline\n",
       "\t& Float64 & Float64 & Float64 & Float64 & Float64 & Float64 & Float64 & Float64 & \\\\\n",
       "\t\\hline\n",
       "\t1 & 345.944 & 343.864 & 343.627 & 343.493 & 343.425 & 343.335 & 343.281 & 343.141 & $\\dots$ \\\\\n",
       "\\end{tabular}\n"
      ],
      "text/plain": [
       "1×10 DataFrame. Omitted printing of 4 columns\n",
       "│ Row │ FP_1_sum │ FP_2_sum │ FP_3_sum │ FP_4_sum │ FP_5_sum │ FP_6_sum │\n",
       "│     │ \u001b[90mFloat64\u001b[39m  │ \u001b[90mFloat64\u001b[39m  │ \u001b[90mFloat64\u001b[39m  │ \u001b[90mFloat64\u001b[39m  │ \u001b[90mFloat64\u001b[39m  │ \u001b[90mFloat64\u001b[39m  │\n",
       "├─────┼──────────┼──────────┼──────────┼──────────┼──────────┼──────────┤\n",
       "│ 1   │ 345.944  │ 343.864  │ 343.627  │ 343.493  │ 343.425  │ 343.335  │"
      ]
     },
     "execution_count": 117,
     "metadata": {},
     "output_type": "execute_result"
    }
   ],
   "source": [
    "get_score_lineups(lineups; fp_column = \"FP_\")"
   ]
  },
  {
   "cell_type": "code",
   "execution_count": 75,
   "metadata": {},
   "outputs": [
    {
     "data": {
      "text/html": [
       "<table class=\"data-frame\"><thead><tr><th></th><th>Name_1</th><th>Position_1</th><th>Team_1</th><th>FP_1</th><th>True_FP_1</th><th>Name_2</th><th>Position_2</th></tr><tr><th></th><th>String</th><th>String</th><th>String</th><th>Float64</th><th>Float64</th><th>String</th><th>String</th></tr></thead><tbody><p>9 rows × 50 columns (omitted printing of 43 columns)</p><tr><th>1</th><td>Bradley Beal</td><td>SG</td><td>WAS</td><td>53.4317</td><td>58.7749</td><td>Bradley Beal</td><td>SG</td></tr><tr><th>2</th><td>Paul George</td><td>SF</td><td>LAC</td><td>54.6104</td><td>60.0715</td><td>Paul George</td><td>SF</td></tr><tr><th>3</th><td>Fred VanVleet</td><td>PG</td><td>TOR</td><td>43.2081</td><td>47.5289</td><td>Donovan Mitchell</td><td>SG</td></tr><tr><th>4</th><td>Bojan Bogdanovic</td><td>SF</td><td>UTA</td><td>39.0917</td><td>35.1826</td><td>Bojan Bogdanovic</td><td>SF</td></tr><tr><th>5</th><td>Evan Fournier</td><td>SG</td><td>ORL</td><td>39.2203</td><td>35.2983</td><td>Mike Conley</td><td>PG</td></tr><tr><th>6</th><td>Aaron Gordon</td><td>PF</td><td>ORL</td><td>34.4912</td><td>37.9403</td><td>Eric Paschall</td><td>PF</td></tr><tr><th>7</th><td>D.J. Augustin</td><td>PG</td><td>ORL</td><td>28.7639</td><td>25.8875</td><td>D.J. Augustin</td><td>PG</td></tr><tr><th>8</th><td>Mo Bamba</td><td>C</td><td>ORL</td><td>25.7915</td><td>28.3707</td><td>Mo Bamba</td><td>C</td></tr><tr><th>9</th><td>Omari Spellman</td><td>PF</td><td>GS</td><td>27.3356</td><td>24.602</td><td>Omari Spellman</td><td>PF</td></tr></tbody></table>"
      ],
      "text/latex": [
       "\\begin{tabular}{r|cccccccc}\n",
       "\t& Name\\_1 & Position\\_1 & Team\\_1 & FP\\_1 & True\\_FP\\_1 & Name\\_2 & Position\\_2 & \\\\\n",
       "\t\\hline\n",
       "\t& String & String & String & Float64 & Float64 & String & String & \\\\\n",
       "\t\\hline\n",
       "\t1 & Bradley Beal & SG & WAS & 53.4317 & 58.7749 & Bradley Beal & SG & $\\dots$ \\\\\n",
       "\t2 & Paul George & SF & LAC & 54.6104 & 60.0715 & Paul George & SF & $\\dots$ \\\\\n",
       "\t3 & Fred VanVleet & PG & TOR & 43.2081 & 47.5289 & Donovan Mitchell & SG & $\\dots$ \\\\\n",
       "\t4 & Bojan Bogdanovic & SF & UTA & 39.0917 & 35.1826 & Bojan Bogdanovic & SF & $\\dots$ \\\\\n",
       "\t5 & Evan Fournier & SG & ORL & 39.2203 & 35.2983 & Mike Conley & PG & $\\dots$ \\\\\n",
       "\t6 & Aaron Gordon & PF & ORL & 34.4912 & 37.9403 & Eric Paschall & PF & $\\dots$ \\\\\n",
       "\t7 & D.J. Augustin & PG & ORL & 28.7639 & 25.8875 & D.J. Augustin & PG & $\\dots$ \\\\\n",
       "\t8 & Mo Bamba & C & ORL & 25.7915 & 28.3707 & Mo Bamba & C & $\\dots$ \\\\\n",
       "\t9 & Omari Spellman & PF & GS & 27.3356 & 24.602 & Omari Spellman & PF & $\\dots$ \\\\\n",
       "\\end{tabular}\n"
      ],
      "text/plain": [
       "9×50 DataFrame. Omitted printing of 45 columns\n",
       "│ Row │ Name_1           │ Position_1 │ Team_1 │ FP_1    │ True_FP_1 │\n",
       "│     │ \u001b[90mString\u001b[39m           │ \u001b[90mString\u001b[39m     │ \u001b[90mString\u001b[39m │ \u001b[90mFloat64\u001b[39m │ \u001b[90mFloat64\u001b[39m   │\n",
       "├─────┼──────────────────┼────────────┼────────┼─────────┼───────────┤\n",
       "│ 1   │ Bradley Beal     │ SG         │ WAS    │ 53.4317 │ 58.7749   │\n",
       "│ 2   │ Paul George      │ SF         │ LAC    │ 54.6104 │ 60.0715   │\n",
       "│ 3   │ Fred VanVleet    │ PG         │ TOR    │ 43.2081 │ 47.5289   │\n",
       "│ 4   │ Bojan Bogdanovic │ SF         │ UTA    │ 39.0917 │ 35.1826   │\n",
       "│ 5   │ Evan Fournier    │ SG         │ ORL    │ 39.2203 │ 35.2983   │\n",
       "│ 6   │ Aaron Gordon     │ PF         │ ORL    │ 34.4912 │ 37.9403   │\n",
       "│ 7   │ D.J. Augustin    │ PG         │ ORL    │ 28.7639 │ 25.8875   │\n",
       "│ 8   │ Mo Bamba         │ C          │ ORL    │ 25.7915 │ 28.3707   │\n",
       "│ 9   │ Omari Spellman   │ PF         │ GS     │ 27.3356 │ 24.602    │"
      ]
     },
     "execution_count": 75,
     "metadata": {},
     "output_type": "execute_result"
    }
   ],
   "source": [
    "lineup_with_true_scores = add_true_scores(lineups, test_set; fp_column = \"FP_\", true_fp_column = \"fp\")"
   ]
  },
  {
   "cell_type": "code",
   "execution_count": 78,
   "metadata": {},
   "outputs": [
    {
     "data": {
      "text/html": [
       "<table class=\"data-frame\"><thead><tr><th></th><th>Name_2</th><th>Position_2</th><th>Team_2</th><th>FP_2</th><th>True_FP_2</th></tr><tr><th></th><th>String</th><th>String</th><th>String</th><th>Float64</th><th>Float64</th></tr></thead><tbody><p>9 rows × 5 columns</p><tr><th>1</th><td>Bradley Beal</td><td>SG</td><td>WAS</td><td>53.4317</td><td>58.7749</td></tr><tr><th>2</th><td>Paul George</td><td>SF</td><td>LAC</td><td>54.6104</td><td>60.0715</td></tr><tr><th>3</th><td>Donovan Mitchell</td><td>SG</td><td>UTA</td><td>46.0897</td><td>50.6986</td></tr><tr><th>4</th><td>Bojan Bogdanovic</td><td>SF</td><td>UTA</td><td>39.0917</td><td>35.1826</td></tr><tr><th>5</th><td>Mike Conley</td><td>PG</td><td>UTA</td><td>35.6256</td><td>39.1882</td></tr><tr><th>6</th><td>Eric Paschall</td><td>PF</td><td>GS</td><td>33.1242</td><td>29.8117</td></tr><tr><th>7</th><td>D.J. Augustin</td><td>PG</td><td>ORL</td><td>28.7639</td><td>25.8875</td></tr><tr><th>8</th><td>Mo Bamba</td><td>C</td><td>ORL</td><td>25.7915</td><td>28.3707</td></tr><tr><th>9</th><td>Omari Spellman</td><td>PF</td><td>GS</td><td>27.3356</td><td>24.602</td></tr></tbody></table>"
      ],
      "text/latex": [
       "\\begin{tabular}{r|ccccc}\n",
       "\t& Name\\_2 & Position\\_2 & Team\\_2 & FP\\_2 & True\\_FP\\_2\\\\\n",
       "\t\\hline\n",
       "\t& String & String & String & Float64 & Float64\\\\\n",
       "\t\\hline\n",
       "\t1 & Bradley Beal & SG & WAS & 53.4317 & 58.7749 \\\\\n",
       "\t2 & Paul George & SF & LAC & 54.6104 & 60.0715 \\\\\n",
       "\t3 & Donovan Mitchell & SG & UTA & 46.0897 & 50.6986 \\\\\n",
       "\t4 & Bojan Bogdanovic & SF & UTA & 39.0917 & 35.1826 \\\\\n",
       "\t5 & Mike Conley & PG & UTA & 35.6256 & 39.1882 \\\\\n",
       "\t6 & Eric Paschall & PF & GS & 33.1242 & 29.8117 \\\\\n",
       "\t7 & D.J. Augustin & PG & ORL & 28.7639 & 25.8875 \\\\\n",
       "\t8 & Mo Bamba & C & ORL & 25.7915 & 28.3707 \\\\\n",
       "\t9 & Omari Spellman & PF & GS & 27.3356 & 24.602 \\\\\n",
       "\\end{tabular}\n"
      ],
      "text/plain": [
       "9×5 DataFrame\n",
       "│ Row │ Name_2           │ Position_2 │ Team_2 │ FP_2    │ True_FP_2 │\n",
       "│     │ \u001b[90mString\u001b[39m           │ \u001b[90mString\u001b[39m     │ \u001b[90mString\u001b[39m │ \u001b[90mFloat64\u001b[39m │ \u001b[90mFloat64\u001b[39m   │\n",
       "├─────┼──────────────────┼────────────┼────────┼─────────┼───────────┤\n",
       "│ 1   │ Bradley Beal     │ SG         │ WAS    │ 53.4317 │ 58.7749   │\n",
       "│ 2   │ Paul George      │ SF         │ LAC    │ 54.6104 │ 60.0715   │\n",
       "│ 3   │ Donovan Mitchell │ SG         │ UTA    │ 46.0897 │ 50.6986   │\n",
       "│ 4   │ Bojan Bogdanovic │ SF         │ UTA    │ 39.0917 │ 35.1826   │\n",
       "│ 5   │ Mike Conley      │ PG         │ UTA    │ 35.6256 │ 39.1882   │\n",
       "│ 6   │ Eric Paschall    │ PF         │ GS     │ 33.1242 │ 29.8117   │\n",
       "│ 7   │ D.J. Augustin    │ PG         │ ORL    │ 28.7639 │ 25.8875   │\n",
       "│ 8   │ Mo Bamba         │ C          │ ORL    │ 25.7915 │ 28.3707   │\n",
       "│ 9   │ Omari Spellman   │ PF         │ GS     │ 27.3356 │ 24.602    │"
      ]
     },
     "execution_count": 78,
     "metadata": {},
     "output_type": "execute_result"
    }
   ],
   "source": [
    "get_lineup(lineup_with_true_scores, 2)"
   ]
  },
  {
   "cell_type": "code",
   "execution_count": 83,
   "metadata": {},
   "outputs": [
    {
     "data": {
      "text/plain": [
       "(9×5 DataFrame\n",
       "│ Row │ Name_1           │ Position_1 │ Team_1 │ FP_1    │ True_FP_1 │\n",
       "│     │ \u001b[90mString\u001b[39m           │ \u001b[90mString\u001b[39m     │ \u001b[90mString\u001b[39m │ \u001b[90mFloat64\u001b[39m │ \u001b[90mFloat64\u001b[39m   │\n",
       "├─────┼──────────────────┼────────────┼────────┼─────────┼───────────┤\n",
       "│ 1   │ Bradley Beal     │ SG         │ WAS    │ 53.4317 │ 58.7749   │\n",
       "│ 2   │ Paul George      │ SF         │ LAC    │ 54.6104 │ 60.0715   │\n",
       "│ 3   │ Fred VanVleet    │ PG         │ TOR    │ 43.2081 │ 47.5289   │\n",
       "│ 4   │ Bojan Bogdanovic │ SF         │ UTA    │ 39.0917 │ 35.1826   │\n",
       "│ 5   │ Evan Fournier    │ SG         │ ORL    │ 39.2203 │ 35.2983   │\n",
       "│ 6   │ Aaron Gordon     │ PF         │ ORL    │ 34.4912 │ 37.9403   │\n",
       "│ 7   │ D.J. Augustin    │ PG         │ ORL    │ 28.7639 │ 25.8875   │\n",
       "│ 8   │ Mo Bamba         │ C          │ ORL    │ 25.7915 │ 28.3707   │\n",
       "│ 9   │ Omari Spellman   │ PF         │ GS     │ 27.3356 │ 24.602    │, 1×1 DataFrame\n",
       "│ Row │ FP_1_sum │\n",
       "│     │ \u001b[90mFloat64\u001b[39m  │\n",
       "├─────┼──────────┤\n",
       "│ 1   │ 345.944  │)"
      ]
     },
     "execution_count": 83,
     "metadata": {},
     "output_type": "execute_result"
    }
   ],
   "source": [
    "# Returns the best lineup based on the predictions\n",
    "get_best_lineup(lineup_with_true_scores; fp_column = \"FP_\")"
   ]
  },
  {
   "cell_type": "code",
   "execution_count": 85,
   "metadata": {},
   "outputs": [
    {
     "data": {
      "text/plain": [
       "(9×5 DataFrame\n",
       "│ Row │ Name_4         │ Position_4 │ Team_4 │ FP_4    │ True_FP_4 │\n",
       "│     │ \u001b[90mString\u001b[39m         │ \u001b[90mString\u001b[39m     │ \u001b[90mString\u001b[39m │ \u001b[90mFloat64\u001b[39m │ \u001b[90mFloat64\u001b[39m   │\n",
       "├─────┼────────────────┼────────────┼────────┼─────────┼───────────┤\n",
       "│ 1   │ Bradley Beal   │ SG         │ WAS    │ 53.4317 │ 58.7749   │\n",
       "│ 2   │ Paul George    │ SF         │ LAC    │ 54.6104 │ 60.0715   │\n",
       "│ 3   │ Fred VanVleet  │ PG         │ TOR    │ 43.2081 │ 47.5289   │\n",
       "│ 4   │ Evan Fournier  │ SG         │ ORL    │ 39.2203 │ 35.2983   │\n",
       "│ 5   │ Aaron Gordon   │ PF         │ ORL    │ 34.4912 │ 37.9403   │\n",
       "│ 6   │ Eric Paschall  │ PF         │ GS     │ 33.1242 │ 29.8117   │\n",
       "│ 7   │ Marc Gasol     │ C          │ TOR    │ 28.5988 │ 31.4587   │\n",
       "│ 8   │ Glenn Robinson │ SF         │ GS     │ 28.0443 │ 30.8487   │\n",
       "│ 9   │ D.J. Augustin  │ PG         │ ORL    │ 28.7639 │ 25.8875   │, 1×1 DataFrame\n",
       "│ Row │ True_FP_4_sum │\n",
       "│     │ \u001b[90mFloat64\u001b[39m       │\n",
       "├─────┼───────────────┤\n",
       "│ 1   │ 357.62        │)"
      ]
     },
     "execution_count": 85,
     "metadata": {},
     "output_type": "execute_result"
    }
   ],
   "source": [
    "# Returns the best lineup based on the true FP scores\n",
    "get_best_lineup(lineup_with_true_scores; fp_column = \"True_FP_\")"
   ]
  },
  {
   "cell_type": "code",
   "execution_count": 89,
   "metadata": {},
   "outputs": [],
   "source": [
    "best_lineup_with_true_scores, best_lineup, captured_score = test_lineups(lineups, test_set; pred_column = \"prediction\", true_column=\"fp\");"
   ]
  },
  {
   "cell_type": "code",
   "execution_count": 90,
   "metadata": {},
   "outputs": [
    {
     "data": {
      "text/html": [
       "<table class=\"data-frame\"><thead><tr><th></th><th>Name_4</th><th>Position_4</th><th>Team_4</th><th>FP_4</th><th>True_FP_4</th></tr><tr><th></th><th>String</th><th>String</th><th>String</th><th>Float64</th><th>Float64</th></tr></thead><tbody><p>9 rows × 5 columns</p><tr><th>1</th><td>Bradley Beal</td><td>SG</td><td>WAS</td><td>53.4317</td><td>58.7749</td></tr><tr><th>2</th><td>Paul George</td><td>SF</td><td>LAC</td><td>54.6104</td><td>60.0715</td></tr><tr><th>3</th><td>Fred VanVleet</td><td>PG</td><td>TOR</td><td>43.2081</td><td>47.5289</td></tr><tr><th>4</th><td>Evan Fournier</td><td>SG</td><td>ORL</td><td>39.2203</td><td>35.2983</td></tr><tr><th>5</th><td>Aaron Gordon</td><td>PF</td><td>ORL</td><td>34.4912</td><td>37.9403</td></tr><tr><th>6</th><td>Eric Paschall</td><td>PF</td><td>GS</td><td>33.1242</td><td>29.8117</td></tr><tr><th>7</th><td>Marc Gasol</td><td>C</td><td>TOR</td><td>28.5988</td><td>31.4587</td></tr><tr><th>8</th><td>Glenn Robinson</td><td>SF</td><td>GS</td><td>28.0443</td><td>30.8487</td></tr><tr><th>9</th><td>D.J. Augustin</td><td>PG</td><td>ORL</td><td>28.7639</td><td>25.8875</td></tr></tbody></table>"
      ],
      "text/latex": [
       "\\begin{tabular}{r|ccccc}\n",
       "\t& Name\\_4 & Position\\_4 & Team\\_4 & FP\\_4 & True\\_FP\\_4\\\\\n",
       "\t\\hline\n",
       "\t& String & String & String & Float64 & Float64\\\\\n",
       "\t\\hline\n",
       "\t1 & Bradley Beal & SG & WAS & 53.4317 & 58.7749 \\\\\n",
       "\t2 & Paul George & SF & LAC & 54.6104 & 60.0715 \\\\\n",
       "\t3 & Fred VanVleet & PG & TOR & 43.2081 & 47.5289 \\\\\n",
       "\t4 & Evan Fournier & SG & ORL & 39.2203 & 35.2983 \\\\\n",
       "\t5 & Aaron Gordon & PF & ORL & 34.4912 & 37.9403 \\\\\n",
       "\t6 & Eric Paschall & PF & GS & 33.1242 & 29.8117 \\\\\n",
       "\t7 & Marc Gasol & C & TOR & 28.5988 & 31.4587 \\\\\n",
       "\t8 & Glenn Robinson & SF & GS & 28.0443 & 30.8487 \\\\\n",
       "\t9 & D.J. Augustin & PG & ORL & 28.7639 & 25.8875 \\\\\n",
       "\\end{tabular}\n"
      ],
      "text/plain": [
       "9×5 DataFrame\n",
       "│ Row │ Name_4         │ Position_4 │ Team_4 │ FP_4    │ True_FP_4 │\n",
       "│     │ \u001b[90mString\u001b[39m         │ \u001b[90mString\u001b[39m     │ \u001b[90mString\u001b[39m │ \u001b[90mFloat64\u001b[39m │ \u001b[90mFloat64\u001b[39m   │\n",
       "├─────┼────────────────┼────────────┼────────┼─────────┼───────────┤\n",
       "│ 1   │ Bradley Beal   │ SG         │ WAS    │ 53.4317 │ 58.7749   │\n",
       "│ 2   │ Paul George    │ SF         │ LAC    │ 54.6104 │ 60.0715   │\n",
       "│ 3   │ Fred VanVleet  │ PG         │ TOR    │ 43.2081 │ 47.5289   │\n",
       "│ 4   │ Evan Fournier  │ SG         │ ORL    │ 39.2203 │ 35.2983   │\n",
       "│ 5   │ Aaron Gordon   │ PF         │ ORL    │ 34.4912 │ 37.9403   │\n",
       "│ 6   │ Eric Paschall  │ PF         │ GS     │ 33.1242 │ 29.8117   │\n",
       "│ 7   │ Marc Gasol     │ C          │ TOR    │ 28.5988 │ 31.4587   │\n",
       "│ 8   │ Glenn Robinson │ SF         │ GS     │ 28.0443 │ 30.8487   │\n",
       "│ 9   │ D.J. Augustin  │ PG         │ ORL    │ 28.7639 │ 25.8875   │"
      ]
     },
     "execution_count": 90,
     "metadata": {},
     "output_type": "execute_result"
    }
   ],
   "source": [
    "best_lineup_with_true_scores"
   ]
  },
  {
   "cell_type": "code",
   "execution_count": 119,
   "metadata": {},
   "outputs": [
    {
     "data": {
      "text/plain": [
       "357.62049505000005"
      ]
     },
     "execution_count": 119,
     "metadata": {},
     "output_type": "execute_result"
    }
   ],
   "source": [
    "sum(best_lineup_with_true_scores[!,:True_FP_4])"
   ]
  },
  {
   "cell_type": "code",
   "execution_count": 120,
   "metadata": {},
   "outputs": [
    {
     "data": {
      "text/html": [
       "<table class=\"data-frame\"><thead><tr><th></th><th>Name_1</th><th>Position_1</th><th>Team_1</th><th>FP_1</th></tr><tr><th></th><th>String</th><th>String</th><th>String</th><th>Float64</th></tr></thead><tbody><p>9 rows × 4 columns</p><tr><th>1</th><td>Bradley Beal</td><td>SG</td><td>WAS</td><td>58.7749</td></tr><tr><th>2</th><td>Paul George</td><td>SF</td><td>LAC</td><td>60.0715</td></tr><tr><th>3</th><td>Fred VanVleet</td><td>PG</td><td>TOR</td><td>47.5289</td></tr><tr><th>4</th><td>Draymond Green</td><td>PF</td><td>GS</td><td>40.2631</td></tr><tr><th>5</th><td>Mike Conley</td><td>PG</td><td>UTA</td><td>39.1882</td></tr><tr><th>6</th><td>Aaron Gordon</td><td>PF</td><td>ORL</td><td>37.9403</td></tr><tr><th>7</th><td>Glenn Robinson</td><td>SF</td><td>GS</td><td>30.8487</td></tr><tr><th>8</th><td>Mo Bamba</td><td>C</td><td>ORL</td><td>28.3707</td></tr><tr><th>9</th><td>Jordan McRae</td><td>SG</td><td>WAS</td><td>29.662</td></tr></tbody></table>"
      ],
      "text/latex": [
       "\\begin{tabular}{r|cccc}\n",
       "\t& Name\\_1 & Position\\_1 & Team\\_1 & FP\\_1\\\\\n",
       "\t\\hline\n",
       "\t& String & String & String & Float64\\\\\n",
       "\t\\hline\n",
       "\t1 & Bradley Beal & SG & WAS & 58.7749 \\\\\n",
       "\t2 & Paul George & SF & LAC & 60.0715 \\\\\n",
       "\t3 & Fred VanVleet & PG & TOR & 47.5289 \\\\\n",
       "\t4 & Draymond Green & PF & GS & 40.2631 \\\\\n",
       "\t5 & Mike Conley & PG & UTA & 39.1882 \\\\\n",
       "\t6 & Aaron Gordon & PF & ORL & 37.9403 \\\\\n",
       "\t7 & Glenn Robinson & SF & GS & 30.8487 \\\\\n",
       "\t8 & Mo Bamba & C & ORL & 28.3707 \\\\\n",
       "\t9 & Jordan McRae & SG & WAS & 29.662 \\\\\n",
       "\\end{tabular}\n"
      ],
      "text/plain": [
       "9×4 DataFrame\n",
       "│ Row │ Name_1         │ Position_1 │ Team_1 │ FP_1    │\n",
       "│     │ \u001b[90mString\u001b[39m         │ \u001b[90mString\u001b[39m     │ \u001b[90mString\u001b[39m │ \u001b[90mFloat64\u001b[39m │\n",
       "├─────┼────────────────┼────────────┼────────┼─────────┤\n",
       "│ 1   │ Bradley Beal   │ SG         │ WAS    │ 58.7749 │\n",
       "│ 2   │ Paul George    │ SF         │ LAC    │ 60.0715 │\n",
       "│ 3   │ Fred VanVleet  │ PG         │ TOR    │ 47.5289 │\n",
       "│ 4   │ Draymond Green │ PF         │ GS     │ 40.2631 │\n",
       "│ 5   │ Mike Conley    │ PG         │ UTA    │ 39.1882 │\n",
       "│ 6   │ Aaron Gordon   │ PF         │ ORL    │ 37.9403 │\n",
       "│ 7   │ Glenn Robinson │ SF         │ GS     │ 30.8487 │\n",
       "│ 8   │ Mo Bamba       │ C          │ ORL    │ 28.3707 │\n",
       "│ 9   │ Jordan McRae   │ SG         │ WAS    │ 29.662  │"
      ]
     },
     "execution_count": 120,
     "metadata": {},
     "output_type": "execute_result"
    }
   ],
   "source": [
    "best_lineup"
   ]
  },
  {
   "cell_type": "code",
   "execution_count": 122,
   "metadata": {},
   "outputs": [
    {
     "data": {
      "text/plain": [
       "372.64820273"
      ]
     },
     "execution_count": 122,
     "metadata": {},
     "output_type": "execute_result"
    }
   ],
   "source": [
    "sum(best_lineup[!,:FP_1])"
   ]
  },
  {
   "cell_type": "code",
   "execution_count": 123,
   "metadata": {},
   "outputs": [
    {
     "data": {
      "text/plain": [
       "95.96732049962732"
      ]
     },
     "execution_count": 123,
     "metadata": {},
     "output_type": "execute_result"
    }
   ],
   "source": [
    "captured_score"
   ]
  }
 ],
 "metadata": {
  "kernelspec": {
   "display_name": "Julia 1.2.0",
   "language": "julia",
   "name": "julia-1.2"
  },
  "language_info": {
   "file_extension": ".jl",
   "mimetype": "application/julia",
   "name": "julia",
   "version": "1.2.0"
  }
 },
 "nbformat": 4,
 "nbformat_minor": 2
}
