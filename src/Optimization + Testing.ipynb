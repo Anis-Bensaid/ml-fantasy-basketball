{
 "cells": [
  {
   "cell_type": "code",
   "execution_count": 1,
   "metadata": {},
   "outputs": [],
   "source": [
    "using CSV, JuMP, Gurobi, DataFrames;"
   ]
  },
  {
   "cell_type": "code",
   "execution_count": 2,
   "metadata": {},
   "outputs": [
    {
     "name": "stdout",
     "output_type": "stream",
     "text": [
      "Academic license - for non-commercial use only\r\n"
     ]
    }
   ],
   "source": [
    "GUROBI_ENV = Gurobi.Env();"
   ]
  },
  {
   "cell_type": "markdown",
   "metadata": {},
   "source": [
    "# Reading Data"
   ]
  },
  {
   "cell_type": "code",
   "execution_count": 3,
   "metadata": {},
   "outputs": [
    {
     "data": {
      "text/plain": [
       "\"../data/test_input.csv\""
      ]
     },
     "execution_count": 3,
     "metadata": {},
     "output_type": "execute_result"
    }
   ],
   "source": [
    "PLAYERS_DATA_PATH = \"../data/optimization_input.csv\";\n",
    "OUTPUT_PATH = \"../output/lineups.csv\";\n",
    "TEST_DATA_PATH = \"../data/test_input.csv\""
   ]
  },
  {
   "cell_type": "code",
   "execution_count": 4,
   "metadata": {},
   "outputs": [],
   "source": [
    "players = CSV.read(PLAYERS_DATA_PATH);"
   ]
  },
  {
   "cell_type": "code",
   "execution_count": 5,
   "metadata": {},
   "outputs": [],
   "source": [
    "test_set = CSV.read(TEST_DATA_PATH);"
   ]
  },
  {
   "cell_type": "code",
   "execution_count": 6,
   "metadata": {
    "scrolled": true
   },
   "outputs": [
    {
     "data": {
      "text/plain": [
       "3-element Array{String,1}:\n",
       " \"WAS@LAC\"\n",
       " \"UTA@TOR\"\n",
       " \"GS@ORL\" "
      ]
     },
     "execution_count": 6,
     "metadata": {},
     "output_type": "execute_result"
    }
   ],
   "source": [
    "players[:,:Game].pool"
   ]
  },
  {
   "cell_type": "markdown",
   "metadata": {},
   "source": [
    "# IP Formulation"
   ]
  },
  {
   "cell_type": "code",
   "execution_count": 7,
   "metadata": {},
   "outputs": [],
   "source": [
    "function optimize_lineups(players; nb_lineups=1, max_overlap=6, fp_column=\"prediction\", use_std=false, std_column=\"leaf_std\", std_weight = 0.5, MAX_PG=2, MAX_SG=2, MAX_SF=2, MAX_PF=2, MAX_C=1, BUDGET=60000.0, save=true, output_path=\"../output/lineups.csv\")\n",
    "    # Columns names\n",
    "    NAME = Symbole(\"name\")\n",
    "    TEAM = Symbole(\"team_key\")\n",
    "    POSITION = Symbol(\"Position\")\n",
    "    SALARY = Symbol(\"Salary\")\n",
    "    INJURY = Symbol(\"Injury Indicator\")\n",
    "    FP = Symbol(fp_column)\n",
    "    STD = Symbol(std_column)\n",
    "    if use_std\n",
    "        output_columns = [NAME, POSITION, TEAM , FP, STD]\n",
    "        output_column_names = [\"Name_\", \"Position_\", \"TEAM_\", \"FP_\", \"STD_\"]\n",
    "    else\n",
    "        output_columns = [NAME, POSITION, TEAM , FP]\n",
    "        output_column_names = [\"Name_\", \"Position_\", \"TEAM_\", \"FP_\"]\n",
    "    end \n",
    "    \n",
    "    # Reading inputs\n",
    "    ## Fantasy points\n",
    "    fp = players[:,FP];\n",
    "    ## Positions\n",
    "    PG = Int.(players[:,POSITION].==\"PG\")\n",
    "    SG = Int.(players[:,POSITION].==\"SG\")\n",
    "    SF = Int.(players[:,POSITION].==\"SF\")\n",
    "    PF = Int.(players[:,POSITION].==\"PF\")\n",
    "    C  = Int.(players[:,POSITION].==\"C\")\n",
    "    ## Salary\n",
    "    salary = players[:,SALARY];\n",
    "    ## Injuries\n",
    "    injury = 1 .- ismissing.(players[:,INJURY]) \n",
    "    o_injury = Int.(Missings.coalesce.(players[:,INJURY], 0).==\"O\")\n",
    "    q_injury = Int.(Missings.coalesce.(players[:,INJURY], 0).==\"Q\")\n",
    "    p_injury = Int.(Missings.coalesce.(players[:,INJURY], 0).==\"P\");\n",
    "\n",
    "    ## Number of players\n",
    "    nb_players = size(players)[1]\n",
    "\n",
    "    # Model\n",
    "    model = Model(solver=GurobiSolver(OutputFlag=0, GUROBI_ENV))\n",
    "\n",
    "    # Variable\n",
    "    @variable(model, z[i=1:nb_players], Bin)\n",
    "\n",
    "    # Objective function\n",
    "    if use_std\n",
    "        ## With std \n",
    "        std = players[:,STD];\n",
    "        @objective(model, Max, (1-std_weight)*sum(fp.*z) + std_weight*sum(std.*z))\n",
    "    else\n",
    "        ## Without std        \n",
    "        @objective(model, Max, sum(fp.*z))\n",
    "    end\n",
    "\n",
    "    # Constrains without the overleap constraint\n",
    "    @constraint(model, sum(salary.*z) <= BUDGET)\n",
    "    @constraint(model, sum(PG.*z) == MAX_PG)\n",
    "    @constraint(model, sum(SG.*z) == MAX_SG)\n",
    "    @constraint(model, sum(SF.*z) == MAX_SF)\n",
    "    @constraint(model, sum(PF.*z) == MAX_PF)\n",
    "    @constraint(model, sum(C.*z) == MAX_C)\n",
    "    @constraint(model, z .<= (1 .- injury))\n",
    "\n",
    "    # Initialization (iteration=1)\n",
    "    solve(model)\n",
    "    x = Int.(getvalue(z))\n",
    "    lineups = players[x.==1, output_columns]    \n",
    "    names!(lineups, Symbol.(string.(output_column_names, 1)))  \n",
    "\n",
    "    # Rest of iterations\n",
    "    @constraint(model, sum(x.*z) <= max_overlap)\n",
    "    for i=2:nb_lineups\n",
    "        solve(model)\n",
    "        x = hcat(x,Int.(getvalue(z)))\n",
    "        lineups_names = players[x[:,i].==1, output_columns]\n",
    "        names!(lineups_names, Symbol.(string.(output_column_names, i)))    \n",
    "        lineups = hcat(lineups, lineups_names)\n",
    "        @constraint(model, sum(x[:,i].*z) <= max_overlap)\n",
    "    end\n",
    "    if save\n",
    "        CSV.write(output_path, lineups);\n",
    "    end\n",
    "    score_per_lineup = get_score_lineups(lineups)\n",
    "    return lineups, score_per_lineup\n",
    "end;\n",
    "    "
   ]
  },
  {
   "cell_type": "markdown",
   "metadata": {},
   "source": [
    "# Annexe functions"
   ]
  },
  {
   "cell_type": "code",
   "execution_count": 8,
   "metadata": {},
   "outputs": [],
   "source": [
    "function get_number_of_lineups(lineups; fp_column = \"FP_\")\n",
    "    # Return the number of lineups using the columns fp_column_i\n",
    "    colnames = names(lineups)\n",
    "    nb_lineups = 0\n",
    "    for col in colnames\n",
    "        if startswith(string(col), fp_column)\n",
    "            nb_lineups = nb_lineups+1\n",
    "        end\n",
    "    end\n",
    "    nb_lineups\n",
    "end;"
   ]
  },
  {
   "cell_type": "code",
   "execution_count": 9,
   "metadata": {},
   "outputs": [],
   "source": [
    "function get_score_lineups(lineups; fp_column = \"FP_\")\n",
    "    # Returns the scores of the lineups based on the columns \n",
    "    nb_lineups = get_number_of_lineups(lineups; fp_column = fp_column)\n",
    "    return aggregate(lineups[:,Symbol.([string(fp_column,i) for i=1:nb_lineups])], sum)\n",
    "end;"
   ]
  },
  {
   "cell_type": "code",
   "execution_count": 10,
   "metadata": {},
   "outputs": [],
   "source": [
    "function add_true_scores(lineups, test_set; fp_column = \"FP_\", true_fp_column = \"fp\")\n",
    "    # Adds the columns true_fp_column_i from the test_set to the lineups\n",
    "    nb_lineups = get_number_of_lineups(lineups; fp_column = fp_column)\n",
    "    for lineup=1:nb_lineups\n",
    "        player_names = lineups[!,Symbol(string(\"Name_\",lineup))]\n",
    "        lineups[!,Symbol(string(\"True_FP_\",lineup))] = filter(row -> row[:name] in player_names, test_set)[!,Symbol(true_fp_column)]\n",
    "    end\n",
    "    return order_lineups(lineups)\n",
    "end;"
   ]
  },
  {
   "cell_type": "code",
   "execution_count": 11,
   "metadata": {},
   "outputs": [],
   "source": [
    "function order_lineups(lineups)\n",
    "    # Orders the column of lineups based on the lineup index\n",
    "    nb_lineups = get_number_of_lineups(lineups)\n",
    "    colnames = names(lineups)\n",
    "    ordered_colnames = []\n",
    "    for lineup=1:nb_lineups\n",
    "        for col in colnames\n",
    "            if endswith(string(col), string(\"_\",lineup))\n",
    "                push!(ordered_colnames, col)\n",
    "            end\n",
    "        end\n",
    "    end\n",
    "    return lineups[:,ordered_colnames]\n",
    "end;"
   ]
  },
  {
   "cell_type": "code",
   "execution_count": 12,
   "metadata": {},
   "outputs": [],
   "source": [
    "function get_lineup(lineups, lineup_idx)\n",
    "    # Returns all the columns of the lineup with index lineup_idx\n",
    "    all_colnames = names(lineups)\n",
    "    lineup_colnames = []\n",
    "    for col in all_colnames\n",
    "        if endswith(string(col), string(lineup_idx))\n",
    "            push!(lineup_colnames, col)\n",
    "        end\n",
    "    end\n",
    "    return lineups[:,lineup_colnames]\n",
    "end;"
   ]
  },
  {
   "cell_type": "code",
   "execution_count": 13,
   "metadata": {},
   "outputs": [],
   "source": [
    "function get_best_lineup(lineups; fp_column = \"FP_\")\n",
    "    # Returns the best lineup and its score based on the column fp_column_i\n",
    "    nb_lineups = get_number_of_lineups(lineups)\n",
    "    scores = get_score_lineups(lineups, fp_column=fp_column)\n",
    "    best_lineup_idx = 1\n",
    "    for lineup=2:nb_lineups\n",
    "        if scores[1,lineup]>scores[1,best_lineup_idx]\n",
    "            best_lineup_idx=lineup\n",
    "        end\n",
    "    end\n",
    "    return get_lineup(lineups, best_lineup_idx), scores[:,[best_lineup_idx]]\n",
    "end;"
   ]
  },
  {
   "cell_type": "code",
   "execution_count": 14,
   "metadata": {},
   "outputs": [],
   "source": [
    "function test_lineups(lineups, test_set; pred_column = \"prediction\", true_column=\"fp\")\n",
    "    best_lineup, best_score = optimize_lineups(test_set, fp_column=true_column, nb_lineups=1)\n",
    "    lineup_with_true_scores = add_true_scores(lineups, test_set; fp_column = \"FP_\", true_fp_column = true_column)\n",
    "    best_lineup_with_true_scores, best_lineup_true_score = get_best_lineup(lineup_with_true_scores; fp_column = \"True_FP_\")\n",
    "    captured_score = (best_lineup_true_score[1,1]/best_score[1,1])*100\n",
    "    return best_lineup_with_true_scores, best_lineup, captured_score\n",
    "end;"
   ]
  },
  {
   "cell_type": "markdown",
   "metadata": {},
   "source": [
    "# Testing Functions"
   ]
  },
  {
   "cell_type": "code",
   "execution_count": 15,
   "metadata": {},
   "outputs": [
    {
     "ename": "UndefVarError",
     "evalue": "UndefVarError: Symbole not defined",
     "output_type": "error",
     "traceback": [
      "UndefVarError: Symbole not defined",
      "",
      "Stacktrace:",
      " [1] #optimize_lineups#3(::Int64, ::Int64, ::String, ::Bool, ::String, ::Float64, ::Int64, ::Int64, ::Int64, ::Int64, ::Int64, ::Float64, ::Bool, ::String, ::typeof(optimize_lineups), ::DataFrame) at .\\In[7]:3",
      " [2] (::getfield(Main, Symbol(\"#kw##optimize_lineups\")))(::NamedTuple{(:nb_lineups, :max_overlap, :fp_column, :save, :output_path),Tuple{Int64,Int64,String,Bool,String}}, ::typeof(optimize_lineups), ::DataFrame) at .\\none:0",
      " [3] top-level scope at In[15]:1"
     ]
    }
   ],
   "source": [
    "lineups, lineups_scores =  optimize_lineups(players; nb_lineups=10, max_overlap=6, fp_column=\"prediction\", save=true, output_path=\"../output/lineups.csv\");"
   ]
  },
  {
   "cell_type": "code",
   "execution_count": 16,
   "metadata": {},
   "outputs": [
    {
     "ename": "UndefVarError",
     "evalue": "UndefVarError: lineups not defined",
     "output_type": "error",
     "traceback": [
      "UndefVarError: lineups not defined",
      "",
      "Stacktrace:",
      " [1] top-level scope at In[16]:1"
     ]
    }
   ],
   "source": [
    "lineups"
   ]
  },
  {
   "cell_type": "code",
   "execution_count": 17,
   "metadata": {},
   "outputs": [
    {
     "ename": "UndefVarError",
     "evalue": "UndefVarError: lineups_scores not defined",
     "output_type": "error",
     "traceback": [
      "UndefVarError: lineups_scores not defined",
      "",
      "Stacktrace:",
      " [1] top-level scope at In[17]:1"
     ]
    }
   ],
   "source": [
    "lineups_scores"
   ]
  },
  {
   "cell_type": "code",
   "execution_count": 18,
   "metadata": {},
   "outputs": [
    {
     "ename": "UndefVarError",
     "evalue": "UndefVarError: lineups not defined",
     "output_type": "error",
     "traceback": [
      "UndefVarError: lineups not defined",
      "",
      "Stacktrace:",
      " [1] top-level scope at In[18]:1"
     ]
    }
   ],
   "source": [
    "get_number_of_lineups(lineups; fp_column = \"FP_\")"
   ]
  },
  {
   "cell_type": "code",
   "execution_count": 19,
   "metadata": {},
   "outputs": [
    {
     "ename": "UndefVarError",
     "evalue": "UndefVarError: lineups not defined",
     "output_type": "error",
     "traceback": [
      "UndefVarError: lineups not defined",
      "",
      "Stacktrace:",
      " [1] top-level scope at In[19]:1"
     ]
    }
   ],
   "source": [
    "get_score_lineups(lineups; fp_column = \"FP_\")"
   ]
  },
  {
   "cell_type": "code",
   "execution_count": 20,
   "metadata": {},
   "outputs": [
    {
     "ename": "UndefVarError",
     "evalue": "UndefVarError: lineups not defined",
     "output_type": "error",
     "traceback": [
      "UndefVarError: lineups not defined",
      "",
      "Stacktrace:",
      " [1] top-level scope at In[20]:1"
     ]
    }
   ],
   "source": [
    "lineup_with_true_scores = add_true_scores(lineups, test_set; fp_column = \"FP_\", true_fp_column = \"fp\")"
   ]
  },
  {
   "cell_type": "code",
   "execution_count": 21,
   "metadata": {},
   "outputs": [
    {
     "ename": "UndefVarError",
     "evalue": "UndefVarError: lineup_with_true_scores not defined",
     "output_type": "error",
     "traceback": [
      "UndefVarError: lineup_with_true_scores not defined",
      "",
      "Stacktrace:",
      " [1] top-level scope at In[21]:1"
     ]
    }
   ],
   "source": [
    "get_lineup(lineup_with_true_scores, 2)"
   ]
  },
  {
   "cell_type": "code",
   "execution_count": 22,
   "metadata": {},
   "outputs": [
    {
     "ename": "UndefVarError",
     "evalue": "UndefVarError: lineup_with_true_scores not defined",
     "output_type": "error",
     "traceback": [
      "UndefVarError: lineup_with_true_scores not defined",
      "",
      "Stacktrace:",
      " [1] top-level scope at In[22]:1"
     ]
    }
   ],
   "source": [
    "# Returns the best lineup based on the predictions\n",
    "get_best_lineup(lineup_with_true_scores; fp_column = \"FP_\")"
   ]
  },
  {
   "cell_type": "code",
   "execution_count": 23,
   "metadata": {},
   "outputs": [
    {
     "ename": "UndefVarError",
     "evalue": "UndefVarError: lineup_with_true_scores not defined",
     "output_type": "error",
     "traceback": [
      "UndefVarError: lineup_with_true_scores not defined",
      "",
      "Stacktrace:",
      " [1] top-level scope at In[23]:1"
     ]
    }
   ],
   "source": [
    "# Returns the best lineup based on the true FP scores\n",
    "get_best_lineup(lineup_with_true_scores; fp_column = \"True_FP_\")"
   ]
  },
  {
   "cell_type": "code",
   "execution_count": 24,
   "metadata": {},
   "outputs": [
    {
     "ename": "UndefVarError",
     "evalue": "UndefVarError: lineups not defined",
     "output_type": "error",
     "traceback": [
      "UndefVarError: lineups not defined",
      "",
      "Stacktrace:",
      " [1] top-level scope at In[24]:1"
     ]
    }
   ],
   "source": [
    "best_lineup_with_true_scores, best_lineup, captured_score = test_lineups(lineups, test_set; pred_column = \"prediction\", true_column=\"fp\");"
   ]
  },
  {
   "cell_type": "code",
   "execution_count": 25,
   "metadata": {},
   "outputs": [
    {
     "ename": "UndefVarError",
     "evalue": "UndefVarError: best_lineup_with_true_scores not defined",
     "output_type": "error",
     "traceback": [
      "UndefVarError: best_lineup_with_true_scores not defined",
      "",
      "Stacktrace:",
      " [1] top-level scope at In[25]:1"
     ]
    }
   ],
   "source": [
    "best_lineup_with_true_scores"
   ]
  },
  {
   "cell_type": "code",
   "execution_count": 26,
   "metadata": {},
   "outputs": [
    {
     "ename": "UndefVarError",
     "evalue": "UndefVarError: best_lineup_with_true_scores not defined",
     "output_type": "error",
     "traceback": [
      "UndefVarError: best_lineup_with_true_scores not defined",
      "",
      "Stacktrace:",
      " [1] top-level scope at In[26]:1"
     ]
    }
   ],
   "source": [
    "sum(best_lineup_with_true_scores[!,:True_FP_4])"
   ]
  },
  {
   "cell_type": "code",
   "execution_count": 27,
   "metadata": {},
   "outputs": [
    {
     "ename": "UndefVarError",
     "evalue": "UndefVarError: best_lineup not defined",
     "output_type": "error",
     "traceback": [
      "UndefVarError: best_lineup not defined",
      "",
      "Stacktrace:",
      " [1] top-level scope at In[27]:1"
     ]
    }
   ],
   "source": [
    "best_lineup"
   ]
  },
  {
   "cell_type": "code",
   "execution_count": 28,
   "metadata": {},
   "outputs": [
    {
     "ename": "UndefVarError",
     "evalue": "UndefVarError: best_lineup not defined",
     "output_type": "error",
     "traceback": [
      "UndefVarError: best_lineup not defined",
      "",
      "Stacktrace:",
      " [1] top-level scope at In[28]:1"
     ]
    }
   ],
   "source": [
    "sum(best_lineup[!,:FP_1])"
   ]
  },
  {
   "cell_type": "code",
   "execution_count": 29,
   "metadata": {},
   "outputs": [
    {
     "ename": "UndefVarError",
     "evalue": "UndefVarError: captured_score not defined",
     "output_type": "error",
     "traceback": [
      "UndefVarError: captured_score not defined",
      "",
      "Stacktrace:",
      " [1] top-level scope at In[29]:1"
     ]
    }
   ],
   "source": [
    "captured_score"
   ]
  }
 ],
 "metadata": {
  "kernelspec": {
   "display_name": "Julia 1.2.0",
   "language": "julia",
   "name": "julia-1.2"
  },
  "language_info": {
   "file_extension": ".jl",
   "mimetype": "application/julia",
   "name": "julia",
   "version": "1.2.0"
  }
 },
 "nbformat": 4,
 "nbformat_minor": 2
}
