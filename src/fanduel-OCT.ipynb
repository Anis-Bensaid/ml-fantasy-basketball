{
 "cells": [
  {
   "cell_type": "markdown",
   "metadata": {},
   "source": [
    "# FanDuel data\n",
    "\n",
    "The purpose of this file is to take in an upcoming FanDuel competition (csv) and generate the inputs necessary for the ML model"
   ]
  },
  {
   "cell_type": "code",
   "execution_count": 50,
   "metadata": {},
   "outputs": [],
   "source": [
    "import nbimporter\n",
    "import pandas as pd\n",
    "from datetime import datetime\n",
    "import player_matches_data as pm_data\n",
    "import games_data_OCT as games_data\n",
    "import pickle\n",
    "import numpy as np"
   ]
  },
  {
   "cell_type": "code",
   "execution_count": 57,
   "metadata": {},
   "outputs": [],
   "source": [
    "COMPETITION_PATH = \"../data/fan_dual_input.csv\"\n",
    "NAME_ID_MAPPING_PATH = \"../data/name_id_mapping.csv\"\n",
    "OLD_DATA_PATH = \"../data/20100101_20191129_player_matches.csv\"\n",
    "PLAYER_SEASONS_PATH = \"../data/2009_2019_player_seasons_unique.csv\"\n",
    "NB_PLAYERS_PER_TEAM = 7\n",
    "ROLLING_GAMES_WINDOW = 5"
   ]
  },
  {
   "cell_type": "code",
   "execution_count": 52,
   "metadata": {},
   "outputs": [],
   "source": [
    "def add_player_id(row):\n",
    "    name = row['name']\n",
    "    ids = name_id_mapping[name_id_mapping.name == name]['player_id']\n",
    "    \n",
    "    if len(ids) > 0:\n",
    "        return ids.iloc[0]\n",
    "    else:\n",
    "        print(\"Please update player_id for name \" + name)\n",
    "        return None"
   ]
  },
  {
   "cell_type": "code",
   "execution_count": 53,
   "metadata": {},
   "outputs": [],
   "source": [
    "def add_home_game(row):\n",
    "    return row['team_key'] == row['Game'].split(\"@\")[1]"
   ]
  },
  {
   "cell_type": "code",
   "execution_count": 62,
   "metadata": {},
   "outputs": [],
   "source": [
    "def generate_inputs(competition_path, name_id_mapping_path, old_data_path, player_season_path, nb_players_per_team, rolling_games_window):\n",
    "    competition = pd.read_csv(competition_path)\n",
    "    name_id_mapping = pd.read_csv(name_id_mapping_path)\n",
    "    player_seasons = pd.read_csv(player_season_path)\n",
    "    old_data = pd.read_csv(old_data_path)\n",
    "    \n",
    "    # Adding todays dates for the competition \n",
    "    date = datetime.today()\n",
    "    year = date.year\n",
    "    month = date.month\n",
    "    day = date.day\n",
    "\n",
    "    date = datetime(year, month, day) # strips precision\n",
    "    competition['date'] = date\n",
    "    competition['year'] = year\n",
    "    competition['month'] = month\n",
    "    competition['day'] = day\n",
    "    competition = competition.rename(\n",
    "        columns={\n",
    "            'Nickname': 'name',\n",
    "            'Team': 'team_key',\n",
    "            'Opponent': 'opponent_key'\n",
    "        }\n",
    "    )\n",
    "    competition['home_game'] = competition.apply(add_home_game, axis = 1)\n",
    "    competition['player_id'] = competition.apply(add_player_id, axis = 1)\n",
    "    fd_complete = pm_data.add_game_ids(competition)\n",
    "    fd_complete = pm_data.add_season_start_year(fd_complete)\n",
    "    stats = ['secs', 'fgm', 'fga', '3pm', '3pa', 'ftm', 'fta', 'orb', 'drb', 'ast', 'stl', 'blk', 'tvr', 'pf', 'fp']\n",
    "    for stat in stats:\n",
    "        fd_complete[stat] = 0\n",
    "    fd_complete = pm_data.roll_with_old_data(fd_complete, old_data, stats, rolling_games_window)\n",
    "    model_input = games_data.create_games_data(fd_complete, player_seasons, nb_players_per_team, rolling_games_window)\n",
    "\n",
    "    competition.to_csv(\"../data/competition.csv\", index = False)\n",
    "    model_input.to_csv(\"../data/model_input.csv\", index = False)\n",
    "    \n",
    "    return competition, model_input"
   ]
  },
  {
   "cell_type": "code",
   "execution_count": 63,
   "metadata": {},
   "outputs": [],
   "source": [
    "competition, model_input = generate_inputs(COMPETITION_PATH, NAME_ID_MAPPING_PATH, OLD_DATA_PATH, PLAYER_SEASONS_PATH, NB_PLAYERS_PER_TEAM, ROLLING_GAMES_WINDOW)"
   ]
  }
 ],
 "metadata": {
  "kernelspec": {
   "display_name": "Python 3",
   "language": "python",
   "name": "python3"
  },
  "language_info": {
   "codemirror_mode": {
    "name": "ipython",
    "version": 3
   },
   "file_extension": ".py",
   "mimetype": "text/x-python",
   "name": "python",
   "nbconvert_exporter": "python",
   "pygments_lexer": "ipython3",
   "version": "3.7.3"
  }
 },
 "nbformat": 4,
 "nbformat_minor": 2
}
