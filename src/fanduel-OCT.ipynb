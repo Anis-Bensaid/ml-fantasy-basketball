{
 "cells": [
  {
   "cell_type": "markdown",
   "metadata": {},
   "source": [
    "# FanDuel data\n",
    "\n",
    "The purpose of this file is to take in an upcoming FanDuel competition (csv) and generate the inputs necessary for the ML model"
   ]
  },
  {
   "cell_type": "code",
   "execution_count": 68,
   "metadata": {},
   "outputs": [],
   "source": [
    "import nbimporter\n",
    "import pandas as pd\n",
    "from datetime import datetime\n",
    "import player_matches_data as pm_data\n",
    "import games_data_OCT as games_data\n",
    "import pickle\n",
    "import numpy as np"
   ]
  },
  {
   "cell_type": "code",
   "execution_count": 69,
   "metadata": {},
   "outputs": [],
   "source": [
    "FAN_DUAL_FILE_PATH = \"../data/FanDuel-NBA-2019-12-03-41237-players-list.csv\"\n",
    "NAME_ID_MAPPING_PATH = \"../data/name_id_mapping.csv\"\n",
    "OLD_DATA_PATH = \"../data/20100101_20191129_player_matches.csv\"\n",
    "PLAYER_SEASONS_PATH = \"../data/2009_2019_player_seasons_unique.csv\"\n",
    "NB_PLAYERS_PER_TEAM = 7\n",
    "ROLLING_GAMES_WINDOW = 5"
   ]
  },
  {
   "cell_type": "code",
   "execution_count": 70,
   "metadata": {},
   "outputs": [],
   "source": [
    "def add_player_id(row):\n",
    "    name = row['name']\n",
    "    ids = name_id_mapping[name_id_mapping.name == name]['player_id']\n",
    "    \n",
    "    if len(ids) > 0:\n",
    "        return ids.iloc[0]\n",
    "    else:\n",
    "        print(\"Please update player_id for name \" + name)\n",
    "        return None"
   ]
  },
  {
   "cell_type": "code",
   "execution_count": 71,
   "metadata": {},
   "outputs": [],
   "source": [
    "def add_home_game(row):\n",
    "    return row['team_key'] == row['Game'].split(\"@\")[1]"
   ]
  },
  {
   "cell_type": "code",
   "execution_count": 72,
   "metadata": {},
   "outputs": [],
   "source": [
    "def generate_inputs(fan_dual_file_path, name_id_mapping_path, old_data_path, player_season_path, nb_players_per_team, rolling_games_window):\n",
    "    competition = pd.read_csv(fan_dual_file_path)\n",
    "    name_id_mapping = pd.read_csv(name_id_mapping_path)\n",
    "    player_seasons = pd.read_csv(player_season_path)\n",
    "    old_data = pd.read_csv(old_data_path)\n",
    "    \n",
    "    # Adding todays dates for the competition \n",
    "    date = datetime.today()\n",
    "    year = date.year\n",
    "    month = date.month\n",
    "    day = date.day\n",
    "\n",
    "    date = datetime(year, month, day) # strips precision\n",
    "    competition['date'] = date\n",
    "    competition['year'] = year\n",
    "    competition['month'] = month\n",
    "    competition['day'] = day\n",
    "    competition = competition.rename(\n",
    "        columns={\n",
    "            'Nickname': 'name',\n",
    "            'Team': 'team_key',\n",
    "            'Opponent': 'opponent_key'\n",
    "        }\n",
    "    )\n",
    "    competition['home_game'] = competition.apply(add_home_game, axis = 1)\n",
    "    competition['player_id'] = competition.apply(add_player_id, axis = 1)\n",
    "    fd_complete = pm_data.add_game_ids(competition)\n",
    "    fd_complete = pm_data.add_season_start_year(fd_complete)\n",
    "    stats = ['secs', 'fgm', 'fga', '3pm', '3pa', 'ftm', 'fta', 'orb', 'drb', 'ast', 'stl', 'blk', 'tvr', 'pf', 'fp']\n",
    "    for stat in stats:\n",
    "        fd_complete[stat] = 0\n",
    "    fd_complete = pm_data.roll_with_old_data(fd_complete, old_data, stats, rolling_games_window)\n",
    "    model_input = games_data.create_games_data(fd_complete, player_seasons, nb_players_per_team, rolling_games_window)\n",
    "\n",
    "    competition.to_csv(\"../data/competition.csv\", index = False)\n",
    "    model_input.to_csv(\"../data/model_input.csv\", index = False)\n",
    "    \n",
    "    return competition, model_input"
   ]
  },
  {
   "cell_type": "code",
   "execution_count": 73,
   "metadata": {},
   "outputs": [
    {
     "name": "stdout",
     "output_type": "stream",
     "text": [
      "Please update player_id for name Luka Doncic\n",
      "Please update player_id for name Nikola Jokic\n",
      "Please update player_id for name Kristaps Porzingis\n",
      "Please update player_id for name Nikola Vucevic\n",
      "Please update player_id for name Goran Dragic\n",
      "Please update player_id for name Jakob Poeltl\n",
      "Please update player_id for name JJ Redick\n",
      "Please update player_id for name Skal Labissiere\n",
      "Please update player_id for name Garrison Mathews\n",
      "Please update player_id for name Oshae Brissett\n",
      "Please update player_id for name Vlatko Cancar\n",
      "Please update player_id for name Michael Frazier\n",
      "Please update player_id for name Moses Brown\n",
      "Please update player_id for name Sekou Doumbouya\n",
      "Please update player_id for name Louis King\n",
      "Please update player_id for name Luka Samanic\n",
      "Please update player_id for name Zylan Cheatham\n",
      "Please update player_id for name Jaylen Hoard\n",
      "Please update player_id for name Nicolo Melli\n",
      "Please update player_id for name P.J. Dozier\n",
      "Please update player_id for name Josh Reaves\n",
      "Please update player_id for name Juancho Hernangomez\n",
      "Please update player_id for name Ante Zizic\n",
      "Please update player_id for name Dewan Hernandez\n",
      "Please update player_id for name KZ Okpala\n",
      "Please update player_id for name Jordan Bone\n",
      "Please update player_id for name Zion Williamson\n",
      "Please update player_id for name Svi Mykhailiuk\n",
      "Please update player_id for name Bol Bol\n",
      "Please update player_id for name Jarred Vanderbilt\n",
      "Please update player_id for name Melvin Frazier\n",
      "Please update player_id for name Kostas Antetokounmpo\n",
      "Please update player_id for name Talen Horton-Tucker\n",
      "Please update player_id for name Dylan Windler\n",
      "Please update player_id for name Keldon Johnson\n",
      "Please update player_id for name Justin Robinson\n",
      "Please update player_id for name Isaiah Roby\n",
      "Please update player_id for name Quinndary Weatherspoon\n",
      "Please update player_id for name Mfiondu Kabengele\n",
      "Please update player_id for name Tyler Cook\n",
      "Please update player_id for name Dean Wade\n",
      "Please update player_id for name Nene\n",
      "Please update player_id for name Shamorie Ponds\n",
      "Please update player_id for name Boban Marjanovic\n",
      "Please update player_id for name Zach Norvell\n",
      "Please update player_id for name Amir Coffey\n",
      "Please update player_id for name BJ Johnson\n"
     ]
    }
   ],
   "source": [
    "competition, model_input = generate_inputs(FAN_DUAL_FILE_PATH, NAME_ID_MAPPING_PATH, OLD_DATA_PATH, PLAYER_SEASONS_PATH, NB_PLAYERS_PER_TEAM, ROLLING_GAMES_WINDOW)"
   ]
  },
  {
   "cell_type": "code",
   "execution_count": null,
   "metadata": {},
   "outputs": [],
   "source": []
  }
 ],
 "metadata": {
  "kernelspec": {
   "display_name": "Python 3",
   "language": "python",
   "name": "python3"
  },
  "language_info": {
   "codemirror_mode": {
    "name": "ipython",
    "version": 3
   },
   "file_extension": ".py",
   "mimetype": "text/x-python",
   "name": "python",
   "nbconvert_exporter": "python",
   "pygments_lexer": "ipython3",
   "version": "3.7.3"
  }
 },
 "nbformat": 4,
 "nbformat_minor": 2
}
