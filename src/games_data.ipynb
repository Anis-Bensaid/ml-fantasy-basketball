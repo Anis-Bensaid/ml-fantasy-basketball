{
 "cells": [
  {
   "cell_type": "markdown",
   "metadata": {},
   "source": [
    "# Games data\n",
    "\n",
    "This file takes the player_seasons data and the player_matches_data, aggregates them, and creates a new dataframe in a form that can be easily input to a model"
   ]
  },
  {
   "cell_type": "code",
   "execution_count": 2,
   "metadata": {},
   "outputs": [],
   "source": [
    "import pandas as pd\n",
    "import numpy as np"
   ]
  },
  {
   "cell_type": "code",
   "execution_count": 3,
   "metadata": {},
   "outputs": [],
   "source": [
    "NUM_PLAYERS_CONSIDERED_PER_TEAM = 7\n",
    "ROLLING_GAMES_WINDOW = 5 # must match player_matches_data (should clean this up, non-dup)\n",
    "PLAYER_MATCHES_FILENAME = \"../data/20100101_20191118_player_matches.csv\"\n",
    "PLAYER_SEASONS_FILENAME = \"../data/2009_2019_player_seasons_unique.csv\""
   ]
  },
  {
   "cell_type": "code",
   "execution_count": 4,
   "metadata": {
    "scrolled": true
   },
   "outputs": [],
   "source": [
    "player_matches = pd.read_csv(PLAYER_MATCHES_FILENAME)\n",
    "player_seasons = pd.read_csv(PLAYER_SEASONS_FILENAME)"
   ]
  },
  {
   "cell_type": "code",
   "execution_count": 18,
   "metadata": {},
   "outputs": [],
   "source": [
    "def limit_players_per_game(player_matches, players_per_team, recent_stats_suffix):\n",
    "    df = player_matches.copy()\n",
    "    df = df.sort_values(by=['game_id', 'fp' + recent_stats_suffix], ascending=[True, False])\n",
    "\n",
    "    team_game_group = df.groupby(by=['game_id', 'home_game'])\n",
    "    df = team_game_group.head(players_per_team).reset_index(drop=True)\n",
    "\n",
    "    return df"
   ]
  },
  {
   "cell_type": "code",
   "execution_count": 19,
   "metadata": {},
   "outputs": [],
   "source": [
    "def merge_match_and_season_data(matches, seasons, season_fields):\n",
    "    return pd.merge(\n",
    "        matches,\n",
    "        seasons[season_fields],\n",
    "        how='left',\n",
    "        left_on=['player_id', 'season_start_year'],\n",
    "        right_on = ['player_id', 'end_year']\n",
    "    ).fillna(0)"
   ]
  },
  {
   "cell_type": "code",
   "execution_count": 20,
   "metadata": {},
   "outputs": [],
   "source": [
    "def move_players_to_columns(games_data, stats):\n",
    "    per_game_df = pd.DataFrame()\n",
    "    game_group = games_data.groupby('game_id')\n",
    "\n",
    "    for field in stats:\n",
    "        v = game_group.apply(lambda x: x[field].tolist())\n",
    "        df = pd.DataFrame(v.tolist(), index=v.index).rename(columns=lambda x: x + 1).add_prefix(field + \"_p\").reset_index(drop=True)\n",
    "        per_game_df = pd.concat([per_game_df, df], axis=1, sort=False)\n",
    "    \n",
    "    return per_game_df.fillna(0)"
   ]
  },
  {
   "cell_type": "code",
   "execution_count": 23,
   "metadata": {},
   "outputs": [],
   "source": [
    "def create_games_data(player_matches, player_seasons, players_per_team, rolling_games_window):\n",
    "    recent_stats_suffix = \"_l\" + str(rolling_games_window)\n",
    "    stats = ['fgm', 'fga', '3pm', '3pa', 'ftm', 'fta', 'orb', 'drb', 'ast', 'stl', 'blk', 'tvr', 'pf', 'fp']\n",
    "    season_stats = ['player_id'] + [s + \"_seas_avg\" for s in stats]\n",
    "    recent_stats = [s + recent_stats_suffix for s in stats]\n",
    "\n",
    "    adj_player_matches = limit_players_per_game(player_matches, players_per_team, recent_stats_suffix)\n",
    "    \n",
    "    season_fields = ['end_year'] + season_stats\n",
    "    games_data = merge_match_and_season_data(player_matches, player_seasons, season_fields)\n",
    "    \n",
    "    all_stats = season_stats + recent_stats + ['fp']\n",
    "    \n",
    "    games_data = move_players_to_columns(games_data, all_stats)\n",
    "\n",
    "    return games_data"
   ]
  },
  {
   "cell_type": "code",
   "execution_count": 24,
   "metadata": {},
   "outputs": [],
   "source": [
    "per_game_df = create_games_data(player_matches, player_seasons, NUM_PLAYERS_CONSIDERED_PER_TEAM, ROLLING_GAMES_WINDOW)"
   ]
  },
  {
   "cell_type": "code",
   "execution_count": 26,
   "metadata": {},
   "outputs": [],
   "source": [
    "path = \"../data/games_\" + str(NUM_PLAYERS_CONSIDERED_PER_TEAM) + \"_players\" + \".csv\"\n",
    "per_game_df.to_csv(path, index = False)"
   ]
  },
  {
   "cell_type": "markdown",
   "metadata": {},
   "source": [
    "## Duplicate the rows (for each game, each player gets to be player_1)"
   ]
  },
  {
   "cell_type": "code",
   "execution_count": 93,
   "metadata": {},
   "outputs": [],
   "source": [
    "def swap_colums_orders(colnames, i, j):\n",
    "    pi = \"_p\" + str(i)\n",
    "    pj = \"_p\" + str(j)\n",
    "    swapped_colnames = []\n",
    "    for col in colnames :\n",
    "        new_col = col\n",
    "        if col.find(pi, len(col)-len(pi)) > -1:\n",
    "            new_col = col.replace(pi, pj)\n",
    "        if col.find(pj, len(col)-len(pj)) > -1:\n",
    "            new_col = col.replace(pj, pi)\n",
    "        swapped_colnames.append(new_col)\n",
    "    return swapped_colnames\n",
    "def swap_team_columns(colnames):\n",
    "    swaped_teams = colnames\n",
    "    for i in range(1,8):\n",
    "        swaped_teams = swap_colums_orders(swaped_teams, i, 7+i)\n",
    "    return swaped_teams"
   ]
  },
  {
   "cell_type": "code",
   "execution_count": null,
   "metadata": {
    "scrolled": true
   },
   "outputs": [],
   "source": [
    "colnames_all = per_game_df.columns\n",
    "all_per_game_df = per_game_df\n",
    "\n",
    "for team in range(2) :\n",
    "    for i in range(2+7*team, 8+7*team):\n",
    "        temps_df = per_game_df[swap_colum_orders(colnames_all, 1+7*team, i)]\n",
    "        if team==1:\n",
    "            temps_df = temps_df[swap_team_columns(colnames_all)]\n",
    "        temps_df.columns = colnames_all\n",
    "        all_per_game_df = pd.concat([all_per_game_df, temps_df])"
   ]
  },
  {
   "cell_type": "code",
   "execution_count": 113,
   "metadata": {},
   "outputs": [],
   "source": [
    "path = \"../data/all_games_\" + str(NUM_PLAYERS_CONSIDERED_PER_TEAM) + \"_players\" + \".csv\"\n",
    "per_game_df.to_csv(path, index = False)"
   ]
  }
 ],
 "metadata": {
  "kernelspec": {
   "display_name": "Python 3",
   "language": "python",
   "name": "python3"
  },
  "language_info": {
   "codemirror_mode": {
    "name": "ipython",
    "version": 3
   },
   "file_extension": ".py",
   "mimetype": "text/x-python",
   "name": "python",
   "nbconvert_exporter": "python",
   "pygments_lexer": "ipython3",
   "version": "3.7.4"
  }
 },
 "nbformat": 4,
 "nbformat_minor": 2
}
