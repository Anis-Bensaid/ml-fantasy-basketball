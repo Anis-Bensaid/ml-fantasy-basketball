{
 "cells": [
  {
   "cell_type": "markdown",
   "metadata": {},
   "source": [
    "# Games data\n",
    "\n",
    "This file takes the player_seasons data and the player_matches_data, aggregates them, and creates a new dataframe in a form that can be easily input to a model"
   ]
  },
  {
   "cell_type": "code",
   "execution_count": 53,
   "metadata": {},
   "outputs": [],
   "source": [
    "import pandas as pd\n",
    "import numpy as np"
   ]
  },
  {
   "cell_type": "code",
   "execution_count": 54,
   "metadata": {},
   "outputs": [],
   "source": [
    "NUM_PLAYERS_ON_TEAM = 7\n",
    "ROLLING_GAMES_WINDOW = 5 # must match player_matches_data (should clean this up, non-dup)\n",
    "PLAYER_MATCHES_FILENAME = \"../data/raw_data/20100101_20191129_player_matches.csv\"\n",
    "PLAYER_SEASONS_FILENAME = \"../data/raw_data/2009_2019_player_seasons_unique.csv\""
   ]
  },
  {
   "cell_type": "code",
   "execution_count": 55,
   "metadata": {
    "scrolled": true
   },
   "outputs": [],
   "source": [
    "player_matches = pd.read_csv(PLAYER_MATCHES_FILENAME)\n",
    "player_seasons = pd.read_csv(PLAYER_SEASONS_FILENAME)"
   ]
  },
  {
   "cell_type": "markdown",
   "metadata": {},
   "source": [
    "## Duplicate the rows (for each game, each player gets to be player_1)"
   ]
  },
  {
   "cell_type": "code",
   "execution_count": 56,
   "metadata": {},
   "outputs": [],
   "source": [
    "def swap_colums_orders(colnames, i, j):\n",
    "    pi = \"_p\" + str(i)\n",
    "    pj = \"_p\" + str(j)\n",
    "    swapped_colnames = []\n",
    "    for col in colnames :\n",
    "        new_col = col\n",
    "        if col.find(pi, len(col)-len(pi)) > -1:\n",
    "            new_col = col.replace(pi, pj)\n",
    "        if col.find(pj, len(col)-len(pj)) > -1:\n",
    "            new_col = col.replace(pj, pi)\n",
    "        swapped_colnames.append(new_col)\n",
    "    return swapped_colnames\n",
    "\n",
    "def swap_team_columns(colnames, nb_players):\n",
    "    swaped_teams = colnames\n",
    "    for i in range(1,nb_players+1):\n",
    "        swaped_teams = swap_colums_orders(swaped_teams, i, nb_players+i)\n",
    "    return swaped_teams"
   ]
  },
  {
   "cell_type": "code",
   "execution_count": 59,
   "metadata": {},
   "outputs": [],
   "source": [
    "def duplicate_rows(per_game_df, players_per_team):\n",
    "    colnames_all = per_game_df.columns\n",
    "    all_per_game_df = per_game_df\n",
    "    for team in range(2) :\n",
    "        if team==1:\n",
    "            per_game_df = per_game_df[swap_team_columns(colnames_all, players_per_team)]\n",
    "            per_game_df.columns = colnames_all\n",
    "            all_per_game_df = pd.concat([all_per_game_df, per_game_df])\n",
    "        for i in range(2, 8):\n",
    "            temps_df = per_game_df[swap_colums_orders(colnames_all, 1, i)]\n",
    "            temps_df.columns = colnames_all\n",
    "            all_per_game_df = pd.concat([all_per_game_df, temps_df])\n",
    "\n",
    "    all_per_game_df = all_per_game_df.drop([\"fp_p\"+str(i) for i in range(2,players_per_team*2+1)], axis=1)\n",
    "    all_per_game_df = all_per_game_df.drop([\"player_id_p\"+str(i) for i in range(2,players_per_team*2+1)], axis=1)\n",
    "    return all_per_game_df"
   ]
  },
  {
   "cell_type": "markdown",
   "metadata": {},
   "source": [
    "## Final function"
   ]
  },
  {
   "cell_type": "code",
   "execution_count": 58,
   "metadata": {},
   "outputs": [],
   "source": [
    "def create_games_data(player_matches, player_seasons, num_players, rolling_games_window, duplicate=False):\n",
    "    recent_stats_suffix = \"_l\" + str(rolling_games_window)\n",
    "    player_matches = player_matches.sort_values(by=['game_id', 'fp' + recent_stats_suffix], ascending=[True, False])\n",
    "\n",
    "    team_game_group = player_matches.groupby(by=['game_id', 'home_game'])\n",
    "    player_matches = team_game_group.head(num_players).reset_index(drop=True)\n",
    "\n",
    "    stats = ['fgm', 'fga', '3pm', '3pa', 'ftm', 'fta', 'orb', 'drb', 'ast', 'stl', 'blk', 'tvr', 'pf', 'fp']\n",
    "    season_stats = ['player_id'] + [s + \"_seas_avg\" for s in stats]\n",
    "    recent_stats = [s + recent_stats_suffix for s in stats]\n",
    "\n",
    "    merge_season_fields = ['end_year'] + season_stats\n",
    "    to_merge_season_data = player_seasons[merge_season_fields]\n",
    "\n",
    "    merged_data = pd.merge(\n",
    "        player_matches,\n",
    "        to_merge_season_data,\n",
    "        how='left',\n",
    "        left_on=['player_id', 'season_start_year'],\n",
    "        right_on = ['player_id', 'end_year']\n",
    "    ).fillna(0)\n",
    "\n",
    "    y = ['fp']\n",
    "\n",
    "    all_data =  season_stats + recent_stats + y\n",
    "\n",
    "    per_game_df = pd.DataFrame()\n",
    "    game_group = merged_data.groupby('game_id')\n",
    "\n",
    "    for field in all_data:\n",
    "        v = game_group.apply(lambda x: x[field].tolist())\n",
    "        df = pd.DataFrame(v.tolist(), index=v.index).rename(columns=lambda x: x + 1).add_prefix(field + \"_p\").reset_index(drop=True)\n",
    "        per_game_df = pd.concat([per_game_df, df], axis=1, sort=False)\n",
    "\n",
    "    if duplicate:\n",
    "        per_game_df = duplicate_rows(per_game_df, num_players)\n",
    "\n",
    "    return per_game_df.fillna(0)"
   ]
  },
  {
   "cell_type": "markdown",
   "metadata": {},
   "source": [
    "### Can generate data"
   ]
  },
  {
   "cell_type": "code",
   "execution_count": 48,
   "metadata": {},
   "outputs": [],
   "source": [
    "per_game_df = create_games_data(player_matches, player_seasons, NUM_PLAYERS_ON_TEAM, ROLLING_GAMES_WINDOW)\n",
    "path = \"../data/raw_data/games_\" + str(NUM_PLAYERS_ON_TEAM) + \"_players\" + \".csv\"\n",
    "per_game_df.to_csv(path, index = False)"
   ]
  },
  {
   "cell_type": "markdown",
   "metadata": {},
   "source": [
    "### Can generate data with \"duplicated\" rows"
   ]
  },
  {
   "cell_type": "code",
   "execution_count": 51,
   "metadata": {},
   "outputs": [],
   "source": [
    "all_per_game_df = create_games_data(\n",
    "    player_matches,\n",
    "    player_seasons,\n",
    "    NUM_PLAYERS_ON_TEAM,\n",
    "    ROLLING_GAMES_WINDOW,\n",
    "    True\n",
    ")\n",
    "path = \"../data/raw_data/all_games_\" + str(NUM_PLAYERS_ON_TEAM) + \"_players\" + \".csv\"\n",
    "all_per_game_df.to_csv(path, index = False)"
   ]
  }
 ],
 "metadata": {
  "kernelspec": {
   "display_name": "Python 3",
   "language": "python",
   "name": "python3"
  },
  "language_info": {
   "codemirror_mode": {
    "name": "ipython",
    "version": 3
   },
   "file_extension": ".py",
   "mimetype": "text/x-python",
   "name": "python",
   "nbconvert_exporter": "python",
   "pygments_lexer": "ipython3",
   "version": "3.7.3"
  }
 },
 "nbformat": 4,
 "nbformat_minor": 2
}
