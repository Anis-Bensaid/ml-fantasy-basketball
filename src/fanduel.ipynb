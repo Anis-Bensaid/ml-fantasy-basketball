{
 "cells": [
  {
   "cell_type": "markdown",
   "metadata": {},
   "source": [
    "# FanDuel data\n",
    "\n",
    "The purpose of this file is to take in an upcoming FanDuel competition (csv) and generate the inputs necessary for the ML model"
   ]
  },
  {
   "cell_type": "code",
   "execution_count": 1,
   "metadata": {},
   "outputs": [
    {
     "name": "stdout",
     "output_type": "stream",
     "text": [
      "Importing Jupyter notebook from player_matches_data.ipynb\n",
      "Importing Jupyter notebook from games_data.ipynb\n"
     ]
    }
   ],
   "source": [
    "import nbimporter\n",
    "import pandas as pd\n",
    "from datetime import datetime\n",
    "import player_matches_data as pm_data\n",
    "import games_data\n",
    "import pickle\n",
    "import numpy as np"
   ]
  },
  {
   "cell_type": "code",
   "execution_count": 31,
   "metadata": {},
   "outputs": [],
   "source": [
    "competition_key = \"2019-12-01-41164\""
   ]
  },
  {
   "cell_type": "code",
   "execution_count": 2,
   "metadata": {},
   "outputs": [],
   "source": [
    "competition = pd.read_csv(\"../data/FanDuel-NBA-\" + competition_key + \"-players-list.csv\")"
   ]
  },
  {
   "cell_type": "code",
   "execution_count": 3,
   "metadata": {},
   "outputs": [],
   "source": [
    "competition = competition[competition['Injury Indicator'] != \"O\"].copy()"
   ]
  },
  {
   "cell_type": "code",
   "execution_count": 4,
   "metadata": {},
   "outputs": [],
   "source": [
    "date = datetime.today()\n",
    "year = date.year\n",
    "month = date.month\n",
    "day = date.day\n",
    "\n",
    "date = datetime(year, month, day) # strips precision"
   ]
  },
  {
   "cell_type": "code",
   "execution_count": 5,
   "metadata": {},
   "outputs": [],
   "source": [
    "def add_home_game(row):\n",
    "    return row['team_key'] == row['Game'].split(\"@\")[1]"
   ]
  },
  {
   "cell_type": "code",
   "execution_count": 6,
   "metadata": {},
   "outputs": [],
   "source": [
    "competition['date'] = date\n",
    "competition['year'] = year\n",
    "competition['month'] = month\n",
    "competition['day'] = day\n",
    "competition = competition.rename(\n",
    "    columns={\n",
    "        'Nickname': 'name',\n",
    "        'Team': 'team_key',\n",
    "        'Opponent': 'opponent_key'\n",
    "    }\n",
    ")\n",
    "competition['home_game'] = competition.apply(add_home_game, axis = 1)"
   ]
  },
  {
   "cell_type": "code",
   "execution_count": 10,
   "metadata": {},
   "outputs": [],
   "source": [
    "name_id_mapping = pd.read_csv(\"../data/name_id_mapping.csv\")"
   ]
  },
  {
   "cell_type": "code",
   "execution_count": 11,
   "metadata": {},
   "outputs": [],
   "source": [
    "def add_player_id(row):\n",
    "    name = row['name']\n",
    "    ids = name_id_mapping[name_id_mapping.name == name]['player_id']\n",
    "    \n",
    "    if len(ids) > 0:\n",
    "        return ids.iloc[0]\n",
    "    else:\n",
    "        print(\"Please update player_id for name \" + name)\n",
    "        return None"
   ]
  },
  {
   "cell_type": "code",
   "execution_count": 12,
   "metadata": {},
   "outputs": [
    {
     "name": "stdout",
     "output_type": "stream",
     "text": [
      "Please update player_id for name Nigel Williams-Goss\n",
      "Please update player_id for name Garrison Mathews\n",
      "Please update player_id for name Justin Robinson\n",
      "Please update player_id for name Mfiondu Kabengele\n",
      "Please update player_id for name Alen Smailagic\n",
      "Please update player_id for name Oshae Brissett\n",
      "Please update player_id for name Juwan Morgan\n",
      "Please update player_id for name Shamorie Ponds\n",
      "Please update player_id for name Amir Coffey\n",
      "Please update player_id for name BJ Johnson\n",
      "Please update player_id for name Dewan Hernandez\n",
      "Please update player_id for name Jarrell Brantley\n",
      "Please update player_id for name Melvin Frazier\n",
      "Please update player_id for name Miye Oni\n",
      "Please update player_id for name Justin Wright-Foreman\n"
     ]
    }
   ],
   "source": [
    "competition['player_id'] = competition.apply(add_player_id, axis = 1)"
   ]
  },
  {
   "cell_type": "code",
   "execution_count": 13,
   "metadata": {},
   "outputs": [],
   "source": [
    "competition = competition.dropna(subset=['player_id'])"
   ]
  },
  {
   "cell_type": "code",
   "execution_count": 14,
   "metadata": {},
   "outputs": [],
   "source": [
    "fd_complete = pm_data.add_game_ids(competition)\n",
    "fd_complete = pm_data.add_season_start_year(fd_complete)"
   ]
  },
  {
   "cell_type": "code",
   "execution_count": 15,
   "metadata": {},
   "outputs": [],
   "source": [
    "stats = ['secs', 'fgm', 'fga', '3pm', '3pa', 'ftm', 'fta', 'orb', 'drb', 'ast', 'stl', 'blk', 'tvr', 'pf', 'fp']"
   ]
  },
  {
   "cell_type": "code",
   "execution_count": 16,
   "metadata": {},
   "outputs": [],
   "source": [
    "for stat in stats:\n",
    "    fd_complete[stat] = 0"
   ]
  },
  {
   "cell_type": "code",
   "execution_count": 17,
   "metadata": {},
   "outputs": [],
   "source": [
    "old_data = pd.read_csv(\"../data/20100101_20191129_player_matches.csv\")\n",
    "\n",
    "ROLLING_GAMES_WINDOW = 5"
   ]
  },
  {
   "cell_type": "code",
   "execution_count": 18,
   "metadata": {},
   "outputs": [],
   "source": [
    "fd_complete = pm_data.roll_with_old_data(fd_complete, old_data, stats, ROLLING_GAMES_WINDOW)"
   ]
  },
  {
   "cell_type": "markdown",
   "metadata": {},
   "source": [
    "## Create games dataframe (input to model)"
   ]
  },
  {
   "cell_type": "code",
   "execution_count": 19,
   "metadata": {},
   "outputs": [],
   "source": [
    "PLAYER_SEASONS_FILENAME = \"../data/2009_2019_player_seasons_unique.csv\"\n",
    "player_seasons = pd.read_csv(PLAYER_SEASONS_FILENAME)"
   ]
  },
  {
   "cell_type": "code",
   "execution_count": 20,
   "metadata": {
    "scrolled": true
   },
   "outputs": [],
   "source": [
    "per_game_df = games_data.create_games_data(fd_complete, player_seasons, 7, ROLLING_GAMES_WINDOW)"
   ]
  },
  {
   "cell_type": "code",
   "execution_count": 21,
   "metadata": {},
   "outputs": [
    {
     "data": {
      "text/html": [
       "<div>\n",
       "<style scoped>\n",
       "    .dataframe tbody tr th:only-of-type {\n",
       "        vertical-align: middle;\n",
       "    }\n",
       "\n",
       "    .dataframe tbody tr th {\n",
       "        vertical-align: top;\n",
       "    }\n",
       "\n",
       "    .dataframe thead th {\n",
       "        text-align: right;\n",
       "    }\n",
       "</style>\n",
       "<table border=\"1\" class=\"dataframe\">\n",
       "  <thead>\n",
       "    <tr style=\"text-align: right;\">\n",
       "      <th></th>\n",
       "      <th>player_id_p1</th>\n",
       "      <th>player_id_p2</th>\n",
       "      <th>player_id_p3</th>\n",
       "      <th>player_id_p4</th>\n",
       "      <th>player_id_p5</th>\n",
       "      <th>player_id_p6</th>\n",
       "      <th>player_id_p7</th>\n",
       "      <th>player_id_p8</th>\n",
       "      <th>player_id_p9</th>\n",
       "      <th>player_id_p10</th>\n",
       "      <th>...</th>\n",
       "      <th>fp_p5</th>\n",
       "      <th>fp_p6</th>\n",
       "      <th>fp_p7</th>\n",
       "      <th>fp_p8</th>\n",
       "      <th>fp_p9</th>\n",
       "      <th>fp_p10</th>\n",
       "      <th>fp_p11</th>\n",
       "      <th>fp_p12</th>\n",
       "      <th>fp_p13</th>\n",
       "      <th>fp_p14</th>\n",
       "    </tr>\n",
       "  </thead>\n",
       "  <tbody>\n",
       "    <tr>\n",
       "      <td>0</td>\n",
       "      <td>bealbr01</td>\n",
       "      <td>leonaka01</td>\n",
       "      <td>georgpa01</td>\n",
       "      <td>willilo02</td>\n",
       "      <td>harremo01</td>\n",
       "      <td>bertada01</td>\n",
       "      <td>bryanth01</td>\n",
       "      <td>mahinia01</td>\n",
       "      <td>mcraejo01</td>\n",
       "      <td>smithis01</td>\n",
       "      <td>...</td>\n",
       "      <td>0.0</td>\n",
       "      <td>0.0</td>\n",
       "      <td>0.0</td>\n",
       "      <td>0.0</td>\n",
       "      <td>0.0</td>\n",
       "      <td>0.0</td>\n",
       "      <td>0.0</td>\n",
       "      <td>0.0</td>\n",
       "      <td>0.0</td>\n",
       "      <td>0.0</td>\n",
       "    </tr>\n",
       "    <tr>\n",
       "      <td>1</td>\n",
       "      <td>isaacjo01</td>\n",
       "      <td>fournev01</td>\n",
       "      <td>burksal01</td>\n",
       "      <td>greendr01</td>\n",
       "      <td>bowmaky01</td>\n",
       "      <td>pascher01</td>\n",
       "      <td>spellom01</td>\n",
       "      <td>gordoaa01</td>\n",
       "      <td>chrisma01</td>\n",
       "      <td>fultzma01</td>\n",
       "      <td>...</td>\n",
       "      <td>0.0</td>\n",
       "      <td>0.0</td>\n",
       "      <td>0.0</td>\n",
       "      <td>0.0</td>\n",
       "      <td>0.0</td>\n",
       "      <td>0.0</td>\n",
       "      <td>0.0</td>\n",
       "      <td>0.0</td>\n",
       "      <td>0.0</td>\n",
       "      <td>0.0</td>\n",
       "    </tr>\n",
       "    <tr>\n",
       "      <td>2</td>\n",
       "      <td>siakapa01</td>\n",
       "      <td>vanvlfr01</td>\n",
       "      <td>bogdabo02</td>\n",
       "      <td>mitchdo01</td>\n",
       "      <td>lowryky01</td>\n",
       "      <td>goberru01</td>\n",
       "      <td>ibakase01</td>\n",
       "      <td>powelno01</td>\n",
       "      <td>conlemi01</td>\n",
       "      <td>gasolma01</td>\n",
       "      <td>...</td>\n",
       "      <td>0.0</td>\n",
       "      <td>0.0</td>\n",
       "      <td>0.0</td>\n",
       "      <td>0.0</td>\n",
       "      <td>0.0</td>\n",
       "      <td>0.0</td>\n",
       "      <td>0.0</td>\n",
       "      <td>0.0</td>\n",
       "      <td>0.0</td>\n",
       "      <td>0.0</td>\n",
       "    </tr>\n",
       "  </tbody>\n",
       "</table>\n",
       "<p>3 rows × 420 columns</p>\n",
       "</div>"
      ],
      "text/plain": [
       "  player_id_p1 player_id_p2 player_id_p3 player_id_p4 player_id_p5  \\\n",
       "0     bealbr01    leonaka01    georgpa01    willilo02    harremo01   \n",
       "1    isaacjo01    fournev01    burksal01    greendr01    bowmaky01   \n",
       "2    siakapa01    vanvlfr01    bogdabo02    mitchdo01    lowryky01   \n",
       "\n",
       "  player_id_p6 player_id_p7 player_id_p8 player_id_p9 player_id_p10  ...  \\\n",
       "0    bertada01    bryanth01    mahinia01    mcraejo01     smithis01  ...   \n",
       "1    pascher01    spellom01    gordoaa01    chrisma01     fultzma01  ...   \n",
       "2    goberru01    ibakase01    powelno01    conlemi01     gasolma01  ...   \n",
       "\n",
       "  fp_p5 fp_p6 fp_p7 fp_p8  fp_p9  fp_p10  fp_p11  fp_p12  fp_p13  fp_p14  \n",
       "0   0.0   0.0   0.0   0.0    0.0     0.0     0.0     0.0     0.0     0.0  \n",
       "1   0.0   0.0   0.0   0.0    0.0     0.0     0.0     0.0     0.0     0.0  \n",
       "2   0.0   0.0   0.0   0.0    0.0     0.0     0.0     0.0     0.0     0.0  \n",
       "\n",
       "[3 rows x 420 columns]"
      ]
     },
     "execution_count": 21,
     "metadata": {},
     "output_type": "execute_result"
    }
   ],
   "source": [
    "per_game_df"
   ]
  },
  {
   "cell_type": "markdown",
   "metadata": {},
   "source": [
    "## Predict on model"
   ]
  },
  {
   "cell_type": "code",
   "execution_count": 22,
   "metadata": {},
   "outputs": [],
   "source": [
    "x_range = range(14,392)\n",
    "X = per_game_df.iloc[:, x_range]"
   ]
  },
  {
   "cell_type": "code",
   "execution_count": 23,
   "metadata": {},
   "outputs": [
    {
     "data": {
      "text/html": [
       "<div>\n",
       "<style scoped>\n",
       "    .dataframe tbody tr th:only-of-type {\n",
       "        vertical-align: middle;\n",
       "    }\n",
       "\n",
       "    .dataframe tbody tr th {\n",
       "        vertical-align: top;\n",
       "    }\n",
       "\n",
       "    .dataframe thead th {\n",
       "        text-align: right;\n",
       "    }\n",
       "</style>\n",
       "<table border=\"1\" class=\"dataframe\">\n",
       "  <thead>\n",
       "    <tr style=\"text-align: right;\">\n",
       "      <th></th>\n",
       "      <th>fgm_seas_avg_p1</th>\n",
       "      <th>fgm_seas_avg_p2</th>\n",
       "      <th>fgm_seas_avg_p3</th>\n",
       "      <th>fgm_seas_avg_p4</th>\n",
       "      <th>fgm_seas_avg_p5</th>\n",
       "      <th>fgm_seas_avg_p6</th>\n",
       "      <th>fgm_seas_avg_p7</th>\n",
       "      <th>fgm_seas_avg_p8</th>\n",
       "      <th>fgm_seas_avg_p9</th>\n",
       "      <th>fgm_seas_avg_p10</th>\n",
       "      <th>...</th>\n",
       "      <th>pf_l5_p5</th>\n",
       "      <th>pf_l5_p6</th>\n",
       "      <th>pf_l5_p7</th>\n",
       "      <th>pf_l5_p8</th>\n",
       "      <th>pf_l5_p9</th>\n",
       "      <th>pf_l5_p10</th>\n",
       "      <th>pf_l5_p11</th>\n",
       "      <th>pf_l5_p12</th>\n",
       "      <th>pf_l5_p13</th>\n",
       "      <th>pf_l5_p14</th>\n",
       "    </tr>\n",
       "  </thead>\n",
       "  <tbody>\n",
       "    <tr>\n",
       "      <td>0</td>\n",
       "      <td>9.317073</td>\n",
       "      <td>9.333333</td>\n",
       "      <td>9.181818</td>\n",
       "      <td>6.453333</td>\n",
       "      <td>6.658537</td>\n",
       "      <td>2.684211</td>\n",
       "      <td>4.291667</td>\n",
       "      <td>1.382353</td>\n",
       "      <td>2.259259</td>\n",
       "      <td>3.660714</td>\n",
       "      <td>...</td>\n",
       "      <td>2.0</td>\n",
       "      <td>3.0</td>\n",
       "      <td>2.2</td>\n",
       "      <td>2.4</td>\n",
       "      <td>2.0</td>\n",
       "      <td>0.6</td>\n",
       "      <td>4.0</td>\n",
       "      <td>3.6</td>\n",
       "      <td>2.2</td>\n",
       "      <td>3.2</td>\n",
       "    </tr>\n",
       "    <tr>\n",
       "      <td>1</td>\n",
       "      <td>3.493333</td>\n",
       "      <td>5.777778</td>\n",
       "      <td>3.000000</td>\n",
       "      <td>2.848485</td>\n",
       "      <td>0.000000</td>\n",
       "      <td>0.000000</td>\n",
       "      <td>2.130435</td>\n",
       "      <td>6.025641</td>\n",
       "      <td>1.558140</td>\n",
       "      <td>3.421053</td>\n",
       "      <td>...</td>\n",
       "      <td>2.8</td>\n",
       "      <td>1.4</td>\n",
       "      <td>1.6</td>\n",
       "      <td>1.6</td>\n",
       "      <td>2.6</td>\n",
       "      <td>2.6</td>\n",
       "      <td>2.4</td>\n",
       "      <td>1.4</td>\n",
       "      <td>1.2</td>\n",
       "      <td>1.4</td>\n",
       "    </tr>\n",
       "    <tr>\n",
       "      <td>2</td>\n",
       "      <td>6.487500</td>\n",
       "      <td>3.843750</td>\n",
       "      <td>6.444444</td>\n",
       "      <td>8.584416</td>\n",
       "      <td>4.676923</td>\n",
       "      <td>5.876543</td>\n",
       "      <td>6.270270</td>\n",
       "      <td>3.216667</td>\n",
       "      <td>7.000000</td>\n",
       "      <td>4.936709</td>\n",
       "      <td>...</td>\n",
       "      <td>2.4</td>\n",
       "      <td>3.2</td>\n",
       "      <td>2.6</td>\n",
       "      <td>2.4</td>\n",
       "      <td>1.8</td>\n",
       "      <td>3.4</td>\n",
       "      <td>2.8</td>\n",
       "      <td>1.8</td>\n",
       "      <td>3.6</td>\n",
       "      <td>3.0</td>\n",
       "    </tr>\n",
       "  </tbody>\n",
       "</table>\n",
       "<p>3 rows × 378 columns</p>\n",
       "</div>"
      ],
      "text/plain": [
       "   fgm_seas_avg_p1  fgm_seas_avg_p2  fgm_seas_avg_p3  fgm_seas_avg_p4  \\\n",
       "0         9.317073         9.333333         9.181818         6.453333   \n",
       "1         3.493333         5.777778         3.000000         2.848485   \n",
       "2         6.487500         3.843750         6.444444         8.584416   \n",
       "\n",
       "   fgm_seas_avg_p5  fgm_seas_avg_p6  fgm_seas_avg_p7  fgm_seas_avg_p8  \\\n",
       "0         6.658537         2.684211         4.291667         1.382353   \n",
       "1         0.000000         0.000000         2.130435         6.025641   \n",
       "2         4.676923         5.876543         6.270270         3.216667   \n",
       "\n",
       "   fgm_seas_avg_p9  fgm_seas_avg_p10  ...  pf_l5_p5  pf_l5_p6  pf_l5_p7  \\\n",
       "0         2.259259          3.660714  ...       2.0       3.0       2.2   \n",
       "1         1.558140          3.421053  ...       2.8       1.4       1.6   \n",
       "2         7.000000          4.936709  ...       2.4       3.2       2.6   \n",
       "\n",
       "   pf_l5_p8  pf_l5_p9  pf_l5_p10  pf_l5_p11  pf_l5_p12  pf_l5_p13  pf_l5_p14  \n",
       "0       2.4       2.0        0.6        4.0        3.6        2.2        3.2  \n",
       "1       1.6       2.6        2.6        2.4        1.4        1.2        1.4  \n",
       "2       2.4       1.8        3.4        2.8        1.8        3.6        3.0  \n",
       "\n",
       "[3 rows x 378 columns]"
      ]
     },
     "execution_count": 23,
     "metadata": {},
     "output_type": "execute_result"
    }
   ],
   "source": [
    "X"
   ]
  },
  {
   "cell_type": "code",
   "execution_count": 34,
   "metadata": {},
   "outputs": [],
   "source": [
    "model = pickle.load(open(\"../models/xgboost_7_player\", \"rb\"))"
   ]
  },
  {
   "cell_type": "code",
   "execution_count": 35,
   "metadata": {},
   "outputs": [],
   "source": [
    "predictions = model.predict(X)"
   ]
  },
  {
   "cell_type": "code",
   "execution_count": 36,
   "metadata": {},
   "outputs": [],
   "source": [
    "names_range = range(0,14)\n",
    "names_df = per_game_df.iloc[:, names_range].copy()"
   ]
  },
  {
   "cell_type": "code",
   "execution_count": 37,
   "metadata": {},
   "outputs": [],
   "source": [
    "flat_names = np.matrix.flatten(names_df.values)\n",
    "flat_preds = np.matrix.flatten(predictions)"
   ]
  },
  {
   "cell_type": "code",
   "execution_count": 38,
   "metadata": {},
   "outputs": [],
   "source": [
    "prediction_df = pd.DataFrame(list(zip(flat_names, flat_preds)), columns=['player_id', 'prediction'])"
   ]
  },
  {
   "cell_type": "code",
   "execution_count": 39,
   "metadata": {},
   "outputs": [],
   "source": [
    "comp_with_preds = pd.merge(competition, prediction_df, how='left', on='player_id')"
   ]
  },
  {
   "cell_type": "code",
   "execution_count": 40,
   "metadata": {},
   "outputs": [],
   "source": [
    "comp_with_preds = comp_with_preds.dropna(subset=['prediction'])"
   ]
  },
  {
   "cell_type": "code",
   "execution_count": 41,
   "metadata": {},
   "outputs": [],
   "source": [
    "comp_with_preds.to_csv(\"../data/optimization_input_\" + competition_key + \".csv\", index = False)"
   ]
  },
  {
   "cell_type": "code",
   "execution_count": null,
   "metadata": {},
   "outputs": [],
   "source": []
  }
 ],
 "metadata": {
  "kernelspec": {
   "display_name": "Python 3",
   "language": "python",
   "name": "python3"
  },
  "language_info": {
   "codemirror_mode": {
    "name": "ipython",
    "version": 3
   },
   "file_extension": ".py",
   "mimetype": "text/x-python",
   "name": "python",
   "nbconvert_exporter": "python",
   "pygments_lexer": "ipython3",
   "version": "3.7.4"
  }
 },
 "nbformat": 4,
 "nbformat_minor": 2
}
