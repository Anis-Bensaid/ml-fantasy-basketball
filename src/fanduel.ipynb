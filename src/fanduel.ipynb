{
 "cells": [
  {
   "cell_type": "markdown",
   "metadata": {},
   "source": [
    "# FanDuel data\n",
    "\n",
    "The purpose of this file is to take in an upcoming FanDuel competition (csv) and generate the inputs necessary for the ML model"
   ]
  },
  {
   "cell_type": "code",
   "execution_count": 70,
   "metadata": {},
   "outputs": [],
   "source": [
    "import nbimporter\n",
    "import pandas as pd\n",
    "from datetime import datetime\n",
    "import player_matches_data as pm_data\n",
    "import games_data\n",
    "import pickle\n",
    "import numpy as np"
   ]
  },
  {
   "cell_type": "code",
   "execution_count": 71,
   "metadata": {},
   "outputs": [],
   "source": [
    "competition = pd.read_csv(\"../data/FanDuel_sample_competition.csv\")"
   ]
  },
  {
   "cell_type": "code",
   "execution_count": 72,
   "metadata": {},
   "outputs": [],
   "source": [
    "competition = competition[competition['Injury Indicator'] != \"O\"].copy()"
   ]
  },
  {
   "cell_type": "code",
   "execution_count": 73,
   "metadata": {},
   "outputs": [],
   "source": [
    "date = datetime.today()\n",
    "year = date.year\n",
    "month = date.month\n",
    "day = date.day\n",
    "\n",
    "date = datetime(year, month, day) # strips precision"
   ]
  },
  {
   "cell_type": "code",
   "execution_count": 74,
   "metadata": {},
   "outputs": [],
   "source": [
    "def add_home_game(row):\n",
    "    return row['team_key'] == row['Game'].split(\"@\")[1]"
   ]
  },
  {
   "cell_type": "code",
   "execution_count": 75,
   "metadata": {},
   "outputs": [],
   "source": [
    "competition['date'] = date\n",
    "competition['year'] = year\n",
    "competition['month'] = month\n",
    "competition['day'] = day\n",
    "competition = competition.rename(\n",
    "    columns={\n",
    "        'Nickname': 'name',\n",
    "        'Team': 'team_key',\n",
    "        'Opponent': 'opponent_key'\n",
    "    }\n",
    ")\n",
    "competition['home_game'] = competition.apply(add_home_game, axis = 1)"
   ]
  },
  {
   "cell_type": "code",
   "execution_count": 76,
   "metadata": {},
   "outputs": [],
   "source": [
    "name_id_mapping = pd.read_csv(\"../data/name_id_mapping.csv\")"
   ]
  },
  {
   "cell_type": "code",
   "execution_count": 77,
   "metadata": {},
   "outputs": [],
   "source": [
    "def add_player_id(row):\n",
    "    name = row['name']\n",
    "    ids = name_id_mapping[name_id_mapping.name == name]['player_id']\n",
    "    \n",
    "    if len(ids) > 0:\n",
    "        return ids.iloc[0]\n",
    "    else:\n",
    "        print(\"Please update player_id for name \" + name)\n",
    "        return None"
   ]
  },
  {
   "cell_type": "code",
   "execution_count": 78,
   "metadata": {},
   "outputs": [
    {
     "name": "stdout",
     "output_type": "stream",
     "text": [
      "Please update player_id for name Norvel Pelle\n",
      "Please update player_id for name Thanasis Antetokounmpo\n",
      "Please update player_id for name Jalen McDaniels\n",
      "Please update player_id for name Michael Frazier\n",
      "Please update player_id for name Robert Franks\n",
      "Please update player_id for name Charlie Brown\n",
      "Please update player_id for name Brian Bowen\n",
      "Please update player_id for name Brandon Goodwin\n",
      "Please update player_id for name Marial Shayok\n"
     ]
    }
   ],
   "source": [
    "competition['player_id'] = competition.apply(add_player_id, axis = 1)"
   ]
  },
  {
   "cell_type": "code",
   "execution_count": 79,
   "metadata": {},
   "outputs": [],
   "source": [
    "competition = competition.dropna(subset=['player_id'])"
   ]
  },
  {
   "cell_type": "code",
   "execution_count": 80,
   "metadata": {},
   "outputs": [],
   "source": [
    "fd_complete = pm_data.add_game_ids(competition)\n",
    "fd_complete = pm_data.add_season_start_year(fd_complete)"
   ]
  },
  {
   "cell_type": "code",
   "execution_count": 81,
   "metadata": {},
   "outputs": [],
   "source": [
    "stats = ['secs', 'fgm', 'fga', '3pm', '3pa', 'ftm', 'fta', 'orb', 'drb', 'ast', 'stl', 'blk', 'tvr', 'pf', 'fp']"
   ]
  },
  {
   "cell_type": "code",
   "execution_count": 82,
   "metadata": {},
   "outputs": [],
   "source": [
    "for stat in stats:\n",
    "    fd_complete[stat] = 0"
   ]
  },
  {
   "cell_type": "code",
   "execution_count": 83,
   "metadata": {},
   "outputs": [],
   "source": [
    "old_data = pd.read_csv(\"../data/20100101_20191129_player_matches.csv\")\n",
    "\n",
    "ROLLING_GAMES_WINDOW = 5"
   ]
  },
  {
   "cell_type": "code",
   "execution_count": 84,
   "metadata": {},
   "outputs": [],
   "source": [
    "fd_complete = pm_data.roll_with_old_data(fd_complete, old_data, stats, ROLLING_GAMES_WINDOW)"
   ]
  },
  {
   "cell_type": "markdown",
   "metadata": {},
   "source": [
    "## Create games dataframe (input to model)"
   ]
  },
  {
   "cell_type": "code",
   "execution_count": 85,
   "metadata": {},
   "outputs": [],
   "source": [
    "PLAYER_SEASONS_FILENAME = \"../data/2009_2019_player_seasons_unique.csv\"\n",
    "player_seasons = pd.read_csv(PLAYER_SEASONS_FILENAME)"
   ]
  },
  {
   "cell_type": "code",
   "execution_count": 86,
   "metadata": {
    "scrolled": true
   },
   "outputs": [],
   "source": [
    "per_game_df = games_data.create_games_data(fd_complete, player_seasons, 7, ROLLING_GAMES_WINDOW)"
   ]
  },
  {
   "cell_type": "code",
   "execution_count": 87,
   "metadata": {},
   "outputs": [
    {
     "data": {
      "text/html": [
       "<div>\n",
       "<style scoped>\n",
       "    .dataframe tbody tr th:only-of-type {\n",
       "        vertical-align: middle;\n",
       "    }\n",
       "\n",
       "    .dataframe tbody tr th {\n",
       "        vertical-align: top;\n",
       "    }\n",
       "\n",
       "    .dataframe thead th {\n",
       "        text-align: right;\n",
       "    }\n",
       "</style>\n",
       "<table border=\"1\" class=\"dataframe\">\n",
       "  <thead>\n",
       "    <tr style=\"text-align: right;\">\n",
       "      <th></th>\n",
       "      <th>player_id_p1</th>\n",
       "      <th>player_id_p2</th>\n",
       "      <th>player_id_p3</th>\n",
       "      <th>player_id_p4</th>\n",
       "      <th>player_id_p5</th>\n",
       "      <th>player_id_p6</th>\n",
       "      <th>player_id_p7</th>\n",
       "      <th>player_id_p8</th>\n",
       "      <th>player_id_p9</th>\n",
       "      <th>player_id_p10</th>\n",
       "      <th>...</th>\n",
       "      <th>fp_p5</th>\n",
       "      <th>fp_p6</th>\n",
       "      <th>fp_p7</th>\n",
       "      <th>fp_p8</th>\n",
       "      <th>fp_p9</th>\n",
       "      <th>fp_p10</th>\n",
       "      <th>fp_p11</th>\n",
       "      <th>fp_p12</th>\n",
       "      <th>fp_p13</th>\n",
       "      <th>fp_p14</th>\n",
       "    </tr>\n",
       "  </thead>\n",
       "  <tbody>\n",
       "    <tr>\n",
       "      <td>0</td>\n",
       "      <td>hardeja01</td>\n",
       "      <td>youngtr01</td>\n",
       "      <td>westbru01</td>\n",
       "      <td>capelca01</td>\n",
       "      <td>parkeja01</td>\n",
       "      <td>houseda01</td>\n",
       "      <td>bembrde01</td>\n",
       "      <td>parsoch01</td>\n",
       "      <td>tuckepj01</td>\n",
       "      <td>huntede01</td>\n",
       "      <td>...</td>\n",
       "      <td>0.0</td>\n",
       "      <td>0.0</td>\n",
       "      <td>0.0</td>\n",
       "      <td>0.0</td>\n",
       "      <td>0.0</td>\n",
       "      <td>0.0</td>\n",
       "      <td>0.0</td>\n",
       "      <td>0.0</td>\n",
       "      <td>0.0</td>\n",
       "      <td>0.0</td>\n",
       "    </tr>\n",
       "    <tr>\n",
       "      <td>1</td>\n",
       "      <td>antetgi01</td>\n",
       "      <td>grahade01</td>\n",
       "      <td>roziete01</td>\n",
       "      <td>bledser01</td>\n",
       "      <td>bridgmi02</td>\n",
       "      <td>middlkh01</td>\n",
       "      <td>bendedr01</td>\n",
       "      <td>reynoca01</td>\n",
       "      <td>washipj01</td>\n",
       "      <td>biyombi01</td>\n",
       "      <td>...</td>\n",
       "      <td>0.0</td>\n",
       "      <td>0.0</td>\n",
       "      <td>0.0</td>\n",
       "      <td>0.0</td>\n",
       "      <td>0.0</td>\n",
       "      <td>0.0</td>\n",
       "      <td>0.0</td>\n",
       "      <td>0.0</td>\n",
       "      <td>0.0</td>\n",
       "      <td>0.0</td>\n",
       "    </tr>\n",
       "    <tr>\n",
       "      <td>2</td>\n",
       "      <td>embiijo01</td>\n",
       "      <td>sabondo01</td>\n",
       "      <td>simmobe01</td>\n",
       "      <td>brogdma01</td>\n",
       "      <td>harrito02</td>\n",
       "      <td>richajo01</td>\n",
       "      <td>lambje01</td>\n",
       "      <td>horfoal01</td>\n",
       "      <td>turnemy01</td>\n",
       "      <td>mitrona01</td>\n",
       "      <td>...</td>\n",
       "      <td>0.0</td>\n",
       "      <td>0.0</td>\n",
       "      <td>0.0</td>\n",
       "      <td>0.0</td>\n",
       "      <td>0.0</td>\n",
       "      <td>0.0</td>\n",
       "      <td>0.0</td>\n",
       "      <td>0.0</td>\n",
       "      <td>0.0</td>\n",
       "      <td>0.0</td>\n",
       "    </tr>\n",
       "  </tbody>\n",
       "</table>\n",
       "<p>3 rows × 420 columns</p>\n",
       "</div>"
      ],
      "text/plain": [
       "  player_id_p1 player_id_p2 player_id_p3 player_id_p4 player_id_p5  \\\n",
       "0    hardeja01    youngtr01    westbru01    capelca01    parkeja01   \n",
       "1    antetgi01    grahade01    roziete01    bledser01    bridgmi02   \n",
       "2    embiijo01    sabondo01    simmobe01    brogdma01    harrito02   \n",
       "\n",
       "  player_id_p6 player_id_p7 player_id_p8 player_id_p9 player_id_p10  ...  \\\n",
       "0    houseda01    bembrde01    parsoch01    tuckepj01     huntede01  ...   \n",
       "1    middlkh01    bendedr01    reynoca01    washipj01     biyombi01  ...   \n",
       "2    richajo01     lambje01    horfoal01    turnemy01     mitrona01  ...   \n",
       "\n",
       "  fp_p5 fp_p6 fp_p7 fp_p8  fp_p9  fp_p10  fp_p11  fp_p12  fp_p13  fp_p14  \n",
       "0   0.0   0.0   0.0   0.0    0.0     0.0     0.0     0.0     0.0     0.0  \n",
       "1   0.0   0.0   0.0   0.0    0.0     0.0     0.0     0.0     0.0     0.0  \n",
       "2   0.0   0.0   0.0   0.0    0.0     0.0     0.0     0.0     0.0     0.0  \n",
       "\n",
       "[3 rows x 420 columns]"
      ]
     },
     "execution_count": 87,
     "metadata": {},
     "output_type": "execute_result"
    }
   ],
   "source": [
    "per_game_df"
   ]
  },
  {
   "cell_type": "markdown",
   "metadata": {},
   "source": [
    "## Predict on model"
   ]
  },
  {
   "cell_type": "code",
   "execution_count": 88,
   "metadata": {},
   "outputs": [],
   "source": [
    "x_range = range(14,392)\n",
    "X = per_game_df.iloc[:, x_range]"
   ]
  },
  {
   "cell_type": "code",
   "execution_count": 89,
   "metadata": {},
   "outputs": [
    {
     "data": {
      "text/html": [
       "<div>\n",
       "<style scoped>\n",
       "    .dataframe tbody tr th:only-of-type {\n",
       "        vertical-align: middle;\n",
       "    }\n",
       "\n",
       "    .dataframe tbody tr th {\n",
       "        vertical-align: top;\n",
       "    }\n",
       "\n",
       "    .dataframe thead th {\n",
       "        text-align: right;\n",
       "    }\n",
       "</style>\n",
       "<table border=\"1\" class=\"dataframe\">\n",
       "  <thead>\n",
       "    <tr style=\"text-align: right;\">\n",
       "      <th></th>\n",
       "      <th>fgm_seas_avg_p1</th>\n",
       "      <th>fgm_seas_avg_p2</th>\n",
       "      <th>fgm_seas_avg_p3</th>\n",
       "      <th>fgm_seas_avg_p4</th>\n",
       "      <th>fgm_seas_avg_p5</th>\n",
       "      <th>fgm_seas_avg_p6</th>\n",
       "      <th>fgm_seas_avg_p7</th>\n",
       "      <th>fgm_seas_avg_p8</th>\n",
       "      <th>fgm_seas_avg_p9</th>\n",
       "      <th>fgm_seas_avg_p10</th>\n",
       "      <th>...</th>\n",
       "      <th>pf_l5_p5</th>\n",
       "      <th>pf_l5_p6</th>\n",
       "      <th>pf_l5_p7</th>\n",
       "      <th>pf_l5_p8</th>\n",
       "      <th>pf_l5_p9</th>\n",
       "      <th>pf_l5_p10</th>\n",
       "      <th>pf_l5_p11</th>\n",
       "      <th>pf_l5_p12</th>\n",
       "      <th>pf_l5_p13</th>\n",
       "      <th>pf_l5_p14</th>\n",
       "    </tr>\n",
       "  </thead>\n",
       "  <tbody>\n",
       "    <tr>\n",
       "      <td>0</td>\n",
       "      <td>10.807692</td>\n",
       "      <td>6.481481</td>\n",
       "      <td>8.630137</td>\n",
       "      <td>7.074627</td>\n",
       "      <td>5.765625</td>\n",
       "      <td>3.025641</td>\n",
       "      <td>3.353659</td>\n",
       "      <td>2.720000</td>\n",
       "      <td>2.524390</td>\n",
       "      <td>0.000000</td>\n",
       "      <td>...</td>\n",
       "      <td>3.8</td>\n",
       "      <td>2.0</td>\n",
       "      <td>2.0</td>\n",
       "      <td>2.0</td>\n",
       "      <td>2.8</td>\n",
       "      <td>3.0</td>\n",
       "      <td>1.6</td>\n",
       "      <td>2.2</td>\n",
       "      <td>1.4</td>\n",
       "      <td>4.400000</td>\n",
       "    </tr>\n",
       "    <tr>\n",
       "      <td>1</td>\n",
       "      <td>10.013889</td>\n",
       "      <td>1.608696</td>\n",
       "      <td>3.265823</td>\n",
       "      <td>6.025641</td>\n",
       "      <td>2.962500</td>\n",
       "      <td>6.571429</td>\n",
       "      <td>1.913043</td>\n",
       "      <td>1.736842</td>\n",
       "      <td>0.000000</td>\n",
       "      <td>1.648148</td>\n",
       "      <td>...</td>\n",
       "      <td>2.0</td>\n",
       "      <td>2.6</td>\n",
       "      <td>2.8</td>\n",
       "      <td>2.0</td>\n",
       "      <td>3.0</td>\n",
       "      <td>2.6</td>\n",
       "      <td>2.2</td>\n",
       "      <td>1.6</td>\n",
       "      <td>2.4</td>\n",
       "      <td>2.400000</td>\n",
       "    </tr>\n",
       "    <tr>\n",
       "      <td>2</td>\n",
       "      <td>9.062500</td>\n",
       "      <td>5.581081</td>\n",
       "      <td>6.835443</td>\n",
       "      <td>5.906250</td>\n",
       "      <td>7.451220</td>\n",
       "      <td>5.794521</td>\n",
       "      <td>5.455696</td>\n",
       "      <td>5.691176</td>\n",
       "      <td>5.135135</td>\n",
       "      <td>0.428571</td>\n",
       "      <td>...</td>\n",
       "      <td>2.2</td>\n",
       "      <td>2.8</td>\n",
       "      <td>1.8</td>\n",
       "      <td>0.6</td>\n",
       "      <td>3.0</td>\n",
       "      <td>3.0</td>\n",
       "      <td>2.8</td>\n",
       "      <td>1.4</td>\n",
       "      <td>1.8</td>\n",
       "      <td>2.333333</td>\n",
       "    </tr>\n",
       "  </tbody>\n",
       "</table>\n",
       "<p>3 rows × 378 columns</p>\n",
       "</div>"
      ],
      "text/plain": [
       "   fgm_seas_avg_p1  fgm_seas_avg_p2  fgm_seas_avg_p3  fgm_seas_avg_p4  \\\n",
       "0        10.807692         6.481481         8.630137         7.074627   \n",
       "1        10.013889         1.608696         3.265823         6.025641   \n",
       "2         9.062500         5.581081         6.835443         5.906250   \n",
       "\n",
       "   fgm_seas_avg_p5  fgm_seas_avg_p6  fgm_seas_avg_p7  fgm_seas_avg_p8  \\\n",
       "0         5.765625         3.025641         3.353659         2.720000   \n",
       "1         2.962500         6.571429         1.913043         1.736842   \n",
       "2         7.451220         5.794521         5.455696         5.691176   \n",
       "\n",
       "   fgm_seas_avg_p9  fgm_seas_avg_p10  ...  pf_l5_p5  pf_l5_p6  pf_l5_p7  \\\n",
       "0         2.524390          0.000000  ...       3.8       2.0       2.0   \n",
       "1         0.000000          1.648148  ...       2.0       2.6       2.8   \n",
       "2         5.135135          0.428571  ...       2.2       2.8       1.8   \n",
       "\n",
       "   pf_l5_p8  pf_l5_p9  pf_l5_p10  pf_l5_p11  pf_l5_p12  pf_l5_p13  pf_l5_p14  \n",
       "0       2.0       2.8        3.0        1.6        2.2        1.4   4.400000  \n",
       "1       2.0       3.0        2.6        2.2        1.6        2.4   2.400000  \n",
       "2       0.6       3.0        3.0        2.8        1.4        1.8   2.333333  \n",
       "\n",
       "[3 rows x 378 columns]"
      ]
     },
     "execution_count": 89,
     "metadata": {},
     "output_type": "execute_result"
    }
   ],
   "source": [
    "X"
   ]
  },
  {
   "cell_type": "code",
   "execution_count": 90,
   "metadata": {},
   "outputs": [],
   "source": [
    "model = pickle.load(open(\"../models/xgboost_7_player\", \"rb\"))"
   ]
  },
  {
   "cell_type": "code",
   "execution_count": 91,
   "metadata": {},
   "outputs": [],
   "source": [
    "predictions = model.predict(X)"
   ]
  },
  {
   "cell_type": "code",
   "execution_count": 92,
   "metadata": {},
   "outputs": [],
   "source": [
    "names_range = range(0,14)\n",
    "names_df = per_game_df.iloc[:, names_range].copy()"
   ]
  },
  {
   "cell_type": "code",
   "execution_count": 93,
   "metadata": {},
   "outputs": [],
   "source": [
    "flat_names = np.matrix.flatten(names_df.values)\n",
    "flat_preds = np.matrix.flatten(predictions)"
   ]
  },
  {
   "cell_type": "code",
   "execution_count": 94,
   "metadata": {},
   "outputs": [],
   "source": [
    "prediction_df = pd.DataFrame(list(zip(flat_names, flat_preds)), columns=['player_id', 'prediction'])"
   ]
  },
  {
   "cell_type": "code",
   "execution_count": 95,
   "metadata": {},
   "outputs": [],
   "source": [
    "comp_with_preds = pd.merge(competition, prediction_df, how='left', on='player_id')"
   ]
  },
  {
   "cell_type": "code",
   "execution_count": 96,
   "metadata": {},
   "outputs": [],
   "source": [
    "comp_with_preds = comp_with_preds.dropna(subset=['prediction'])"
   ]
  },
  {
   "cell_type": "code",
   "execution_count": 97,
   "metadata": {},
   "outputs": [],
   "source": [
    "comp_with_preds.to_csv(\"../data/optimization_input.csv\", index = False)"
   ]
  },
  {
   "cell_type": "code",
   "execution_count": null,
   "metadata": {},
   "outputs": [],
   "source": []
  }
 ],
 "metadata": {
  "kernelspec": {
   "display_name": "Python 3",
   "language": "python",
   "name": "python3"
  },
  "language_info": {
   "codemirror_mode": {
    "name": "ipython",
    "version": 3
   },
   "file_extension": ".py",
   "mimetype": "text/x-python",
   "name": "python",
   "nbconvert_exporter": "python",
   "pygments_lexer": "ipython3",
   "version": "3.7.4"
  }
 },
 "nbformat": 4,
 "nbformat_minor": 2
}
