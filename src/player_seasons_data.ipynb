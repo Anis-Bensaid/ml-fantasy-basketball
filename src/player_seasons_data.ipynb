{
 "cells": [
  {
   "cell_type": "code",
   "execution_count": 4,
   "metadata": {},
   "outputs": [],
   "source": [
    "import pandas as pd\n",
    "from basketball_reference_web_scraper import client"
   ]
  },
  {
   "cell_type": "markdown",
   "metadata": {},
   "source": [
    "# Player season data"
   ]
  },
  {
   "cell_type": "code",
   "execution_count": 42,
   "metadata": {},
   "outputs": [],
   "source": [
    "FROM_YEAR = 2009\n",
    "TO_YEAR = 2019"
   ]
  },
  {
   "cell_type": "markdown",
   "metadata": {},
   "source": [
    "## Get data from API"
   ]
  },
  {
   "cell_type": "code",
   "execution_count": 23,
   "metadata": {},
   "outputs": [],
   "source": [
    "def get_player_seasons_over_years(first_year, last_year):\n",
    "    curr_year = first_year\n",
    "    player_season_df = pd.DataFrame()\n",
    "\n",
    "    while curr_year <= last_year:\n",
    "        season_start_year = curr_year - 1\n",
    "\n",
    "        season_df = pd.DataFrame(client.players_season_totals(season_end_year=curr_year))\n",
    "        season_df.insert(0, 'end_year', curr_year)\n",
    "        season_df.insert(0, 'start_year', season_start_year)\n",
    "        player_season_df = pd.concat([player_season_df, season_df])\n",
    "\n",
    "        curr_year += 1\n",
    "    \n",
    "    return player_season_df"
   ]
  },
  {
   "cell_type": "code",
   "execution_count": 24,
   "metadata": {},
   "outputs": [],
   "source": [
    "player_seasons_df = get_player_seasons_over_years(FROM_YEAR, TO_YEAR)"
   ]
  },
  {
   "cell_type": "markdown",
   "metadata": {},
   "source": [
    "## Clean data"
   ]
  },
  {
   "cell_type": "markdown",
   "metadata": {},
   "source": [
    "### Rename columns"
   ]
  },
  {
   "cell_type": "code",
   "execution_count": 25,
   "metadata": {},
   "outputs": [],
   "source": [
    "player_seasons_df = player_seasons_df.rename(columns={\n",
    "    'slug': 'player_id',\n",
    "    'made_field_goals': 'fgm',\n",
    "    'attempted_field_goals': 'fga',\n",
    "    'made_three_point_field_goals': '3pm',\n",
    "    'attempted_three_point_field_goals': '3pa',\n",
    "    'made_free_throws': 'ftm',\n",
    "    'attempted_free_throws': 'fta',\n",
    "    'offensive_rebounds': 'orb',\n",
    "    'defensive_rebounds': 'drb',\n",
    "    'assists': 'ast',\n",
    "    'steals': 'stl',\n",
    "    'blocks': 'blk',\n",
    "    'turnovers': 'tvr',\n",
    "    'personal_fouls': 'pf'\n",
    "})"
   ]
  },
  {
   "cell_type": "markdown",
   "metadata": {},
   "source": [
    "### Add season total fantasy points"
   ]
  },
  {
   "cell_type": "code",
   "execution_count": 26,
   "metadata": {},
   "outputs": [],
   "source": [
    "def get_fantasy_points(row):\n",
    "    shot_points = 3 * row['3pm'] + 2 * row['fgm'] + row['ftm']\n",
    "    rebound_points = 1.2 * (row['orb'] + row['drb'])\n",
    "    assist_points = 1.5 * row['ast']\n",
    "    block_points = 3.0 * row['blk']\n",
    "    steal_points = 3.0 * row['stl']\n",
    "\n",
    "    return shot_points + rebound_points + assist_points + block_points + steal_points"
   ]
  },
  {
   "cell_type": "code",
   "execution_count": 27,
   "metadata": {},
   "outputs": [],
   "source": [
    "player_seasons_df['fp'] = player_seasons_df.apply(lambda x: get_fantasy_points(x), axis = 1)"
   ]
  },
  {
   "cell_type": "markdown",
   "metadata": {},
   "source": [
    "## Consolidate players who switched teams mid-season"
   ]
  },
  {
   "cell_type": "code",
   "execution_count": 38,
   "metadata": {},
   "outputs": [],
   "source": [
    "stats = ['fgm', 'fga', '3pm', '3pa', 'ftm', 'fta', 'orb', 'drb', 'ast', 'stl', 'blk', 'tvr', 'pf', 'fp']"
   ]
  },
  {
   "cell_type": "code",
   "execution_count": 39,
   "metadata": {},
   "outputs": [],
   "source": [
    "agg_stats = stats + ['games_played']\n",
    "unique_player_seasons = player_seasons_df.groupby(by=['end_year', 'player_id'])[agg_stats].sum().reset_index()"
   ]
  },
  {
   "cell_type": "markdown",
   "metadata": {},
   "source": [
    "## Calculate average season stats (per game)"
   ]
  },
  {
   "cell_type": "code",
   "execution_count": 41,
   "metadata": {},
   "outputs": [],
   "source": [
    "seas_avg_stats = []\n",
    "for stat in stats:\n",
    "    seas_avg_stats.append(stat + \"_seas_avg\")\n",
    "    unique_player_seasons[stat + \"_seas_avg\"] = unique_player_seasons.apply(\n",
    "        lambda x: x[stat] / x['games_played'] if x['games_played'] > 0 else 0,\n",
    "        axis=1\n",
    "    )"
   ]
  },
  {
   "cell_type": "code",
   "execution_count": 43,
   "metadata": {},
   "outputs": [],
   "source": [
    "path = \"../data/\" + str(FROM_YEAR) + \"_\" + str(TO_YEAR) + \"_player_seasons_unique.csv\"\n",
    "\n",
    "unique_player_seasons.to_csv(path, index=False)"
   ]
  }
 ],
 "metadata": {
  "kernelspec": {
   "display_name": "Python 3",
   "language": "python",
   "name": "python3"
  },
  "language_info": {
   "codemirror_mode": {
    "name": "ipython",
    "version": 3
   },
   "file_extension": ".py",
   "mimetype": "text/x-python",
   "name": "python",
   "nbconvert_exporter": "python",
   "pygments_lexer": "ipython3",
   "version": "3.7.4"
  }
 },
 "nbformat": 4,
 "nbformat_minor": 2
}
