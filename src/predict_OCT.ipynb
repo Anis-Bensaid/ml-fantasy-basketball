{
 "cells": [
  {
   "cell_type": "code",
   "execution_count": 29,
   "metadata": {},
   "outputs": [],
   "source": [
    "using CSV, Statistics, DataFrames;"
   ]
  },
  {
   "cell_type": "code",
   "execution_count": null,
   "metadata": {},
   "outputs": [],
   "source": [
    "# Given a trained tree lnr, and a matrix of , return the mean and std of each node populated by the injected features\n",
    "function get_nodes_mean_std(lnr, train_X, train_y; only_leafs = false)\n",
    "    if only_leafs\n",
    "        leafs = get_leafs(lnr)\n",
    "        nodes_elements = IAI.apply_nodes(lnr, train_X)[leafs]\n",
    "    else\n",
    "        nodes_elements = IAI.apply_nodes(lnr, train_X)\n",
    "    end\n",
    "    nb_nodes = length(nodes_elements)\n",
    "    stds = zeros(length(nodes_elements))\n",
    "    means = zeros(length(nodes_elements))\n",
    "    for i=1:nb_nodes\n",
    "        stds[i] = std(Vector(train_y)[nodes_elements[i]])    \n",
    "        means[i] = mean(Vector(train_y)[nodes_elements[i]])\n",
    "    end\n",
    "    means, stds\n",
    "end;\n",
    "\n",
    "function get_leafs(lnr)\n",
    "    num_nodes = IAI.get_num_nodes(lnr)\n",
    "    leafs = []\n",
    "    for i=1:num_nodes\n",
    "        if IAI.is_leaf(lnr, i)\n",
    "            push!(leafs, i)\n",
    "        end\n",
    "    end\n",
    "    leafs\n",
    "end;\n",
    "\n",
    "function get_leaf_pred_mean_std(lnr, new_X, train_X, train_y)\n",
    "    nodes_means, nodes_stds = get_nodes_mean_std(lnr, train_X, train_y);\n",
    "    predictions = IAI.predict(lnr, new_X[:,names(train_X)])  \n",
    "    assigned_leafs = IAI.apply(lnr, new_X[:,names(train_X)])\n",
    "    leafs_means = nodes_means[assigned_leafs]\n",
    "    leafs_stds = nodes_stds[assigned_leafs]\n",
    "    DataFrame(\n",
    "        player_id = new_X[:,:player_id_p1],\n",
    "        assigned_leaf = assigned_leafs,\n",
    "        prediction = predictions,\n",
    "        leaf_mean = leafs_means,\n",
    "        leaf_std = leafs_stds\n",
    "    )\n",
    "end;\n",
    "\n",
    "function run_leaf_pred_mean_std(tree_path, training_data_path, model_input_path, competition_path)\n",
    "    lnr = IAI.read_json(tree_path);\n",
    "    training_data = CSV.read(training_data_path);\n",
    "    train_X = training_data[:,1:end-1]\n",
    "    train_y = training_data[:,end]\n",
    "    new_X = CSV.read(model_input_path)\n",
    "    competition = CSV.read(competition_path)\n",
    "    pred_mean_std = get_leaf_pred_mean_std(lnr, new_X, train_X, train_y)\n",
    "    optimization_input = join(competition, pred_mean_std, on=:player_id, kind=:right)\n",
    "    return optimization_input\n",
    "end;\n",
    "\n",
    "function run_multiple_leaf_pred_mean_std(tree_path, training_data_path, paths)\n",
    "    model_input_path = paths[i,:model_input_paths]\n",
    "    competition_path = paths[i,:competition_paths]\n",
    "    output_path = paths[i,:output_paths]\n",
    "    lnr = IAI.read_json(tree_path);\n",
    "    training_data = CSV.read(training_data_path);\n",
    "    train_X = training_data[:,1:end-1]\n",
    "    train_y = training_data[:,end]\n",
    "    new_X = CSV.read(model_input_path)\n",
    "    competition = CSV.read(competition_path)\n",
    "    pred_mean_std = get_leaf_pred_mean_std(lnr, new_X, train_X, train_y)\n",
    "    optimization_input = join(competition, pred_mean_std, on=:player_id, kind=:right)\n",
    "    CSV.write(output_path, optimization_input)\n",
    "end;\n"
   ]
  },
  {
   "cell_type": "code",
   "execution_count": 68,
   "metadata": {},
   "outputs": [
    {
     "data": {
      "text/plain": [
       "\"../data/optimization_input.csv\""
      ]
     },
     "execution_count": 68,
     "metadata": {},
     "output_type": "execute_result"
    }
   ],
   "source": [
    "TREE_PATH = \"../processed/OCTs/OCT.json\"\n",
    "TRAINING_DATA_PATH = \"../processed/OCTs/oct_train_data.csv\""
   ]
  },
  {
   "cell_type": "code",
   "execution_count": 87,
   "metadata": {},
   "outputs": [
    {
     "data": {
      "text/html": [
       "<table class=\"data-frame\"><thead><tr><th></th><th>keys</th><th>competition_paths</th><th>model_input_paths</th></tr><tr><th></th><th>String</th><th>String</th><th>String</th></tr></thead><tbody><p>6 rows × 4 columns (omitted printing of 1 columns)</p><tr><th>1</th><td>2012-03-01</td><td>../data/competitions_clean/2012-03-01_fake.csv</td><td>../data/model_inputs/2012-03-01_fake_dup.csv</td></tr><tr><th>2</th><td>2013-02-07</td><td>../data/competitions_clean/2013-02-07_fake.csv</td><td>../data/model_inputs/2013-02-07_fake_dup.csv</td></tr><tr><th>3</th><td>2013-03-05</td><td>../data/competitions_clean/2013-03-05_fake.csv</td><td>../data/model_inputs/2013-03-05_fake_dup.csv</td></tr><tr><th>4</th><td>2013-10-30</td><td>../data/competitions_clean/2013-10-30_fake.csv</td><td>../data/model_inputs/2013-10-30_fake_dup.csv</td></tr><tr><th>5</th><td>2013-11-17</td><td>../data/competitions_clean/2013-11-17_fake.csv</td><td>../data/model_inputs/2013-11-17_fake_dup.csv</td></tr><tr><th>6</th><td>2014-11-17</td><td>../data/competitions_clean/2014-11-17_fake.csv</td><td>../data/model_inputs/2014-11-17_fake_dup.csv</td></tr></tbody></table>"
      ],
      "text/latex": [
       "\\begin{tabular}{r|cccc}\n",
       "\t& keys & competition\\_paths & model\\_input\\_paths & \\\\\n",
       "\t\\hline\n",
       "\t& String & String & String & \\\\\n",
       "\t\\hline\n",
       "\t1 & 2012-03-01 & ../data/competitions\\_clean/2012-03-01\\_fake.csv & ../data/model\\_inputs/2012-03-01\\_fake\\_dup.csv & $\\dots$ \\\\\n",
       "\t2 & 2013-02-07 & ../data/competitions\\_clean/2013-02-07\\_fake.csv & ../data/model\\_inputs/2013-02-07\\_fake\\_dup.csv & $\\dots$ \\\\\n",
       "\t3 & 2013-03-05 & ../data/competitions\\_clean/2013-03-05\\_fake.csv & ../data/model\\_inputs/2013-03-05\\_fake\\_dup.csv & $\\dots$ \\\\\n",
       "\t4 & 2013-10-30 & ../data/competitions\\_clean/2013-10-30\\_fake.csv & ../data/model\\_inputs/2013-10-30\\_fake\\_dup.csv & $\\dots$ \\\\\n",
       "\t5 & 2013-11-17 & ../data/competitions\\_clean/2013-11-17\\_fake.csv & ../data/model\\_inputs/2013-11-17\\_fake\\_dup.csv & $\\dots$ \\\\\n",
       "\t6 & 2014-11-17 & ../data/competitions\\_clean/2014-11-17\\_fake.csv & ../data/model\\_inputs/2014-11-17\\_fake\\_dup.csv & $\\dots$ \\\\\n",
       "\\end{tabular}\n"
      ],
      "text/plain": [
       "6×4 DataFrame. Omitted printing of 2 columns\n",
       "│ Row │ keys       │ competition_paths                              │\n",
       "│     │ \u001b[90mString\u001b[39m     │ \u001b[90mString\u001b[39m                                         │\n",
       "├─────┼────────────┼────────────────────────────────────────────────┤\n",
       "│ 1   │ 2012-03-01 │ ../data/competitions_clean/2012-03-01_fake.csv │\n",
       "│ 2   │ 2013-02-07 │ ../data/competitions_clean/2013-02-07_fake.csv │\n",
       "│ 3   │ 2013-03-05 │ ../data/competitions_clean/2013-03-05_fake.csv │\n",
       "│ 4   │ 2013-10-30 │ ../data/competitions_clean/2013-10-30_fake.csv │\n",
       "│ 5   │ 2013-11-17 │ ../data/competitions_clean/2013-11-17_fake.csv │\n",
       "│ 6   │ 2014-11-17 │ ../data/competitions_clean/2014-11-17_fake.csv │"
      ]
     },
     "execution_count": 87,
     "metadata": {},
     "output_type": "execute_result"
    }
   ],
   "source": [
    "paths = DataFrame(keys = String[], competition_paths = String[], model_input_paths = String[], output_paths = String[])\n",
    "for (root, dirs, files) in walkdir(\"../data/competitions_clean/\")\n",
    "    for file in files\n",
    "        if occursin(\"_fake\", file)\n",
    "            # Keys\n",
    "            key = split(file,\"_\")[1]\n",
    "            # Paths\n",
    "            competition_path = string(\"../data/competitions_clean/\",key,\"_fake.csv\")\n",
    "            model_input_paths = string(\"../data/model_inputs/\",key,\"_fake_dup.csv\")\n",
    "            output_paths = string(\"../data/optimization_inputs/\",key,\"_fake.csv\")\n",
    "            push!(paths, [key, competition_path, model_input_paths, output_paths])\n",
    "        end\n",
    "    end\n",
    "end\n",
    "sort!(paths)"
   ]
  },
  {
   "cell_type": "code",
   "execution_count": null,
   "metadata": {},
   "outputs": [],
   "source": [
    "run_multiple_leaf_pred_mean_std(tree_path, training_data_path, paths)"
   ]
  }
 ],
 "metadata": {
  "kernelspec": {
   "display_name": "Julia 1.2.0",
   "language": "julia",
   "name": "julia-1.2"
  },
  "language_info": {
   "file_extension": ".jl",
   "mimetype": "application/julia",
   "name": "julia",
   "version": "1.2.0"
  }
 },
 "nbformat": 4,
 "nbformat_minor": 2
}
