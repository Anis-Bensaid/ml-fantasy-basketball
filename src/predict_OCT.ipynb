{
 "cells": [
  {
   "cell_type": "code",
   "execution_count": null,
   "metadata": {},
   "outputs": [],
   "source": [
    "COMPETITION_PATH = \"../data/competition.csv\"\n",
    "MODEL_INPUT_PATH = \"../data/model_input.csv\"\n",
    "TRAINING_DATA_PATH = \"../data/all_games_7_players.csv\""
   ]
  },
  {
   "cell_type": "code",
   "execution_count": null,
   "metadata": {},
   "outputs": [],
   "source": [
    "# Given a trained tree lnr, and a matrix of , return the mean and std of each node populated by the injected features\n",
    "function get_nodes_mean_std(lnr, train_X, train_y; only_leafs = false)\n",
    "    if only_leafs\n",
    "        leafs = get_leafs(lnr)\n",
    "        nodes_elements = IAI.apply_nodes(lnr, train_X)[leafs]\n",
    "    else\n",
    "        nodes_elements = IAI.apply_nodes(lnr, train_X)\n",
    "    end\n",
    "    nb_nodes = length(nodes_elements)\n",
    "    stds = zeros(length(nodes_elements))\n",
    "    means = zeros(length(nodes_elements))\n",
    "    for i=1:nb_nodes\n",
    "        stds[i] = std(Vector(train_y)[nodes_elements[i]])    \n",
    "        means[i] = mean(Vector(train_y)[nodes_elements[i]])\n",
    "    end\n",
    "    means, stds\n",
    "end;\n",
    "\n",
    "function get_leafs(lnr)\n",
    "    num_nodes = IAI.get_num_nodes(lnr)\n",
    "    leafs = []\n",
    "    for i=1:num_nodes\n",
    "        if IAI.is_leaf(lnr, i)\n",
    "            push!(leafs, i)\n",
    "        end\n",
    "    end\n",
    "    leafs\n",
    "end;\n",
    "\n",
    "function get_leaf_pred_mean_std(lnr, new_X, train_X, train_y)\n",
    "    nodes_means, nodes_stds = get_nodes_mean_std(lnr, train_X, train_y);\n",
    "    predictions = IAI.predict(lnr, new_X)  \n",
    "    assigned_leafs = IAI.apply(lnr, new_X)\n",
    "    leafs_means = nodes_means[assigned_leafs]\n",
    "    leafs_stds = nodes_stds[assigned_leafs]\n",
    "    DataFrame(assigned_leaf = assigned_leafs,\n",
    "        prediciton = predictions,\n",
    "        leaf_mean = leafs_means,\n",
    "        leaf_std = leafs_stds\n",
    "    )\n",
    "end;"
   ]
  },
  {
   "cell_type": "code",
   "execution_count": null,
   "metadata": {},
   "outputs": [],
   "source": [
    "pred_mean_std = get_leaf_pred_mean_std(lnr, test_X, train_X, train_y)"
   ]
  }
 ],
 "metadata": {
  "kernelspec": {
   "display_name": "Julia 1.2.0",
   "language": "julia",
   "name": "julia-1.2"
  },
  "language_info": {
   "file_extension": ".jl",
   "mimetype": "application/julia",
   "name": "julia",
   "version": "1.2.0"
  }
 },
 "nbformat": 4,
 "nbformat_minor": 2
}
