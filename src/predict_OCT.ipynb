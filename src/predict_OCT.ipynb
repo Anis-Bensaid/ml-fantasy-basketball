{
 "cells": [
  {
   "cell_type": "code",
   "execution_count": 8,
   "metadata": {},
   "outputs": [],
   "source": [
    "using CSV"
   ]
  },
  {
   "cell_type": "code",
   "execution_count": 2,
   "metadata": {},
   "outputs": [
    {
     "data": {
      "text/plain": [
       "\"../processed/OCTs/all_players_1.json\""
      ]
     },
     "execution_count": 2,
     "metadata": {},
     "output_type": "execute_result"
    }
   ],
   "source": [
    "COMPETITION_PATH = \"../data/competition.csv\"\n",
    "MODEL_INPUT_PATH = \"../data/model_input.csv\"\n",
    "TRAINING_DATA_PATH = \"../data/all_games_7_players.csv\"\n",
    "TREE_PATH = \"../processed/OCTs/all_players_1.json\""
   ]
  },
  {
   "cell_type": "code",
   "execution_count": 5,
   "metadata": {},
   "outputs": [],
   "source": [
    "# Given a trained tree lnr, and a matrix of , return the mean and std of each node populated by the injected features\n",
    "function get_nodes_mean_std(lnr, train_X, train_y; only_leafs = false)\n",
    "    if only_leafs\n",
    "        leafs = get_leafs(lnr)\n",
    "        nodes_elements = IAI.apply_nodes(lnr, train_X)[leafs]\n",
    "    else\n",
    "        nodes_elements = IAI.apply_nodes(lnr, train_X)\n",
    "    end\n",
    "    nb_nodes = length(nodes_elements)\n",
    "    stds = zeros(length(nodes_elements))\n",
    "    means = zeros(length(nodes_elements))\n",
    "    for i=1:nb_nodes\n",
    "        stds[i] = std(Vector(train_y)[nodes_elements[i]])    \n",
    "        means[i] = mean(Vector(train_y)[nodes_elements[i]])\n",
    "    end\n",
    "    means, stds\n",
    "end;\n",
    "\n",
    "function get_leafs(lnr)\n",
    "    num_nodes = IAI.get_num_nodes(lnr)\n",
    "    leafs = []\n",
    "    for i=1:num_nodes\n",
    "        if IAI.is_leaf(lnr, i)\n",
    "            push!(leafs, i)\n",
    "        end\n",
    "    end\n",
    "    leafs\n",
    "end;\n",
    "\n",
    "function get_leaf_pred_mean_std(lnr, new_X, train_X, train_y)\n",
    "    nodes_means, nodes_stds = get_nodes_mean_std(lnr, train_X, train_y);\n",
    "    predictions = IAI.predict(lnr, new_X)  \n",
    "    assigned_leafs = IAI.apply(lnr, new_X)\n",
    "    leafs_means = nodes_means[assigned_leafs]\n",
    "    leafs_stds = nodes_stds[assigned_leafs]\n",
    "    DataFrame(assigned_leaf = assigned_leafs,\n",
    "        prediciton = predictions,\n",
    "        leaf_mean = leafs_means,\n",
    "        leaf_std = leafs_stds\n",
    "    )\n",
    "end;"
   ]
  },
  {
   "cell_type": "code",
   "execution_count": 9,
   "metadata": {},
   "outputs": [
    {
     "data": {
      "text/html": [
       "<table class=\"data-frame\"><thead><tr><th></th><th>player_id_p1</th><th>fgm_seas_avg_p1</th><th>fgm_seas_avg_p2</th><th>fgm_seas_avg_p3</th><th>fgm_seas_avg_p4</th></tr><tr><th></th><th>String</th><th>Float64</th><th>Float64</th><th>Float64</th><th>Float64</th></tr></thead><tbody><p>163,865 rows × 394 columns (omitted printing of 389 columns)</p><tr><th>1</th><td>robinna01</td><td>6.06757</td><td>4.65672</td><td>7.8481</td><td>5.54878</td></tr><tr><th>2</th><td>bryanko01</td><td>9.7561</td><td>4.84416</td><td>4.39726</td><td>7.30864</td></tr><tr><th>3</th><td>flynnjo01</td><td>0.0</td><td>7.08861</td><td>2.42424</td><td>6.35714</td></tr><tr><th>4</th><td>wallara01</td><td>4.57576</td><td>7.98701</td><td>6.31646</td><td>2.97826</td></tr><tr><th>5</th><td>howardw01</td><td>7.08861</td><td>2.42424</td><td>6.35714</td><td>6.05063</td></tr><tr><th>6</th><td>flynnjo01</td><td>0.0</td><td>9.7</td><td>3.90123</td><td>0.0</td></tr><tr><th>7</th><td>wadedw01</td><td>10.8101</td><td>7.0</td><td>3.63889</td><td>5.47887</td></tr><tr><th>8</th><td>westbru01</td><td>5.31707</td><td>8.93243</td><td>5.08333</td><td>7.54545</td></tr><tr><th>9</th><td>jamesle01</td><td>9.74074</td><td>6.5942</td><td>5.46341</td><td>3.13115</td></tr><tr><th>10</th><td>paulch01</td><td>8.08974</td><td>3.34146</td><td>5.28049</td><td>0.591549</td></tr><tr><th>11</th><td>nashst01</td><td>5.78378</td><td>6.85366</td><td>7.62264</td><td>1.76316</td></tr><tr><th>12</th><td>roybr01</td><td>8.11538</td><td>0.0</td><td>7.76</td><td>6.0</td></tr><tr><th>13</th><td>hawessp01</td><td>4.84416</td><td>4.39726</td><td>0.0</td><td>4.34146</td></tr><tr><th>14</th><td>hilarne01</td><td>5.55844</td><td>0.0</td><td>5.98611</td><td>6.78378</td></tr><tr><th>15</th><td>jamisan01</td><td>8.32099</td><td>3.0</td><td>7.44</td><td>4.2561</td></tr><tr><th>16</th><td>jacksst02</td><td>7.0</td><td>9.74074</td><td>5.47887</td><td>3.33333</td></tr><tr><th>17</th><td>hilarne01</td><td>5.55844</td><td>0.0</td><td>4.81818</td><td>1.77027</td></tr><tr><th>18</th><td>bryanko01</td><td>9.7561</td><td>9.55556</td><td>4.4359</td><td>5.62</td></tr><tr><th>19</th><td>chandwi01</td><td>5.54878</td><td>2.82857</td><td>1.71875</td><td>2.0</td></tr><tr><th>20</th><td>boshch01</td><td>7.98701</td><td>7.44</td><td>4.2561</td><td>4.70732</td></tr><tr><th>21</th><td>westbru01</td><td>5.31707</td><td>8.93243</td><td>7.08642</td><td>5.40816</td></tr><tr><th>22</th><td>roybr01</td><td>8.11538</td><td>0.0</td><td>6.0</td><td>1.78571</td></tr><tr><th>23</th><td>wadedw01</td><td>10.8101</td><td>4.65672</td><td>7.8481</td><td>6.05797</td></tr><tr><th>24</th><td>paulch01</td><td>8.08974</td><td>5.98611</td><td>6.78378</td><td>5.28049</td></tr><tr><th>25</th><td>jacksst02</td><td>7.0</td><td>7.08642</td><td>5.47887</td><td>5.40816</td></tr><tr><th>26</th><td>kiddja01</td><td>3.17284</td><td>9.55556</td><td>7.31081</td><td>4.64706</td></tr><tr><th>27</th><td>hilarne01</td><td>5.55844</td><td>0.0</td><td>7.76</td><td>4.81818</td></tr><tr><th>28</th><td>barnema02</td><td>3.7013</td><td>7.08861</td><td>2.82857</td><td>1.71875</td></tr><tr><th>29</th><td>bryanko01</td><td>9.7561</td><td>2.47692</td><td>4.4359</td><td>3.34146</td></tr><tr><th>30</th><td>bogutan01</td><td>5.08333</td><td>6.5942</td><td>5.46341</td><td>3.13115</td></tr><tr><th>&vellip;</th><td>&vellip;</td><td>&vellip;</td><td>&vellip;</td><td>&vellip;</td><td>&vellip;</td></tr></tbody></table>"
      ],
      "text/latex": [
       "\\begin{tabular}{r|cccccc}\n",
       "\t& player\\_id\\_p1 & fgm\\_seas\\_avg\\_p1 & fgm\\_seas\\_avg\\_p2 & fgm\\_seas\\_avg\\_p3 & fgm\\_seas\\_avg\\_p4 & \\\\\n",
       "\t\\hline\n",
       "\t& String & Float64 & Float64 & Float64 & Float64 & \\\\\n",
       "\t\\hline\n",
       "\t1 & robinna01 & 6.06757 & 4.65672 & 7.8481 & 5.54878 & $\\dots$ \\\\\n",
       "\t2 & bryanko01 & 9.7561 & 4.84416 & 4.39726 & 7.30864 & $\\dots$ \\\\\n",
       "\t3 & flynnjo01 & 0.0 & 7.08861 & 2.42424 & 6.35714 & $\\dots$ \\\\\n",
       "\t4 & wallara01 & 4.57576 & 7.98701 & 6.31646 & 2.97826 & $\\dots$ \\\\\n",
       "\t5 & howardw01 & 7.08861 & 2.42424 & 6.35714 & 6.05063 & $\\dots$ \\\\\n",
       "\t6 & flynnjo01 & 0.0 & 9.7 & 3.90123 & 0.0 & $\\dots$ \\\\\n",
       "\t7 & wadedw01 & 10.8101 & 7.0 & 3.63889 & 5.47887 & $\\dots$ \\\\\n",
       "\t8 & westbru01 & 5.31707 & 8.93243 & 5.08333 & 7.54545 & $\\dots$ \\\\\n",
       "\t9 & jamesle01 & 9.74074 & 6.5942 & 5.46341 & 3.13115 & $\\dots$ \\\\\n",
       "\t10 & paulch01 & 8.08974 & 3.34146 & 5.28049 & 0.591549 & $\\dots$ \\\\\n",
       "\t11 & nashst01 & 5.78378 & 6.85366 & 7.62264 & 1.76316 & $\\dots$ \\\\\n",
       "\t12 & roybr01 & 8.11538 & 0.0 & 7.76 & 6.0 & $\\dots$ \\\\\n",
       "\t13 & hawessp01 & 4.84416 & 4.39726 & 0.0 & 4.34146 & $\\dots$ \\\\\n",
       "\t14 & hilarne01 & 5.55844 & 0.0 & 5.98611 & 6.78378 & $\\dots$ \\\\\n",
       "\t15 & jamisan01 & 8.32099 & 3.0 & 7.44 & 4.2561 & $\\dots$ \\\\\n",
       "\t16 & jacksst02 & 7.0 & 9.74074 & 5.47887 & 3.33333 & $\\dots$ \\\\\n",
       "\t17 & hilarne01 & 5.55844 & 0.0 & 4.81818 & 1.77027 & $\\dots$ \\\\\n",
       "\t18 & bryanko01 & 9.7561 & 9.55556 & 4.4359 & 5.62 & $\\dots$ \\\\\n",
       "\t19 & chandwi01 & 5.54878 & 2.82857 & 1.71875 & 2.0 & $\\dots$ \\\\\n",
       "\t20 & boshch01 & 7.98701 & 7.44 & 4.2561 & 4.70732 & $\\dots$ \\\\\n",
       "\t21 & westbru01 & 5.31707 & 8.93243 & 7.08642 & 5.40816 & $\\dots$ \\\\\n",
       "\t22 & roybr01 & 8.11538 & 0.0 & 6.0 & 1.78571 & $\\dots$ \\\\\n",
       "\t23 & wadedw01 & 10.8101 & 4.65672 & 7.8481 & 6.05797 & $\\dots$ \\\\\n",
       "\t24 & paulch01 & 8.08974 & 5.98611 & 6.78378 & 5.28049 & $\\dots$ \\\\\n",
       "\t25 & jacksst02 & 7.0 & 7.08642 & 5.47887 & 5.40816 & $\\dots$ \\\\\n",
       "\t26 & kiddja01 & 3.17284 & 9.55556 & 7.31081 & 4.64706 & $\\dots$ \\\\\n",
       "\t27 & hilarne01 & 5.55844 & 0.0 & 7.76 & 4.81818 & $\\dots$ \\\\\n",
       "\t28 & barnema02 & 3.7013 & 7.08861 & 2.82857 & 1.71875 & $\\dots$ \\\\\n",
       "\t29 & bryanko01 & 9.7561 & 2.47692 & 4.4359 & 3.34146 & $\\dots$ \\\\\n",
       "\t30 & bogutan01 & 5.08333 & 6.5942 & 5.46341 & 3.13115 & $\\dots$ \\\\\n",
       "\t$\\dots$ & $\\dots$ & $\\dots$ & $\\dots$ & $\\dots$ & $\\dots$ &  \\\\\n",
       "\\end{tabular}\n"
      ],
      "text/plain": [
       "163865×394 DataFrames.DataFrame. Omitted printing of 390 columns\n",
       "│ Row    │ player_id_p1 │ fgm_seas_avg_p1 │ fgm_seas_avg_p2 │ fgm_seas_avg_p3 │\n",
       "│        │ \u001b[90mString\u001b[39m       │ \u001b[90mFloat64\u001b[39m         │ \u001b[90mFloat64\u001b[39m         │ \u001b[90mFloat64\u001b[39m         │\n",
       "├────────┼──────────────┼─────────────────┼─────────────────┼─────────────────┤\n",
       "│ 1      │ robinna01    │ 6.06757         │ 4.65672         │ 7.8481          │\n",
       "│ 2      │ bryanko01    │ 9.7561          │ 4.84416         │ 4.39726         │\n",
       "│ 3      │ flynnjo01    │ 0.0             │ 7.08861         │ 2.42424         │\n",
       "│ 4      │ wallara01    │ 4.57576         │ 7.98701         │ 6.31646         │\n",
       "│ 5      │ howardw01    │ 7.08861         │ 2.42424         │ 6.35714         │\n",
       "│ 6      │ flynnjo01    │ 0.0             │ 9.7             │ 3.90123         │\n",
       "│ 7      │ wadedw01     │ 10.8101         │ 7.0             │ 3.63889         │\n",
       "│ 8      │ westbru01    │ 5.31707         │ 8.93243         │ 5.08333         │\n",
       "│ 9      │ jamesle01    │ 9.74074         │ 6.5942          │ 5.46341         │\n",
       "│ 10     │ paulch01     │ 8.08974         │ 3.34146         │ 5.28049         │\n",
       "⋮\n",
       "│ 163855 │ harklma01    │ 3.15            │ 3.59322         │ 2.20833         │\n",
       "│ 163856 │ herroty01    │ 0.0             │ 3.3038          │ 0.0             │\n",
       "│ 163857 │ vonleno01    │ 3.04412         │ 1.31579         │ 0.0             │\n",
       "│ 163858 │ zelleco01    │ 3.87755         │ 0.0             │ 4.34286         │\n",
       "│ 163859 │ hezonma01    │ 3.2931          │ 4.40244         │ 3.43902         │\n",
       "│ 163860 │ horfoal01    │ 5.69118         │ 0.0             │ 6.53086         │\n",
       "│ 163861 │ crabbal01    │ 3.18605         │ 7.08571         │ 4.77778         │\n",
       "│ 163862 │ anderky01    │ 3.48837         │ 0.0             │ 4.21951         │\n",
       "│ 163863 │ mooreet01    │ 4.83019         │ 0.0             │ 0.0             │\n",
       "│ 163864 │ milescj01    │ 2.11321         │ 5.4321          │ 2.83333         │\n",
       "│ 163865 │ bjeline01    │ 3.68831         │ 3.17143         │ 5.59701         │"
      ]
     },
     "execution_count": 9,
     "metadata": {},
     "output_type": "execute_result"
    }
   ],
   "source": [
    "lnr = IAI.read_json(TREE_PATH)"
   ]
  },
  {
   "cell_type": "code",
   "execution_count": null,
   "metadata": {},
   "outputs": [],
   "source": [
    "test_X = CSV.read(MODEL_INPUT_PATH)"
   ]
  },
  {
   "cell_type": "code",
   "execution_count": null,
   "metadata": {},
   "outputs": [],
   "source": [
    "train = CSV.read(TRAINING_DATA_PATH)"
   ]
  },
  {
   "cell_type": "code",
   "execution_count": 10,
   "metadata": {},
   "outputs": [
    {
     "data": {
      "text/plain": [
       "163865-element Array{Float64,1}:\n",
       " 69.2\n",
       " 65.5\n",
       " 51.9\n",
       " 45.2\n",
       " 30.9\n",
       " 24.1\n",
       " 66.1\n",
       " 56.3\n",
       " 60.3\n",
       " 54.9\n",
       " 47.3\n",
       " 59.7\n",
       " 21.8\n",
       "  ⋮  \n",
       " 44.6\n",
       " 29.4\n",
       " 24.0\n",
       " 18.6\n",
       " 15.7\n",
       " 16.6\n",
       " 42.7\n",
       " 16.2\n",
       " 19.8\n",
       " 22.4\n",
       " 37.5\n",
       " 39.8"
      ]
     },
     "execution_count": 10,
     "metadata": {},
     "output_type": "execute_result"
    }
   ],
   "source": [
    "train_X = train[:,1:end-1]\n",
    "train_y = train[:,end]"
   ]
  },
  {
   "cell_type": "code",
   "execution_count": 12,
   "metadata": {},
   "outputs": [
    {
     "ename": "ArgumentError",
     "evalue": "ArgumentError: Column 1 (:player_id_p1) of `X` should have name `:fgm_seas_avg_p1`",
     "output_type": "error",
     "traceback": [
      "ArgumentError: Column 1 (:player_id_p1) of `X` should have name `:fgm_seas_avg_p1`",
      "",
      "Stacktrace:",
      " [1] process_X_col!(::Array{Float64,2}, ::Array{Int64,2}, ::Array{Int64,2}, ::IAIBase.Features, ::Bool, ::PooledArrays.PooledArray{String,UInt32,1,Array{UInt32,1}}, ::Int64, ::Symbol) at C:\\Users\\iai\\builds\\InterpretableAI\\SysImgBuilder\\.julia\\packages\\IAIBase\\ymcNn\\src\\features.jl:611",
      " [2] process_X(::DataFrames.DataFrame, ::IAIBase.Features, ::Bool) at C:\\Users\\iai\\builds\\InterpretableAI\\SysImgBuilder\\.julia\\packages\\IAIBase\\ymcNn\\src\\features.jl:597",
      " [3] Type at C:\\Users\\iai\\builds\\InterpretableAI\\SysImgBuilder\\.julia\\packages\\IAIBase\\ymcNn\\src\\features.jl:548 [inlined]",
      " [4] Type at C:\\Users\\iai\\builds\\InterpretableAI\\SysImgBuilder\\.julia\\packages\\IAIBase\\ymcNn\\src\\learner.jl:123 [inlined]",
      " [5] apply_nodes(::OptimalTrees.OptimalTreeRegressor, ::DataFrames.DataFrame) at C:\\Users\\iai\\builds\\InterpretableAI\\SysImgBuilder\\.julia\\packages\\IAITrees\\PwNTS\\src\\api.jl:543",
      " [6] #get_nodes_mean_std#3(::Bool, ::typeof(get_nodes_mean_std), ::OptimalTrees.OptimalTreeRegressor, ::DataFrames.DataFrame, ::Array{Float64,1}) at .\\In[5]:7",
      " [7] get_nodes_mean_std at .\\In[5]:3 [inlined]",
      " [8] get_leaf_pred_mean_std(::OptimalTrees.OptimalTreeRegressor, ::DataFrames.DataFrame, ::DataFrames.DataFrame, ::Array{Float64,1}) at .\\In[5]:31",
      " [9] top-level scope at In[12]:1"
     ]
    }
   ],
   "source": [
    "pred_mean_std = get_leaf_pred_mean_std(lnr, test_X, train_X, train_y)"
   ]
  },
  {
   "cell_type": "code",
   "execution_count": null,
   "metadata": {},
   "outputs": [],
   "source": []
  }
 ],
 "metadata": {
  "kernelspec": {
   "display_name": "Julia 1.2.0",
   "language": "julia",
   "name": "julia-1.2"
  },
  "language_info": {
   "file_extension": ".jl",
   "mimetype": "application/julia",
   "name": "julia",
   "version": "1.2.0"
  }
 },
 "nbformat": 4,
 "nbformat_minor": 2
}
