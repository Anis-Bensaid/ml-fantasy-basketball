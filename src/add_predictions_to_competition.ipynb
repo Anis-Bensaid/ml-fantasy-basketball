{
 "cells": [
  {
   "cell_type": "code",
   "execution_count": 16,
   "metadata": {},
   "outputs": [],
   "source": [
    "import pandas as pd\n",
    "import numpy as np\n",
    "import pickle"
   ]
  },
  {
   "cell_type": "code",
   "execution_count": 5,
   "metadata": {},
   "outputs": [],
   "source": [
    "key = \"2019-12-01-41164\""
   ]
  },
  {
   "cell_type": "code",
   "execution_count": 19,
   "metadata": {},
   "outputs": [],
   "source": [
    "model_input = pd.read_csv(\"../data/model_inputs/\" + key + \".csv\")\n",
    "competition = pd.read_csv(\"../data/competitions_clean/\" + key + \".csv\")"
   ]
  },
  {
   "cell_type": "code",
   "execution_count": 9,
   "metadata": {},
   "outputs": [],
   "source": [
    "x_range = range(14,392)\n",
    "X = model_input.iloc[:, x_range]"
   ]
  },
  {
   "cell_type": "code",
   "execution_count": 12,
   "metadata": {},
   "outputs": [],
   "source": [
    "model = pickle.load(open(\"../models/xgboost_7_player\", \"rb\"))"
   ]
  },
  {
   "cell_type": "code",
   "execution_count": 13,
   "metadata": {},
   "outputs": [],
   "source": [
    "predictions = model.predict(X)"
   ]
  },
  {
   "cell_type": "code",
   "execution_count": 17,
   "metadata": {},
   "outputs": [],
   "source": [
    "names_range = range(0,14)\n",
    "names_df = model_input.iloc[:, names_range].copy()\n",
    "\n",
    "flat_names = np.matrix.flatten(names_df.values)\n",
    "flat_preds = np.matrix.flatten(predictions)\n",
    "\n",
    "prediction_df = pd.DataFrame(list(zip(flat_names, flat_preds)), columns=['player_id', 'prediction'])"
   ]
  },
  {
   "cell_type": "code",
   "execution_count": 20,
   "metadata": {},
   "outputs": [],
   "source": [
    "comp_with_preds = pd.merge(competition, prediction_df, how='left', on='player_id')\n",
    "comp_with_preds = comp_with_preds.dropna(subset=['prediction'])"
   ]
  },
  {
   "cell_type": "code",
   "execution_count": 23,
   "metadata": {},
   "outputs": [],
   "source": [
    "comp_with_preds.to_csv(\"../data/competitions_clean/\" + key + \".csv\", index = False)"
   ]
  }
 ],
 "metadata": {
  "kernelspec": {
   "display_name": "Python 3",
   "language": "python",
   "name": "python3"
  },
  "language_info": {
   "codemirror_mode": {
    "name": "ipython",
    "version": 3
   },
   "file_extension": ".py",
   "mimetype": "text/x-python",
   "name": "python",
   "nbconvert_exporter": "python",
   "pygments_lexer": "ipython3",
   "version": "3.7.4"
  }
 },
 "nbformat": 4,
 "nbformat_minor": 2
}
