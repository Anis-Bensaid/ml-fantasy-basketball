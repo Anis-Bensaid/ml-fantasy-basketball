{
 "cells": [
  {
   "cell_type": "code",
   "execution_count": 40,
   "metadata": {},
   "outputs": [],
   "source": [
    "import pandas as pd\n",
    "import random"
   ]
  },
  {
   "cell_type": "code",
   "execution_count": 147,
   "metadata": {},
   "outputs": [],
   "source": [
    "player_matches = pd.read_csv(\"../data/raw_data/20100101_20191129_player_matches.csv\")"
   ]
  },
  {
   "cell_type": "code",
   "execution_count": 85,
   "metadata": {},
   "outputs": [],
   "source": [
    "def get_game_for_row(row):\n",
    "    if row['home_game']:\n",
    "        return row['opponent_key'] + \"@\" + row['team_key']\n",
    "    else:\n",
    "        return row['team_key'] + \"@\" + row['opponent_key']"
   ]
  },
  {
   "cell_type": "code",
   "execution_count": 105,
   "metadata": {},
   "outputs": [],
   "source": [
    "def get_player_salary(min_fp, max_fp, player_fp):\n",
    "    MAX_SALARY = 12000\n",
    "    MIN_SALARY = 3500\n",
    "\n",
    "    return round(MIN_SALARY + MAX_SALARY * (player_fp - min_fp) / max_fp + (random.random() - 0.5) * 1000, -2)"
   ]
  },
  {
   "cell_type": "code",
   "execution_count": 106,
   "metadata": {},
   "outputs": [],
   "source": [
    "def generate_salaries(daily_pms):\n",
    "    max_fp = daily_pms['fp_l5'].max()\n",
    "    min_fp = daily_pms['fp_l5'].min()\n",
    "    \n",
    "    player_fps = list(daily_pms['fp_l5'])\n",
    "    salaries = []\n",
    "    \n",
    "    for player_fp in player_fps:\n",
    "        salaries.append(get_player_salary(min_fp, max_fp, player_fp))\n",
    "    \n",
    "    return salaries"
   ]
  },
  {
   "cell_type": "code",
   "execution_count": 107,
   "metadata": {},
   "outputs": [],
   "source": [
    "def generate_positions(num):\n",
    "    pos = []\n",
    "\n",
    "    for i in range(num):\n",
    "        rand = random.random()\n",
    "        if rand < 0.20:\n",
    "            pos.append(\"C\")\n",
    "        elif rand < 0.45:\n",
    "            pos.append(\"PG\")\n",
    "        elif rand < 0.70:\n",
    "            pos.append(\"SF\")\n",
    "        else:\n",
    "            pos.append(\"SG\")\n",
    "\n",
    "    return pos"
   ]
  },
  {
   "cell_type": "code",
   "execution_count": 148,
   "metadata": {},
   "outputs": [],
   "source": [
    "def create_fanduel_competition_for_date(player_matches, date):\n",
    "    daily_pms = player_matches[player_matches.date == date]\n",
    "    \n",
    "    if len(daily_pms) == 0:\n",
    "        return None\n",
    "    \n",
    "    fantasy_df = pd.DataFrame()\n",
    "    fantasy_df['player_id'] = daily_pms['player_id']\n",
    "    fantasy_df['Position'] = generate_positions(len(daily_pms))\n",
    "    fantasy_df['Nickname'] = daily_pms['name']\n",
    "    fantasy_df['Salary'] = generate_salaries(daily_pms)\n",
    "    fantasy_df['Game'] = daily_pms.apply(get_game_for_row, axis = 1)\n",
    "    fantasy_df['Team'] = daily_pms['team_key']\n",
    "    fantasy_df['Opponent'] = daily_pms['opponent_key']\n",
    "    fantasy_df['FP'] = daily_pms['fp']\n",
    "    \n",
    "    fantasy_df.to_csv(\"../data/competitions_clean/\" + \"\" + date + \"_fake.csv\", index = False)\n",
    "    \n",
    "    return fantasy_df"
   ]
  },
  {
   "cell_type": "code",
   "execution_count": 150,
   "metadata": {},
   "outputs": [],
   "source": [
    "dates = [\n",
    "    \"2012-03-01\",\n",
    "    \"2013-02-07\",\n",
    "    \"2013-10-30\",\n",
    "    \"2015-10-08\",\n",
    "    \"2012-10-08\",\n",
    "    \"2013-11-17\",\n",
    "    \"2014-11-17\",\n",
    "]"
   ]
  },
  {
   "cell_type": "code",
   "execution_count": 151,
   "metadata": {},
   "outputs": [],
   "source": [
    "for date in dates:\n",
    "    create_fanduel_competition_for_date(player_matches, date)"
   ]
  },
  {
   "cell_type": "code",
   "execution_count": null,
   "metadata": {},
   "outputs": [],
   "source": []
  }
 ],
 "metadata": {
  "kernelspec": {
   "display_name": "Python 3",
   "language": "python",
   "name": "python3"
  },
  "language_info": {
   "codemirror_mode": {
    "name": "ipython",
    "version": 3
   },
   "file_extension": ".py",
   "mimetype": "text/x-python",
   "name": "python",
   "nbconvert_exporter": "python",
   "pygments_lexer": "ipython3",
   "version": "3.7.4"
  }
 },
 "nbformat": 4,
 "nbformat_minor": 2
}
