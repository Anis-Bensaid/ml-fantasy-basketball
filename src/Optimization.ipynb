{
 "cells": [
  {
   "cell_type": "code",
   "execution_count": 115,
   "metadata": {},
   "outputs": [],
   "source": [
    "using CSV, JuMP, Gurobi, DataFrames"
   ]
  },
  {
   "cell_type": "code",
   "execution_count": 117,
   "metadata": {},
   "outputs": [
    {
     "name": "stdout",
     "output_type": "stream",
     "text": [
      "Academic license - for non-commercial use only\r\n"
     ]
    }
   ],
   "source": [
    "GUROBI_ENV = Gurobi.Env();"
   ]
  },
  {
   "cell_type": "code",
   "execution_count": 234,
   "metadata": {},
   "outputs": [
    {
     "data": {
      "text/plain": [
       "\"../data/FanDuel-NBA-2019-11-26-40944-players-list.csv\""
      ]
     },
     "execution_count": 234,
     "metadata": {},
     "output_type": "execute_result"
    }
   ],
   "source": [
    "PLAYERS_DATA_PATH = \"../data/FanDuel-NBA-2019-11-26-40944-players-list.csv\""
   ]
  },
  {
   "cell_type": "code",
   "execution_count": 235,
   "metadata": {},
   "outputs": [
    {
     "data": {
      "text/html": [
       "<table class=\"data-frame\"><thead><tr><th></th><th>Id</th><th>Position</th><th>First Name</th><th>Nickname</th><th>Last Name</th><th>FPPG</th></tr><tr><th></th><th>String</th><th>String</th><th>String</th><th>String</th><th>String</th><th>Float64</th></tr></thead><tbody><p>66 rows × 14 columns (omitted printing of 8 columns)</p><tr><th>1</th><td>40944-84669</td><td>PG</td><td>Luka</td><td>Luka Doncic</td><td>Doncic</td><td>57.5875</td></tr><tr><th>2</th><td>40944-55062</td><td>C</td><td>Nikola</td><td>Nikola Jokic</td><td>Jokic</td><td>40.3133</td></tr><tr><th>3</th><td>40944-14513</td><td>PF</td><td>Kawhi</td><td>Kawhi Leonard</td><td>Leonard</td><td>48.7667</td></tr><tr><th>4</th><td>40944-15595</td><td>SG</td><td>Bradley</td><td>Bradley Beal</td><td>Beal</td><td>45.8429</td></tr><tr><th>5</th><td>40944-12341</td><td>SF</td><td>Paul</td><td>Paul George</td><td>George</td><td>40.6</td></tr><tr><th>6</th><td>40944-63122</td><td>PF</td><td>Kristaps</td><td>Kristaps Porzingis</td><td>Porzingis</td><td>37.96</td></tr><tr><th>7</th><td>40944-66108</td><td>PG</td><td>Jamal</td><td>Jamal Murray</td><td>Murray</td><td>35.3133</td></tr><tr><th>8</th><td>40944-23776</td><td>C</td><td>Montrezl</td><td>Montrezl Harrell</td><td>Harrell</td><td>36.7412</td></tr><tr><th>9</th><td>40944-9662</td><td>SG</td><td>Lou</td><td>Lou Williams</td><td>Williams</td><td>34.5412</td></tr><tr><th>10</th><td>40944-67312</td><td>C</td><td>Thomas</td><td>Thomas Bryant</td><td>Bryant</td><td>32.0786</td></tr><tr><th>11</th><td>40944-17333</td><td>SF</td><td>Will</td><td>Will Barton</td><td>Barton</td><td>31.4231</td></tr><tr><th>12</th><td>40944-9729</td><td>PF</td><td>Paul</td><td>Paul Millsap</td><td>Millsap</td><td>27.92</td></tr><tr><th>13</th><td>40944-14543</td><td>SF</td><td>Davis</td><td>Davis Bertans</td><td>Bertans</td><td>23.7714</td></tr><tr><th>14</th><td>40944-12474</td><td>PG</td><td>Patrick</td><td>Patrick Beverley</td><td>Beverley</td><td>24.9667</td></tr><tr><th>15</th><td>40944-15846</td><td>SF</td><td>Tim</td><td>Tim Hardaway</td><td>Hardaway</td><td>18.6</td></tr><tr><th>16</th><td>40944-14559</td><td>PG</td><td>Isaiah</td><td>Isaiah Thomas</td><td>Thomas</td><td>22.9417</td></tr><tr><th>17</th><td>40944-110349</td><td>PF</td><td>Rui</td><td>Rui Hachimura</td><td>Hachimura</td><td>23.2</td></tr><tr><th>18</th><td>40944-16196</td><td>C</td><td>Dwight</td><td>Dwight Powell</td><td>Powell</td><td>16.3615</td></tr><tr><th>19</th><td>40944-24544</td><td>SG</td><td>Gary</td><td>Gary Harris</td><td>Harris</td><td>20.1533</td></tr><tr><th>20</th><td>40944-84714</td><td>C</td><td>Moritz</td><td>Moritz Wagner</td><td>Wagner</td><td>22.7286</td></tr><tr><th>21</th><td>40944-16376</td><td>SF</td><td>Dorian</td><td>Dorian Finney-Smith</td><td>Finney-Smith</td><td>19.1375</td></tr><tr><th>22</th><td>40944-40830</td><td>SG</td><td>Delon</td><td>Delon Wright</td><td>Wright</td><td>21.0938</td></tr><tr><th>23</th><td>40944-70827</td><td>C</td><td>Ivica</td><td>Ivica Zubac</td><td>Zubac</td><td>21.5294</td></tr><tr><th>24</th><td>40944-81621</td><td>PF</td><td>Maxi</td><td>Maxi Kleber</td><td>Kleber</td><td>19.58</td></tr><tr><th>25</th><td>40944-12511</td><td>PG</td><td>Ish</td><td>Ish Smith</td><td>Smith</td><td>20.0857</td></tr><tr><th>26</th><td>40944-15590</td><td>C</td><td>Mason</td><td>Mason Plumlee</td><td>Plumlee</td><td>18.9667</td></tr><tr><th>27</th><td>40944-20277</td><td>SG</td><td>Torrey</td><td>Torrey Craig</td><td>Craig</td><td>11.0385</td></tr><tr><th>28</th><td>40944-9495</td><td>PG</td><td>J.J.</td><td>J.J. Barea</td><td>Barea</td><td>17.45</td></tr><tr><th>29</th><td>40944-15405</td><td>PF</td><td>JaMychal</td><td>JaMychal Green</td><td>Green</td><td>18.0941</td></tr><tr><th>30</th><td>40944-16178</td><td>SF</td><td>Maurice</td><td>Maurice Harkless</td><td>Harkless</td><td>15.2</td></tr><tr><th>&vellip;</th><td>&vellip;</td><td>&vellip;</td><td>&vellip;</td><td>&vellip;</td><td>&vellip;</td><td>&vellip;</td></tr></tbody></table>"
      ],
      "text/latex": [
       "\\begin{tabular}{r|ccccccc}\n",
       "\t& Id & Position & First Name & Nickname & Last Name & FPPG & \\\\\n",
       "\t\\hline\n",
       "\t& String & String & String & String & String & Float64 & \\\\\n",
       "\t\\hline\n",
       "\t1 & 40944-84669 & PG & Luka & Luka Doncic & Doncic & 57.5875 & $\\dots$ \\\\\n",
       "\t2 & 40944-55062 & C & Nikola & Nikola Jokic & Jokic & 40.3133 & $\\dots$ \\\\\n",
       "\t3 & 40944-14513 & PF & Kawhi & Kawhi Leonard & Leonard & 48.7667 & $\\dots$ \\\\\n",
       "\t4 & 40944-15595 & SG & Bradley & Bradley Beal & Beal & 45.8429 & $\\dots$ \\\\\n",
       "\t5 & 40944-12341 & SF & Paul & Paul George & George & 40.6 & $\\dots$ \\\\\n",
       "\t6 & 40944-63122 & PF & Kristaps & Kristaps Porzingis & Porzingis & 37.96 & $\\dots$ \\\\\n",
       "\t7 & 40944-66108 & PG & Jamal & Jamal Murray & Murray & 35.3133 & $\\dots$ \\\\\n",
       "\t8 & 40944-23776 & C & Montrezl & Montrezl Harrell & Harrell & 36.7412 & $\\dots$ \\\\\n",
       "\t9 & 40944-9662 & SG & Lou & Lou Williams & Williams & 34.5412 & $\\dots$ \\\\\n",
       "\t10 & 40944-67312 & C & Thomas & Thomas Bryant & Bryant & 32.0786 & $\\dots$ \\\\\n",
       "\t11 & 40944-17333 & SF & Will & Will Barton & Barton & 31.4231 & $\\dots$ \\\\\n",
       "\t12 & 40944-9729 & PF & Paul & Paul Millsap & Millsap & 27.92 & $\\dots$ \\\\\n",
       "\t13 & 40944-14543 & SF & Davis & Davis Bertans & Bertans & 23.7714 & $\\dots$ \\\\\n",
       "\t14 & 40944-12474 & PG & Patrick & Patrick Beverley & Beverley & 24.9667 & $\\dots$ \\\\\n",
       "\t15 & 40944-15846 & SF & Tim & Tim Hardaway & Hardaway & 18.6 & $\\dots$ \\\\\n",
       "\t16 & 40944-14559 & PG & Isaiah & Isaiah Thomas & Thomas & 22.9417 & $\\dots$ \\\\\n",
       "\t17 & 40944-110349 & PF & Rui & Rui Hachimura & Hachimura & 23.2 & $\\dots$ \\\\\n",
       "\t18 & 40944-16196 & C & Dwight & Dwight Powell & Powell & 16.3615 & $\\dots$ \\\\\n",
       "\t19 & 40944-24544 & SG & Gary & Gary Harris & Harris & 20.1533 & $\\dots$ \\\\\n",
       "\t20 & 40944-84714 & C & Moritz & Moritz Wagner & Wagner & 22.7286 & $\\dots$ \\\\\n",
       "\t21 & 40944-16376 & SF & Dorian & Dorian Finney-Smith & Finney-Smith & 19.1375 & $\\dots$ \\\\\n",
       "\t22 & 40944-40830 & SG & Delon & Delon Wright & Wright & 21.0938 & $\\dots$ \\\\\n",
       "\t23 & 40944-70827 & C & Ivica & Ivica Zubac & Zubac & 21.5294 & $\\dots$ \\\\\n",
       "\t24 & 40944-81621 & PF & Maxi & Maxi Kleber & Kleber & 19.58 & $\\dots$ \\\\\n",
       "\t25 & 40944-12511 & PG & Ish & Ish Smith & Smith & 20.0857 & $\\dots$ \\\\\n",
       "\t26 & 40944-15590 & C & Mason & Mason Plumlee & Plumlee & 18.9667 & $\\dots$ \\\\\n",
       "\t27 & 40944-20277 & SG & Torrey & Torrey Craig & Craig & 11.0385 & $\\dots$ \\\\\n",
       "\t28 & 40944-9495 & PG & J.J. & J.J. Barea & Barea & 17.45 & $\\dots$ \\\\\n",
       "\t29 & 40944-15405 & PF & JaMychal & JaMychal Green & Green & 18.0941 & $\\dots$ \\\\\n",
       "\t30 & 40944-16178 & SF & Maurice & Maurice Harkless & Harkless & 15.2 & $\\dots$ \\\\\n",
       "\t$\\dots$ & $\\dots$ & $\\dots$ & $\\dots$ & $\\dots$ & $\\dots$ & $\\dots$ &  \\\\\n",
       "\\end{tabular}\n"
      ],
      "text/plain": [
       "66×14 DataFrame. Omitted printing of 9 columns\n",
       "│ Row │ Id           │ Position │ First Name │ Nickname           │ Last Name  │\n",
       "│     │ \u001b[90mString\u001b[39m       │ \u001b[90mString\u001b[39m   │ \u001b[90mString\u001b[39m     │ \u001b[90mString\u001b[39m             │ \u001b[90mString\u001b[39m     │\n",
       "├─────┼──────────────┼──────────┼────────────┼────────────────────┼────────────┤\n",
       "│ 1   │ 40944-84669  │ PG       │ Luka       │ Luka Doncic        │ Doncic     │\n",
       "│ 2   │ 40944-55062  │ C        │ Nikola     │ Nikola Jokic       │ Jokic      │\n",
       "│ 3   │ 40944-14513  │ PF       │ Kawhi      │ Kawhi Leonard      │ Leonard    │\n",
       "│ 4   │ 40944-15595  │ SG       │ Bradley    │ Bradley Beal       │ Beal       │\n",
       "│ 5   │ 40944-12341  │ SF       │ Paul       │ Paul George        │ George     │\n",
       "│ 6   │ 40944-63122  │ PF       │ Kristaps   │ Kristaps Porzingis │ Porzingis  │\n",
       "│ 7   │ 40944-66108  │ PG       │ Jamal      │ Jamal Murray       │ Murray     │\n",
       "│ 8   │ 40944-23776  │ C        │ Montrezl   │ Montrezl Harrell   │ Harrell    │\n",
       "│ 9   │ 40944-9662   │ SG       │ Lou        │ Lou Williams       │ Williams   │\n",
       "│ 10  │ 40944-67312  │ C        │ Thomas     │ Thomas Bryant      │ Bryant     │\n",
       "⋮\n",
       "│ 56  │ 40944-84833  │ PF       │ Ryan       │ Ryan Broekhoff     │ Broekhoff  │\n",
       "│ 57  │ 40944-9953   │ C        │ Ian        │ Ian Mahinmi        │ Mahinmi    │\n",
       "│ 58  │ 40944-110313 │ C        │ Bol        │ Bol Bol            │ Bol        │\n",
       "│ 59  │ 40944-110315 │ SG       │ Terance    │ Terance Mann       │ Mann       │\n",
       "│ 60  │ 40944-84721  │ SF       │ Jarred     │ Jarred Vanderbilt  │ Vanderbilt │\n",
       "│ 61  │ 40944-40561  │ PG       │ Derrick    │ Derrick Walton     │ Walton     │\n",
       "│ 62  │ 40944-84722  │ SF       │ Isaac      │ Isaac Bonga        │ Bonga      │\n",
       "│ 63  │ 40944-110328 │ SF       │ Admiral    │ Admiral Schofield  │ Schofield  │\n",
       "│ 64  │ 40944-97018  │ PG       │ Chris      │ Chris Chiozza      │ Chiozza    │\n",
       "│ 65  │ 40944-9725   │ SF       │ C.J.       │ C.J. Miles         │ Miles      │\n",
       "│ 66  │ 40944-41597  │ PF       │ Johnathan  │ Johnathan Motley   │ Motley     │"
      ]
     },
     "execution_count": 235,
     "metadata": {},
     "output_type": "execute_result"
    }
   ],
   "source": [
    "players = CSV.read(PLAYERS_DATA_PATH)"
   ]
  },
  {
   "cell_type": "code",
   "execution_count": 236,
   "metadata": {},
   "outputs": [
    {
     "data": {
      "text/plain": [
       "60000"
      ]
     },
     "execution_count": 236,
     "metadata": {},
     "output_type": "execute_result"
    }
   ],
   "source": [
    "MAX_PG = 2\n",
    "MAX_SG = 2\n",
    "MAX_SF = 2\n",
    "MAX_PF = 2\n",
    "MAX_C = 1\n",
    "BUDGET = 60000"
   ]
  },
  {
   "cell_type": "code",
   "execution_count": 237,
   "metadata": {},
   "outputs": [],
   "source": [
    "fantasy_points = players[:,:FPPG];\n",
    "PG = Int.(players[:,:Position].==\"PG\")\n",
    "SG = Int.(players[:,:Position].==\"SG\")\n",
    "SF = Int.(players[:,:Position].==\"SF\");\n",
    "PF = Int.(players[:,:Position].==\"PF\")\n",
    "C  = Int.(players[:,:Position].==\"C\")\n",
    "salary = players[:,:Salary];\n",
    "injury = 1 .- ismissing.(players[:,Symbol(\"Injury Indicator\")]) \n",
    "o_injury = Int.(Missings.coalesce.(players[:,Symbol(\"Injury Indicator\")], 0).==\"O\")\n",
    "q_injury = Int.(Missings.coalesce.(players[:,Symbol(\"Injury Indicator\")], 0).==\"Q\")\n",
    "p_injury = Int.(Missings.coalesce.(players[:,Symbol(\"Injury Indicator\")], 0).==\"P\");"
   ]
  },
  {
   "cell_type": "code",
   "execution_count": 245,
   "metadata": {},
   "outputs": [
    {
     "data": {
      "text/html": [
       "<table class=\"data-frame\"><thead><tr><th></th><th>Nickname</th><th>Position</th></tr><tr><th></th><th>String</th><th>String</th></tr></thead><tbody><p>9 rows × 2 columns</p><tr><th>1</th><td>Bradley Beal</td><td>SG</td></tr><tr><th>2</th><td>Delon Wright</td><td>SG</td></tr><tr><th>3</th><td>Ivica Zubac</td><td>C</td></tr><tr><th>4</th><td>Jalen Brunson</td><td>PG</td></tr><tr><th>5</th><td>Kawhi Leonard</td><td>PF</td></tr><tr><th>6</th><td>Luka Doncic</td><td>PG</td></tr><tr><th>7</th><td>Rui Hachimura</td><td>PF</td></tr><tr><th>8</th><td>Troy Brown</td><td>SF</td></tr><tr><th>9</th><td>Will Barton</td><td>SF</td></tr></tbody></table>"
      ],
      "text/latex": [
       "\\begin{tabular}{r|cc}\n",
       "\t& Nickname & Position\\\\\n",
       "\t\\hline\n",
       "\t& String & String\\\\\n",
       "\t\\hline\n",
       "\t1 & Bradley Beal & SG \\\\\n",
       "\t2 & Delon Wright & SG \\\\\n",
       "\t3 & Ivica Zubac & C \\\\\n",
       "\t4 & Jalen Brunson & PG \\\\\n",
       "\t5 & Kawhi Leonard & PF \\\\\n",
       "\t6 & Luka Doncic & PG \\\\\n",
       "\t7 & Rui Hachimura & PF \\\\\n",
       "\t8 & Troy Brown & SF \\\\\n",
       "\t9 & Will Barton & SF \\\\\n",
       "\\end{tabular}\n"
      ],
      "text/plain": [
       "9×2 DataFrame\n",
       "│ Row │ Nickname      │ Position │\n",
       "│     │ \u001b[90mString\u001b[39m        │ \u001b[90mString\u001b[39m   │\n",
       "├─────┼───────────────┼──────────┤\n",
       "│ 1   │ Bradley Beal  │ SG       │\n",
       "│ 2   │ Delon Wright  │ SG       │\n",
       "│ 3   │ Ivica Zubac   │ C        │\n",
       "│ 4   │ Jalen Brunson │ PG       │\n",
       "│ 5   │ Kawhi Leonard │ PF       │\n",
       "│ 6   │ Luka Doncic   │ PG       │\n",
       "│ 7   │ Rui Hachimura │ PF       │\n",
       "│ 8   │ Troy Brown    │ SF       │\n",
       "│ 9   │ Will Barton   │ SF       │"
      ]
     },
     "execution_count": 245,
     "metadata": {},
     "output_type": "execute_result"
    }
   ],
   "source": [
    "nb_players = size(players)[1]\n",
    "\n",
    "lineup = Model(solver=GurobiSolver(OutputFlag=0, GUROBI_ENV))\n",
    "@variable(lineup, z[i=1:nb_players], Bin)\n",
    "@objective(lineup, Max, sum(fantasy_points.*z))\n",
    "@constraint(lineup, sum(salary.*z) <= BUDGET)\n",
    "@constraint(lineup, sum(PG.*z) == MAX_PG)\n",
    "@constraint(lineup, sum(SG.*z) == MAX_SG)\n",
    "@constraint(lineup, sum(SF.*z) == MAX_SF)\n",
    "@constraint(lineup, sum(PF.*z) == MAX_PF)\n",
    "@constraint(lineup, sum(C.*z) == MAX_C)\n",
    "@constraint(lineup, z .<= (1 .-injury))\n",
    "\n",
    "solve(lineup)\n",
    "z_opt = Int.(getvalue(z))\n",
    "names = sort(players[z_opt.==1,[:Nickname,:Position]])"
   ]
  },
  {
   "cell_type": "code",
   "execution_count": 359,
   "metadata": {},
   "outputs": [],
   "source": [
    "NB_LINEUPS = 10\n",
    "MAX_OVERLAP = 6\n",
    "\n",
    "nb_players = size(players)[1]\n",
    "model = Model(solver=GurobiSolver(OutputFlag=0, GUROBI_ENV))\n",
    "@variable(model, z[i=1:nb_players], Bin)\n",
    "@objective(model, Max, sum(fantasy_points.*z))\n",
    "@constraint(model, sum(salary.*z) <= BUDGET)\n",
    "@constraint(model, sum(PG.*z) == MAX_PG)\n",
    "@constraint(model, sum(SG.*z) == MAX_SG)\n",
    "@constraint(model, sum(SF.*z) == MAX_SF)\n",
    "@constraint(model, sum(PF.*z) == MAX_PF)\n",
    "@constraint(model, sum(C.*z) == MAX_C)\n",
    "@constraint(model, z .<= (1 .- injury))\n",
    "solve(model)\n",
    "x = Int.(getvalue(z))\n",
    "lineups = players[x.==1,[:Nickname, :Position, :FPPG]]    \n",
    "names!(lineups, Symbol.([string(\"Nickname_\",1), string(\"Position_\",1), string(\"FP_\",1)]))    \n",
    "@constraint(model, sum(x.*z) <= MAX_OVERLAP)\n",
    "for i=2:NB_LINEUPS\n",
    "    solve(model)\n",
    "    x = hcat(x,Int.(getvalue(z)))\n",
    "    lineups_names = players[x[:,i].==1, [:Nickname, :Position, :FPPG]]\n",
    "    names!(lineups_names, Symbol.([string(\"Nickname_\",i), string(\"Position_\",i), string(\"FP_\",i)]))    \n",
    "    lineups = hcat(lineups, lineups_names)\n",
    "    @constraint(model, sum(x[:,i].*z) <= MAX_OVERLAP)\n",
    "end"
   ]
  },
  {
   "cell_type": "code",
   "execution_count": 360,
   "metadata": {},
   "outputs": [
    {
     "data": {
      "text/html": [
       "<table class=\"data-frame\"><thead><tr><th></th><th>Nickname_1</th><th>Position_1</th><th>FP_1</th><th>Nickname_2</th><th>Position_2</th><th>FP_2</th><th>Nickname_3</th></tr><tr><th></th><th>String</th><th>String</th><th>Float64</th><th>String</th><th>String</th><th>Float64</th><th>String</th></tr></thead><tbody><p>9 rows × 30 columns (omitted printing of 23 columns)</p><tr><th>1</th><td>Luka Doncic</td><td>PG</td><td>57.5875</td><td>Luka Doncic</td><td>PG</td><td>57.5875</td><td>Luka Doncic</td></tr><tr><th>2</th><td>Kawhi Leonard</td><td>PF</td><td>48.7667</td><td>Kawhi Leonard</td><td>PF</td><td>48.7667</td><td>Kawhi Leonard</td></tr><tr><th>3</th><td>Bradley Beal</td><td>SG</td><td>45.8429</td><td>Montrezl Harrell</td><td>C</td><td>36.7412</td><td>Bradley Beal</td></tr><tr><th>4</th><td>Will Barton</td><td>SF</td><td>31.4231</td><td>Lou Williams</td><td>SG</td><td>34.5412</td><td>Will Barton</td></tr><tr><th>5</th><td>Rui Hachimura</td><td>PF</td><td>23.2</td><td>Will Barton</td><td>SF</td><td>31.4231</td><td>Moritz Wagner</td></tr><tr><th>6</th><td>Delon Wright</td><td>SG</td><td>21.0938</td><td>Delon Wright</td><td>SG</td><td>21.0938</td><td>Delon Wright</td></tr><tr><th>7</th><td>Ivica Zubac</td><td>C</td><td>21.5294</td><td>J.J. Barea</td><td>PG</td><td>17.45</td><td>Ish Smith</td></tr><tr><th>8</th><td>Troy Brown</td><td>SF</td><td>18.4091</td><td>JaMychal Green</td><td>PF</td><td>18.0941</td><td>JaMychal Green</td></tr><tr><th>9</th><td>Jalen Brunson</td><td>PG</td><td>16.3625</td><td>Troy Brown</td><td>SF</td><td>18.4091</td><td>Troy Brown</td></tr></tbody></table>"
      ],
      "text/latex": [
       "\\begin{tabular}{r|cccccccc}\n",
       "\t& Nickname\\_1 & Position\\_1 & FP\\_1 & Nickname\\_2 & Position\\_2 & FP\\_2 & Nickname\\_3 & \\\\\n",
       "\t\\hline\n",
       "\t& String & String & Float64 & String & String & Float64 & String & \\\\\n",
       "\t\\hline\n",
       "\t1 & Luka Doncic & PG & 57.5875 & Luka Doncic & PG & 57.5875 & Luka Doncic & $\\dots$ \\\\\n",
       "\t2 & Kawhi Leonard & PF & 48.7667 & Kawhi Leonard & PF & 48.7667 & Kawhi Leonard & $\\dots$ \\\\\n",
       "\t3 & Bradley Beal & SG & 45.8429 & Montrezl Harrell & C & 36.7412 & Bradley Beal & $\\dots$ \\\\\n",
       "\t4 & Will Barton & SF & 31.4231 & Lou Williams & SG & 34.5412 & Will Barton & $\\dots$ \\\\\n",
       "\t5 & Rui Hachimura & PF & 23.2 & Will Barton & SF & 31.4231 & Moritz Wagner & $\\dots$ \\\\\n",
       "\t6 & Delon Wright & SG & 21.0938 & Delon Wright & SG & 21.0938 & Delon Wright & $\\dots$ \\\\\n",
       "\t7 & Ivica Zubac & C & 21.5294 & J.J. Barea & PG & 17.45 & Ish Smith & $\\dots$ \\\\\n",
       "\t8 & Troy Brown & SF & 18.4091 & JaMychal Green & PF & 18.0941 & JaMychal Green & $\\dots$ \\\\\n",
       "\t9 & Jalen Brunson & PG & 16.3625 & Troy Brown & SF & 18.4091 & Troy Brown & $\\dots$ \\\\\n",
       "\\end{tabular}\n"
      ],
      "text/plain": [
       "9×30 DataFrame. Omitted printing of 25 columns\n",
       "│ Row │ Nickname_1    │ Position_1 │ FP_1    │ Nickname_2       │ Position_2 │\n",
       "│     │ \u001b[90mString\u001b[39m        │ \u001b[90mString\u001b[39m     │ \u001b[90mFloat64\u001b[39m │ \u001b[90mString\u001b[39m           │ \u001b[90mString\u001b[39m     │\n",
       "├─────┼───────────────┼────────────┼─────────┼──────────────────┼────────────┤\n",
       "│ 1   │ Luka Doncic   │ PG         │ 57.5875 │ Luka Doncic      │ PG         │\n",
       "│ 2   │ Kawhi Leonard │ PF         │ 48.7667 │ Kawhi Leonard    │ PF         │\n",
       "│ 3   │ Bradley Beal  │ SG         │ 45.8429 │ Montrezl Harrell │ C          │\n",
       "│ 4   │ Will Barton   │ SF         │ 31.4231 │ Lou Williams     │ SG         │\n",
       "│ 5   │ Rui Hachimura │ PF         │ 23.2    │ Will Barton      │ SF         │\n",
       "│ 6   │ Delon Wright  │ SG         │ 21.0938 │ Delon Wright     │ SG         │\n",
       "│ 7   │ Ivica Zubac   │ C          │ 21.5294 │ J.J. Barea       │ PG         │\n",
       "│ 8   │ Troy Brown    │ SF         │ 18.4091 │ JaMychal Green   │ PF         │\n",
       "│ 9   │ Jalen Brunson │ PG         │ 16.3625 │ Troy Brown       │ SF         │"
      ]
     },
     "execution_count": 360,
     "metadata": {},
     "output_type": "execute_result"
    }
   ],
   "source": [
    "lineups"
   ]
  },
  {
   "cell_type": "code",
   "execution_count": 361,
   "metadata": {},
   "outputs": [
    {
     "data": {
      "text/html": [
       "<table class=\"data-frame\"><thead><tr><th></th><th>FP_1_sum</th><th>FP_2_sum</th><th>FP_3_sum</th><th>FP_4_sum</th><th>FP_5_sum</th><th>FP_6_sum</th><th>FP_7_sum</th><th>FP_8_sum</th></tr><tr><th></th><th>Float64</th><th>Float64</th><th>Float64</th><th>Float64</th><th>Float64</th><th>Float64</th><th>Float64</th><th>Float64</th></tr></thead><tbody><p>1 rows × 10 columns (omitted printing of 2 columns)</p><tr><th>1</th><td>284.215</td><td>284.107</td><td>284.031</td><td>283.994</td><td>283.976</td><td>283.166</td><td>282.717</td><td>282.567</td></tr></tbody></table>"
      ],
      "text/latex": [
       "\\begin{tabular}{r|ccccccccc}\n",
       "\t& FP\\_1\\_sum & FP\\_2\\_sum & FP\\_3\\_sum & FP\\_4\\_sum & FP\\_5\\_sum & FP\\_6\\_sum & FP\\_7\\_sum & FP\\_8\\_sum & \\\\\n",
       "\t\\hline\n",
       "\t& Float64 & Float64 & Float64 & Float64 & Float64 & Float64 & Float64 & Float64 & \\\\\n",
       "\t\\hline\n",
       "\t1 & 284.215 & 284.107 & 284.031 & 283.994 & 283.976 & 283.166 & 282.717 & 282.567 & $\\dots$ \\\\\n",
       "\\end{tabular}\n"
      ],
      "text/plain": [
       "1×10 DataFrame. Omitted printing of 4 columns\n",
       "│ Row │ FP_1_sum │ FP_2_sum │ FP_3_sum │ FP_4_sum │ FP_5_sum │ FP_6_sum │\n",
       "│     │ \u001b[90mFloat64\u001b[39m  │ \u001b[90mFloat64\u001b[39m  │ \u001b[90mFloat64\u001b[39m  │ \u001b[90mFloat64\u001b[39m  │ \u001b[90mFloat64\u001b[39m  │ \u001b[90mFloat64\u001b[39m  │\n",
       "├─────┼──────────┼──────────┼──────────┼──────────┼──────────┼──────────┤\n",
       "│ 1   │ 284.215  │ 284.107  │ 284.031  │ 283.994  │ 283.976  │ 283.166  │"
      ]
     },
     "execution_count": 361,
     "metadata": {},
     "output_type": "execute_result"
    }
   ],
   "source": [
    "aggregate(lineups[:,Symbol.([string(\"FP_\",i) for i=1:NB_LINEUPS])], sum)"
   ]
  },
  {
   "cell_type": "code",
   "execution_count": null,
   "metadata": {},
   "outputs": [],
   "source": []
  }
 ],
 "metadata": {
  "kernelspec": {
   "display_name": "Julia 1.2.0",
   "language": "julia",
   "name": "julia-1.2"
  },
  "language_info": {
   "file_extension": ".jl",
   "mimetype": "application/julia",
   "name": "julia",
   "version": "1.2.0"
  }
 },
 "nbformat": 4,
 "nbformat_minor": 2
}
