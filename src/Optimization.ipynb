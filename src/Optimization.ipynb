{
 "cells": [
  {
   "cell_type": "code",
   "execution_count": 1,
   "metadata": {},
   "outputs": [],
   "source": [
    "using CSV, JuMP, Gurobi, DataFrames;"
   ]
  },
  {
   "cell_type": "code",
   "execution_count": 2,
   "metadata": {},
   "outputs": [
    {
     "name": "stdout",
     "output_type": "stream",
     "text": [
      "Academic license - for non-commercial use only\n"
     ]
    }
   ],
   "source": [
    "GUROBI_ENV = Gurobi.Env();"
   ]
  },
  {
   "cell_type": "markdown",
   "metadata": {},
   "source": [
    "# Reading Data"
   ]
  },
  {
   "cell_type": "code",
   "execution_count": 101,
   "metadata": {},
   "outputs": [
    {
     "data": {
      "text/plain": [
       "\"2019-12-01-41164\""
      ]
     },
     "execution_count": 101,
     "metadata": {},
     "output_type": "execute_result"
    }
   ],
   "source": [
    "COMPETITION_KEY = \"2019-12-01-41164\""
   ]
  },
  {
   "cell_type": "code",
   "execution_count": 102,
   "metadata": {},
   "outputs": [],
   "source": [
    "PLAYERS_DATA_PATH = \"../data/optimization_input_\" * COMPETITION_KEY * \".csv\";\n",
    "OUTPUT_PATH = \"../output/lineups_\" * COMPETITION_KEY * \".csv\";"
   ]
  },
  {
   "cell_type": "code",
   "execution_count": 103,
   "metadata": {},
   "outputs": [],
   "source": [
    "players = CSV.read(PLAYERS_DATA_PATH);"
   ]
  },
  {
   "cell_type": "code",
   "execution_count": 104,
   "metadata": {},
   "outputs": [
    {
     "data": {
      "text/plain": [
       "3-element Array{String,1}:\n",
       " \"WAS@LAC\"\n",
       " \"UTA@TOR\"\n",
       " \"GS@ORL\" "
      ]
     },
     "execution_count": 104,
     "metadata": {},
     "output_type": "execute_result"
    }
   ],
   "source": [
    "players[:,:Game].pool"
   ]
  },
  {
   "cell_type": "markdown",
   "metadata": {},
   "source": [
    "# IP Inputs"
   ]
  },
  {
   "cell_type": "code",
   "execution_count": 105,
   "metadata": {},
   "outputs": [],
   "source": [
    "# Fantasy points\n",
    "fantasy_points = players[:,:prediction];\n",
    "# Positions\n",
    "PG = Int.(players[:,:Position].==\"PG\")\n",
    "SG = Int.(players[:,:Position].==\"SG\")\n",
    "SF = Int.(players[:,:Position].==\"SF\");\n",
    "PF = Int.(players[:,:Position].==\"PF\")\n",
    "C  = Int.(players[:,:Position].==\"C\")\n",
    "# Salary\n",
    "salary = players[:,:Salary];\n",
    "# Injuries\n",
    "injury = 1 .- ismissing.(players[:,Symbol(\"Injury Indicator\")]) \n",
    "o_injury = Int.(Missings.coalesce.(players[:,Symbol(\"Injury Indicator\")], 0).==\"O\")\n",
    "q_injury = Int.(Missings.coalesce.(players[:,Symbol(\"Injury Indicator\")], 0).==\"Q\")\n",
    "p_injury = Int.(Missings.coalesce.(players[:,Symbol(\"Injury Indicator\")], 0).==\"P\");"
   ]
  },
  {
   "cell_type": "code",
   "execution_count": 106,
   "metadata": {},
   "outputs": [],
   "source": [
    "# Maximum players by position\n",
    "MAX_PG = 2\n",
    "MAX_SG = 2\n",
    "MAX_SF = 2\n",
    "MAX_PF = 2\n",
    "MAX_C = 1\n",
    "# Budget\n",
    "BUDGET = 60000.0\n",
    "# Number of lineups\n",
    "NB_LINEUPS = 4\n",
    "# Maximum of player overleaping\n",
    "MAX_OVERLAP = 4;"
   ]
  },
  {
   "cell_type": "markdown",
   "metadata": {},
   "source": [
    "# IP Formulation"
   ]
  },
  {
   "cell_type": "code",
   "execution_count": 107,
   "metadata": {},
   "outputs": [],
   "source": [
    "# Number of players\n",
    "nb_players = size(players)[1]\n",
    "\n",
    "# Model\n",
    "model = Model(solver=GurobiSolver(OutputFlag=0, GUROBI_ENV))\n",
    "\n",
    "# Variable\n",
    "@variable(model, z[i=1:nb_players], Bin)\n",
    "\n",
    "# Constrains without the overleap constraint\n",
    "@objective(model, Max, sum(fantasy_points.*z))\n",
    "@constraint(model, sum(salary.*z) <= BUDGET)\n",
    "@constraint(model, sum(PG.*z) == MAX_PG)\n",
    "@constraint(model, sum(SG.*z) == MAX_SG)\n",
    "@constraint(model, sum(SF.*z) == MAX_SF)\n",
    "@constraint(model, sum(PF.*z) == MAX_PF)\n",
    "@constraint(model, sum(C.*z) == MAX_C)\n",
    "@constraint(model, z .<= (1 .- injury))\n",
    "\n",
    "# Initialization (iteration=1)\n",
    "solve(model)\n",
    "x = Int.(getvalue(z))\n",
    "lineups = players[x.==1,[:name, :Position, :team_key ,:prediction]]    \n",
    "names!(lineups, Symbol.([string(\"Name_\",1), string(\"Position_\",1), string(\"Team_\",1), string(\"FP_\",1)]))  \n",
    "\n",
    "# Rest of iterations\n",
    "@constraint(model, sum(x.*z) <= MAX_OVERLAP)\n",
    "for i=2:NB_LINEUPS\n",
    "    solve(model)\n",
    "    x = hcat(x,Int.(getvalue(z)))\n",
    "    lineups_names = players[x[:,i].==1, [:name, :Position, :team_key, :prediction]]\n",
    "    names!(lineups_names, Symbol.([string(\"Name_\",i), string(\"Position_\",i), string(\"Team_\",i), string(\"FP_\",i)]))    \n",
    "    lineups = hcat(lineups, lineups_names)\n",
    "    @constraint(model, sum(x[:,i].*z) <= MAX_OVERLAP)\n",
    "end\n",
    "\n",
    "CSV.write(OUTPUT_PATH, lineups);"
   ]
  },
  {
   "cell_type": "code",
   "execution_count": 108,
   "metadata": {},
   "outputs": [
    {
     "data": {
      "text/html": [
       "<table class=\"data-frame\"><thead><tr><th></th><th>Name_1</th><th>Position_1</th><th>Team_1</th><th>FP_1</th><th>Name_2</th><th>Position_2</th><th>Team_2</th></tr><tr><th></th><th>String</th><th>String</th><th>String</th><th>Float64</th><th>String</th><th>String</th><th>String</th></tr></thead><tbody><p>9 rows × 16 columns (omitted printing of 9 columns)</p><tr><th>1</th><td>Bradley Beal</td><td>SG</td><td>WAS</td><td>53.4317</td><td>Kawhi Leonard</td><td>PF</td><td>LAC</td></tr><tr><th>2</th><td>Paul George</td><td>SF</td><td>LAC</td><td>54.6104</td><td>Paul George</td><td>SF</td><td>LAC</td></tr><tr><th>3</th><td>Fred VanVleet</td><td>PG</td><td>TOR</td><td>43.2081</td><td>Donovan Mitchell</td><td>SG</td><td>UTA</td></tr><tr><th>4</th><td>Bojan Bogdanovic</td><td>SF</td><td>UTA</td><td>39.0917</td><td>Bojan Bogdanovic</td><td>SF</td><td>UTA</td></tr><tr><th>5</th><td>Evan Fournier</td><td>SG</td><td>ORL</td><td>39.2203</td><td>Mike Conley</td><td>PG</td><td>UTA</td></tr><tr><th>6</th><td>Aaron Gordon</td><td>PF</td><td>ORL</td><td>34.4912</td><td>Marc Gasol</td><td>C</td><td>TOR</td></tr><tr><th>7</th><td>D.J. Augustin</td><td>PG</td><td>ORL</td><td>28.7639</td><td>D.J. Augustin</td><td>PG</td><td>ORL</td></tr><tr><th>8</th><td>Mo Bamba</td><td>C</td><td>ORL</td><td>25.7915</td><td>Terrence Ross</td><td>SG</td><td>ORL</td></tr><tr><th>9</th><td>Omari Spellman</td><td>PF</td><td>GS</td><td>27.3356</td><td>Omari Spellman</td><td>PF</td><td>GS</td></tr></tbody></table>"
      ],
      "text/latex": [
       "\\begin{tabular}{r|cccccccc}\n",
       "\t& Name\\_1 & Position\\_1 & Team\\_1 & FP\\_1 & Name\\_2 & Position\\_2 & Team\\_2 & \\\\\n",
       "\t\\hline\n",
       "\t& String & String & String & Float64 & String & String & String & \\\\\n",
       "\t\\hline\n",
       "\t1 & Bradley Beal & SG & WAS & 53.4317 & Kawhi Leonard & PF & LAC & $\\dots$ \\\\\n",
       "\t2 & Paul George & SF & LAC & 54.6104 & Paul George & SF & LAC & $\\dots$ \\\\\n",
       "\t3 & Fred VanVleet & PG & TOR & 43.2081 & Donovan Mitchell & SG & UTA & $\\dots$ \\\\\n",
       "\t4 & Bojan Bogdanovic & SF & UTA & 39.0917 & Bojan Bogdanovic & SF & UTA & $\\dots$ \\\\\n",
       "\t5 & Evan Fournier & SG & ORL & 39.2203 & Mike Conley & PG & UTA & $\\dots$ \\\\\n",
       "\t6 & Aaron Gordon & PF & ORL & 34.4912 & Marc Gasol & C & TOR & $\\dots$ \\\\\n",
       "\t7 & D.J. Augustin & PG & ORL & 28.7639 & D.J. Augustin & PG & ORL & $\\dots$ \\\\\n",
       "\t8 & Mo Bamba & C & ORL & 25.7915 & Terrence Ross & SG & ORL & $\\dots$ \\\\\n",
       "\t9 & Omari Spellman & PF & GS & 27.3356 & Omari Spellman & PF & GS & $\\dots$ \\\\\n",
       "\\end{tabular}\n"
      ],
      "text/plain": [
       "9×16 DataFrame. Omitted printing of 11 columns\n",
       "│ Row │ Name_1           │ Position_1 │ Team_1 │ FP_1    │ Name_2           │\n",
       "│     │ \u001b[90mString\u001b[39m           │ \u001b[90mString\u001b[39m     │ \u001b[90mString\u001b[39m │ \u001b[90mFloat64\u001b[39m │ \u001b[90mString\u001b[39m           │\n",
       "├─────┼──────────────────┼────────────┼────────┼─────────┼──────────────────┤\n",
       "│ 1   │ Bradley Beal     │ SG         │ WAS    │ 53.4317 │ Kawhi Leonard    │\n",
       "│ 2   │ Paul George      │ SF         │ LAC    │ 54.6104 │ Paul George      │\n",
       "│ 3   │ Fred VanVleet    │ PG         │ TOR    │ 43.2081 │ Donovan Mitchell │\n",
       "│ 4   │ Bojan Bogdanovic │ SF         │ UTA    │ 39.0917 │ Bojan Bogdanovic │\n",
       "│ 5   │ Evan Fournier    │ SG         │ ORL    │ 39.2203 │ Mike Conley      │\n",
       "│ 6   │ Aaron Gordon     │ PF         │ ORL    │ 34.4912 │ Marc Gasol       │\n",
       "│ 7   │ D.J. Augustin    │ PG         │ ORL    │ 28.7639 │ D.J. Augustin    │\n",
       "│ 8   │ Mo Bamba         │ C          │ ORL    │ 25.7915 │ Terrence Ross    │\n",
       "│ 9   │ Omari Spellman   │ PF         │ GS     │ 27.3356 │ Omari Spellman   │"
      ]
     },
     "execution_count": 108,
     "metadata": {},
     "output_type": "execute_result"
    }
   ],
   "source": [
    "DataFrame(lineups)"
   ]
  },
  {
   "cell_type": "code",
   "execution_count": 109,
   "metadata": {},
   "outputs": [
    {
     "data": {
      "text/html": [
       "<table class=\"data-frame\"><thead><tr><th></th><th>Name_1</th><th>Position_1</th><th>Team_1</th><th>FP_1</th><th>Name_2</th><th>Position_2</th><th>Team_2</th></tr><tr><th></th><th>String</th><th>String</th><th>String</th><th>Float64</th><th>String</th><th>String</th><th>String</th></tr></thead><tbody><p>9 rows × 16 columns (omitted printing of 9 columns)</p><tr><th>1</th><td>Bradley Beal</td><td>SG</td><td>WAS</td><td>53.4317</td><td>Kawhi Leonard</td><td>PF</td><td>LAC</td></tr><tr><th>2</th><td>Paul George</td><td>SF</td><td>LAC</td><td>54.6104</td><td>Paul George</td><td>SF</td><td>LAC</td></tr><tr><th>3</th><td>Fred VanVleet</td><td>PG</td><td>TOR</td><td>43.2081</td><td>Donovan Mitchell</td><td>SG</td><td>UTA</td></tr><tr><th>4</th><td>Bojan Bogdanovic</td><td>SF</td><td>UTA</td><td>39.0917</td><td>Bojan Bogdanovic</td><td>SF</td><td>UTA</td></tr><tr><th>5</th><td>Evan Fournier</td><td>SG</td><td>ORL</td><td>39.2203</td><td>Mike Conley</td><td>PG</td><td>UTA</td></tr><tr><th>6</th><td>Aaron Gordon</td><td>PF</td><td>ORL</td><td>34.4912</td><td>Marc Gasol</td><td>C</td><td>TOR</td></tr><tr><th>7</th><td>D.J. Augustin</td><td>PG</td><td>ORL</td><td>28.7639</td><td>D.J. Augustin</td><td>PG</td><td>ORL</td></tr><tr><th>8</th><td>Mo Bamba</td><td>C</td><td>ORL</td><td>25.7915</td><td>Terrence Ross</td><td>SG</td><td>ORL</td></tr><tr><th>9</th><td>Omari Spellman</td><td>PF</td><td>GS</td><td>27.3356</td><td>Omari Spellman</td><td>PF</td><td>GS</td></tr></tbody></table>"
      ],
      "text/latex": [
       "\\begin{tabular}{r|cccccccc}\n",
       "\t& Name\\_1 & Position\\_1 & Team\\_1 & FP\\_1 & Name\\_2 & Position\\_2 & Team\\_2 & \\\\\n",
       "\t\\hline\n",
       "\t& String & String & String & Float64 & String & String & String & \\\\\n",
       "\t\\hline\n",
       "\t1 & Bradley Beal & SG & WAS & 53.4317 & Kawhi Leonard & PF & LAC & $\\dots$ \\\\\n",
       "\t2 & Paul George & SF & LAC & 54.6104 & Paul George & SF & LAC & $\\dots$ \\\\\n",
       "\t3 & Fred VanVleet & PG & TOR & 43.2081 & Donovan Mitchell & SG & UTA & $\\dots$ \\\\\n",
       "\t4 & Bojan Bogdanovic & SF & UTA & 39.0917 & Bojan Bogdanovic & SF & UTA & $\\dots$ \\\\\n",
       "\t5 & Evan Fournier & SG & ORL & 39.2203 & Mike Conley & PG & UTA & $\\dots$ \\\\\n",
       "\t6 & Aaron Gordon & PF & ORL & 34.4912 & Marc Gasol & C & TOR & $\\dots$ \\\\\n",
       "\t7 & D.J. Augustin & PG & ORL & 28.7639 & D.J. Augustin & PG & ORL & $\\dots$ \\\\\n",
       "\t8 & Mo Bamba & C & ORL & 25.7915 & Terrence Ross & SG & ORL & $\\dots$ \\\\\n",
       "\t9 & Omari Spellman & PF & GS & 27.3356 & Omari Spellman & PF & GS & $\\dots$ \\\\\n",
       "\\end{tabular}\n"
      ],
      "text/plain": [
       "9×16 DataFrame. Omitted printing of 11 columns\n",
       "│ Row │ Name_1           │ Position_1 │ Team_1 │ FP_1    │ Name_2           │\n",
       "│     │ \u001b[90mString\u001b[39m           │ \u001b[90mString\u001b[39m     │ \u001b[90mString\u001b[39m │ \u001b[90mFloat64\u001b[39m │ \u001b[90mString\u001b[39m           │\n",
       "├─────┼──────────────────┼────────────┼────────┼─────────┼──────────────────┤\n",
       "│ 1   │ Bradley Beal     │ SG         │ WAS    │ 53.4317 │ Kawhi Leonard    │\n",
       "│ 2   │ Paul George      │ SF         │ LAC    │ 54.6104 │ Paul George      │\n",
       "│ 3   │ Fred VanVleet    │ PG         │ TOR    │ 43.2081 │ Donovan Mitchell │\n",
       "│ 4   │ Bojan Bogdanovic │ SF         │ UTA    │ 39.0917 │ Bojan Bogdanovic │\n",
       "│ 5   │ Evan Fournier    │ SG         │ ORL    │ 39.2203 │ Mike Conley      │\n",
       "│ 6   │ Aaron Gordon     │ PF         │ ORL    │ 34.4912 │ Marc Gasol       │\n",
       "│ 7   │ D.J. Augustin    │ PG         │ ORL    │ 28.7639 │ D.J. Augustin    │\n",
       "│ 8   │ Mo Bamba         │ C          │ ORL    │ 25.7915 │ Terrence Ross    │\n",
       "│ 9   │ Omari Spellman   │ PF         │ GS     │ 27.3356 │ Omari Spellman   │"
      ]
     },
     "execution_count": 109,
     "metadata": {},
     "output_type": "execute_result"
    }
   ],
   "source": [
    "lineups"
   ]
  },
  {
   "cell_type": "markdown",
   "metadata": {},
   "source": [
    "# Results"
   ]
  },
  {
   "cell_type": "code",
   "execution_count": 94,
   "metadata": {},
   "outputs": [
    {
     "data": {
      "text/plain": [
       "3-element Array{String,1}:\n",
       " \"WAS@LAC\"\n",
       " \"UTA@TOR\"\n",
       " \"GS@ORL\" "
      ]
     },
     "execution_count": 94,
     "metadata": {},
     "output_type": "execute_result"
    }
   ],
   "source": [
    "players[:,:Game].pool"
   ]
  },
  {
   "cell_type": "code",
   "execution_count": 95,
   "metadata": {},
   "outputs": [
    {
     "data": {
      "text/html": [
       "<table class=\"data-frame\"><thead><tr><th></th><th>Name_1</th><th>Position_1</th><th>Team_1</th><th>FP_1</th><th>Name_2</th><th>Position_2</th><th>Team_2</th></tr><tr><th></th><th>String</th><th>String</th><th>String</th><th>Float64</th><th>String</th><th>String</th><th>String</th></tr></thead><tbody><p>9 rows × 16 columns (omitted printing of 9 columns)</p><tr><th>1</th><td>Bradley Beal</td><td>SG</td><td>WAS</td><td>53.4317</td><td>Kawhi Leonard</td><td>PF</td><td>LAC</td></tr><tr><th>2</th><td>Paul George</td><td>SF</td><td>LAC</td><td>54.6104</td><td>Paul George</td><td>SF</td><td>LAC</td></tr><tr><th>3</th><td>Fred VanVleet</td><td>PG</td><td>TOR</td><td>43.2081</td><td>Donovan Mitchell</td><td>SG</td><td>UTA</td></tr><tr><th>4</th><td>Bojan Bogdanovic</td><td>SF</td><td>UTA</td><td>39.0917</td><td>Bojan Bogdanovic</td><td>SF</td><td>UTA</td></tr><tr><th>5</th><td>Evan Fournier</td><td>SG</td><td>ORL</td><td>39.2203</td><td>Mike Conley</td><td>PG</td><td>UTA</td></tr><tr><th>6</th><td>Aaron Gordon</td><td>PF</td><td>ORL</td><td>34.4912</td><td>Marc Gasol</td><td>C</td><td>TOR</td></tr><tr><th>7</th><td>D.J. Augustin</td><td>PG</td><td>ORL</td><td>28.7639</td><td>D.J. Augustin</td><td>PG</td><td>ORL</td></tr><tr><th>8</th><td>Mo Bamba</td><td>C</td><td>ORL</td><td>25.7915</td><td>Terrence Ross</td><td>SG</td><td>ORL</td></tr><tr><th>9</th><td>Omari Spellman</td><td>PF</td><td>GS</td><td>27.3356</td><td>Omari Spellman</td><td>PF</td><td>GS</td></tr></tbody></table>"
      ],
      "text/latex": [
       "\\begin{tabular}{r|cccccccc}\n",
       "\t& Name\\_1 & Position\\_1 & Team\\_1 & FP\\_1 & Name\\_2 & Position\\_2 & Team\\_2 & \\\\\n",
       "\t\\hline\n",
       "\t& String & String & String & Float64 & String & String & String & \\\\\n",
       "\t\\hline\n",
       "\t1 & Bradley Beal & SG & WAS & 53.4317 & Kawhi Leonard & PF & LAC & $\\dots$ \\\\\n",
       "\t2 & Paul George & SF & LAC & 54.6104 & Paul George & SF & LAC & $\\dots$ \\\\\n",
       "\t3 & Fred VanVleet & PG & TOR & 43.2081 & Donovan Mitchell & SG & UTA & $\\dots$ \\\\\n",
       "\t4 & Bojan Bogdanovic & SF & UTA & 39.0917 & Bojan Bogdanovic & SF & UTA & $\\dots$ \\\\\n",
       "\t5 & Evan Fournier & SG & ORL & 39.2203 & Mike Conley & PG & UTA & $\\dots$ \\\\\n",
       "\t6 & Aaron Gordon & PF & ORL & 34.4912 & Marc Gasol & C & TOR & $\\dots$ \\\\\n",
       "\t7 & D.J. Augustin & PG & ORL & 28.7639 & D.J. Augustin & PG & ORL & $\\dots$ \\\\\n",
       "\t8 & Mo Bamba & C & ORL & 25.7915 & Terrence Ross & SG & ORL & $\\dots$ \\\\\n",
       "\t9 & Omari Spellman & PF & GS & 27.3356 & Omari Spellman & PF & GS & $\\dots$ \\\\\n",
       "\\end{tabular}\n"
      ],
      "text/plain": [
       "9×16 DataFrame. Omitted printing of 11 columns\n",
       "│ Row │ Name_1           │ Position_1 │ Team_1 │ FP_1    │ Name_2           │\n",
       "│     │ \u001b[90mString\u001b[39m           │ \u001b[90mString\u001b[39m     │ \u001b[90mString\u001b[39m │ \u001b[90mFloat64\u001b[39m │ \u001b[90mString\u001b[39m           │\n",
       "├─────┼──────────────────┼────────────┼────────┼─────────┼──────────────────┤\n",
       "│ 1   │ Bradley Beal     │ SG         │ WAS    │ 53.4317 │ Kawhi Leonard    │\n",
       "│ 2   │ Paul George      │ SF         │ LAC    │ 54.6104 │ Paul George      │\n",
       "│ 3   │ Fred VanVleet    │ PG         │ TOR    │ 43.2081 │ Donovan Mitchell │\n",
       "│ 4   │ Bojan Bogdanovic │ SF         │ UTA    │ 39.0917 │ Bojan Bogdanovic │\n",
       "│ 5   │ Evan Fournier    │ SG         │ ORL    │ 39.2203 │ Mike Conley      │\n",
       "│ 6   │ Aaron Gordon     │ PF         │ ORL    │ 34.4912 │ Marc Gasol       │\n",
       "│ 7   │ D.J. Augustin    │ PG         │ ORL    │ 28.7639 │ D.J. Augustin    │\n",
       "│ 8   │ Mo Bamba         │ C          │ ORL    │ 25.7915 │ Terrence Ross    │\n",
       "│ 9   │ Omari Spellman   │ PF         │ GS     │ 27.3356 │ Omari Spellman   │"
      ]
     },
     "execution_count": 95,
     "metadata": {},
     "output_type": "execute_result"
    }
   ],
   "source": [
    "# Lineups\n",
    "lineups"
   ]
  },
  {
   "cell_type": "code",
   "execution_count": 96,
   "metadata": {
    "scrolled": true
   },
   "outputs": [
    {
     "data": {
      "text/html": [
       "<table class=\"data-frame\"><thead><tr><th></th><th>FP_1_sum</th><th>FP_2_sum</th><th>FP_3_sum</th><th>FP_4_sum</th></tr><tr><th></th><th>Float64</th><th>Float64</th><th>Float64</th><th>Float64</th></tr></thead><tbody><p>1 rows × 4 columns</p><tr><th>1</th><td>345.944</td><td>341.979</td><td>341.916</td><td>341.176</td></tr></tbody></table>"
      ],
      "text/latex": [
       "\\begin{tabular}{r|cccc}\n",
       "\t& FP\\_1\\_sum & FP\\_2\\_sum & FP\\_3\\_sum & FP\\_4\\_sum\\\\\n",
       "\t\\hline\n",
       "\t& Float64 & Float64 & Float64 & Float64\\\\\n",
       "\t\\hline\n",
       "\t1 & 345.944 & 341.979 & 341.916 & 341.176 \\\\\n",
       "\\end{tabular}\n"
      ],
      "text/plain": [
       "1×4 DataFrame\n",
       "│ Row │ FP_1_sum │ FP_2_sum │ FP_3_sum │ FP_4_sum │\n",
       "│     │ \u001b[90mFloat64\u001b[39m  │ \u001b[90mFloat64\u001b[39m  │ \u001b[90mFloat64\u001b[39m  │ \u001b[90mFloat64\u001b[39m  │\n",
       "├─────┼──────────┼──────────┼──────────┼──────────┤\n",
       "│ 1   │ 345.944  │ 341.979  │ 341.916  │ 341.176  │"
      ]
     },
     "execution_count": 96,
     "metadata": {},
     "output_type": "execute_result"
    }
   ],
   "source": [
    "# FP per lineup\n",
    "aggregate(lineups[:,Symbol.([string(\"FP_\",i) for i=1:NB_LINEUPS])], sum)"
   ]
  },
  {
   "cell_type": "code",
   "execution_count": null,
   "metadata": {},
   "outputs": [],
   "source": []
  },
  {
   "cell_type": "code",
   "execution_count": null,
   "metadata": {},
   "outputs": [],
   "source": []
  }
 ],
 "metadata": {
  "kernelspec": {
   "display_name": "Julia 1.2.0",
   "language": "julia",
   "name": "julia-1.2"
  },
  "language_info": {
   "file_extension": ".jl",
   "mimetype": "application/julia",
   "name": "julia",
   "version": "1.2.0"
  }
 },
 "nbformat": 4,
 "nbformat_minor": 2
}
