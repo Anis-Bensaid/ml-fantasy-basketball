{
 "cells": [
  {
   "cell_type": "markdown",
   "metadata": {},
   "source": [
    "# FanDuel data\n",
    "\n",
    "The purpose of this file is to take in an upcoming FanDuel competition (csv) and generate the inputs necessary for the ML model"
   ]
  },
  {
   "cell_type": "code",
   "execution_count": 1,
   "metadata": {},
   "outputs": [
    {
     "name": "stdout",
     "output_type": "stream",
     "text": [
      "Importing Jupyter notebook from player_matches_data.ipynb\n",
      "Importing Jupyter notebook from games_data.ipynb\n"
     ]
    }
   ],
   "source": [
    "import nbimporter\n",
    "import pandas as pd\n",
    "from datetime import datetime\n",
    "import player_matches_data as pm_data\n",
    "import games_data\n",
    "import pickle\n",
    "import numpy as np"
   ]
  },
  {
   "cell_type": "markdown",
   "metadata": {},
   "source": [
    "## Create games dataframe (input to model)"
   ]
  },
  {
   "cell_type": "code",
   "execution_count": 2,
   "metadata": {},
   "outputs": [],
   "source": [
    "def add_home_game(row):\n",
    "    return row['team_key'] == row['Game'].split(\"@\")[1]"
   ]
  },
  {
   "cell_type": "code",
   "execution_count": 3,
   "metadata": {},
   "outputs": [],
   "source": [
    "def add_date(data):\n",
    "    df = data.copy()\n",
    "    \n",
    "    date = datetime.today()\n",
    "    year = date.year\n",
    "    month = date.month\n",
    "    day = date.day\n",
    "\n",
    "    df['date'] = date\n",
    "    df['year'] = year\n",
    "    df['month'] = month\n",
    "    df['day'] = day\n",
    "\n",
    "    return df"
   ]
  },
  {
   "cell_type": "code",
   "execution_count": 4,
   "metadata": {},
   "outputs": [],
   "source": [
    "def add_player_id(row, name_id_mapping):\n",
    "    name = row['Nickname']\n",
    "    ids = name_id_mapping[name_id_mapping.name == name]['player_id']\n",
    "    \n",
    "    if len(ids) > 0:\n",
    "        return ids.iloc[0]\n",
    "    else:\n",
    "        print(\"Please update player_id for name \" + name)\n",
    "        return None"
   ]
  },
  {
   "cell_type": "code",
   "execution_count": 5,
   "metadata": {},
   "outputs": [],
   "source": [
    "def add_stats_to_data(data, stats):\n",
    "    df = data.copy()\n",
    "    \n",
    "    for stat in stats:\n",
    "        df[stat] = 0\n",
    "\n",
    "    return df"
   ]
  },
  {
   "cell_type": "code",
   "execution_count": 6,
   "metadata": {},
   "outputs": [],
   "source": [
    "def get_competition_for_fanduel(fanduel):\n",
    "    competition = fanduel[fanduel['Injury Indicator'] != \"O\"].copy()\n",
    "        \n",
    "    name_id_mapping = pd.read_csv(\"mappings/name_id_mapping.csv\")\n",
    "    competition['Id'] = competition.apply(lambda x: add_player_id(x, name_id_mapping), axis = 1)\n",
    "    competition = competition.rename(columns={'Id': 'player_id'})\n",
    "    competition = competition.dropna(subset=['player_id'])\n",
    "    competition = competition.drop(columns=['First Name', 'Last Name', 'Injury Details', 'Tier'])\n",
    "    \n",
    "    return competition.dropna(how='all', axis=1)"
   ]
  },
  {
   "cell_type": "code",
   "execution_count": 7,
   "metadata": {},
   "outputs": [],
   "source": [
    "def get_model_input_for_competition(competition, player_matches, player_seasons, rolling_games_window):\n",
    "    adj_comp = competition.copy()\n",
    "    adj_comp['team_key'] = adj_comp['Team']\n",
    "    adj_comp['opponent_key'] = adj_comp['Opponent']\n",
    "    adj_comp['home_game'] = adj_comp.apply(add_home_game, axis = 1)\n",
    "    adj_comp = add_date(adj_comp)\n",
    "\n",
    "    adj_comp = pm_data.add_game_ids(adj_comp)\n",
    "    adj_comp = pm_data.add_season_start_year(adj_comp)\n",
    "    \n",
    "    stats = ['secs', 'fgm', 'fga', '3pm', '3pa', 'ftm', 'fta', 'orb', 'drb', 'ast', 'stl', 'blk', 'tvr', 'pf', 'fp']\n",
    "    fd_complete = add_stats_to_data(adj_comp, stats)\n",
    "    fd_complete = pm_data.roll_with_old_data(fd_complete, player_matches, stats, rolling_games_window)\n",
    "\n",
    "    per_game_df = games_data.create_games_data(fd_complete, player_seasons, 7, ROLLING_GAMES_WINDOW)\n",
    "    \n",
    "    return per_game_df"
   ]
  },
  {
   "cell_type": "markdown",
   "metadata": {},
   "source": [
    "### Testing "
   ]
  },
  {
   "cell_type": "code",
   "execution_count": 8,
   "metadata": {},
   "outputs": [],
   "source": [
    "player_seasons = pd.read_csv(\"../data/raw_data/2009_2019_player_seasons_unique.csv\")\n",
    "player_matches = pd.read_csv(\"../data/raw_data/20100101_20191129_player_matches.csv\")\n",
    "ROLLING_GAMES_WINDOW = 5"
   ]
  },
  {
   "cell_type": "code",
   "execution_count": 9,
   "metadata": {},
   "outputs": [],
   "source": [
    "competition_key = \"2019-12-01-41164\"\n",
    "fanduel = pd.read_csv(\"../data/competitions_fanduel/FanDuel-NBA-\" + competition_key + \"-players-list.csv\")"
   ]
  },
  {
   "cell_type": "code",
   "execution_count": 10,
   "metadata": {
    "scrolled": true
   },
   "outputs": [
    {
     "name": "stdout",
     "output_type": "stream",
     "text": [
      "Please update player_id for name Nigel Williams-Goss\n",
      "Please update player_id for name Garrison Mathews\n",
      "Please update player_id for name Justin Robinson\n",
      "Please update player_id for name Mfiondu Kabengele\n",
      "Please update player_id for name Alen Smailagic\n",
      "Please update player_id for name Oshae Brissett\n",
      "Please update player_id for name Juwan Morgan\n",
      "Please update player_id for name Shamorie Ponds\n",
      "Please update player_id for name Amir Coffey\n",
      "Please update player_id for name BJ Johnson\n",
      "Please update player_id for name Dewan Hernandez\n",
      "Please update player_id for name Jarrell Brantley\n",
      "Please update player_id for name Melvin Frazier\n",
      "Please update player_id for name Miye Oni\n",
      "Please update player_id for name Justin Wright-Foreman\n"
     ]
    }
   ],
   "source": [
    "competition = get_competition_for_fanduel(fanduel)"
   ]
  },
  {
   "cell_type": "code",
   "execution_count": 11,
   "metadata": {},
   "outputs": [],
   "source": [
    "model_input = get_model_input_for_competition(competition, player_matches, player_seasons, ROLLING_GAMES_WINDOW)"
   ]
  },
  {
   "cell_type": "code",
   "execution_count": 12,
   "metadata": {},
   "outputs": [],
   "source": [
    "model_input.to_csv(\"../data/model_inputs/\" + competition_key + \".csv\", index = False)\n",
    "competition.to_csv(\"../data/competitions_clean/\" + competition_key + \".csv\", index = False)"
   ]
  },
  {
   "cell_type": "code",
   "execution_count": null,
   "metadata": {},
   "outputs": [],
   "source": []
  }
 ],
 "metadata": {
  "kernelspec": {
   "display_name": "Python 3",
   "language": "python",
   "name": "python3"
  },
  "language_info": {
   "codemirror_mode": {
    "name": "ipython",
    "version": 3
   },
   "file_extension": ".py",
   "mimetype": "text/x-python",
   "name": "python",
   "nbconvert_exporter": "python",
   "pygments_lexer": "ipython3",
   "version": "3.7.4"
  }
 },
 "nbformat": 4,
 "nbformat_minor": 2
}
