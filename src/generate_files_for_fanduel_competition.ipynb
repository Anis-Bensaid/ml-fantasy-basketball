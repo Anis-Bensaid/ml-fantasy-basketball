{
 "cells": [
  {
   "cell_type": "markdown",
   "metadata": {},
   "source": [
    "# FanDuel data\n",
    "\n",
    "The purpose of this file is to take in an upcoming FanDuel competition (csv) and generate the inputs necessary for the ML model"
   ]
  },
  {
   "cell_type": "code",
   "execution_count": 10,
   "metadata": {},
   "outputs": [
    {
     "name": "stdout",
     "output_type": "stream",
     "text": [
      "Importing Jupyter notebook from player_matches_data.ipynb\n",
      "Importing Jupyter notebook from games_data.ipynb\n"
     ]
    }
   ],
   "source": [
    "import nbimporter\n",
    "import pandas as pd\n",
    "from datetime import datetime\n",
    "import player_matches_data as pm_data\n",
    "import games_data\n",
    "import pickle\n",
    "import numpy as np"
   ]
  },
  {
   "cell_type": "markdown",
   "metadata": {},
   "source": [
    "## Create games dataframe (input to model)"
   ]
  },
  {
   "cell_type": "code",
   "execution_count": 11,
   "metadata": {},
   "outputs": [],
   "source": [
    "def add_home_game(row):\n",
    "    return row['team_key'] == row['Game'].split(\"@\")[1]"
   ]
  },
  {
   "cell_type": "code",
   "execution_count": 12,
   "metadata": {},
   "outputs": [],
   "source": [
    "def add_date(data):\n",
    "    df = data.copy()\n",
    "    \n",
    "    date = datetime.today()\n",
    "    year = date.year\n",
    "    month = date.month\n",
    "    day = date.day\n",
    "\n",
    "    df['date'] = date\n",
    "    df['year'] = year\n",
    "    df['month'] = month\n",
    "    df['day'] = day\n",
    "\n",
    "    return df"
   ]
  },
  {
   "cell_type": "code",
   "execution_count": 13,
   "metadata": {},
   "outputs": [],
   "source": [
    "def add_player_id(row, name_id_mapping):\n",
    "    name = row['Nickname']\n",
    "    ids = name_id_mapping[name_id_mapping.name == name]['player_id']\n",
    "    \n",
    "    if len(ids) > 0:\n",
    "        return ids.iloc[0]\n",
    "    else:\n",
    "        print(\"Please update player_id for name \" + name)\n",
    "        return None"
   ]
  },
  {
   "cell_type": "code",
   "execution_count": 14,
   "metadata": {},
   "outputs": [],
   "source": [
    "def add_stats_to_data(data, stats):\n",
    "    df = data.copy()\n",
    "    \n",
    "    for stat in stats:\n",
    "        df[stat] = 0\n",
    "\n",
    "    return df"
   ]
  },
  {
   "cell_type": "code",
   "execution_count": 15,
   "metadata": {},
   "outputs": [],
   "source": [
    "def get_competition_for_fanduel(fanduel):\n",
    "    competition = fanduel[fanduel['Injury Indicator'] != \"O\"].copy()\n",
    "        \n",
    "    name_id_mapping = pd.read_csv(\"mappings/name_id_mapping.csv\")\n",
    "    competition['Id'] = competition.apply(lambda x: add_player_id(x, name_id_mapping), axis = 1)\n",
    "    competition = competition.rename(columns={'Id': 'player_id'})\n",
    "    competition = competition.dropna(subset=['player_id'])\n",
    "    competition = competition.drop(columns=['First Name', 'Last Name', 'Injury Details', 'Tier'])\n",
    "    \n",
    "    return competition.dropna(how='all', axis=1)"
   ]
  },
  {
   "cell_type": "code",
   "execution_count": 16,
   "metadata": {},
   "outputs": [],
   "source": [
    "def get_model_input_for_competition(competition, player_matches, player_seasons, rolling_games_window, duplicate=False):\n",
    "    adj_comp = competition.copy()\n",
    "    adj_comp['team_key'] = adj_comp['Team']\n",
    "    adj_comp['opponent_key'] = adj_comp['Opponent']\n",
    "    adj_comp['home_game'] = adj_comp.apply(add_home_game, axis = 1)\n",
    "    adj_comp = add_date(adj_comp)\n",
    "\n",
    "    adj_comp = pm_data.add_game_ids(adj_comp)\n",
    "    adj_comp = pm_data.add_season_start_year(adj_comp)\n",
    "    \n",
    "    stats = ['secs', 'fgm', 'fga', '3pm', '3pa', 'ftm', 'fta', 'orb', 'drb', 'ast', 'stl', 'blk', 'tvr', 'pf', 'fp']\n",
    "    fd_complete = add_stats_to_data(adj_comp, stats)\n",
    "\n",
    "    fd_complete = pm_data.roll_with_old_data(fd_complete, player_matches, stats, rolling_games_window)\n",
    "\n",
    "    per_game_df = games_data.create_games_data(fd_complete, player_seasons, 7, ROLLING_GAMES_WINDOW, duplicate)\n",
    "    \n",
    "    return per_game_df"
   ]
  },
  {
   "cell_type": "markdown",
   "metadata": {},
   "source": [
    "### Testing "
   ]
  },
  {
   "cell_type": "code",
   "execution_count": 17,
   "metadata": {},
   "outputs": [],
   "source": [
    "player_seasons = pd.read_csv(\"../data/raw_data/2009_2019_player_seasons_unique.csv\")\n",
    "player_matches = pd.read_csv(\"../data/raw_data/20100101_20191129_player_matches.csv\")\n",
    "ROLLING_GAMES_WINDOW = 5"
   ]
  },
  {
   "cell_type": "code",
   "execution_count": 18,
   "metadata": {},
   "outputs": [],
   "source": [
    "competition_key = \"2019-12-01-41164\"\n",
    "fanduel = pd.read_csv(\"../data/competitions_fanduel/FanDuel-NBA-\" + competition_key + \"-players-list.csv\")"
   ]
  },
  {
   "cell_type": "markdown",
   "metadata": {},
   "source": [
    "### Real competition flow"
   ]
  },
  {
   "cell_type": "code",
   "execution_count": 19,
   "metadata": {
    "scrolled": false
   },
   "outputs": [
    {
     "name": "stdout",
     "output_type": "stream",
     "text": [
      "Please update player_id for name Nigel Williams-Goss\n",
      "Please update player_id for name Garrison Mathews\n",
      "Please update player_id for name Justin Robinson\n",
      "Please update player_id for name Mfiondu Kabengele\n",
      "Please update player_id for name Alen Smailagic\n",
      "Please update player_id for name Oshae Brissett\n",
      "Please update player_id for name Juwan Morgan\n",
      "Please update player_id for name Shamorie Ponds\n",
      "Please update player_id for name Amir Coffey\n",
      "Please update player_id for name BJ Johnson\n",
      "Please update player_id for name Dewan Hernandez\n",
      "Please update player_id for name Jarrell Brantley\n",
      "Please update player_id for name Melvin Frazier\n",
      "Please update player_id for name Miye Oni\n",
      "Please update player_id for name Justin Wright-Foreman\n"
     ]
    }
   ],
   "source": [
    "competition = get_competition_for_fanduel(fanduel)"
   ]
  },
  {
   "cell_type": "code",
   "execution_count": 20,
   "metadata": {},
   "outputs": [],
   "source": [
    "model_input = get_model_input_for_competition(competition, player_matches, player_seasons, ROLLING_GAMES_WINDOW)"
   ]
  },
  {
   "cell_type": "code",
   "execution_count": 12,
   "metadata": {},
   "outputs": [],
   "source": [
    "model_input.to_csv(\"../data/model_inputs/\" + competition_key + \".csv\", index = False)\n",
    "competition.to_csv(\"../data/competitions_clean/\" + competition_key + \".csv\", index = False)"
   ]
  },
  {
   "cell_type": "markdown",
   "metadata": {},
   "source": [
    "### Fake competition flow"
   ]
  },
  {
   "cell_type": "code",
   "execution_count": 21,
   "metadata": {},
   "outputs": [],
   "source": [
    "keys = [\n",
    "    \"2011-01-14\",\n",
    "    \"2011-02-10\",\n",
    "    \"2011-03-05\",\n",
    "    \"2011-11-17\",\n",
    "    \"2011-12-05\",\n",
    "    \"2012-01-14\",\n",
    "    \"2012-02-10\",\n",
    "    \"2012-03-01\",\n",
    "    \"2012-03-05\",\n",
    "    \"2012-11-17\",\n",
    "    \"2012-12-05\",\n",
    "    \"2013-01-14\",\n",
    "    \"2013-02-10\",\n",
    "    \"2013-03-05\",\n",
    "    \"2013-10-30\",\n",
    "    \"2013-11-17\",\n",
    "    \"2014-01-11\",\n",
    "    \"2014-01-14\",\n",
    "    \"2014-02-10\",\n",
    "    \"2014-02-11\",\n",
    "    \"2014-03-05\",\n",
    "    \"2014-03-12\",\n",
    "    \"2014-11-17\",\n",
    "    \"2014-12-05\",\n",
    "    \"2015-01-11\",\n",
    "    \"2015-01-14\",\n",
    "    \"2015-02-10\",\n",
    "    \"2015-02-24\",\n",
    "    \"2015-03-05\",\n",
    "    \"2015-03-13\",\n",
    "    \"2015-04-11\",\n",
    "    \"2015-11-27\",\n",
    "    \"2015-12-05\",\n",
    "    \"2016-01-11\",\n",
    "    \"2016-01-14\",\n",
    "    \"2016-02-10\",\n",
    "    \"2016-02-24\",\n",
    "    \"2016-03-05\",\n",
    "    \"2016-03-13\",\n",
    "    \"2016-04-11\",\n",
    "    \"2016-11-27\",\n",
    "    \"2016-12-05\",\n",
    "    \"2017-01-11\",\n",
    "    \"2017-01-14\",\n",
    "    \"2017-02-10\",\n",
    "    \"2017-02-24\",\n",
    "    \"2017-03-05\",\n",
    "    \"2017-03-13\",\n",
    "    \"2017-04-11\",\n",
    "    \"2017-11-27\",\n",
    "    \"2017-12-05\",\n",
    "]"
   ]
  },
  {
   "cell_type": "code",
   "execution_count": 24,
   "metadata": {},
   "outputs": [
    {
     "name": "stdout",
     "output_type": "stream",
     "text": [
      "exception: [Errno 2] File b'../data/competitions_clean/2011-11-17_fake.csv' does not exist: b'../data/competitions_clean/2011-11-17_fake.csv'\n",
      "exception: [Errno 2] File b'../data/competitions_clean/2011-12-05_fake.csv' does not exist: b'../data/competitions_clean/2011-12-05_fake.csv'\n"
     ]
    }
   ],
   "source": [
    "for key in keys:\n",
    "    try:\n",
    "        competition = pd.read_csv(\"../data/competitions_clean/\" + key + \"_fake.csv\")\n",
    "        model_input = get_model_input_for_competition(competition, player_matches, player_seasons, ROLLING_GAMES_WINDOW, True)\n",
    "        model_input.to_csv(\"../data/model_inputs/\" + key + \"_fake_dup.csv\", index = False)\n",
    "    except Exception as e:\n",
    "        print(\"exception: \" + str(e))\n",
    "        continue"
   ]
  },
  {
   "cell_type": "code",
   "execution_count": null,
   "metadata": {},
   "outputs": [],
   "source": []
  }
 ],
 "metadata": {
  "kernelspec": {
   "display_name": "Python 3",
   "language": "python",
   "name": "python3"
  },
  "language_info": {
   "codemirror_mode": {
    "name": "ipython",
    "version": 3
   },
   "file_extension": ".py",
   "mimetype": "text/x-python",
   "name": "python",
   "nbconvert_exporter": "python",
   "pygments_lexer": "ipython3",
   "version": "3.7.4"
  }
 },
 "nbformat": 4,
 "nbformat_minor": 2
}
