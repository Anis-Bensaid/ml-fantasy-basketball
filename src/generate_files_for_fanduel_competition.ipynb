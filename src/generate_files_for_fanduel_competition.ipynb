{
 "cells": [
  {
   "cell_type": "markdown",
   "metadata": {},
   "source": [
    "# FanDuel data\n",
    "\n",
    "The purpose of this file is to take in an upcoming FanDuel competition (csv) and generate the inputs necessary for the ML model"
   ]
  },
  {
   "cell_type": "code",
   "execution_count": 1,
   "metadata": {},
   "outputs": [
    {
     "name": "stdout",
     "output_type": "stream",
     "text": [
      "Importing Jupyter notebook from player_matches_data.ipynb\n",
      "Importing Jupyter notebook from games_data.ipynb\n"
     ]
    }
   ],
   "source": [
    "import nbimporter\n",
    "import pandas as pd\n",
    "from datetime import datetime\n",
    "import player_matches_data as pm_data\n",
    "import games_data\n",
    "import pickle\n",
    "import numpy as np"
   ]
  },
  {
   "cell_type": "markdown",
   "metadata": {},
   "source": [
    "## Create games dataframe (input to model)"
   ]
  },
  {
   "cell_type": "code",
   "execution_count": 2,
   "metadata": {},
   "outputs": [],
   "source": [
    "def add_home_game(row):\n",
    "    return row['team_key'] == row['Game'].split(\"@\")[1]"
   ]
  },
  {
   "cell_type": "code",
   "execution_count": 3,
   "metadata": {},
   "outputs": [],
   "source": [
    "def add_date(data):\n",
    "    df = data.copy()\n",
    "    \n",
    "    date = datetime.today()\n",
    "    year = date.year\n",
    "    month = date.month\n",
    "    day = date.day\n",
    "\n",
    "    df['date'] = date\n",
    "    df['year'] = year\n",
    "    df['month'] = month\n",
    "    df['day'] = day\n",
    "\n",
    "    return df"
   ]
  },
  {
   "cell_type": "code",
   "execution_count": 4,
   "metadata": {},
   "outputs": [],
   "source": [
    "def add_player_id(row, name_id_mapping):\n",
    "    name = row['Nickname']\n",
    "    ids = name_id_mapping[name_id_mapping.name == name]['player_id']\n",
    "    \n",
    "    if len(ids) > 0:\n",
    "        return ids.iloc[0]\n",
    "    else:\n",
    "        print(\"Please update player_id for name \" + name)\n",
    "        return None"
   ]
  },
  {
   "cell_type": "code",
   "execution_count": 5,
   "metadata": {},
   "outputs": [],
   "source": [
    "def add_stats_to_data(data, stats):\n",
    "    df = data.copy()\n",
    "    \n",
    "    for stat in stats:\n",
    "        df[stat] = 0\n",
    "\n",
    "    return df"
   ]
  },
  {
   "cell_type": "code",
   "execution_count": 6,
   "metadata": {},
   "outputs": [],
   "source": [
    "def get_competition_for_fanduel(fanduel):\n",
    "    competition = fanduel[fanduel['Injury Indicator'] != \"O\"].copy()\n",
    "        \n",
    "    name_id_mapping = pd.read_csv(\"mappings/name_id_mapping.csv\")\n",
    "    competition['Id'] = competition.apply(lambda x: add_player_id(x, name_id_mapping), axis = 1)\n",
    "    competition = competition.rename(columns={'Id': 'player_id'})\n",
    "    competition = competition.dropna(subset=['player_id'])\n",
    "    competition = competition.drop(columns=['First Name', 'Last Name', 'Injury Details', 'Tier'])\n",
    "    \n",
    "    return competition.dropna(how='all', axis=1)"
   ]
  },
  {
   "cell_type": "code",
   "execution_count": 7,
   "metadata": {},
   "outputs": [],
   "source": [
    "def get_model_input_for_competition(competition, player_matches, player_seasons, rolling_games_window, duplicate=False):\n",
    "    adj_comp = competition.copy()\n",
    "    adj_comp['team_key'] = adj_comp['Team']\n",
    "    adj_comp['opponent_key'] = adj_comp['Opponent']\n",
    "    adj_comp['home_game'] = adj_comp.apply(add_home_game, axis = 1)\n",
    "    adj_comp = add_date(adj_comp)\n",
    "\n",
    "    adj_comp = pm_data.add_game_ids(adj_comp)\n",
    "    adj_comp = pm_data.add_season_start_year(adj_comp)\n",
    "    \n",
    "    stats = ['secs', 'fgm', 'fga', '3pm', '3pa', 'ftm', 'fta', 'orb', 'drb', 'ast', 'stl', 'blk', 'tvr', 'pf', 'fp']\n",
    "    fd_complete = add_stats_to_data(adj_comp, stats)\n",
    "\n",
    "    fd_complete = pm_data.roll_with_old_data(fd_complete, player_matches, stats, rolling_games_window)\n",
    "\n",
    "    per_game_df = games_data.create_games_data(fd_complete, player_seasons, 7, ROLLING_GAMES_WINDOW, duplicate)\n",
    "    \n",
    "    return per_game_df"
   ]
  },
  {
   "cell_type": "markdown",
   "metadata": {},
   "source": [
    "### Testing "
   ]
  },
  {
   "cell_type": "code",
   "execution_count": 8,
   "metadata": {},
   "outputs": [],
   "source": [
    "player_seasons = pd.read_csv(\"../data/raw_data/2009_2019_player_seasons_unique.csv\")\n",
    "player_matches = pd.read_csv(\"../data/raw_data/20100101_20191129_player_matches.csv\")\n",
    "ROLLING_GAMES_WINDOW = 5"
   ]
  },
  {
   "cell_type": "code",
   "execution_count": 9,
   "metadata": {},
   "outputs": [],
   "source": [
    "competition_key = \"2019-12-01-41164\"\n",
    "fanduel = pd.read_csv(\"../data/competitions_fanduel/FanDuel-NBA-\" + competition_key + \"-players-list.csv\")"
   ]
  },
  {
   "cell_type": "markdown",
   "metadata": {},
   "source": [
    "### Real competition flow"
   ]
  },
  {
   "cell_type": "code",
   "execution_count": 10,
   "metadata": {
    "scrolled": false
   },
   "outputs": [
    {
     "name": "stdout",
     "output_type": "stream",
     "text": [
      "Please update player_id for name Nigel Williams-Goss\n",
      "Please update player_id for name Garrison Mathews\n",
      "Please update player_id for name Justin Robinson\n",
      "Please update player_id for name Mfiondu Kabengele\n",
      "Please update player_id for name Alen Smailagic\n",
      "Please update player_id for name Oshae Brissett\n",
      "Please update player_id for name Juwan Morgan\n",
      "Please update player_id for name Shamorie Ponds\n",
      "Please update player_id for name Amir Coffey\n",
      "Please update player_id for name BJ Johnson\n",
      "Please update player_id for name Dewan Hernandez\n",
      "Please update player_id for name Jarrell Brantley\n",
      "Please update player_id for name Melvin Frazier\n",
      "Please update player_id for name Miye Oni\n",
      "Please update player_id for name Justin Wright-Foreman\n"
     ]
    }
   ],
   "source": [
    "competition = get_competition_for_fanduel(fanduel)"
   ]
  },
  {
   "cell_type": "code",
   "execution_count": 11,
   "metadata": {},
   "outputs": [],
   "source": [
    "model_input = get_model_input_for_competition(competition, player_matches, player_seasons, ROLLING_GAMES_WINDOW)"
   ]
  },
  {
   "cell_type": "code",
   "execution_count": 12,
   "metadata": {},
   "outputs": [],
   "source": [
    "model_input.to_csv(\"../data/model_inputs/\" + competition_key + \".csv\", index = False)\n",
    "competition.to_csv(\"../data/competitions_clean/\" + competition_key + \".csv\", index = False)"
   ]
  },
  {
   "cell_type": "markdown",
   "metadata": {},
   "source": [
    "### Fake competition flow"
   ]
  },
  {
   "cell_type": "code",
   "execution_count": 13,
   "metadata": {},
   "outputs": [],
   "source": [
    "keys = [\n",
    "    \"2012-03-01\",\n",
    "    \"2013-02-07\",\n",
    "    \"2013-10-30\",\n",
    "    \"2015-10-08\",\n",
    "    \"2012-10-08\",\n",
    "    \"2013-11-17\",\n",
    "    \"2014-11-17\",\n",
    "    \"2013-03-05\",\n",
    "    \"2014-11-17\",\n",
    "    \"2014-04-17\",\n",
    "    \"2015-04-17\",\n",
    "    \"2015-06-01\",\n",
    "    \"2014-02-11\",\n",
    "    \"2014-03-12\",\n",
    "    \"2013-02-15\",\n",
    "    \"2014-03-17\",\n",
    "    \"2015-02-16\",\n",
    "    \"2015-03-13\",\n",
    "    \"2015-02-22\",\n",
    "    \"2015-02-24\",\n",
    "    \"2015-11-27\",\n",
    "    \"2015-02-14\",\n",
    "    \"2012-01-14\",\n",
    "    \"2014-01-11\",\n",
    "    \"2015-05-11\",\n",
    "    \"2014-07-11\",\n",
    "    \"2015-04-11\",\n",
    "    \"2014-08-11\",\n",
    "    \"2015-01-11\"\n",
    "]"
   ]
  },
  {
   "cell_type": "code",
   "execution_count": 15,
   "metadata": {},
   "outputs": [
    {
     "ename": "NameError",
     "evalue": "name 'e' is not defined",
     "output_type": "error",
     "traceback": [
      "\u001b[1;31m---------------------------------------------------------------------------\u001b[0m",
      "\u001b[1;31mFileNotFoundError\u001b[0m                         Traceback (most recent call last)",
      "\u001b[1;32m<ipython-input-15-6eec84b65900>\u001b[0m in \u001b[0;36m<module>\u001b[1;34m\u001b[0m\n\u001b[0;32m      2\u001b[0m     \u001b[1;32mtry\u001b[0m\u001b[1;33m:\u001b[0m\u001b[1;33m\u001b[0m\u001b[1;33m\u001b[0m\u001b[0m\n\u001b[1;32m----> 3\u001b[1;33m         \u001b[0mcompetition\u001b[0m \u001b[1;33m=\u001b[0m \u001b[0mpd\u001b[0m\u001b[1;33m.\u001b[0m\u001b[0mread_csv\u001b[0m\u001b[1;33m(\u001b[0m\u001b[1;34m\"../data/competitions_clean/\"\u001b[0m \u001b[1;33m+\u001b[0m \u001b[0mkey\u001b[0m \u001b[1;33m+\u001b[0m \u001b[1;34m\"_fake.csv\"\u001b[0m\u001b[1;33m)\u001b[0m\u001b[1;33m\u001b[0m\u001b[1;33m\u001b[0m\u001b[0m\n\u001b[0m\u001b[0;32m      4\u001b[0m         \u001b[0mmodel_input\u001b[0m \u001b[1;33m=\u001b[0m \u001b[0mget_model_input_for_competition\u001b[0m\u001b[1;33m(\u001b[0m\u001b[0mcompetition\u001b[0m\u001b[1;33m,\u001b[0m \u001b[0mplayer_matches\u001b[0m\u001b[1;33m,\u001b[0m \u001b[0mplayer_seasons\u001b[0m\u001b[1;33m,\u001b[0m \u001b[0mROLLING_GAMES_WINDOW\u001b[0m\u001b[1;33m,\u001b[0m \u001b[1;32mTrue\u001b[0m\u001b[1;33m)\u001b[0m\u001b[1;33m\u001b[0m\u001b[1;33m\u001b[0m\u001b[0m\n",
      "\u001b[1;32m~\\Anaconda3\\lib\\site-packages\\pandas\\io\\parsers.py\u001b[0m in \u001b[0;36mparser_f\u001b[1;34m(filepath_or_buffer, sep, delimiter, header, names, index_col, usecols, squeeze, prefix, mangle_dupe_cols, dtype, engine, converters, true_values, false_values, skipinitialspace, skiprows, skipfooter, nrows, na_values, keep_default_na, na_filter, verbose, skip_blank_lines, parse_dates, infer_datetime_format, keep_date_col, date_parser, dayfirst, iterator, chunksize, compression, thousands, decimal, lineterminator, quotechar, quoting, doublequote, escapechar, comment, encoding, dialect, tupleize_cols, error_bad_lines, warn_bad_lines, delim_whitespace, low_memory, memory_map, float_precision)\u001b[0m\n\u001b[0;32m    701\u001b[0m \u001b[1;33m\u001b[0m\u001b[0m\n\u001b[1;32m--> 702\u001b[1;33m         \u001b[1;32mreturn\u001b[0m \u001b[0m_read\u001b[0m\u001b[1;33m(\u001b[0m\u001b[0mfilepath_or_buffer\u001b[0m\u001b[1;33m,\u001b[0m \u001b[0mkwds\u001b[0m\u001b[1;33m)\u001b[0m\u001b[1;33m\u001b[0m\u001b[1;33m\u001b[0m\u001b[0m\n\u001b[0m\u001b[0;32m    703\u001b[0m \u001b[1;33m\u001b[0m\u001b[0m\n",
      "\u001b[1;32m~\\Anaconda3\\lib\\site-packages\\pandas\\io\\parsers.py\u001b[0m in \u001b[0;36m_read\u001b[1;34m(filepath_or_buffer, kwds)\u001b[0m\n\u001b[0;32m    428\u001b[0m     \u001b[1;31m# Create the parser.\u001b[0m\u001b[1;33m\u001b[0m\u001b[1;33m\u001b[0m\u001b[1;33m\u001b[0m\u001b[0m\n\u001b[1;32m--> 429\u001b[1;33m     \u001b[0mparser\u001b[0m \u001b[1;33m=\u001b[0m \u001b[0mTextFileReader\u001b[0m\u001b[1;33m(\u001b[0m\u001b[0mfilepath_or_buffer\u001b[0m\u001b[1;33m,\u001b[0m \u001b[1;33m**\u001b[0m\u001b[0mkwds\u001b[0m\u001b[1;33m)\u001b[0m\u001b[1;33m\u001b[0m\u001b[1;33m\u001b[0m\u001b[0m\n\u001b[0m\u001b[0;32m    430\u001b[0m \u001b[1;33m\u001b[0m\u001b[0m\n",
      "\u001b[1;32m~\\Anaconda3\\lib\\site-packages\\pandas\\io\\parsers.py\u001b[0m in \u001b[0;36m__init__\u001b[1;34m(self, f, engine, **kwds)\u001b[0m\n\u001b[0;32m    894\u001b[0m \u001b[1;33m\u001b[0m\u001b[0m\n\u001b[1;32m--> 895\u001b[1;33m         \u001b[0mself\u001b[0m\u001b[1;33m.\u001b[0m\u001b[0m_make_engine\u001b[0m\u001b[1;33m(\u001b[0m\u001b[0mself\u001b[0m\u001b[1;33m.\u001b[0m\u001b[0mengine\u001b[0m\u001b[1;33m)\u001b[0m\u001b[1;33m\u001b[0m\u001b[1;33m\u001b[0m\u001b[0m\n\u001b[0m\u001b[0;32m    896\u001b[0m \u001b[1;33m\u001b[0m\u001b[0m\n",
      "\u001b[1;32m~\\Anaconda3\\lib\\site-packages\\pandas\\io\\parsers.py\u001b[0m in \u001b[0;36m_make_engine\u001b[1;34m(self, engine)\u001b[0m\n\u001b[0;32m   1121\u001b[0m         \u001b[1;32mif\u001b[0m \u001b[0mengine\u001b[0m \u001b[1;33m==\u001b[0m \u001b[1;34m'c'\u001b[0m\u001b[1;33m:\u001b[0m\u001b[1;33m\u001b[0m\u001b[1;33m\u001b[0m\u001b[0m\n\u001b[1;32m-> 1122\u001b[1;33m             \u001b[0mself\u001b[0m\u001b[1;33m.\u001b[0m\u001b[0m_engine\u001b[0m \u001b[1;33m=\u001b[0m \u001b[0mCParserWrapper\u001b[0m\u001b[1;33m(\u001b[0m\u001b[0mself\u001b[0m\u001b[1;33m.\u001b[0m\u001b[0mf\u001b[0m\u001b[1;33m,\u001b[0m \u001b[1;33m**\u001b[0m\u001b[0mself\u001b[0m\u001b[1;33m.\u001b[0m\u001b[0moptions\u001b[0m\u001b[1;33m)\u001b[0m\u001b[1;33m\u001b[0m\u001b[1;33m\u001b[0m\u001b[0m\n\u001b[0m\u001b[0;32m   1123\u001b[0m         \u001b[1;32melse\u001b[0m\u001b[1;33m:\u001b[0m\u001b[1;33m\u001b[0m\u001b[1;33m\u001b[0m\u001b[0m\n",
      "\u001b[1;32m~\\Anaconda3\\lib\\site-packages\\pandas\\io\\parsers.py\u001b[0m in \u001b[0;36m__init__\u001b[1;34m(self, src, **kwds)\u001b[0m\n\u001b[0;32m   1852\u001b[0m \u001b[1;33m\u001b[0m\u001b[0m\n\u001b[1;32m-> 1853\u001b[1;33m         \u001b[0mself\u001b[0m\u001b[1;33m.\u001b[0m\u001b[0m_reader\u001b[0m \u001b[1;33m=\u001b[0m \u001b[0mparsers\u001b[0m\u001b[1;33m.\u001b[0m\u001b[0mTextReader\u001b[0m\u001b[1;33m(\u001b[0m\u001b[0msrc\u001b[0m\u001b[1;33m,\u001b[0m \u001b[1;33m**\u001b[0m\u001b[0mkwds\u001b[0m\u001b[1;33m)\u001b[0m\u001b[1;33m\u001b[0m\u001b[1;33m\u001b[0m\u001b[0m\n\u001b[0m\u001b[0;32m   1854\u001b[0m         \u001b[0mself\u001b[0m\u001b[1;33m.\u001b[0m\u001b[0munnamed_cols\u001b[0m \u001b[1;33m=\u001b[0m \u001b[0mself\u001b[0m\u001b[1;33m.\u001b[0m\u001b[0m_reader\u001b[0m\u001b[1;33m.\u001b[0m\u001b[0munnamed_cols\u001b[0m\u001b[1;33m\u001b[0m\u001b[1;33m\u001b[0m\u001b[0m\n",
      "\u001b[1;32mpandas/_libs/parsers.pyx\u001b[0m in \u001b[0;36mpandas._libs.parsers.TextReader.__cinit__\u001b[1;34m()\u001b[0m\n",
      "\u001b[1;32mpandas/_libs/parsers.pyx\u001b[0m in \u001b[0;36mpandas._libs.parsers.TextReader._setup_parser_source\u001b[1;34m()\u001b[0m\n",
      "\u001b[1;31mFileNotFoundError\u001b[0m: [Errno 2] File b'../data/competitions_clean/2015-10-08_fake.csv' does not exist: b'../data/competitions_clean/2015-10-08_fake.csv'",
      "\nDuring handling of the above exception, another exception occurred:\n",
      "\u001b[1;31mNameError\u001b[0m                                 Traceback (most recent call last)",
      "\u001b[1;32m<ipython-input-15-6eec84b65900>\u001b[0m in \u001b[0;36m<module>\u001b[1;34m\u001b[0m\n\u001b[0;32m      4\u001b[0m         \u001b[0mmodel_input\u001b[0m \u001b[1;33m=\u001b[0m \u001b[0mget_model_input_for_competition\u001b[0m\u001b[1;33m(\u001b[0m\u001b[0mcompetition\u001b[0m\u001b[1;33m,\u001b[0m \u001b[0mplayer_matches\u001b[0m\u001b[1;33m,\u001b[0m \u001b[0mplayer_seasons\u001b[0m\u001b[1;33m,\u001b[0m \u001b[0mROLLING_GAMES_WINDOW\u001b[0m\u001b[1;33m,\u001b[0m \u001b[1;32mTrue\u001b[0m\u001b[1;33m)\u001b[0m\u001b[1;33m\u001b[0m\u001b[1;33m\u001b[0m\u001b[0m\n\u001b[0;32m      5\u001b[0m         \u001b[0mmodel_input\u001b[0m\u001b[1;33m.\u001b[0m\u001b[0mto_csv\u001b[0m\u001b[1;33m(\u001b[0m\u001b[1;34m\"../data/model_inputs/\"\u001b[0m \u001b[1;33m+\u001b[0m \u001b[0mkey\u001b[0m \u001b[1;33m+\u001b[0m \u001b[1;34m\"_fake_dup.csv\"\u001b[0m\u001b[1;33m,\u001b[0m \u001b[0mindex\u001b[0m \u001b[1;33m=\u001b[0m \u001b[1;32mFalse\u001b[0m\u001b[1;33m)\u001b[0m\u001b[1;33m\u001b[0m\u001b[1;33m\u001b[0m\u001b[0m\n\u001b[1;32m----> 6\u001b[1;33m     \u001b[1;32mexcept\u001b[0m \u001b[0me\u001b[0m \u001b[1;33m:\u001b[0m\u001b[1;33m\u001b[0m\u001b[1;33m\u001b[0m\u001b[0m\n\u001b[0m\u001b[0;32m      7\u001b[0m         \u001b[0mprint\u001b[0m\u001b[1;33m(\u001b[0m\u001b[0me\u001b[0m\u001b[1;33m)\u001b[0m\u001b[1;33m\u001b[0m\u001b[1;33m\u001b[0m\u001b[0m\n\u001b[0;32m      8\u001b[0m \u001b[1;33m\u001b[0m\u001b[0m\n",
      "\u001b[1;31mNameError\u001b[0m: name 'e' is not defined"
     ]
    }
   ],
   "source": [
    "for key in keys:\n",
    "    try:\n",
    "        competition = pd.read_csv(\"../data/competitions_clean/\" + key + \"_fake.csv\")\n",
    "        model_input = get_model_input_for_competition(competition, player_matches, player_seasons, ROLLING_GAMES_WINDOW, True)\n",
    "        model_input.to_csv(\"../data/model_inputs/\" + key + \"_fake_dup.csv\", index = False)\n",
    "    except e :\n",
    "        print(e)"
   ]
  }
 ],
 "metadata": {
  "kernelspec": {
   "display_name": "Python 3",
   "language": "python",
   "name": "python3"
  }
 },
 "nbformat": 4,
 "nbformat_minor": 2
}
