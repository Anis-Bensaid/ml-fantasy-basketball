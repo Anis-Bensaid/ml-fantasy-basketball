{
 "cells": [
  {
   "cell_type": "code",
   "execution_count": 8,
   "metadata": {},
   "outputs": [],
   "source": [
    "import pandas as pd\n",
    "from datetime import datetime\n",
    "from datetime import timedelta\n",
    "from basketball_reference_web_scraper import client\n",
    "from basketball_reference_web_scraper.data import Location, Outcome\n",
    "import json"
   ]
  },
  {
   "cell_type": "markdown",
   "metadata": {},
   "source": [
    "# Player matches data"
   ]
  },
  {
   "cell_type": "markdown",
   "metadata": {},
   "source": [
    "## Grab all of the daily data"
   ]
  },
  {
   "cell_type": "code",
   "execution_count": 9,
   "metadata": {},
   "outputs": [],
   "source": [
    "def get_player_matches_over_dates(start_date, end_date):\n",
    "    player_match_df = pd.DataFrame()\n",
    "    curr_date = start_date\n",
    "\n",
    "    while curr_date <= end_date:\n",
    "        day = curr_date.day\n",
    "        month = curr_date.month\n",
    "        year = curr_date.year\n",
    "\n",
    "        daily_matches = client.player_box_scores(day=day, month=month, year=year)\n",
    "        daily_df = pd.DataFrame(daily_matches)\n",
    "\n",
    "        if len(daily_df) > 0:\n",
    "            daily_df.insert(0, 'date', datetime(year, month, day))\n",
    "            daily_df.insert(1, 'year', year)\n",
    "            daily_df.insert(2, 'month', month)\n",
    "            daily_df.insert(3, 'day', day)\n",
    "            player_match_df = pd.concat([player_match_df, daily_df])\n",
    "\n",
    "        curr_date = curr_date + timedelta(days=1)\n",
    "    \n",
    "    return player_match_df.reset_index()"
   ]
  },
  {
   "cell_type": "markdown",
   "metadata": {},
   "source": [
    "## Clean up the data"
   ]
  },
  {
   "cell_type": "code",
   "execution_count": 11,
   "metadata": {},
   "outputs": [],
   "source": [
    "with open('../data/team_name_mapping.json', 'r') as f:\n",
    "    team_name_mapping = json.load(f)"
   ]
  },
  {
   "cell_type": "markdown",
   "metadata": {},
   "source": [
    "### Clean up enums and rename columns"
   ]
  },
  {
   "cell_type": "code",
   "execution_count": 12,
   "metadata": {},
   "outputs": [],
   "source": [
    "def remove_enum_columns(player_match_df):\n",
    "    df = player_match_df.assign(\n",
    "        team_key = lambda df: df['team'].map(lambda team: team_name_mapping[team.value]),\n",
    "        opponent_key = lambda df: df['opponent'].map(lambda team: team_name_mapping[team.value]),\n",
    "        home_game = lambda df: df['location'].map(lambda loc: loc == Location.HOME),\n",
    "        win = lambda df: df['outcome'].map(lambda outcome: outcome == Outcome.WIN)\n",
    "    )\n",
    "\n",
    "    return df.drop(columns=['team', 'opponent', 'location', 'outcome'])"
   ]
  },
  {
   "cell_type": "code",
   "execution_count": 13,
   "metadata": {},
   "outputs": [],
   "source": [
    "def rename_columns(player_match_df):\n",
    "    df = player_match_df.rename(columns={\n",
    "        'slug': 'player_id',\n",
    "        'seconds_played': 'secs',\n",
    "        'made_field_goals': 'fgm',\n",
    "        'attempted_field_goals': 'fga',\n",
    "        'made_three_point_field_goals': '3pm',\n",
    "        'attempted_three_point_field_goals': '3pa',\n",
    "        'made_free_throws': 'ftm',\n",
    "        'attempted_free_throws': 'fta',\n",
    "        'offensive_rebounds': 'orb',\n",
    "        'defensive_rebounds': 'drb',\n",
    "        'assists': 'ast',\n",
    "        'steals': 'stl',\n",
    "        'blocks': 'blk',\n",
    "        'turnovers': 'tvr',\n",
    "        'personal_fouls': 'pf'\n",
    "    })\n",
    "\n",
    "    return df"
   ]
  },
  {
   "cell_type": "markdown",
   "metadata": {},
   "source": [
    "### Add game ID, season start year"
   ]
  },
  {
   "cell_type": "code",
   "execution_count": 14,
   "metadata": {},
   "outputs": [],
   "source": [
    "def format_date(date):\n",
    "    return datetime.strftime(date, format = \"%Y%m%d\")"
   ]
  },
  {
   "cell_type": "code",
   "execution_count": 15,
   "metadata": {},
   "outputs": [],
   "source": [
    "def get_game_id(date, home, away):\n",
    "    return format_date(date) + \"_\" + home + \"_\" + away"
   ]
  },
  {
   "cell_type": "code",
   "execution_count": 16,
   "metadata": {},
   "outputs": [],
   "source": [
    "def get_game_id_for_row(row):\n",
    "    home = row['team_key'] if row['home_game'] else row['opponent_key']\n",
    "    away = row['opponent_key'] if row['home_game'] else row['team_key']\n",
    "\n",
    "    return get_game_id(row['date'], home, away)"
   ]
  },
  {
   "cell_type": "code",
   "execution_count": 17,
   "metadata": {},
   "outputs": [],
   "source": [
    "def get_season_start_year_for_row(row):\n",
    "    year = row['year']\n",
    "    month = row['month']\n",
    "\n",
    "    if month < 7:\n",
    "        return year - 1\n",
    "    else:\n",
    "        return year"
   ]
  },
  {
   "cell_type": "code",
   "execution_count": 18,
   "metadata": {},
   "outputs": [],
   "source": [
    "def add_game_ids(player_match_df):\n",
    "    df = player_match_df.copy()\n",
    "    df.insert(0, 'game_id', df.apply(get_game_id_for_row, axis=1))\n",
    "\n",
    "    return df"
   ]
  },
  {
   "cell_type": "code",
   "execution_count": 19,
   "metadata": {},
   "outputs": [],
   "source": [
    "def add_season_start_year(player_match_df):\n",
    "    df = player_match_df.copy()\n",
    "    df.insert(5, 'season_start_year', df.apply(get_season_start_year_for_row, axis=1))\n",
    "\n",
    "    return df"
   ]
  },
  {
   "cell_type": "markdown",
   "metadata": {},
   "source": [
    "## Add fantasy points"
   ]
  },
  {
   "cell_type": "code",
   "execution_count": 20,
   "metadata": {},
   "outputs": [],
   "source": [
    "def get_fantasy_points(row):\n",
    "    shot_points = 3 * row['3pm'] + 2 * row['fgm'] + row['ftm']\n",
    "    rebound_points = 1.2 * (row['orb'] + row['drb'])\n",
    "    assist_points = 1.5 * row['ast']\n",
    "    block_points = 3.0 * row['blk']\n",
    "    steal_points = 3.0 * row['stl']\n",
    "\n",
    "    return shot_points + rebound_points + assist_points + block_points + steal_points"
   ]
  },
  {
   "cell_type": "code",
   "execution_count": 21,
   "metadata": {},
   "outputs": [],
   "source": [
    "def calculate_fantasy_points_for_df(df):\n",
    "    return df.apply(lambda x: get_fantasy_points(x), axis = 1)"
   ]
  },
  {
   "cell_type": "code",
   "execution_count": 32,
   "metadata": {},
   "outputs": [],
   "source": [
    "def add_fantasy_points(player_match_df):\n",
    "    df = player_match_df.copy()\n",
    "    df['fp'] = calculate_fantasy_points_for_df(df)\n",
    "    \n",
    "    return df"
   ]
  },
  {
   "cell_type": "markdown",
   "metadata": {},
   "source": [
    "## Add \"last-n-games\" data"
   ]
  },
  {
   "cell_type": "code",
   "execution_count": 23,
   "metadata": {},
   "outputs": [],
   "source": [
    "def add_rolling_stats(player_match_df, stats, n):\n",
    "    df = player_match_df.copy()\n",
    "\n",
    "    for stat in stats:\n",
    "        newCol = stat + \"_l\" + str(n)\n",
    "        rolStat = (df.groupby('player_id')[stat].apply(\n",
    "            lambda x: x.rolling(n, min_periods = 1).mean().shift(1).fillna(0)\n",
    "        )).reset_index(0, drop=True)\n",
    "        df[newCol] = list(rolStat)\n",
    "    \n",
    "    return df"
   ]
  },
  {
   "cell_type": "markdown",
   "metadata": {},
   "source": [
    "## Methods for adding new data"
   ]
  },
  {
   "cell_type": "code",
   "execution_count": 2,
   "metadata": {},
   "outputs": [],
   "source": [
    "# TODO: make this first delete the old_data rows that conflict with the new data\n",
    "# That way we can properly test old fanduel competitions\n",
    "def roll_with_old_data(new_data, old_data, stats, n):\n",
    "    combined_data = pd.concat([old_data, new_data], join=\"inner\").reset_index()\n",
    "    new_data_indices = combined_data.tail(len(new_data)).index\n",
    "    combined_data.sort_values(by=['game_id'])\n",
    "\n",
    "    df = add_rolling_stats(combined_data, stats, n)\n",
    "    \n",
    "    return df.loc[new_data_indices, :]"
   ]
  },
  {
   "cell_type": "markdown",
   "metadata": {},
   "source": [
    "## Call functions on fetched data"
   ]
  },
  {
   "cell_type": "code",
   "execution_count": 44,
   "metadata": {},
   "outputs": [],
   "source": [
    "start_date = datetime(2019, 11, 18) # datetime(2010, 1, 1)\n",
    "end_date = datetime(2019, 11, 30)\n",
    "\n",
    "player_match_df = get_player_matches_over_dates(start_date, end_date)"
   ]
  },
  {
   "cell_type": "code",
   "execution_count": 45,
   "metadata": {},
   "outputs": [],
   "source": [
    "clean_pm_df = remove_enum_columns(player_match_df)\n",
    "clean_pm_df = rename_columns(clean_pm_df)\n",
    "clean_pm_df = add_game_ids(clean_pm_df)\n",
    "clean_pm_df = add_season_start_year(clean_pm_df)\n",
    "clean_pm_df = add_fantasy_points(clean_pm_df)"
   ]
  },
  {
   "cell_type": "code",
   "execution_count": 48,
   "metadata": {},
   "outputs": [
    {
     "name": "stderr",
     "output_type": "stream",
     "text": [
      "/opt/anaconda3/lib/python3.7/site-packages/ipykernel_launcher.py:8: FutureWarning: Sorting because non-concatenation axis is not aligned. A future version\n",
      "of pandas will change to not sort by default.\n",
      "\n",
      "To accept the future behavior, pass 'sort=False'.\n",
      "\n",
      "To retain the current behavior and silence the warning, pass 'sort=True'.\n",
      "\n",
      "  \n"
     ]
    }
   ],
   "source": [
    "stats = ['secs', 'fgm', 'fga', '3pm', '3pa', 'ftm', 'fta', 'orb', 'drb', 'ast', 'stl', 'blk', 'tvr', 'pf', 'fp']\n",
    "ROLLING_GAMES_WINDOW = 5\n",
    "# Choose one of the below\n",
    "# 1. Use old data and roll with it\n",
    "old_data = pd.read_csv(\"../data/raw_data/20100101_20191117_player_matches.csv\")\n",
    "\n",
    "clean_pm_df = roll_with_old_data(clean_pm_df, old_data, stats, ROLLING_GAMES_WINDOW)\n",
    "complete_df = pd.concat([old_data, clean_pm_df])\n",
    "complete_df.to_csv(\"../data/raw_data/20100101_20191129_player_matches.csv\")\n",
    "\n",
    "# 2. Use collected data in isolation\n",
    "# clean_pm_df = add_rolling_stats(clean_pm_df, stats, ROLLING_GAMES_WINDOW)"
   ]
  },
  {
   "cell_type": "markdown",
   "metadata": {},
   "source": [
    "## Save to dataframe"
   ]
  },
  {
   "cell_type": "code",
   "execution_count": 28,
   "metadata": {},
   "outputs": [],
   "source": [
    "path = \"../data/raw_data/\" + format_date(start_date) + \"_\" + format_date(end_date) + \"_\" + \"player_matches.csv\"\n",
    "\n",
    "clean_pm_df.to_csv(path, index = False)"
   ]
  },
  {
   "cell_type": "code",
   "execution_count": null,
   "metadata": {},
   "outputs": [],
   "source": []
  }
 ],
 "metadata": {
  "kernelspec": {
   "display_name": "Python 3",
   "language": "python",
   "name": "python3"
  },
  "language_info": {
   "codemirror_mode": {
    "name": "ipython",
    "version": 3
   },
   "file_extension": ".py",
   "mimetype": "text/x-python",
   "name": "python",
   "nbconvert_exporter": "python",
   "pygments_lexer": "ipython3",
   "version": "3.7.4"
  }
 },
 "nbformat": 4,
 "nbformat_minor": 2
}
