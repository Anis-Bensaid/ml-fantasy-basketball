{
 "cells": [
  {
   "cell_type": "code",
   "execution_count": 37,
   "metadata": {},
   "outputs": [],
   "source": [
    "using CSV, JuMP, Gurobi, DataFrames, Statistics, PyPlot"
   ]
  },
  {
   "cell_type": "code",
   "execution_count": 38,
   "metadata": {},
   "outputs": [
    {
     "name": "stdout",
     "output_type": "stream",
     "text": [
      "Academic license - for non-commercial use only\r\n"
     ]
    }
   ],
   "source": [
    "GUROBI_ENV = Gurobi.Env();"
   ]
  },
  {
   "cell_type": "markdown",
   "metadata": {},
   "source": [
    "# Reading Data"
   ]
  },
  {
   "cell_type": "markdown",
   "metadata": {},
   "source": [
    "# IP Formulation"
   ]
  },
  {
   "cell_type": "code",
   "execution_count": 39,
   "metadata": {},
   "outputs": [],
   "source": [
    "function optimize_lineups(players; nb_lineups=1, max_overlap=6, fp_column=\"prediction\", use_std=false, adj=false, std_column=\"leaf_std\", std_weight = 0.5, MAX_PG=2, MAX_SG=2, MAX_SF=2, MAX_PF=2, MAX_C=1, BUDGET=60000.0, save=true, output_path=\"../output/lineups.csv\")\n",
    "    # Columns names\n",
    "    NAME = Symbol(\"Nickname\")\n",
    "    TEAM = Symbol(\"Team\")\n",
    "    POSITION = Symbol(\"Position\")\n",
    "    SALARY = Symbol(\"Salary\")\n",
    "    INJURY = Symbol(\"Injury Indicator\")\n",
    "    FP = Symbol(fp_column)\n",
    "    STD = Symbol(std_column)\n",
    "    if use_std\n",
    "        output_columns = [NAME, POSITION, TEAM , FP, STD]\n",
    "        output_column_names = [\"Name_\", \"Position_\", \"Team_\", \"FP_\", \"STD_\"]\n",
    "    else\n",
    "        output_columns = [NAME, POSITION, TEAM , FP]\n",
    "        output_column_names = [\"Name_\", \"Position_\", \"Team_\", \"FP_\"]\n",
    "    end \n",
    "    \n",
    "    # Reading inputs\n",
    "    ## Fantasy points\n",
    "    fp = players[:,FP];\n",
    "    ## Positions\n",
    "    PG = Int.(players[:,POSITION].==\"PG\")\n",
    "    SG = Int.(players[:,POSITION].==\"SG\")\n",
    "    SF = Int.(players[:,POSITION].==\"SF\")\n",
    "    PF = Int.(players[:,POSITION].==\"PF\")\n",
    "    C  = Int.(players[:,POSITION].==\"C\")\n",
    "    ## Salary\n",
    "    salary = players[:,SALARY];\n",
    "    ## Injuries\n",
    "#     injury = 1 .- ismissing.(players[:,INJURY]) \n",
    "#     o_injury = Int.(Missings.coalesce.(players[:,INJURY], 0).==\"O\")\n",
    "#     q_injury = Int.(Missings.coalesce.(players[:,INJURY], 0).==\"Q\")\n",
    "#     p_injury = Int.(Missings.coalesce.(players[:,INJURY], 0).==\"P\");\n",
    "\n",
    "    ## Number of players\n",
    "    nb_players = size(players)[1]\n",
    "\n",
    "    # Model\n",
    "    model = Model(solver=GurobiSolver(OutputFlag=0, GUROBI_ENV))\n",
    "\n",
    "    # Variable\n",
    "    @variable(model, z[i=1:nb_players], Bin)\n",
    "\n",
    "    # Objective function\n",
    "    if use_std\n",
    "        ## With std \n",
    "        stds = players[:,STD];\n",
    "        if adj\n",
    "            @objective(model, Max, sum((fp .+ std_weight.*abs.(stds)).*z))\n",
    "        else            \n",
    "            @objective(model, Max, (1-std_weight)*sum(fp.*z) + std_weight*sum(stds.^2 .*z))\n",
    "        end\n",
    "    else\n",
    "        ## Without std        \n",
    "        @objective(model, Max, sum(fp.*z))\n",
    "    end\n",
    "    \n",
    "    # Constrains without the overleap constraint\n",
    "    @constraint(model, sum(salary.*z) <= BUDGET)\n",
    "    @constraint(model, sum(PG.*z) == MAX_PG)\n",
    "    @constraint(model, sum(SG.*z) == MAX_SG)\n",
    "    @constraint(model, sum(SF.*z) == MAX_SF)\n",
    "    @constraint(model, sum(PF.*z) == MAX_PF)\n",
    "    @constraint(model, sum(C.*z) == MAX_C)\n",
    "#     @constraint(model, z .<= (1 .- injury))\n",
    "\n",
    "    # Initialization (iteration=1)\n",
    "    solve(model)\n",
    "    x = round.(Int,getvalue(z))\n",
    "    lineups = players[x.==1, output_columns]    \n",
    "    names!(lineups, Symbol.(string.(output_column_names, 1)))  \n",
    "\n",
    "    # Rest of iterations\n",
    "    @constraint(model, sum(x.*z) <= max_overlap)\n",
    "    for i=2:nb_lineups\n",
    "        solve(model)\n",
    "        x = hcat(x,round.(Int,getvalue(z)))\n",
    "        lineups_names = players[x[:,i].==1, output_columns]\n",
    "        names!(lineups_names, Symbol.(string.(output_column_names, i)))    \n",
    "        lineups = hcat(lineups, lineups_names)\n",
    "        @constraint(model, sum(x[:,i].*z) <= max_overlap)\n",
    "    end\n",
    "    if save\n",
    "        CSV.write(output_path, lineups);\n",
    "    end\n",
    "    score_per_lineup = get_score_lineups(lineups)\n",
    "    return lineups, score_per_lineup\n",
    "end;\n",
    "    "
   ]
  },
  {
   "cell_type": "markdown",
   "metadata": {},
   "source": [
    "# Annexe functions"
   ]
  },
  {
   "cell_type": "code",
   "execution_count": 40,
   "metadata": {},
   "outputs": [],
   "source": [
    "function get_number_of_lineups(lineups; fp_column = \"FP_\")\n",
    "    # Return the number of lineups using the columns fp_column_i\n",
    "    colnames = names(lineups)\n",
    "    nb_lineups = 0\n",
    "    for col in colnames\n",
    "        if startswith(string(col), fp_column)\n",
    "            nb_lineups = nb_lineups+1\n",
    "        end\n",
    "    end\n",
    "    nb_lineups\n",
    "end;"
   ]
  },
  {
   "cell_type": "code",
   "execution_count": 41,
   "metadata": {},
   "outputs": [],
   "source": [
    "function get_score_lineups(lineups; fp_column = \"FP_\")\n",
    "    # Returns the scores of the lineups based on the columns \n",
    "    nb_lineups = get_number_of_lineups(lineups; fp_column = fp_column)\n",
    "    return aggregate(lineups[:,Symbol.([string(fp_column,i) for i=1:nb_lineups])], sum)\n",
    "end;"
   ]
  },
  {
   "cell_type": "code",
   "execution_count": 42,
   "metadata": {},
   "outputs": [],
   "source": [
    "function add_true_scores(lineups, test_set; fp_column = \"FP_\", true_fp_column = \"FP\")\n",
    "    # Adds the columns true_fp_column_i from the test_set to the lineups\n",
    "    nb_lineups = get_number_of_lineups(lineups; fp_column = fp_column)\n",
    "    for lineup=1:nb_lineups\n",
    "        player_names = lineups[!,Symbol(string(\"Name_\",lineup))]\n",
    "        lineups[!,Symbol(string(\"True_FP_\",lineup))] = filter(row -> row[:Nickname] in player_names, test_set)[!,Symbol(true_fp_column)]\n",
    "    end\n",
    "    return order_lineups(lineups)\n",
    "end;"
   ]
  },
  {
   "cell_type": "code",
   "execution_count": 43,
   "metadata": {},
   "outputs": [],
   "source": [
    "function order_lineups(lineups)\n",
    "    # Orders the column of lineups based on the lineup index\n",
    "    nb_lineups = get_number_of_lineups(lineups)\n",
    "    colnames = names(lineups)\n",
    "    ordered_colnames = []\n",
    "    for lineup=1:nb_lineups\n",
    "        for col in colnames\n",
    "            if endswith(string(col), string(\"_\",lineup))\n",
    "                push!(ordered_colnames, col)\n",
    "            end\n",
    "        end\n",
    "    end\n",
    "    return lineups[:,ordered_colnames]\n",
    "end;"
   ]
  },
  {
   "cell_type": "code",
   "execution_count": 44,
   "metadata": {},
   "outputs": [],
   "source": [
    "function get_lineup(lineups, lineup_idx)\n",
    "    # Returns all the columns of the lineup with index lineup_idx\n",
    "    all_colnames = names(lineups)\n",
    "    lineup_colnames = []\n",
    "    for col in all_colnames\n",
    "        if endswith(string(col), string(lineup_idx))\n",
    "            push!(lineup_colnames, col)\n",
    "        end\n",
    "    end\n",
    "    return lineups[:,lineup_colnames]\n",
    "end;"
   ]
  },
  {
   "cell_type": "code",
   "execution_count": 45,
   "metadata": {},
   "outputs": [],
   "source": [
    "function get_best_lineup(lineups; fp_column = \"FP_\")\n",
    "    # Returns the best lineup and its score based on the column fp_column_i\n",
    "    nb_lineups = get_number_of_lineups(lineups)\n",
    "    scores = get_score_lineups(lineups, fp_column=fp_column)\n",
    "    best_lineup_idx = 1\n",
    "    for lineup=2:nb_lineups\n",
    "        if scores[1,lineup]>scores[1,best_lineup_idx]\n",
    "            best_lineup_idx=lineup\n",
    "        end\n",
    "    end\n",
    "    return get_lineup(lineups, best_lineup_idx), scores[:,[best_lineup_idx]]\n",
    "end;"
   ]
  },
  {
   "cell_type": "code",
   "execution_count": 46,
   "metadata": {},
   "outputs": [],
   "source": [
    "function test_lineups(lineups, test_set; pred_column = \"prediction\", true_column=\"FP\")\n",
    "    best_lineup, best_score = optimize_lineups(test_set, fp_column=true_column, nb_lineups=1)\n",
    "    lineup_with_true_scores = add_true_scores(lineups, test_set; fp_column = \"FP_\", true_fp_column = true_column)\n",
    "    best_lineup_with_true_scores, best_lineup_true_score = get_best_lineup(lineup_with_true_scores; fp_column = \"True_FP_\")\n",
    "    captured_score = (best_lineup_true_score[1,1]/best_score[1,1])*100\n",
    "    return captured_score, lineup_with_true_scores, best_lineup, best_lineup_with_true_scores  \n",
    "end;"
   ]
  },
  {
   "cell_type": "markdown",
   "metadata": {},
   "source": [
    "# Testing Functions"
   ]
  },
  {
   "cell_type": "code",
   "execution_count": 47,
   "metadata": {},
   "outputs": [],
   "source": [
    "function generate_paths(suffix)\n",
    "    paths = DataFrame(keys = String[], \n",
    "        optimization_inputs_paths = String[], \n",
    "        lineups_output_paths = String[], \n",
    "        best_lineup_output_paths = String[], \n",
    "        scores_ouput_paths = String[])\n",
    "    for (root, dirs, files) in walkdir(\"../data/optimization_inputs/\")\n",
    "        for file in files\n",
    "            if occursin(\"_fake\", file)\n",
    "                # Keys\n",
    "                key = split(file,\"_\")[1]\n",
    "                # Paths\n",
    "                optimization_inputs_path = string(\"../data/optimization_inputs/\",key,\"_fake.csv\")\n",
    "                lineups_output_path = string(\"../data/test_results/\",key,\"_fake_lineups_\",suffix,\".csv\")\n",
    "                best_lineup_output_path = string(\"../data/test_results/\",key,\"_fake_best_lineup_\",suffix,\".csv\")\n",
    "                scores_ouputs_path = string(\"../data/test_results/results_\",suffix,\".csv\")\n",
    "                push!(paths, [key, optimization_inputs_path, lineups_output_path, best_lineup_output_path, scores_ouputs_path])\n",
    "            end\n",
    "        end\n",
    "    end\n",
    "    sort!(paths);\n",
    "    return paths\n",
    "end;"
   ]
  },
  {
   "cell_type": "code",
   "execution_count": 48,
   "metadata": {},
   "outputs": [],
   "source": [
    "function run_tests(paths, nb_lineups, max_overlap, use_std; adj=false, std_weight=0.1)\n",
    "    results = DataFrame(keys = String[], score = Float64[])\n",
    "    for i=1:size(paths)[1]\n",
    "#         println(paths[i,:keys])\n",
    "        key =  paths[i,:keys]\n",
    "        optimization_inputs_path = paths[i,:optimization_inputs_paths]\n",
    "        lineups_output_path = paths[i,:lineups_output_paths]\n",
    "        best_lineup_output_path = paths[i,:best_lineup_output_paths]\n",
    "\n",
    "        players = CSV.read(optimization_inputs_path);\n",
    "        try\n",
    "            lineups, scores = optimize_lineups(players; nb_lineups=nb_lineups, max_overlap=max_overlap, use_std=use_std, adj=adj, std_weight = std_weight, save=false);\n",
    "            captured_score, lineup_with_true_scores, best_lineup, best_lineup_with_true_scores = test_lineups(lineups, players)\n",
    "        \n",
    "            push!(results, [key, captured_score])\n",
    "\n",
    "            CSV.write(lineups_output_path, lineup_with_true_scores)\n",
    "            CSV.write(best_lineup_output_path, best_lineup)\n",
    "        catch InexactError\n",
    "            println(\"Unfeasible.\")\n",
    "        end\n",
    "    end\n",
    "    CSV.write(paths[1,:scores_ouput_paths], results)\n",
    "    return results\n",
    "end;\n",
    "\n",
    "# function count_positive(results)\n",
    "#     size(filter(x->x[:score]>=90,results))[1]\n",
    "    "
   ]
  },
  {
   "cell_type": "markdown",
   "metadata": {},
   "source": [
    "## Test max_overlap (on the baseline)"
   ]
  },
  {
   "cell_type": "code",
   "execution_count": 49,
   "metadata": {
    "scrolled": true
   },
   "outputs": [
    {
     "name": "stdout",
     "output_type": "stream",
     "text": [
      "4\n",
      "Unfeasible."
     ]
    },
    {
     "name": "stderr",
     "output_type": "stream",
     "text": [
      "┌ Warning: Not solved to optimality, status: Infeasible\n",
      "└ @ JuMP C:\\Users\\iai\\builds\\InterpretableAI\\SysImgBuilder\\.julia\\packages\\JuMP\\I7whV\\src\\solvers.jl:212\n",
      "┌ Warning: Infeasibility ray (Farkas proof) not available\n",
      "└ @ JuMP C:\\Users\\iai\\builds\\InterpretableAI\\SysImgBuilder\\.julia\\packages\\JuMP\\I7whV\\src\\solvers.jl:223\n",
      "┌ Warning: Variable value not defined for component of z. Check that the model was properly solved.\n",
      "└ @ JuMP C:\\Users\\iai\\builds\\InterpretableAI\\SysImgBuilder\\.julia\\packages\\JuMP\\I7whV\\src\\JuMP.jl:480\n"
     ]
    },
    {
     "name": "stdout",
     "output_type": "stream",
     "text": [
      "\n",
      "13×2 DataFrame\n",
      "│ Row │ keys       │ score   │\n",
      "│     │ \u001b[90mString\u001b[39m     │ \u001b[90mFloat64\u001b[39m │\n",
      "├─────┼────────────┼─────────┤\n",
      "│ 1   │ 2012-01-14 │ 83.875  │\n",
      "│ 2   │ 2012-03-01 │ 79.8427 │\n",
      "│ 3   │ 2013-03-05 │ 93.5193 │\n",
      "│ 4   │ 2013-10-30 │ 87.5366 │\n",
      "│ 5   │ 2013-11-17 │ 88.2806 │\n",
      "│ 6   │ 2014-01-11 │ 84.5311 │\n",
      "│ 7   │ 2014-02-11 │ 82.2522 │\n",
      "│ 8   │ 2014-03-12 │ 86.421  │\n",
      "│ 9   │ 2015-01-11 │ 85.6261 │\n",
      "│ 10  │ 2015-02-24 │ 86.7499 │\n",
      "│ 11  │ 2015-03-13 │ 77.4324 │\n",
      "│ 12  │ 2015-04-11 │ 78.0754 │\n",
      "│ 13  │ 2015-11-27 │ 84.5553 │\n",
      "5\n",
      "14×2 DataFrame\n",
      "│ Row │ keys       │ score   │\n",
      "│     │ \u001b[90mString\u001b[39m     │ \u001b[90mFloat64\u001b[39m │\n",
      "├─────┼────────────┼─────────┤\n",
      "│ 1   │ 2012-01-14 │ 84.6008 │\n",
      "│ 2   │ 2012-03-01 │ 81.5613 │\n",
      "│ 3   │ 2013-03-05 │ 94.3958 │\n",
      "│ 4   │ 2013-10-30 │ 84.0945 │\n",
      "│ 5   │ 2013-11-17 │ 89.8762 │\n",
      "│ 6   │ 2014-01-11 │ 82.952  │\n",
      "│ 7   │ 2014-02-11 │ 80.7331 │\n",
      "│ 8   │ 2014-03-12 │ 84.6154 │\n",
      "│ 9   │ 2015-01-11 │ 80.9089 │\n",
      "│ 10  │ 2015-02-24 │ 83.5415 │\n",
      "│ 11  │ 2015-03-13 │ 81.7791 │\n",
      "│ 12  │ 2015-04-11 │ 80.4131 │\n",
      "│ 13  │ 2015-05-11 │ 95.6286 │\n",
      "│ 14  │ 2015-11-27 │ 89.9864 │\n",
      "6\n",
      "14×2 DataFrame\n",
      "│ Row │ keys       │ score   │\n",
      "│     │ \u001b[90mString\u001b[39m     │ \u001b[90mFloat64\u001b[39m │\n",
      "├─────┼────────────┼─────────┤\n",
      "│ 1   │ 2012-01-14 │ 85.295  │\n",
      "│ 2   │ 2012-03-01 │ 78.7941 │\n",
      "│ 3   │ 2013-03-05 │ 88.8446 │\n",
      "│ 4   │ 2013-10-30 │ 82.0022 │\n",
      "│ 5   │ 2013-11-17 │ 85.9697 │\n",
      "│ 6   │ 2014-01-11 │ 86.787  │\n",
      "│ 7   │ 2014-02-11 │ 76.7302 │\n",
      "│ 8   │ 2014-03-12 │ 87.9792 │\n",
      "│ 9   │ 2015-01-11 │ 76.8338 │\n",
      "│ 10  │ 2015-02-24 │ 83.5415 │\n",
      "│ 11  │ 2015-03-13 │ 75.7897 │\n",
      "│ 12  │ 2015-04-11 │ 77.1675 │\n",
      "│ 13  │ 2015-05-11 │ 95.6286 │\n",
      "│ 14  │ 2015-11-27 │ 91.1405 │\n",
      "7\n",
      "14×2 DataFrame\n",
      "│ Row │ keys       │ score   │\n",
      "│     │ \u001b[90mString\u001b[39m     │ \u001b[90mFloat64\u001b[39m │\n",
      "├─────┼────────────┼─────────┤\n",
      "│ 1   │ 2012-01-14 │ 87.4408 │\n",
      "│ 2   │ 2012-03-01 │ 78.2697 │\n",
      "│ 3   │ 2013-03-05 │ 88.7915 │\n",
      "│ 4   │ 2013-10-30 │ 82.8796 │\n",
      "│ 5   │ 2013-11-17 │ 84.7318 │\n",
      "│ 6   │ 2014-01-11 │ 82.952  │\n",
      "│ 7   │ 2014-02-11 │ 78.611  │\n",
      "│ 8   │ 2014-03-12 │ 87.9792 │\n",
      "│ 9   │ 2015-01-11 │ 74.6357 │\n",
      "│ 10  │ 2015-02-24 │ 77.8839 │\n",
      "│ 11  │ 2015-03-13 │ 72.9846 │\n",
      "│ 12  │ 2015-04-11 │ 79.6414 │\n",
      "│ 13  │ 2015-05-11 │ 97.5427 │\n",
      "│ 14  │ 2015-11-27 │ 85.8113 │\n",
      "8\n",
      "14×2 DataFrame\n",
      "│ Row │ keys       │ score   │\n",
      "│     │ \u001b[90mString\u001b[39m     │ \u001b[90mFloat64\u001b[39m │\n",
      "├─────┼────────────┼─────────┤\n",
      "│ 1   │ 2012-01-14 │ 79.2364 │\n",
      "│ 2   │ 2012-03-01 │ 77.658  │\n",
      "│ 3   │ 2013-03-05 │ 88.1806 │\n",
      "│ 4   │ 2013-10-30 │ 84.207  │\n",
      "│ 5   │ 2013-11-17 │ 84.3191 │\n",
      "│ 6   │ 2014-01-11 │ 82.952  │\n",
      "│ 7   │ 2014-02-11 │ 77.9359 │\n",
      "│ 8   │ 2014-03-12 │ 87.9792 │\n",
      "│ 9   │ 2015-01-11 │ 71.8696 │\n",
      "│ 10  │ 2015-02-24 │ 77.4675 │\n",
      "│ 11  │ 2015-03-13 │ 74.324  │\n",
      "│ 12  │ 2015-04-11 │ 78.7335 │\n",
      "│ 13  │ 2015-05-11 │ 98.0859 │\n",
      "│ 14  │ 2015-11-27 │ 84.7251 │\n",
      "9\n",
      "14×2 DataFrame\n",
      "│ Row │ keys       │ score   │\n",
      "│     │ \u001b[90mString\u001b[39m     │ \u001b[90mFloat64\u001b[39m │\n",
      "├─────┼────────────┼─────────┤\n",
      "│ 1   │ 2012-01-14 │ 70.4323 │\n",
      "│ 2   │ 2012-03-01 │ 62.8022 │\n",
      "│ 3   │ 2013-03-05 │ 77.1049 │\n",
      "│ 4   │ 2013-10-30 │ 70.3712 │\n",
      "│ 5   │ 2013-11-17 │ 73.5901 │\n",
      "│ 6   │ 2014-01-11 │ 63.1002 │\n",
      "│ 7   │ 2014-02-11 │ 70.4365 │\n",
      "│ 8   │ 2014-03-12 │ 78.976  │\n",
      "│ 9   │ 2015-01-11 │ 67.2018 │\n",
      "│ 10  │ 2015-02-24 │ 68.2096 │\n",
      "│ 11  │ 2015-03-13 │ 59.6917 │\n",
      "│ 12  │ 2015-04-11 │ 69.9501 │\n",
      "│ 13  │ 2015-05-11 │ 95.6286 │\n",
      "│ 14  │ 2015-11-27 │ 75.3564 │\n"
     ]
    }
   ],
   "source": [
    "nb_lineups = 50\n",
    "use_std = false\n",
    "paths = generate_paths(\"no_std\")\n",
    "max_overlaps_list = [4,5,6,7,8,9]\n",
    "\n",
    "avg = []\n",
    "pc1 = []\n",
    "pc2 = []\n",
    "for m in max_overlaps\n",
    "    println(m)\n",
    "    results = run_tests(paths, nb_lineups, m, use_std)\n",
    "    println(results)\n",
    "    sort!(results, 2, rev=true)\n",
    "    push!(avg, mean(results[!,:score]))\n",
    "    push!(pc1, size(filter(x->round(Int, x[:score])>=90,results))[1]/size(results)[1])\n",
    "    push!(pc2, size(filter(x->round(Int, x[:score])>=94,results))[1]/size(results)[1])\n",
    "end"
   ]
  },
  {
   "cell_type": "code",
   "execution_count": 99,
   "metadata": {},
   "outputs": [
    {
     "data": {
      "image/png": "[encoded data removed]",
      "text/plain": [
       "Figure(PyObject <Figure size 640x480 with 1 Axes>)"
      ]
     },
     "metadata": {},
     "output_type": "display_data"
    },
    {
     "data": {
      "text/plain": [
       "PyObject Text(24.000000000000007, 0.5, 'Average Score')"
      ]
     },
     "execution_count": 99,
     "metadata": {},
     "output_type": "execute_result"
    }
   ],
   "source": [
    "p = plt.plot(max_overlaps, avg)\n",
    "plt.title(\"Baseline model\")\n",
    "plt.xlabel(\"Maximum Overlap\")\n",
    "plt.ylabel(\"Average Score\")"
   ]
  },
  {
   "cell_type": "code",
   "execution_count": 100,
   "metadata": {},
   "outputs": [
    {
     "data": {
      "image/png": "[encoded data removed]",
      "text/plain": [
       "Figure(PyObject <Figure size 640x480 with 1 Axes>)"
      ]
     },
     "metadata": {},
     "output_type": "display_data"
    },
    {
     "data": {
      "text/plain": [
       "PyObject <matplotlib.legend.Legend object at 0x0000000004AAE3C8>"
      ]
     },
     "execution_count": 100,
     "metadata": {},
     "output_type": "execute_result"
    }
   ],
   "source": [
    "p1 = plt.plot(max_overlaps, pc1, label=\"P>90%\")\n",
    "p2 = plt.plot(max_overlaps, pc2, label=\"P>95%\")\n",
    "plt.title(\"Baseline model\")\n",
    "plt.xlabel(\"Maximum Overlap\")\n",
    "plt.ylabel(\"Probability\")\n",
    "plt.legend()"
   ]
  },
  {
   "cell_type": "markdown",
   "metadata": {},
   "source": [
    "## Testing number of lineups (Baseline)"
   ]
  },
  {
   "cell_type": "code",
   "execution_count": 96,
   "metadata": {
    "scrolled": true
   },
   "outputs": [
    {
     "name": "stdout",
     "output_type": "stream",
     "text": [
      "20\n",
      "14×2 DataFrame\n"
     ]
    },
    {
     "ename": "InterruptException",
     "evalue": "InterruptException:",
     "output_type": "error",
     "traceback": [
      "InterruptException:",
      "",
      "Stacktrace:",
      " [1] try_yieldto(::typeof(Base.ensure_rescheduled), ::Base.RefValue{Task}) at .\\task.jl:517",
      " [2] wait() at .\\task.jl:592",
      " [3] uv_write(::Base.PipeEndpoint, ::Ptr{UInt8}, ::UInt64) at .\\stream.jl:883",
      " [4] unsafe_write(::Base.PipeEndpoint, ::Ptr{UInt8}, ::UInt64) at .\\stream.jl:931",
      " [5] unsafe_write at .\\io.jl:522 [inlined]",
      " [6] unsafe_write(::Base.PipeEndpoint, ::Base.RefValue{UInt8}, ::Int64) at .\\io.jl:520",
      " [7] write at .\\io.jl:523 [inlined]",
      " [8] write(::Base.PipeEndpoint, ::UInt8) at .\\stream.jl:973",
      " [9] write at .\\io.jl:237 [inlined]",
      " [10] write at .\\io.jl:576 [inlined]",
      " [11] print at .\\char.jl:229 [inlined]",
      " [12] print(::IJulia.IJuliaStdio{Base.PipeEndpoint}, ::String, ::Char) at .\\strings\\io.jl:48",
      " [13] println at .\\strings\\io.jl:75 [inlined]",
      " [14] showrows(::IJulia.IJuliaStdio{Base.PipeEndpoint}, ::DataFrame, ::UnitRange{Int64}, ::UnitRange{Int64}, ::Array{Int64,1}, ::Bool, ::Bool, ::Symbol, ::Bool, ::Nothing) at C:\\Users\\iai\\builds\\InterpretableAI\\SysImgBuilder\\.julia\\packages\\DataFrames\\yH0f6\\src\\abstractdataframe\\show.jl:414",
      " [15] #_show#319(::Bool, ::Bool, ::Bool, ::Symbol, ::Bool, ::Nothing, ::typeof(DataFrames._show), ::IJulia.IJuliaStdio{Base.PipeEndpoint}, ::DataFrame) at C:\\Users\\iai\\builds\\InterpretableAI\\SysImgBuilder\\.julia\\packages\\DataFrames\\yH0f6\\src\\abstractdataframe\\show.jl:539",
      " [16] #_show at .\\none:0 [inlined]",
      " [17] #show#320(::Bool, ::Bool, ::Bool, ::Symbol, ::Bool, ::typeof(show), ::IJulia.IJuliaStdio{Base.PipeEndpoint}, ::DataFrame) at C:\\Users\\iai\\builds\\InterpretableAI\\SysImgBuilder\\.julia\\packages\\DataFrames\\yH0f6\\src\\abstractdataframe\\show.jl:609",
      " [18] show(::IJulia.IJuliaStdio{Base.PipeEndpoint}, ::DataFrame) at C:\\Users\\iai\\builds\\InterpretableAI\\SysImgBuilder\\.julia\\packages\\DataFrames\\yH0f6\\src\\abstractdataframe\\show.jl:609",
      " [19] print(::IJulia.IJuliaStdio{Base.PipeEndpoint}, ::DataFrame) at .\\strings\\io.jl:37",
      " [20] print(::IJulia.IJuliaStdio{Base.PipeEndpoint}, ::DataFrame, ::Char) at .\\strings\\io.jl:48",
      " [21] println(::IJulia.IJuliaStdio{Base.PipeEndpoint}, ::DataFrame) at .\\strings\\io.jl:75",
      " [22] println(::DataFrame) at .\\coreio.jl:4",
      " [23] top-level scope at In[96]:12"
     ]
    }
   ],
   "source": [
    "nb_lineups_list = [20:5:50;]\n",
    "max_overlap = 5\n",
    "use_std = false\n",
    "paths = generate_paths(\"no_std\")\n",
    "\n",
    "avg_2 = []\n",
    "pc1_2 = []\n",
    "pc2_2 = []\n",
    "for n in nb_lineups_list\n",
    "    println(n)\n",
    "    results = run_tests(paths, n, max_overlap, use_std)\n",
    "    println(results)\n",
    "    sort!(results, 2, rev=true)\n",
    "    push!(avg_2, mean(results[!,:score]))\n",
    "    push!(pc1_2, size(filter(x->round(Int, x[:score])>=90,results))[1]/size(results)[1])\n",
    "    push!(pc2_2, size(filter(x->round(Int, x[:score])>=94,results))[1]/size(results)[1])\n",
    "end"
   ]
  },
  {
   "cell_type": "code",
   "execution_count": 97,
   "metadata": {
    "scrolled": true
   },
   "outputs": [
    {
     "ename": "PyCall.PyError",
     "evalue": "PyError ($(Expr(:escape, :(ccall(#= C:\\Users\\enysb\\.julia\\packages\\PyCall\\ttONZ\\src\\pyfncall.jl:44 =# @pysym(:PyObject_Call), PyPtr, (PyPtr, PyPtr, PyPtr), o, pyargsptr, kw))))) <class 'ValueError'>\nValueError('x and y must have same first dimension, but have shapes (7,) and (0,)',)\n  File \"C:\\Users\\enysb\\.julia\\conda\\3\\lib\\site-packages\\matplotlib\\pyplot.py\", line 2795, in plot\n    is not None else {}), **kwargs)\n  File \"C:\\Users\\enysb\\.julia\\conda\\3\\lib\\site-packages\\matplotlib\\axes\\_axes.py\", line 1666, in plot\n    lines = [*self._get_lines(*args, data=data, **kwargs)]\n  File \"C:\\Users\\enysb\\.julia\\conda\\3\\lib\\site-packages\\matplotlib\\axes\\_base.py\", line 225, in __call__\n    yield from self._plot_args(this, kwargs)\n  File \"C:\\Users\\enysb\\.julia\\conda\\3\\lib\\site-packages\\matplotlib\\axes\\_base.py\", line 391, in _plot_args\n    x, y = self._xy_from_xy(x, y)\n  File \"C:\\Users\\enysb\\.julia\\conda\\3\\lib\\site-packages\\matplotlib\\axes\\_base.py\", line 270, in _xy_from_xy\n    \"have shapes {} and {}\".format(x.shape, y.shape))\n",
     "output_type": "error",
     "traceback": [
      "PyError ($(Expr(:escape, :(ccall(#= C:\\Users\\enysb\\.julia\\packages\\PyCall\\ttONZ\\src\\pyfncall.jl:44 =# @pysym(:PyObject_Call), PyPtr, (PyPtr, PyPtr, PyPtr), o, pyargsptr, kw))))) <class 'ValueError'>\nValueError('x and y must have same first dimension, but have shapes (7,) and (0,)',)\n  File \"C:\\Users\\enysb\\.julia\\conda\\3\\lib\\site-packages\\matplotlib\\pyplot.py\", line 2795, in plot\n    is not None else {}), **kwargs)\n  File \"C:\\Users\\enysb\\.julia\\conda\\3\\lib\\site-packages\\matplotlib\\axes\\_axes.py\", line 1666, in plot\n    lines = [*self._get_lines(*args, data=data, **kwargs)]\n  File \"C:\\Users\\enysb\\.julia\\conda\\3\\lib\\site-packages\\matplotlib\\axes\\_base.py\", line 225, in __call__\n    yield from self._plot_args(this, kwargs)\n  File \"C:\\Users\\enysb\\.julia\\conda\\3\\lib\\site-packages\\matplotlib\\axes\\_base.py\", line 391, in _plot_args\n    x, y = self._xy_from_xy(x, y)\n  File \"C:\\Users\\enysb\\.julia\\conda\\3\\lib\\site-packages\\matplotlib\\axes\\_base.py\", line 270, in _xy_from_xy\n    \"have shapes {} and {}\".format(x.shape, y.shape))\n",
      "",
      "Stacktrace:",
      " [1] pyerr_check at C:\\Users\\enysb\\.julia\\packages\\PyCall\\ttONZ\\src\\exception.jl:60 [inlined]",
      " [2] pyerr_check at C:\\Users\\enysb\\.julia\\packages\\PyCall\\ttONZ\\src\\exception.jl:64 [inlined]",
      " [3] macro expansion at C:\\Users\\enysb\\.julia\\packages\\PyCall\\ttONZ\\src\\exception.jl:84 [inlined]",
      " [4] __pycall!(::PyCall.PyObject, ::Ptr{PyCall.PyObject_struct}, ::PyCall.PyObject, ::Ptr{Nothing}) at C:\\Users\\enysb\\.julia\\packages\\PyCall\\ttONZ\\src\\pyfncall.jl:44",
      " [5] _pycall!(::PyCall.PyObject, ::PyCall.PyObject, ::Tuple{Array{Int64,1},Array{Any,1}}, ::Int64, ::Ptr{Nothing}) at C:\\Users\\enysb\\.julia\\packages\\PyCall\\ttONZ\\src\\pyfncall.jl:29",
      " [6] _pycall!(::PyCall.PyObject, ::PyCall.PyObject, ::Tuple{Array{Int64,1},Array{Any,1}}, ::Base.Iterators.Pairs{Union{},Union{},Tuple{},NamedTuple{(),Tuple{}}}) at C:\\Users\\enysb\\.julia\\packages\\PyCall\\ttONZ\\src\\pyfncall.jl:11",
      " [7] #call#111(::Base.Iterators.Pairs{Union{},Union{},Tuple{},NamedTuple{(),Tuple{}}}, ::PyCall.PyObject, ::Array{Int64,1}, ::Vararg{Any,N} where N) at C:\\Users\\enysb\\.julia\\packages\\PyCall\\ttONZ\\src\\pyfncall.jl:89",
      " [8] (::PyCall.PyObject)(::Array{Int64,1}, ::Vararg{Any,N} where N) at C:\\Users\\enysb\\.julia\\packages\\PyCall\\ttONZ\\src\\pyfncall.jl:89",
      " [9] top-level scope at In[97]:1"
     ]
    }
   ],
   "source": [
    "p_2 = plt.plot(nb_lineups_list, avg_2)\n",
    "plt.title(\"Baseline model\")\n",
    "plt.xlabel(\"Number of Lineups\")\n",
    "plt.ylabel(\"Average Score\")"
   ]
  },
  {
   "cell_type": "code",
   "execution_count": 82,
   "metadata": {},
   "outputs": [
    {
     "ename": "PyCall.PyError",
     "evalue": "PyError ($(Expr(:escape, :(ccall(#= C:\\Users\\enysb\\.julia\\packages\\PyCall\\ttONZ\\src\\pyfncall.jl:44 =# @pysym(:PyObject_Call), PyPtr, (PyPtr, PyPtr, PyPtr), o, pyargsptr, kw))))) <class 'ValueError'>\nValueError('x and y must have same first dimension, but have shapes (1,) and (7,)',)\n  File \"C:\\Users\\enysb\\.julia\\conda\\3\\lib\\site-packages\\matplotlib\\pyplot.py\", line 2795, in plot\n    is not None else {}), **kwargs)\n  File \"C:\\Users\\enysb\\.julia\\conda\\3\\lib\\site-packages\\matplotlib\\axes\\_axes.py\", line 1666, in plot\n    lines = [*self._get_lines(*args, data=data, **kwargs)]\n  File \"C:\\Users\\enysb\\.julia\\conda\\3\\lib\\site-packages\\matplotlib\\axes\\_base.py\", line 225, in __call__\n    yield from self._plot_args(this, kwargs)\n  File \"C:\\Users\\enysb\\.julia\\conda\\3\\lib\\site-packages\\matplotlib\\axes\\_base.py\", line 391, in _plot_args\n    x, y = self._xy_from_xy(x, y)\n  File \"C:\\Users\\enysb\\.julia\\conda\\3\\lib\\site-packages\\matplotlib\\axes\\_base.py\", line 270, in _xy_from_xy\n    \"have shapes {} and {}\".format(x.shape, y.shape))\n",
     "output_type": "error",
     "traceback": [
      "PyError ($(Expr(:escape, :(ccall(#= C:\\Users\\enysb\\.julia\\packages\\PyCall\\ttONZ\\src\\pyfncall.jl:44 =# @pysym(:PyObject_Call), PyPtr, (PyPtr, PyPtr, PyPtr), o, pyargsptr, kw))))) <class 'ValueError'>\nValueError('x and y must have same first dimension, but have shapes (1,) and (7,)',)\n  File \"C:\\Users\\enysb\\.julia\\conda\\3\\lib\\site-packages\\matplotlib\\pyplot.py\", line 2795, in plot\n    is not None else {}), **kwargs)\n  File \"C:\\Users\\enysb\\.julia\\conda\\3\\lib\\site-packages\\matplotlib\\axes\\_axes.py\", line 1666, in plot\n    lines = [*self._get_lines(*args, data=data, **kwargs)]\n  File \"C:\\Users\\enysb\\.julia\\conda\\3\\lib\\site-packages\\matplotlib\\axes\\_base.py\", line 225, in __call__\n    yield from self._plot_args(this, kwargs)\n  File \"C:\\Users\\enysb\\.julia\\conda\\3\\lib\\site-packages\\matplotlib\\axes\\_base.py\", line 391, in _plot_args\n    x, y = self._xy_from_xy(x, y)\n  File \"C:\\Users\\enysb\\.julia\\conda\\3\\lib\\site-packages\\matplotlib\\axes\\_base.py\", line 270, in _xy_from_xy\n    \"have shapes {} and {}\".format(x.shape, y.shape))\n",
      "",
      "Stacktrace:",
      " [1] pyerr_check at C:\\Users\\enysb\\.julia\\packages\\PyCall\\ttONZ\\src\\exception.jl:60 [inlined]",
      " [2] pyerr_check at C:\\Users\\enysb\\.julia\\packages\\PyCall\\ttONZ\\src\\exception.jl:64 [inlined]",
      " [3] macro expansion at C:\\Users\\enysb\\.julia\\packages\\PyCall\\ttONZ\\src\\exception.jl:84 [inlined]",
      " [4] __pycall!(::PyCall.PyObject, ::Ptr{PyCall.PyObject_struct}, ::PyCall.PyObject, ::PyCall.PyObject) at C:\\Users\\enysb\\.julia\\packages\\PyCall\\ttONZ\\src\\pyfncall.jl:44",
      " [5] _pycall!(::PyCall.PyObject, ::PyCall.PyObject, ::Tuple{Int64,Array{Any,1}}, ::Int64, ::PyCall.PyObject) at C:\\Users\\enysb\\.julia\\packages\\PyCall\\ttONZ\\src\\pyfncall.jl:29",
      " [6] _pycall!(::PyCall.PyObject, ::PyCall.PyObject, ::Tuple{Int64,Array{Any,1}}, ::Base.Iterators.Pairs{Symbol,String,Tuple{Symbol},NamedTuple{(:label,),Tuple{String}}}) at C:\\Users\\enysb\\.julia\\packages\\PyCall\\ttONZ\\src\\pyfncall.jl:11",
      " [7] #call#111(::Base.Iterators.Pairs{Symbol,String,Tuple{Symbol},NamedTuple{(:label,),Tuple{String}}}, ::PyCall.PyObject, ::Int64, ::Vararg{Any,N} where N) at C:\\Users\\enysb\\.julia\\packages\\PyCall\\ttONZ\\src\\pyfncall.jl:89",
      " [8] (::getfield(PyCall, Symbol(\"#kw#PyObject\")))(::NamedTuple{(:label,),Tuple{String}}, ::PyCall.PyObject, ::Int64, ::Vararg{Any,N} where N) at .\\none:0",
      " [9] top-level scope at In[82]:1"
     ]
    }
   ],
   "source": [
    "p1_2 = plt.plot(nb_lineups_list, pc1_2, label=\"P>90%\")\n",
    "p2_3 = plt.plot(nb_lineups_list, pc2_2, label=\"P>95%\")\n",
    "plt.title(\"Baseline model\")\n",
    "plt.xlabel(\"Number of Lineups\")\n",
    "plt.ylabel(\"Probability\")\n",
    "plt.legend()"
   ]
  },
  {
   "cell_type": "markdown",
   "metadata": {},
   "source": [
    "## Testing rho (variance)"
   ]
  },
  {
   "cell_type": "code",
   "execution_count": 55,
   "metadata": {},
   "outputs": [
    {
     "name": "stdout",
     "output_type": "stream",
     "text": [
      "0.0\n",
      "14×2 DataFrame\n",
      "│ Row │ keys       │ score   │\n",
      "│     │ \u001b[90mString\u001b[39m     │ \u001b[90mFloat64\u001b[39m │\n",
      "├─────┼────────────┼─────────┤\n",
      "│ 1   │ 2012-01-14 │ 84.6008 │\n",
      "│ 2   │ 2012-03-01 │ 81.5613 │\n",
      "│ 3   │ 2013-03-05 │ 94.3958 │\n",
      "│ 4   │ 2013-10-30 │ 84.0945 │\n",
      "│ 5   │ 2013-11-17 │ 89.8762 │\n",
      "│ 6   │ 2014-01-11 │ 82.952  │\n",
      "│ 7   │ 2014-02-11 │ 80.7331 │\n",
      "│ 8   │ 2014-03-12 │ 84.6154 │\n",
      "│ 9   │ 2015-01-11 │ 80.9089 │\n",
      "│ 10  │ 2015-02-24 │ 83.5415 │\n",
      "│ 11  │ 2015-03-13 │ 81.7791 │\n",
      "│ 12  │ 2015-04-11 │ 80.4131 │\n",
      "│ 13  │ 2015-05-11 │ 95.6286 │\n",
      "│ 14  │ 2015-11-27 │ 89.9864 │\n",
      "0.2\n",
      "14×2 DataFrame\n",
      "│ Row │ keys       │ score   │\n",
      "│     │ \u001b[90mString\u001b[39m     │ \u001b[90mFloat64\u001b[39m │\n",
      "├─────┼────────────┼─────────┤\n",
      "│ 1   │ 2012-01-14 │ 88.1666 │\n",
      "│ 2   │ 2012-03-01 │ 79.7262 │\n",
      "│ 3   │ 2013-03-05 │ 89.7211 │\n",
      "│ 4   │ 2013-10-30 │ 88.7514 │\n",
      "│ 5   │ 2013-11-17 │ 86.9326 │\n",
      "│ 6   │ 2014-01-11 │ 82.7264 │\n",
      "│ 7   │ 2014-02-11 │ 76.6337 │\n",
      "│ 8   │ 2014-03-12 │ 83.5023 │\n",
      "│ 9   │ 2015-01-11 │ 77.303  │\n",
      "│ 10  │ 2015-02-24 │ 85.8437 │\n",
      "│ 11  │ 2015-03-13 │ 74.8294 │\n",
      "│ 12  │ 2015-04-11 │ 78.847  │\n",
      "│ 13  │ 2015-05-11 │ 96.0942 │\n",
      "│ 14  │ 2015-11-27 │ 83.4352 │\n",
      "0.4\n",
      "14×2 DataFrame\n",
      "│ Row │ keys       │ score   │\n",
      "│     │ \u001b[90mString\u001b[39m     │ \u001b[90mFloat64\u001b[39m │\n",
      "├─────┼────────────┼─────────┤\n",
      "│ 1   │ 2012-01-14 │ 88.1666 │\n",
      "│ 2   │ 2012-03-01 │ 74.6286 │\n",
      "│ 3   │ 2013-03-05 │ 93.5724 │\n",
      "│ 4   │ 2013-10-30 │ 83.9145 │\n",
      "│ 5   │ 2013-11-17 │ 86.9326 │\n",
      "│ 6   │ 2014-01-11 │ 81.6629 │\n",
      "│ 7   │ 2014-02-11 │ 75.6933 │\n",
      "│ 8   │ 2014-03-12 │ 81.0537 │\n",
      "│ 9   │ 2015-01-11 │ 74.2899 │\n",
      "│ 10  │ 2015-02-24 │ 86.9459 │\n",
      "│ 11  │ 2015-03-13 │ 76.1435 │\n",
      "│ 12  │ 2015-04-11 │ 77.3945 │\n",
      "│ 13  │ 2015-05-11 │ 96.0942 │\n",
      "│ 14  │ 2015-11-27 │ 84.6911 │\n",
      "0.6\n",
      "14×2 DataFrame\n",
      "│ Row │ keys       │ score   │\n",
      "│     │ \u001b[90mString\u001b[39m     │ \u001b[90mFloat64\u001b[39m │\n",
      "├─────┼────────────┼─────────┤\n",
      "│ 1   │ 2012-01-14 │ 89.7444 │\n",
      "│ 2   │ 2012-03-01 │ 78.1823 │\n",
      "│ 3   │ 2013-03-05 │ 87.5963 │\n",
      "│ 4   │ 2013-10-30 │ 84.2295 │\n",
      "│ 5   │ 2013-11-17 │ 88.7758 │\n",
      "│ 6   │ 2014-01-11 │ 83.8543 │\n",
      "│ 7   │ 2014-02-11 │ 75.6933 │\n",
      "│ 8   │ 2014-03-12 │ 81.0537 │\n",
      "│ 9   │ 2015-01-11 │ 72.0672 │\n",
      "│ 10  │ 2015-02-24 │ 87.7296 │\n",
      "│ 11  │ 2015-03-13 │ 76.0677 │\n",
      "│ 12  │ 2015-04-11 │ 76.3504 │\n",
      "│ 13  │ 2015-05-11 │ 96.0942 │\n",
      "│ 14  │ 2015-11-27 │ 83.3673 │\n",
      "0.8\n",
      "14×2 DataFrame\n",
      "│ Row │ keys       │ score   │\n",
      "│     │ \u001b[90mString\u001b[39m     │ \u001b[90mFloat64\u001b[39m │\n",
      "├─────┼────────────┼─────────┤\n",
      "│ 1   │ 2012-01-14 │ 82.8337 │\n",
      "│ 2   │ 2012-03-01 │ 79.3475 │\n",
      "│ 3   │ 2013-03-05 │ 89.3758 │\n",
      "│ 4   │ 2013-10-30 │ 87.1766 │\n",
      "│ 5   │ 2013-11-17 │ 88.7758 │\n",
      "│ 6   │ 2014-01-11 │ 83.8543 │\n",
      "│ 7   │ 2014-02-11 │ 73.7642 │\n",
      "│ 8   │ 2014-03-12 │ 80.2374 │\n",
      "│ 9   │ 2015-01-11 │ 72.734  │\n",
      "│ 10  │ 2015-02-24 │ 88.2684 │\n",
      "│ 11  │ 2015-03-13 │ 76.0677 │\n",
      "│ 12  │ 2015-04-11 │ 80.5946 │\n",
      "│ 13  │ 2015-05-11 │ 96.0942 │\n",
      "│ 14  │ 2015-11-27 │ 88.4929 │\n",
      "1.0\n",
      "14×2 DataFrame\n",
      "│ Row │ keys       │ score   │\n",
      "│     │ \u001b[90mString\u001b[39m     │ \u001b[90mFloat64\u001b[39m │\n",
      "├─────┼────────────┼─────────┤\n",
      "│ 1   │ 2012-01-14 │ 85.863  │\n",
      "│ 2   │ 2012-03-01 │ 76.1724 │\n",
      "│ 3   │ 2013-03-05 │ 88.3665 │\n",
      "│ 4   │ 2013-10-30 │ 84.6569 │\n",
      "│ 5   │ 2013-11-17 │ 87.3453 │\n",
      "│ 6   │ 2014-01-11 │ 83.8543 │\n",
      "│ 7   │ 2014-02-11 │ 75.6209 │\n",
      "│ 8   │ 2014-03-12 │ 77.6156 │\n",
      "│ 9   │ 2015-01-11 │ 70.857  │\n",
      "│ 10  │ 2015-02-24 │ 90.3012 │\n",
      "│ 11  │ 2015-03-13 │ 74.5009 │\n",
      "│ 12  │ 2015-04-11 │ 77.4626 │\n",
      "│ 13  │ 2015-05-11 │ 96.0942 │\n",
      "│ 14  │ 2015-11-27 │ 88.4929 │\n"
     ]
    }
   ],
   "source": [
    "nb_lineups = 50\n",
    "max_overlap = 5\n",
    "use_std = true\n",
    "var_weight_list = [0:0.2:1;]\n",
    "\n",
    "paths_1 = generate_paths(\"with_var\")\n",
    "\n",
    "avg_3 = []\n",
    "pc1_3 = []\n",
    "pc2_3 = []\n",
    "for std in var_weight_list\n",
    "    println(std)\n",
    "    results = run_tests(paths_1, nb_lineups, max_overlap, use_std; std_weight=std)\n",
    "    println(results)\n",
    "    sort!(results, 2, rev=true)\n",
    "    push!(avg_3, mean(results[!,:score]))\n",
    "    push!(pc1_3, size(filter(x->round(Int, x[:score])>=90,results))[1]/size(results)[1])\n",
    "    push!(pc2_3, size(filter(x->round(Int, x[:score])>=94,results))[1]/size(results)[1])\n",
    "end"
   ]
  },
  {
   "cell_type": "code",
   "execution_count": 92,
   "metadata": {},
   "outputs": [
    {
     "data": {
      "image/png": "[encoded data removed]",
      "text/plain": [
       "Figure(PyObject <Figure size 640x480 with 1 Axes>)"
      ]
     },
     "metadata": {},
     "output_type": "display_data"
    },
    {
     "data": {
      "text/plain": [
       "PyObject Text(24.000000000000007, 0.5, 'Average Score')"
      ]
     },
     "execution_count": 92,
     "metadata": {},
     "output_type": "execute_result"
    }
   ],
   "source": [
    "p_3 = plt.plot(var_weight_list, avg_3)\n",
    "plt.title(\"Using variance\")\n",
    "plt.xlabel(\"Rho\")\n",
    "plt.ylabel(\"Average Score\")"
   ]
  },
  {
   "cell_type": "code",
   "execution_count": 93,
   "metadata": {},
   "outputs": [
    {
     "data": {
      "image/png": "[encoded data removed]",
      "text/plain": [
       "Figure(PyObject <Figure size 640x480 with 1 Axes>)"
      ]
     },
     "metadata": {},
     "output_type": "display_data"
    },
    {
     "data": {
      "text/plain": [
       "PyObject <matplotlib.legend.Legend object at 0x0000000004B1EEF0>"
      ]
     },
     "execution_count": 93,
     "metadata": {},
     "output_type": "execute_result"
    }
   ],
   "source": [
    "p1_3 = plt.plot(var_weight_list, pc1_3, label=\"P>90%\")\n",
    "p2_3 = plt.plot(var_weight_list, pc2_3, label=\"P>95%\")\n",
    "plt.title(\"Using variance\")\n",
    "plt.xlabel(\"Rho\")\n",
    "plt.ylabel(\"Probability\")\n",
    "plt.legend()"
   ]
  },
  {
   "cell_type": "markdown",
   "metadata": {},
   "source": [
    "## Testing lambda (boosted prediction)"
   ]
  },
  {
   "cell_type": "code",
   "execution_count": 58,
   "metadata": {},
   "outputs": [
    {
     "name": "stdout",
     "output_type": "stream",
     "text": [
      "0.0\n",
      "Unfeasible.\n",
      "Unfeasible.\n",
      "Unfeasible.\n",
      "Unfeasible.\n",
      "Unfeasible.\n",
      "Unfeasible.\n",
      "Unfeasible.\n",
      "Unfeasible.\n",
      "Unfeasible.\n",
      "Unfeasible.\n",
      "Unfeasible.\n",
      "Unfeasible.\n",
      "Unfeasible.\n",
      "Unfeasible.\n",
      "0×2 DataFrame\n",
      "\n",
      "0.2\n",
      "Unfeasible.\n",
      "Unfeasible.\n",
      "Unfeasible.\n",
      "Unfeasible.\n",
      "Unfeasible.\n",
      "Unfeasible.\n",
      "Unfeasible.\n",
      "Unfeasible.\n",
      "Unfeasible.\n",
      "Unfeasible.\n",
      "Unfeasible.\n",
      "Unfeasible.\n",
      "Unfeasible.\n",
      "Unfeasible.\n",
      "0×2 DataFrame\n",
      "\n",
      "0.4\n",
      "Unfeasible.\n",
      "Unfeasible.\n",
      "Unfeasible.\n",
      "Unfeasible.\n",
      "Unfeasible.\n",
      "Unfeasible.\n",
      "Unfeasible.\n",
      "Unfeasible.\n",
      "Unfeasible.\n",
      "Unfeasible.\n",
      "Unfeasible.\n",
      "Unfeasible.\n",
      "Unfeasible.\n",
      "Unfeasible.\n",
      "0×2 DataFrame\n",
      "\n",
      "0.6\n",
      "Unfeasible.\n",
      "Unfeasible.\n",
      "Unfeasible.\n",
      "Unfeasible.\n",
      "Unfeasible.\n",
      "Unfeasible.\n",
      "Unfeasible.\n",
      "Unfeasible.\n",
      "Unfeasible.\n",
      "Unfeasible.\n",
      "Unfeasible.\n",
      "Unfeasible.\n",
      "Unfeasible.\n",
      "Unfeasible.\n",
      "0×2 DataFrame\n",
      "\n",
      "0.8\n",
      "Unfeasible.\n",
      "Unfeasible.\n",
      "Unfeasible.\n",
      "Unfeasible.\n",
      "Unfeasible.\n",
      "Unfeasible.\n",
      "Unfeasible.\n",
      "Unfeasible.\n",
      "Unfeasible.\n",
      "Unfeasible.\n",
      "Unfeasible.\n",
      "Unfeasible.\n",
      "Unfeasible.\n",
      "Unfeasible.\n",
      "0×2 DataFrame\n",
      "\n",
      "1.0\n",
      "Unfeasible.\n",
      "Unfeasible.\n",
      "Unfeasible.\n",
      "Unfeasible.\n",
      "Unfeasible.\n",
      "Unfeasible.\n",
      "Unfeasible.\n",
      "Unfeasible.\n",
      "Unfeasible.\n",
      "Unfeasible.\n",
      "Unfeasible.\n",
      "Unfeasible.\n",
      "Unfeasible.\n",
      "Unfeasible.\n",
      "0×2 DataFrame\n",
      "\n"
     ]
    }
   ],
   "source": [
    "std_weight_list = [0:0.2:1;]\n",
    "nb_lineups = 50\n",
    "max_overlap = 5\n",
    "use_std = true\n",
    "adj = true\n",
    "\n",
    "paths_2 = generate_paths(\"with_std_adj\")\n",
    "\n",
    "avg_4 = []\n",
    "pc1_4 = []\n",
    "pc2_4 = []\n",
    "for std in std_weight_list\n",
    "    println(std)\n",
    "    results = run_tests(paths_2, nb_lineups, max_overlap, use_std; adj=adj, std_weight=std)\n",
    "    println(results)\n",
    "    sort!(results, 2, rev=true)\n",
    "    push!(avg_4, mean(results[!,:score]))\n",
    "    push!(pc1_4, size(filter(x->round(Int, x[:score])>=90,results))[1]/size(results)[1])\n",
    "    push!(pc2_4, size(filter(x->round(Int, x[:score])>=94,results))[1]/size(results)[1])\n",
    "end"
   ]
  },
  {
   "cell_type": "code",
   "execution_count": 59,
   "metadata": {},
   "outputs": [
    {
     "ename": "PyCall.PyError",
     "evalue": "PyError ($(Expr(:escape, :(ccall(#= C:\\Users\\enysb\\.julia\\packages\\PyCall\\ttONZ\\src\\pyfncall.jl:44 =# @pysym(:PyObject_Call), PyPtr, (PyPtr, PyPtr, PyPtr), o, pyargsptr, kw))))) <class 'ValueError'>\nValueError('x and y must have same first dimension, but have shapes (1,) and (6,)',)\n  File \"C:\\Users\\enysb\\.julia\\conda\\3\\lib\\site-packages\\matplotlib\\pyplot.py\", line 2795, in plot\n    is not None else {}), **kwargs)\n  File \"C:\\Users\\enysb\\.julia\\conda\\3\\lib\\site-packages\\matplotlib\\axes\\_axes.py\", line 1666, in plot\n    lines = [*self._get_lines(*args, data=data, **kwargs)]\n  File \"C:\\Users\\enysb\\.julia\\conda\\3\\lib\\site-packages\\matplotlib\\axes\\_base.py\", line 225, in __call__\n    yield from self._plot_args(this, kwargs)\n  File \"C:\\Users\\enysb\\.julia\\conda\\3\\lib\\site-packages\\matplotlib\\axes\\_base.py\", line 391, in _plot_args\n    x, y = self._xy_from_xy(x, y)\n  File \"C:\\Users\\enysb\\.julia\\conda\\3\\lib\\site-packages\\matplotlib\\axes\\_base.py\", line 270, in _xy_from_xy\n    \"have shapes {} and {}\".format(x.shape, y.shape))\n",
     "output_type": "error",
     "traceback": [
      "PyError ($(Expr(:escape, :(ccall(#= C:\\Users\\enysb\\.julia\\packages\\PyCall\\ttONZ\\src\\pyfncall.jl:44 =# @pysym(:PyObject_Call), PyPtr, (PyPtr, PyPtr, PyPtr), o, pyargsptr, kw))))) <class 'ValueError'>\nValueError('x and y must have same first dimension, but have shapes (1,) and (6,)',)\n  File \"C:\\Users\\enysb\\.julia\\conda\\3\\lib\\site-packages\\matplotlib\\pyplot.py\", line 2795, in plot\n    is not None else {}), **kwargs)\n  File \"C:\\Users\\enysb\\.julia\\conda\\3\\lib\\site-packages\\matplotlib\\axes\\_axes.py\", line 1666, in plot\n    lines = [*self._get_lines(*args, data=data, **kwargs)]\n  File \"C:\\Users\\enysb\\.julia\\conda\\3\\lib\\site-packages\\matplotlib\\axes\\_base.py\", line 225, in __call__\n    yield from self._plot_args(this, kwargs)\n  File \"C:\\Users\\enysb\\.julia\\conda\\3\\lib\\site-packages\\matplotlib\\axes\\_base.py\", line 391, in _plot_args\n    x, y = self._xy_from_xy(x, y)\n  File \"C:\\Users\\enysb\\.julia\\conda\\3\\lib\\site-packages\\matplotlib\\axes\\_base.py\", line 270, in _xy_from_xy\n    \"have shapes {} and {}\".format(x.shape, y.shape))\n",
      "",
      "Stacktrace:",
      " [1] pyerr_check at C:\\Users\\enysb\\.julia\\packages\\PyCall\\ttONZ\\src\\exception.jl:60 [inlined]",
      " [2] pyerr_check at C:\\Users\\enysb\\.julia\\packages\\PyCall\\ttONZ\\src\\exception.jl:64 [inlined]",
      " [3] macro expansion at C:\\Users\\enysb\\.julia\\packages\\PyCall\\ttONZ\\src\\exception.jl:84 [inlined]",
      " [4] __pycall!(::PyCall.PyObject, ::Ptr{PyCall.PyObject_struct}, ::PyCall.PyObject, ::Ptr{Nothing}) at C:\\Users\\enysb\\.julia\\packages\\PyCall\\ttONZ\\src\\pyfncall.jl:44",
      " [5] _pycall!(::PyCall.PyObject, ::PyCall.PyObject, ::Tuple{Int64,Array{Any,1}}, ::Int64, ::Ptr{Nothing}) at C:\\Users\\enysb\\.julia\\packages\\PyCall\\ttONZ\\src\\pyfncall.jl:29",
      " [6] _pycall!(::PyCall.PyObject, ::PyCall.PyObject, ::Tuple{Int64,Array{Any,1}}, ::Base.Iterators.Pairs{Union{},Union{},Tuple{},NamedTuple{(),Tuple{}}}) at C:\\Users\\enysb\\.julia\\packages\\PyCall\\ttONZ\\src\\pyfncall.jl:11",
      " [7] #call#111(::Base.Iterators.Pairs{Union{},Union{},Tuple{},NamedTuple{(),Tuple{}}}, ::PyCall.PyObject, ::Int64, ::Vararg{Any,N} where N) at C:\\Users\\enysb\\.julia\\packages\\PyCall\\ttONZ\\src\\pyfncall.jl:89",
      " [8] (::PyCall.PyObject)(::Int64, ::Vararg{Any,N} where N) at C:\\Users\\enysb\\.julia\\packages\\PyCall\\ttONZ\\src\\pyfncall.jl:89",
      " [9] top-level scope at In[59]:1"
     ]
    }
   ],
   "source": [
    "p_4 = plt.plot(std_weight_list, avg_4)\n",
    "plt.title(\"Using variance\")\n",
    "plt.xlabel(\"Lambda\")\n",
    "plt.ylabel(\"Average Score\")"
   ]
  },
  {
   "cell_type": "code",
   "execution_count": 85,
   "metadata": {},
   "outputs": [
    {
     "ename": "PyCall.PyError",
     "evalue": "PyError ($(Expr(:escape, :(ccall(#= C:\\Users\\enysb\\.julia\\packages\\PyCall\\ttONZ\\src\\pyfncall.jl:44 =# @pysym(:PyObject_Call), PyPtr, (PyPtr, PyPtr, PyPtr), o, pyargsptr, kw))))) <class 'AttributeError'>\nAttributeError(\"'list' object has no attribute 'get_label'\",)\n  File \"C:\\Users\\enysb\\.julia\\conda\\3\\lib\\site-packages\\matplotlib\\pyplot.py\", line 2691, in legend\n    return gca().legend(*args, **kwargs)\n  File \"C:\\Users\\enysb\\.julia\\conda\\3\\lib\\site-packages\\matplotlib\\axes\\_axes.py\", line 403, in legend\n    **kwargs)\n  File \"C:\\Users\\enysb\\.julia\\conda\\3\\lib\\site-packages\\matplotlib\\legend.py\", line 1271, in _parse_legend_args\n    labels = [handle.get_label() for handle in handles]\n  File \"C:\\Users\\enysb\\.julia\\conda\\3\\lib\\site-packages\\matplotlib\\legend.py\", line 1271, in <listcomp>\n    labels = [handle.get_label() for handle in handles]\n",
     "output_type": "error",
     "traceback": [
      "PyError ($(Expr(:escape, :(ccall(#= C:\\Users\\enysb\\.julia\\packages\\PyCall\\ttONZ\\src\\pyfncall.jl:44 =# @pysym(:PyObject_Call), PyPtr, (PyPtr, PyPtr, PyPtr), o, pyargsptr, kw))))) <class 'AttributeError'>\nAttributeError(\"'list' object has no attribute 'get_label'\",)\n  File \"C:\\Users\\enysb\\.julia\\conda\\3\\lib\\site-packages\\matplotlib\\pyplot.py\", line 2691, in legend\n    return gca().legend(*args, **kwargs)\n  File \"C:\\Users\\enysb\\.julia\\conda\\3\\lib\\site-packages\\matplotlib\\axes\\_axes.py\", line 403, in legend\n    **kwargs)\n  File \"C:\\Users\\enysb\\.julia\\conda\\3\\lib\\site-packages\\matplotlib\\legend.py\", line 1271, in _parse_legend_args\n    labels = [handle.get_label() for handle in handles]\n  File \"C:\\Users\\enysb\\.julia\\conda\\3\\lib\\site-packages\\matplotlib\\legend.py\", line 1271, in <listcomp>\n    labels = [handle.get_label() for handle in handles]\n",
      "",
      "Stacktrace:",
      " [1] pyerr_check at C:\\Users\\enysb\\.julia\\packages\\PyCall\\ttONZ\\src\\exception.jl:60 [inlined]",
      " [2] pyerr_check at C:\\Users\\enysb\\.julia\\packages\\PyCall\\ttONZ\\src\\exception.jl:64 [inlined]",
      " [3] macro expansion at C:\\Users\\enysb\\.julia\\packages\\PyCall\\ttONZ\\src\\exception.jl:84 [inlined]",
      " [4] __pycall!(::PyCall.PyObject, ::Ptr{PyCall.PyObject_struct}, ::PyCall.PyObject, ::PyCall.PyObject) at C:\\Users\\enysb\\.julia\\packages\\PyCall\\ttONZ\\src\\pyfncall.jl:44",
      " [5] _pycall!(::PyCall.PyObject, ::PyCall.PyObject, ::Tuple{}, ::Int64, ::PyCall.PyObject) at C:\\Users\\enysb\\.julia\\packages\\PyCall\\ttONZ\\src\\pyfncall.jl:29",
      " [6] _pycall!(::PyCall.PyObject, ::PyCall.PyObject, ::Tuple{}, ::Base.Iterators.Pairs{Symbol,Array{Array{PyCall.PyObject,1},1},Tuple{Symbol},NamedTuple{(:handles,),Tuple{Array{Array{PyCall.PyObject,1},1}}}}) at C:\\Users\\enysb\\.julia\\packages\\PyCall\\ttONZ\\src\\pyfncall.jl:11",
      " [7] #call#111 at C:\\Users\\enysb\\.julia\\packages\\PyCall\\ttONZ\\src\\pyfncall.jl:89 [inlined]",
      " [8] (::getfield(PyCall, Symbol(\"#kw#PyObject\")))(::NamedTuple{(:handles,),Tuple{Array{Array{PyCall.PyObject,1},1}}}, ::PyCall.PyObject) at .\\none:0",
      " [9] top-level scope at In[85]:6"
     ]
    }
   ],
   "source": [
    "p1_4 = plt.plot(std_weight_list, pc1_4, label=\"P>90%\")\n",
    "p2_4 = plt.plot(std_weight_list, pc2_4, label=\"P>95%\")\n",
    "plt.title(\"Using variance\")\n",
    "plt.xlabel(\"Lambda\")\n",
    "plt.ylabel(\"Probability\")\n",
    "plt.legend(handles=[p1, p2])"
   ]
  },
  {
   "cell_type": "markdown",
   "metadata": {},
   "source": [
    "### Baseline"
   ]
  },
  {
   "cell_type": "code",
   "execution_count": 61,
   "metadata": {},
   "outputs": [],
   "source": [
    "# nb_lineups = 50\n",
    "# max_overlap = 5\n",
    "# use_std = false\n",
    "\n",
    "# paths = generate_paths(\"no_std\")\n",
    "# results = run_tests(paths, nb_lineups, max_overlap, use_std)\n",
    "# sort!(results, 2, rev=true)"
   ]
  },
  {
   "cell_type": "code",
   "execution_count": 62,
   "metadata": {},
   "outputs": [],
   "source": [
    "# mean(results[,:score])"
   ]
  },
  {
   "cell_type": "code",
   "execution_count": 63,
   "metadata": {},
   "outputs": [],
   "source": [
    "# size(filter(x->round(Int, x[:score])>=90,results))[1]/size(results)[1]"
   ]
  },
  {
   "cell_type": "code",
   "execution_count": 64,
   "metadata": {},
   "outputs": [],
   "source": [
    "# size(filter(x->round(Int, x[:score])>=95,results))[1]/size(results)[1]"
   ]
  },
  {
   "cell_type": "markdown",
   "metadata": {},
   "source": [
    "### Not adjusted"
   ]
  },
  {
   "cell_type": "code",
   "execution_count": 65,
   "metadata": {},
   "outputs": [],
   "source": [
    "# nb_lineups = 50\n",
    "# max_overlap = 5\n",
    "# use_std = true\n",
    "# std_weight = 0.2\n",
    "\n",
    "# paths_1 = generate_paths(\"with_std\")\n",
    "# results_1 = run_tests(paths_1, nb_lineups, max_overlap, use_std; std_weight=std_weight)\n",
    "# sort!(results_1, 2, rev=true)"
   ]
  },
  {
   "cell_type": "code",
   "execution_count": 66,
   "metadata": {},
   "outputs": [],
   "source": [
    "# mean(results_1[:,:score])"
   ]
  },
  {
   "cell_type": "code",
   "execution_count": 67,
   "metadata": {},
   "outputs": [],
   "source": [
    "# size(filter(x->round(Int, x[:score])>=90,results_1))[1]/size(results_1)[1]"
   ]
  },
  {
   "cell_type": "code",
   "execution_count": 68,
   "metadata": {},
   "outputs": [],
   "source": [
    "# size(filter(x->round(Int, x[:score])>=95,results_1))[1]/size(results_1)[1]"
   ]
  },
  {
   "cell_type": "markdown",
   "metadata": {},
   "source": [
    "### Adjusted"
   ]
  },
  {
   "cell_type": "code",
   "execution_count": 69,
   "metadata": {},
   "outputs": [],
   "source": [
    "# nb_lineups = 50\n",
    "# max_overlap = 5\n",
    "# use_std = true\n",
    "# adj = true\n",
    "# std_weight = 1\n",
    "\n",
    "# paths_2 = generate_paths(\"with_std_adj\")\n",
    "# results_2 = run_tests(paths_2, nb_lineups, max_overlap, use_std; adj=adj, std_weight=std_weight)\n",
    "# sort!(results_2, 2, rev=true)"
   ]
  },
  {
   "cell_type": "code",
   "execution_count": 70,
   "metadata": {},
   "outputs": [],
   "source": [
    "# mean(results_2[1:14,:score])"
   ]
  },
  {
   "cell_type": "code",
   "execution_count": 71,
   "metadata": {},
   "outputs": [],
   "source": [
    "# size(filter(x->round(Int, x[:score])>=90,results_2))[1]/size(results_2)[1]"
   ]
  },
  {
   "cell_type": "code",
   "execution_count": 72,
   "metadata": {},
   "outputs": [],
   "source": [
    "# size(filter(x->round(Int, x[:score])>=95,results_2))[1]/size(results_2)[1]"
   ]
  }
 ],
 "metadata": {
  "kernelspec": {
   "display_name": "Julia 1.2.0",
   "language": "julia",
   "name": "julia-1.2"
  },
  "language_info": {
   "file_extension": ".jl",
   "mimetype": "application/julia",
   "name": "julia",
   "version": "1.2.0"
  }
 },
 "nbformat": 4,
 "nbformat_minor": 2
}
