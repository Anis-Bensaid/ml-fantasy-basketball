{
 "cells": [
  {
   "cell_type": "code",
   "execution_count": 8,
   "metadata": {},
   "outputs": [],
   "source": [
    "using CSV, DataFrames, Statistics;"
   ]
  },
  {
   "cell_type": "markdown",
   "metadata": {},
   "source": [
    "# Training OCT"
   ]
  },
  {
   "cell_type": "markdown",
   "metadata": {},
   "source": [
    "## Read data"
   ]
  },
  {
   "cell_type": "code",
   "execution_count": 22,
   "metadata": {},
   "outputs": [],
   "source": [
    "TRAINING_DATA_PATH = \"../data/all_games_7_players.csv\"\n",
    "\n",
    "# Reading data\n",
    "historic_data = CSV.read(TRAINING_DATA_PATH)[1:100,:]\n",
    "X = historic_data[:, 2:end-1]\n",
    "y = historic_data[:, :fp_p1]\n",
    "\n",
    "# Selecting training columns\n",
    "all_columns = names(X)\n",
    "exclude_players_cols = all_columns\n",
    "# exclude_players_cols = all_columns[.!endswith.(string.(all_columns),[\"p6\"])]\n",
    "# exclude_players_cols = exclude_players_cols[.!endswith.(string.(exclude_players_cols),[\"p7\"])]\n",
    "# exclude_players_cols = exclude_players_cols[.!endswith.(string.(exclude_players_cols),[\"p13\"])]\n",
    "# exclude_players_cols = exclude_players_cols[.!endswith.(string.(exclude_players_cols),[\"p14\"])]\n",
    "p1_cols = exclude_players_cols[endswith.(string.(all_columns), \"_p1\")];\n",
    "fp_avg_cols =  exclude_players_cols[occursin.(\"fp_seas_avg\", string.(all_columns))];\n",
    "fp_l_cols =  exclude_players_cols[occursin.(\"fp_l5\", string.(all_columns))];\n",
    "train_cols = unique(vcat(p1_cols, fp_avg_cols, fp_l_cols));\n",
    "X = X[:,train_cols];\n",
    "\n",
    "train_proportion = 0.6\n",
    "validation_proportion = 0.2\n",
    "(train_X, train_y), (test_valid_X, test_valid_y) = IAI.split_data(:regression, X, y, seed=1, train_proportion=train_proportion);\n",
    "(valid_X, valid_y), (test_X, test_y) = IAI.split_data(:regression, test_valid_X, test_valid_y, seed=1, train_proportion=validation_proportion/(1-train_proportion));"
   ]
  },
  {
   "cell_type": "code",
   "execution_count": 23,
   "metadata": {},
   "outputs": [
    {
     "name": "stdout",
     "output_type": "stream",
     "text": [
      "GridSearch - Unfitted OptimalTreeRegressor:\n",
      "  minbucket:   10\n",
      "  random_seed: 1\n",
      "\n",
      "GridSearch Params:\n",
      "  (cp=0.0001,max_depth=8,)"
     ]
    }
   ],
   "source": [
    "# Validation parameters\n",
    "MAX_DEPTH = 8:8\n",
    "CP=[0.0001]\n",
    "\n",
    "# Default learner\n",
    "default_lnr = IAI.OptimalTreeRegressor(\n",
    "    random_seed=1,\n",
    "    criterion=:mse,\n",
    "    minbucket=10\n",
    "    );\n",
    "\n",
    "# Grid\n",
    "grid = IAI.GridSearch(default_lnr,\n",
    "    max_depth=MAX_DEPTH,\n",
    "    cp=CP\n",
    ");\n",
    "\n",
    "print(grid)"
   ]
  },
  {
   "cell_type": "code",
   "execution_count": 24,
   "metadata": {},
   "outputs": [
    {
     "name": "stderr",
     "output_type": "stream",
     "text": [
      "┌ Warning: This copy of Interpretable AI software is for academic purposes only and not for commercial use.\n",
      "└ @ IAIBase C:\\Users\\iai\\builds\\InterpretableAI\\SysImgBuilder\\.julia\\packages\\IAIBase\\ymcNn\\src\\precompile.jl:19\n",
      "┌ Warning: Interpretable AI license expires soon: 2019-12-31. If you need to renew, please send us the following machine ID:\n",
      "│ 1f11ab7e230722c068379caf77fc5c280b091387299cfab53194ef4c91f1afdc\n",
      "└ @ IAIBase C:\\Users\\iai\\builds\\InterpretableAI\\SysImgBuilder\\.julia\\packages\\IAIBase\\ymcNn\\src\\precompile.jl:29\n",
      "\u001b[32mTraining trees...100%|██████████████████████████████████| Time: 0:00:08\u001b[39m\n"
     ]
    }
   ],
   "source": [
    "# Fitting the grid\n",
    "IAI.fit!(grid, train_X, train_y, valid_X, valid_y);"
   ]
  },
  {
   "cell_type": "code",
   "execution_count": 25,
   "metadata": {},
   "outputs": [
    {
     "name": "stdout",
     "output_type": "stream",
     "text": [
      "Dict{Symbol,Any}(:cp => 0.0001,:max_depth => 8)\n",
      "1×5 DataFrame\n",
      "│ Row │ max_depth │ cp      │ train_score │ valid_score │ rank_valid_score │\n",
      "│     │ \u001b[90mInt64\u001b[39m     │ \u001b[90mFloat64\u001b[39m │ \u001b[90mFloat64\u001b[39m     │ \u001b[90mFloat64\u001b[39m     │ \u001b[90mInt64\u001b[39m            │\n",
      "├─────┼───────────┼─────────┼─────────────┼─────────────┼──────────────────┤\n",
      "│ 1   │ 8         │ 0.0001  │ 0.679679    │ -0.321997   │ 1                │\n",
      "54×2 DataFrame\n",
      "│ Row │ Feature         │ Importance  │\n",
      "│     │ \u001b[90mSymbol\u001b[39m          │ \u001b[90mFloat64\u001b[39m     │\n",
      "├─────┼─────────────────┼─────────────┤\n",
      "│ 1   │ fga_seas_avg_p1 │ 0.200964    │\n",
      "│ 2   │ fp_seas_avg_p1  │ 0.124483    │\n",
      "│ 3   │ fgm_seas_avg_p1 │ 0.0941942   │\n",
      "│ 4   │ ast_l5_p1       │ 0.0800249   │\n",
      "│ 5   │ ftm_seas_avg_p1 │ 0.0387903   │\n",
      "│ 6   │ ast_seas_avg_p1 │ 0.0299923   │\n",
      "│ 7   │ stl_l5_p1       │ 0.0292826   │\n",
      "│ 8   │ stl_seas_avg_p1 │ 0.0258507   │\n",
      "│ 9   │ fp_l5_p7        │ 0.0255509   │\n",
      "│ 10  │ fta_seas_avg_p1 │ 0.0249906   │\n",
      "│ 11  │ fp_seas_avg_p3  │ 0.0234289   │\n",
      "│ 12  │ pf_l5_p1        │ 0.0219499   │\n",
      "│ 13  │ fp_seas_avg_p14 │ 0.0180625   │\n",
      "│ 14  │ tvr_seas_avg_p1 │ 0.01679     │\n",
      "│ 15  │ fp_l5_p1        │ 0.0166406   │\n",
      "│ 16  │ fp_l5_p5        │ 0.0163593   │\n",
      "│ 17  │ fp_seas_avg_p9  │ 0.0139447   │\n",
      "│ 18  │ fp_l5_p13       │ 0.0130209   │\n",
      "│ 19  │ orb_l5_p1       │ 0.0127511   │\n",
      "│ 20  │ blk_seas_avg_p1 │ 0.0126675   │\n",
      "│ 21  │ fp_seas_avg_p12 │ 0.0121805   │\n",
      "│ 22  │ fp_l5_p2        │ 0.0116594   │\n",
      "│ 23  │ pf_seas_avg_p1  │ 0.0115365   │\n",
      "│ 24  │ tvr_l5_p1       │ 0.0114092   │\n",
      "│ 25  │ blk_l5_p1       │ 0.0110725   │\n",
      "│ 26  │ fp_l5_p4        │ 0.0100372   │\n",
      "│ 27  │ drb_l5_p1       │ 0.00888089  │\n",
      "│ 28  │ fp_seas_avg_p13 │ 0.00755974  │\n",
      "│ 29  │ drb_seas_avg_p1 │ 0.00704549  │\n",
      "│ 30  │ fp_seas_avg_p7  │ 0.00611925  │\n",
      "│ 31  │ fp_l5_p10       │ 0.0060856   │\n",
      "│ 32  │ orb_seas_avg_p1 │ 0.00588788  │\n",
      "│ 33  │ fp_l5_p12       │ 0.00499228  │\n",
      "│ 34  │ fp_l5_p6        │ 0.00421091  │\n",
      "│ 35  │ 3pa_l5_p1       │ 0.00406221  │\n",
      "│ 36  │ ftm_l5_p1       │ 0.00403309  │\n",
      "│ 37  │ fp_l5_p3        │ 0.00392944  │\n",
      "│ 38  │ fta_l5_p1       │ 0.00374767  │\n",
      "│ 39  │ 3pm_l5_p1       │ 0.00357636  │\n",
      "│ 40  │ fp_l5_p14       │ 0.00316101  │\n",
      "│ 41  │ fp_seas_avg_p6  │ 0.00290209  │\n",
      "│ 42  │ fp_seas_avg_p10 │ 0.00289748  │\n",
      "│ 43  │ fp_l5_p8        │ 0.00245318  │\n",
      "│ 44  │ fp_seas_avg_p2  │ 0.0019606   │\n",
      "│ 45  │ fp_l5_p9        │ 0.00150241  │\n",
      "│ 46  │ fp_seas_avg_p5  │ 0.00134786  │\n",
      "│ 47  │ 3pm_seas_avg_p1 │ 0.00129203  │\n",
      "│ 48  │ fp_seas_avg_p8  │ 0.00118234  │\n",
      "│ 49  │ fp_l5_p11       │ 0.00104069  │\n",
      "│ 50  │ fp_seas_avg_p4  │ 0.00100255  │\n",
      "│ 51  │ fga_l5_p1       │ 0.000839855 │\n",
      "│ 52  │ fgm_l5_p1       │ 0.000456617 │\n",
      "│ 53  │ fp_seas_avg_p11 │ 0.000196339 │\n",
      "│ 54  │ 3pa_seas_avg_p1 │ 0.0         │\n",
      "Train R2 : 0.6943283860723973\n",
      "Train MAE : 5.795692973692971\n",
      "Valid R2 : 0.5152175776591053\n",
      "Valid MAE : 8.326597402597404\n",
      "Test R2 : 0.14110134094134097\n",
      "Test MAE : 11.290272727272729\n"
     ]
    }
   ],
   "source": [
    "lnr = IAI.get_learner(grid);\n",
    "\n",
    "# Retrieving best parameters\n",
    "best_params = IAI.get_best_params(grid)\n",
    "println(best_params)\n",
    "\n",
    "grid_results = IAI.get_grid_results(grid)\n",
    "println(grid_results)\n",
    "\n",
    "var_importance = IAI.variable_importance(lnr)\n",
    "println(var_importance)\n",
    "\n",
    "train_accuracy = IAI.score(lnr,train_X, train_y, criterion=:mse);\n",
    "valid_accuracy = IAI.score(lnr,valid_X, valid_y, criterion=:mse);\n",
    "test_accuracy = IAI.score(lnr,test_X, test_y, criterion=:mse);\n",
    "train_MAE = mean(abs.(IAI.predict(lnr, train_X) - train_y));\n",
    "valid_MAE = mean(abs.(IAI.predict(lnr, valid_X) - valid_y));\n",
    "test_MAE = mean(abs.(IAI.predict(lnr, test_X) - test_y));\n",
    "\n",
    "println(string(\"Train R2 : \", train_accuracy))\n",
    "println(string(\"Train MAE : \", train_MAE))\n",
    "\n",
    "println(string(\"Valid R2 : \", valid_accuracy))\n",
    "println(string(\"Valid MAE : \", valid_MAE))\n",
    "\n",
    "println(string(\"Test R2 : \", test_accuracy))\n",
    "println(string(\"Test MAE : \", test_MAE))"
   ]
  },
  {
   "cell_type": "code",
   "execution_count": 26,
   "metadata": {},
   "outputs": [],
   "source": [
    "IAI.write_html(\"../processed/OCTs/OCT.html\", lnr);\n",
    "IAI.write_json(\"../processed/OCTs/OCT.json\", lnr);"
   ]
  },
  {
   "cell_type": "code",
   "execution_count": 27,
   "metadata": {},
   "outputs": [
    {
     "name": "stderr",
     "output_type": "stream",
     "text": [
      "┌ Warning: `setindex!(df::DataFrame, v::AbstractVector, ::Colon, col_ind::ColumnIndex)` is deprecated, use `begin\n",
      "│     df[!, col_ind] = v\n",
      "│     df\n",
      "│ end` instead.\n",
      "│   caller = top-level scope at In[27]:1\n",
      "└ @ Core In[27]:1\n",
      "┌ Warning: `setindex!(df::DataFrame, v::AbstractVector, ::Colon, col_ind::ColumnIndex)` is deprecated, use `begin\n",
      "│     df[!, col_ind] = v\n",
      "│     df\n",
      "│ end` instead.\n",
      "│   caller = top-level scope at In[27]:2\n",
      "└ @ Core In[27]:2\n",
      "┌ Warning: `setindex!(df::DataFrame, v::AbstractVector, ::Colon, col_ind::ColumnIndex)` is deprecated, use `begin\n",
      "│     df[!, col_ind] = v\n",
      "│     df\n",
      "│ end` instead.\n",
      "│   caller = top-level scope at In[27]:3\n",
      "└ @ Core In[27]:3\n"
     ]
    },
    {
     "data": {
      "text/plain": [
       "\"../processed/OCTs/oct_test_data.csv\""
      ]
     },
     "execution_count": 27,
     "metadata": {},
     "output_type": "execute_result"
    }
   ],
   "source": [
    "train_X[:, :fp_p1] = convert(Array,train_y)\n",
    "valid_X[:, :fp_p1] = convert(Array,valid_y)\n",
    "test_X[:, :fp_p1] = convert(Array,test_y)\n",
    "CSV.write(\"../processed/OCTs/oct_train_data.csv\", train_X)\n",
    "CSV.write(\"../processed/OCTs/oct_valid_data.csv\", valid_X)\n",
    "CSV.write(\"../processed/OCTs/oct_test_data.csv\", test_X)"
   ]
  },
  {
   "cell_type": "code",
   "execution_count": null,
   "metadata": {},
   "outputs": [],
   "source": []
  }
 ],
 "metadata": {
  "kernelspec": {
   "display_name": "Julia 1.2.0",
   "language": "julia",
   "name": "julia-1.2"
  },
  "language_info": {
   "file_extension": ".jl",
   "mimetype": "application/julia",
   "name": "julia",
   "version": "1.2.0"
  }
 },
 "nbformat": 4,
 "nbformat_minor": 2
}
