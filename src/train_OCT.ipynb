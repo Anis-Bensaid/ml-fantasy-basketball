{
 "cells": [
  {
   "cell_type": "code",
   "execution_count": 1,
   "metadata": {},
   "outputs": [],
   "source": [
    "using CSV, DataFrames, Statistics;"
   ]
  },
  {
   "cell_type": "markdown",
   "metadata": {},
   "source": [
    "# Training OCT"
   ]
  },
  {
   "cell_type": "markdown",
   "metadata": {},
   "source": [
    "## Read data"
   ]
  },
  {
   "cell_type": "code",
   "execution_count": 3,
   "metadata": {},
   "outputs": [
    {
     "data": {
      "text/plain": [
       "\"../data/all_games_7_players.csv\""
      ]
     },
     "execution_count": 3,
     "metadata": {},
     "output_type": "execute_result"
    }
   ],
   "source": [
    "COMPETITION_PATH = \"../data/competition.csv\"\n",
    "MODEL_INPUT_PATH = \"../data/model_input.csv\"\n",
    "TRAINING_DATA_PATH = \"../data/all_games_7_players.csv\"\n",
    "\n",
    "historic_data = CSV.read(TRAINING_DATA_PATH)\n",
    "X = historic_data[:, 1:end-1]\n",
    "y = historic_data[:, :fp_p1]\n",
    "\n",
    "all_columns = names(X)\n",
    "\n",
    "exclude_players_cols = all_columns\n",
    "# exclude_players_cols = all_columns[.!endswith.(string.(all_columns),[\"p6\"])]\n",
    "# exclude_players_cols = exclude_players_cols[.!endswith.(string.(exclude_players_cols),[\"p7\"])]\n",
    "# exclude_players_cols = exclude_players_cols[.!endswith.(string.(exclude_players_cols),[\"p13\"])]\n",
    "# exclude_players_cols = exclude_players_cols[.!endswith.(string.(exclude_players_cols),[\"p14\"])]\n",
    "\n",
    "p1_cols = exclude_players_cols[endswith.(string.(all_columns), \"_p1\")];\n",
    "\n",
    "fp_avg_cols =  exclude_players_cols[occursin.(\"fp_seas_avg\", string.(all_columns))];\n",
    "\n",
    "fp_l_cols =  exclude_players_cols[occursin.(\"fp_l5\", string.(all_columns))];\n",
    "\n",
    "train_cols = unique(vcat(p1_cols, fp_avg_cols, fp_l_cols));\n",
    "\n",
    "X = X[:,train_cols];\n",
    "\n",
    "(train_X, train_y), (test_valid_X, test_valid_y) = IAI.split_data(:regression, X, y, seed=1, train_proportion=train_proportion);\n",
    "(valid_X, valid_y), (test_X, test_y) = IAI.split_data(:regression, test_valid_X, test_valid_y, seed=1, train_proportion=validation_proportion/(1-train_proportion));\n",
    "\n",
    "# Default learner\n",
    "default_lnr = IAI.OptimalTreeRegressor(\n",
    "    random_seed=1,\n",
    "    criterion=:mse,\n",
    "    minbucket=10\n",
    "    );\n",
    "\n",
    "# Grid\n",
    "grid = IAI.GridSearch(default_lnr,\n",
    "    max_depth=7:13,\n",
    "    cp=[0.0001, 0.00001]\n",
    ");\n",
    "\n",
    "print(grid)\n",
    "\n",
    "# Fitting the grid\n",
    "IAI.fit!(grid, train_X, train_y, valid_X, valid_y);\n",
    "\n",
    "lnr = IAI.get_learner(grid);\n",
    "\n",
    "# Retrieving best parameters\n",
    "best_params = IAI.get_best_params(grid)\n",
    "println(best_params)\n",
    "\n",
    "grid_results = IAI.get_grid_results(grid)\n",
    "println(grid_results)\n",
    "\n",
    "var_importance = IAI.variable_importance(lnr)\n",
    "println(var_importance)\n",
    "\n",
    "train_accuracy = IAI.score(lnr,train_X, train_y, criterion=:mse);\n",
    "valid_accuracy = IAI.score(lnr,valid_X, valid_y, criterion=:mse);\n",
    "test_accuracy = IAI.score(lnr,test_X, test_y, criterion=:mse);\n",
    "train_MAE = mean(abs.(IAI.predict(lnr, train_X) - train_y));\n",
    "valid_MAE = mean(abs.(IAI.predict(lnr, valid_X) - valid_y));\n",
    "test_MAE = mean(abs.(IAI.predict(lnr, test_X) - test_y));\n",
    "\n",
    "println(string(\"Train R2 : \", train_accuracy))\n",
    "println(string(\"Train MAE : \", train_MAE))\n",
    "\n",
    "println(string(\"Valid R2 : \", valid_accuracy))\n",
    "println(string(\"Valid MAE : \", valid_MAE))\n",
    "\n",
    "println(string(\"Test R2 : \", test_accuracy))\n",
    "println(string(\"Test MAE : \", test_MAE))\n",
    "\n",
    "\n",
    "IAI.write_html(\"../processed/OCTs/all_players_1.html\", lnr);\n",
    "IAI.write_json(\"../processed/OCTs/all_players_1.json\", lnr);\n",
    "\n",
    "# train_X[:, :fp_p1] = convert(Array,train_y)\n",
    "# valid_X[:, :fp_p1] = convert(Array,valid_y)\n",
    "# test_X[:, :fp_p1] = convert(Array,test_y)\n",
    "# CSV.write(\"../processed/OCTs/train_5_10.csv\", train_X)\n",
    "# CSV.write(\"../processed/OCTs/valid_5_10.csv\", valid_X)\n",
    "# CSV.write(\"../processed/OCTs/test_5_10.csv\", test_X)\n",
    "\n",
    "lnr = IAI.read_json(\"../processed/OCTs/all_players_1.json\")"
   ]
  },
  {
   "cell_type": "code",
   "execution_count": 5,
   "metadata": {},
   "outputs": [
    {
     "data": {
      "text/html": [
       "<table class=\"data-frame\"><thead><tr><th></th><th>player_id_p1</th><th>fgm_seas_avg_p1</th><th>fgm_seas_avg_p2</th><th>fgm_seas_avg_p3</th><th>fgm_seas_avg_p4</th></tr><tr><th></th><th>String</th><th>Float64</th><th>Float64</th><th>Float64</th><th>Float64</th></tr></thead><tbody><p>163,865 rows × 394 columns (omitted printing of 389 columns)</p><tr><th>1</th><td>robinna01</td><td>6.06757</td><td>4.65672</td><td>7.8481</td><td>5.54878</td></tr><tr><th>2</th><td>bryanko01</td><td>9.7561</td><td>4.84416</td><td>4.39726</td><td>7.30864</td></tr><tr><th>3</th><td>flynnjo01</td><td>0.0</td><td>7.08861</td><td>2.42424</td><td>6.35714</td></tr><tr><th>4</th><td>wallara01</td><td>4.57576</td><td>7.98701</td><td>6.31646</td><td>2.97826</td></tr><tr><th>5</th><td>howardw01</td><td>7.08861</td><td>2.42424</td><td>6.35714</td><td>6.05063</td></tr><tr><th>6</th><td>flynnjo01</td><td>0.0</td><td>9.7</td><td>3.90123</td><td>0.0</td></tr><tr><th>7</th><td>wadedw01</td><td>10.8101</td><td>7.0</td><td>3.63889</td><td>5.47887</td></tr><tr><th>8</th><td>westbru01</td><td>5.31707</td><td>8.93243</td><td>5.08333</td><td>7.54545</td></tr><tr><th>9</th><td>jamesle01</td><td>9.74074</td><td>6.5942</td><td>5.46341</td><td>3.13115</td></tr><tr><th>10</th><td>paulch01</td><td>8.08974</td><td>3.34146</td><td>5.28049</td><td>0.591549</td></tr><tr><th>11</th><td>nashst01</td><td>5.78378</td><td>6.85366</td><td>7.62264</td><td>1.76316</td></tr><tr><th>12</th><td>roybr01</td><td>8.11538</td><td>0.0</td><td>7.76</td><td>6.0</td></tr><tr><th>13</th><td>hawessp01</td><td>4.84416</td><td>4.39726</td><td>0.0</td><td>4.34146</td></tr><tr><th>14</th><td>hilarne01</td><td>5.55844</td><td>0.0</td><td>5.98611</td><td>6.78378</td></tr><tr><th>15</th><td>jamisan01</td><td>8.32099</td><td>3.0</td><td>7.44</td><td>4.2561</td></tr><tr><th>16</th><td>jacksst02</td><td>7.0</td><td>9.74074</td><td>5.47887</td><td>3.33333</td></tr><tr><th>17</th><td>hilarne01</td><td>5.55844</td><td>0.0</td><td>4.81818</td><td>1.77027</td></tr><tr><th>18</th><td>bryanko01</td><td>9.7561</td><td>9.55556</td><td>4.4359</td><td>5.62</td></tr><tr><th>19</th><td>chandwi01</td><td>5.54878</td><td>2.82857</td><td>1.71875</td><td>2.0</td></tr><tr><th>20</th><td>boshch01</td><td>7.98701</td><td>7.44</td><td>4.2561</td><td>4.70732</td></tr><tr><th>21</th><td>westbru01</td><td>5.31707</td><td>8.93243</td><td>7.08642</td><td>5.40816</td></tr><tr><th>22</th><td>roybr01</td><td>8.11538</td><td>0.0</td><td>6.0</td><td>1.78571</td></tr><tr><th>23</th><td>wadedw01</td><td>10.8101</td><td>4.65672</td><td>7.8481</td><td>6.05797</td></tr><tr><th>24</th><td>paulch01</td><td>8.08974</td><td>5.98611</td><td>6.78378</td><td>5.28049</td></tr><tr><th>25</th><td>jacksst02</td><td>7.0</td><td>7.08642</td><td>5.47887</td><td>5.40816</td></tr><tr><th>26</th><td>kiddja01</td><td>3.17284</td><td>9.55556</td><td>7.31081</td><td>4.64706</td></tr><tr><th>27</th><td>hilarne01</td><td>5.55844</td><td>0.0</td><td>7.76</td><td>4.81818</td></tr><tr><th>28</th><td>barnema02</td><td>3.7013</td><td>7.08861</td><td>2.82857</td><td>1.71875</td></tr><tr><th>29</th><td>bryanko01</td><td>9.7561</td><td>2.47692</td><td>4.4359</td><td>3.34146</td></tr><tr><th>30</th><td>bogutan01</td><td>5.08333</td><td>6.5942</td><td>5.46341</td><td>3.13115</td></tr><tr><th>&vellip;</th><td>&vellip;</td><td>&vellip;</td><td>&vellip;</td><td>&vellip;</td><td>&vellip;</td></tr></tbody></table>"
      ],
      "text/latex": [
       "\\begin{tabular}{r|cccccc}\n",
       "\t& player\\_id\\_p1 & fgm\\_seas\\_avg\\_p1 & fgm\\_seas\\_avg\\_p2 & fgm\\_seas\\_avg\\_p3 & fgm\\_seas\\_avg\\_p4 & \\\\\n",
       "\t\\hline\n",
       "\t& String & Float64 & Float64 & Float64 & Float64 & \\\\\n",
       "\t\\hline\n",
       "\t1 & robinna01 & 6.06757 & 4.65672 & 7.8481 & 5.54878 & $\\dots$ \\\\\n",
       "\t2 & bryanko01 & 9.7561 & 4.84416 & 4.39726 & 7.30864 & $\\dots$ \\\\\n",
       "\t3 & flynnjo01 & 0.0 & 7.08861 & 2.42424 & 6.35714 & $\\dots$ \\\\\n",
       "\t4 & wallara01 & 4.57576 & 7.98701 & 6.31646 & 2.97826 & $\\dots$ \\\\\n",
       "\t5 & howardw01 & 7.08861 & 2.42424 & 6.35714 & 6.05063 & $\\dots$ \\\\\n",
       "\t6 & flynnjo01 & 0.0 & 9.7 & 3.90123 & 0.0 & $\\dots$ \\\\\n",
       "\t7 & wadedw01 & 10.8101 & 7.0 & 3.63889 & 5.47887 & $\\dots$ \\\\\n",
       "\t8 & westbru01 & 5.31707 & 8.93243 & 5.08333 & 7.54545 & $\\dots$ \\\\\n",
       "\t9 & jamesle01 & 9.74074 & 6.5942 & 5.46341 & 3.13115 & $\\dots$ \\\\\n",
       "\t10 & paulch01 & 8.08974 & 3.34146 & 5.28049 & 0.591549 & $\\dots$ \\\\\n",
       "\t11 & nashst01 & 5.78378 & 6.85366 & 7.62264 & 1.76316 & $\\dots$ \\\\\n",
       "\t12 & roybr01 & 8.11538 & 0.0 & 7.76 & 6.0 & $\\dots$ \\\\\n",
       "\t13 & hawessp01 & 4.84416 & 4.39726 & 0.0 & 4.34146 & $\\dots$ \\\\\n",
       "\t14 & hilarne01 & 5.55844 & 0.0 & 5.98611 & 6.78378 & $\\dots$ \\\\\n",
       "\t15 & jamisan01 & 8.32099 & 3.0 & 7.44 & 4.2561 & $\\dots$ \\\\\n",
       "\t16 & jacksst02 & 7.0 & 9.74074 & 5.47887 & 3.33333 & $\\dots$ \\\\\n",
       "\t17 & hilarne01 & 5.55844 & 0.0 & 4.81818 & 1.77027 & $\\dots$ \\\\\n",
       "\t18 & bryanko01 & 9.7561 & 9.55556 & 4.4359 & 5.62 & $\\dots$ \\\\\n",
       "\t19 & chandwi01 & 5.54878 & 2.82857 & 1.71875 & 2.0 & $\\dots$ \\\\\n",
       "\t20 & boshch01 & 7.98701 & 7.44 & 4.2561 & 4.70732 & $\\dots$ \\\\\n",
       "\t21 & westbru01 & 5.31707 & 8.93243 & 7.08642 & 5.40816 & $\\dots$ \\\\\n",
       "\t22 & roybr01 & 8.11538 & 0.0 & 6.0 & 1.78571 & $\\dots$ \\\\\n",
       "\t23 & wadedw01 & 10.8101 & 4.65672 & 7.8481 & 6.05797 & $\\dots$ \\\\\n",
       "\t24 & paulch01 & 8.08974 & 5.98611 & 6.78378 & 5.28049 & $\\dots$ \\\\\n",
       "\t25 & jacksst02 & 7.0 & 7.08642 & 5.47887 & 5.40816 & $\\dots$ \\\\\n",
       "\t26 & kiddja01 & 3.17284 & 9.55556 & 7.31081 & 4.64706 & $\\dots$ \\\\\n",
       "\t27 & hilarne01 & 5.55844 & 0.0 & 7.76 & 4.81818 & $\\dots$ \\\\\n",
       "\t28 & barnema02 & 3.7013 & 7.08861 & 2.82857 & 1.71875 & $\\dots$ \\\\\n",
       "\t29 & bryanko01 & 9.7561 & 2.47692 & 4.4359 & 3.34146 & $\\dots$ \\\\\n",
       "\t30 & bogutan01 & 5.08333 & 6.5942 & 5.46341 & 3.13115 & $\\dots$ \\\\\n",
       "\t$\\dots$ & $\\dots$ & $\\dots$ & $\\dots$ & $\\dots$ & $\\dots$ &  \\\\\n",
       "\\end{tabular}\n"
      ],
      "text/plain": [
       "163865×394 DataFrame. Omitted printing of 390 columns\n",
       "│ Row    │ player_id_p1 │ fgm_seas_avg_p1 │ fgm_seas_avg_p2 │ fgm_seas_avg_p3 │\n",
       "│        │ \u001b[90mString\u001b[39m       │ \u001b[90mFloat64\u001b[39m         │ \u001b[90mFloat64\u001b[39m         │ \u001b[90mFloat64\u001b[39m         │\n",
       "├────────┼──────────────┼─────────────────┼─────────────────┼─────────────────┤\n",
       "│ 1      │ robinna01    │ 6.06757         │ 4.65672         │ 7.8481          │\n",
       "│ 2      │ bryanko01    │ 9.7561          │ 4.84416         │ 4.39726         │\n",
       "│ 3      │ flynnjo01    │ 0.0             │ 7.08861         │ 2.42424         │\n",
       "│ 4      │ wallara01    │ 4.57576         │ 7.98701         │ 6.31646         │\n",
       "│ 5      │ howardw01    │ 7.08861         │ 2.42424         │ 6.35714         │\n",
       "│ 6      │ flynnjo01    │ 0.0             │ 9.7             │ 3.90123         │\n",
       "│ 7      │ wadedw01     │ 10.8101         │ 7.0             │ 3.63889         │\n",
       "│ 8      │ westbru01    │ 5.31707         │ 8.93243         │ 5.08333         │\n",
       "│ 9      │ jamesle01    │ 9.74074         │ 6.5942          │ 5.46341         │\n",
       "│ 10     │ paulch01     │ 8.08974         │ 3.34146         │ 5.28049         │\n",
       "⋮\n",
       "│ 163855 │ harklma01    │ 3.15            │ 3.59322         │ 2.20833         │\n",
       "│ 163856 │ herroty01    │ 0.0             │ 3.3038          │ 0.0             │\n",
       "│ 163857 │ vonleno01    │ 3.04412         │ 1.31579         │ 0.0             │\n",
       "│ 163858 │ zelleco01    │ 3.87755         │ 0.0             │ 4.34286         │\n",
       "│ 163859 │ hezonma01    │ 3.2931          │ 4.40244         │ 3.43902         │\n",
       "│ 163860 │ horfoal01    │ 5.69118         │ 0.0             │ 6.53086         │\n",
       "│ 163861 │ crabbal01    │ 3.18605         │ 7.08571         │ 4.77778         │\n",
       "│ 163862 │ anderky01    │ 3.48837         │ 0.0             │ 4.21951         │\n",
       "│ 163863 │ mooreet01    │ 4.83019         │ 0.0             │ 0.0             │\n",
       "│ 163864 │ milescj01    │ 2.11321         │ 5.4321          │ 2.83333         │\n",
       "│ 163865 │ bjeline01    │ 3.68831         │ 3.17143         │ 5.59701         │"
      ]
     },
     "execution_count": 5,
     "metadata": {},
     "output_type": "execute_result"
    }
   ],
   "source": []
  },
  {
   "cell_type": "markdown",
   "metadata": {},
   "source": [
    "# Precitions on new data (with variance)"
   ]
  },
  {
   "cell_type": "code",
   "execution_count": 4,
   "metadata": {},
   "outputs": [],
   "source": [
    "# Given a trained tree lnr, and a matrix of , return the mean and std of each node populated by the injected features\n",
    "function get_nodes_mean_std(lnr, train_X, train_y; only_leafs = false)\n",
    "    if only_leafs\n",
    "        leafs = get_leafs(lnr)\n",
    "        nodes_elements = IAI.apply_nodes(lnr, train_X)[leafs]\n",
    "    else\n",
    "        nodes_elements = IAI.apply_nodes(lnr, train_X)\n",
    "    end\n",
    "    nb_nodes = length(nodes_elements)\n",
    "    stds = zeros(length(nodes_elements))\n",
    "    means = zeros(length(nodes_elements))\n",
    "    for i=1:nb_nodes\n",
    "        stds[i] = std(Vector(train_y)[nodes_elements[i]])    \n",
    "        means[i] = mean(Vector(train_y)[nodes_elements[i]])\n",
    "    end\n",
    "    means, stds\n",
    "end;"
   ]
  },
  {
   "cell_type": "code",
   "execution_count": 5,
   "metadata": {},
   "outputs": [],
   "source": [
    "function get_leafs(lnr)\n",
    "    num_nodes = IAI.get_num_nodes(lnr)\n",
    "    leafs = []\n",
    "    for i=1:num_nodes\n",
    "        if IAI.is_leaf(lnr, i)\n",
    "            push!(leafs, i)\n",
    "        end\n",
    "    end\n",
    "    leafs\n",
    "end;"
   ]
  },
  {
   "cell_type": "code",
   "execution_count": 6,
   "metadata": {},
   "outputs": [],
   "source": [
    "function get_leaf_pred_mean_std(lnr, new_X, train_X, train_y)\n",
    "    nodes_means, nodes_stds = get_nodes_mean_std(lnr, train_X, train_y);\n",
    "    predictions = IAI.predict(lnr, new_X)  \n",
    "    assigned_leafs = IAI.apply(lnr, new_X)\n",
    "    leafs_means = nodes_means[assigned_leafs]\n",
    "    leafs_stds = nodes_stds[assigned_leafs]\n",
    "    DataFrame(assigned_leaf = assigned_leafs,\n",
    "        prediciton = predictions,\n",
    "        leaf_mean = leafs_means,\n",
    "        leaf_std = leafs_stds\n",
    "    )\n",
    "end;"
   ]
  },
  {
   "cell_type": "code",
   "execution_count": 9,
   "metadata": {},
   "outputs": [
    {
     "data": {
      "text/html": [
       "<table class=\"data-frame\"><thead><tr><th></th><th>assigned_leaf</th><th>prediciton</th><th>leaf_mean</th><th>leaf_std</th></tr><tr><th></th><th>Int64</th><th>Float64</th><th>Float64</th><th>Float64</th></tr></thead><tbody><p>3,769 rows × 4 columns</p><tr><th>1</th><td>129</td><td>41.5229</td><td>41.5229</td><td>10.8626</td></tr><tr><th>2</th><td>7</td><td>33.7634</td><td>33.7634</td><td>11.255</td></tr><tr><th>3</th><td>37</td><td>39.6118</td><td>39.6118</td><td>11.1969</td></tr><tr><th>4</th><td>213</td><td>69.7067</td><td>69.7067</td><td>10.2884</td></tr><tr><th>5</th><td>220</td><td>61.0094</td><td>61.0094</td><td>12.2355</td></tr><tr><th>6</th><td>37</td><td>39.6118</td><td>39.6118</td><td>11.1969</td></tr><tr><th>7</th><td>107</td><td>45.576</td><td>45.576</td><td>11.5914</td></tr><tr><th>8</th><td>72</td><td>63.3667</td><td>63.3667</td><td>16.8405</td></tr><tr><th>9</th><td>65</td><td>45.1506</td><td>45.1506</td><td>11.5884</td></tr><tr><th>10</th><td>97</td><td>50.1294</td><td>50.1294</td><td>12.3594</td></tr><tr><th>11</th><td>48</td><td>54.4667</td><td>54.4667</td><td>12.6772</td></tr><tr><th>12</th><td>47</td><td>40.7386</td><td>40.7386</td><td>10.5282</td></tr><tr><th>13</th><td>97</td><td>50.1294</td><td>50.1294</td><td>12.3594</td></tr><tr><th>14</th><td>215</td><td>47.1927</td><td>47.1927</td><td>12.7926</td></tr><tr><th>15</th><td>220</td><td>61.0094</td><td>61.0094</td><td>12.2355</td></tr><tr><th>16</th><td>107</td><td>45.576</td><td>45.576</td><td>11.5914</td></tr><tr><th>17</th><td>57</td><td>42.5</td><td>42.5</td><td>11.5946</td></tr><tr><th>18</th><td>137</td><td>40.9204</td><td>40.9204</td><td>9.9833</td></tr><tr><th>19</th><td>217</td><td>59.9</td><td>59.9</td><td>12.3188</td></tr><tr><th>20</th><td>37</td><td>39.6118</td><td>39.6118</td><td>11.1969</td></tr><tr><th>21</th><td>223</td><td>52.6247</td><td>52.6247</td><td>12.1393</td></tr><tr><th>22</th><td>37</td><td>39.6118</td><td>39.6118</td><td>11.1969</td></tr><tr><th>23</th><td>217</td><td>59.9</td><td>59.9</td><td>12.3188</td></tr><tr><th>24</th><td>107</td><td>45.576</td><td>45.576</td><td>11.5914</td></tr><tr><th>25</th><td>47</td><td>40.7386</td><td>40.7386</td><td>10.5282</td></tr><tr><th>26</th><td>25</td><td>40.6852</td><td>40.6852</td><td>11.0588</td></tr><tr><th>27</th><td>122</td><td>60.1917</td><td>60.1917</td><td>12.6188</td></tr><tr><th>28</th><td>220</td><td>61.0094</td><td>61.0094</td><td>12.2355</td></tr><tr><th>29</th><td>85</td><td>38.9891</td><td>38.9891</td><td>11.9537</td></tr><tr><th>30</th><td>65</td><td>45.1506</td><td>45.1506</td><td>11.5884</td></tr><tr><th>&vellip;</th><td>&vellip;</td><td>&vellip;</td><td>&vellip;</td><td>&vellip;</td></tr></tbody></table>"
      ],
      "text/latex": [
       "\\begin{tabular}{r|cccc}\n",
       "\t& assigned\\_leaf & prediciton & leaf\\_mean & leaf\\_std\\\\\n",
       "\t\\hline\n",
       "\t& Int64 & Float64 & Float64 & Float64\\\\\n",
       "\t\\hline\n",
       "\t1 & 129 & 41.5229 & 41.5229 & 10.8626 \\\\\n",
       "\t2 & 7 & 33.7634 & 33.7634 & 11.255 \\\\\n",
       "\t3 & 37 & 39.6118 & 39.6118 & 11.1969 \\\\\n",
       "\t4 & 213 & 69.7067 & 69.7067 & 10.2884 \\\\\n",
       "\t5 & 220 & 61.0094 & 61.0094 & 12.2355 \\\\\n",
       "\t6 & 37 & 39.6118 & 39.6118 & 11.1969 \\\\\n",
       "\t7 & 107 & 45.576 & 45.576 & 11.5914 \\\\\n",
       "\t8 & 72 & 63.3667 & 63.3667 & 16.8405 \\\\\n",
       "\t9 & 65 & 45.1506 & 45.1506 & 11.5884 \\\\\n",
       "\t10 & 97 & 50.1294 & 50.1294 & 12.3594 \\\\\n",
       "\t11 & 48 & 54.4667 & 54.4667 & 12.6772 \\\\\n",
       "\t12 & 47 & 40.7386 & 40.7386 & 10.5282 \\\\\n",
       "\t13 & 97 & 50.1294 & 50.1294 & 12.3594 \\\\\n",
       "\t14 & 215 & 47.1927 & 47.1927 & 12.7926 \\\\\n",
       "\t15 & 220 & 61.0094 & 61.0094 & 12.2355 \\\\\n",
       "\t16 & 107 & 45.576 & 45.576 & 11.5914 \\\\\n",
       "\t17 & 57 & 42.5 & 42.5 & 11.5946 \\\\\n",
       "\t18 & 137 & 40.9204 & 40.9204 & 9.9833 \\\\\n",
       "\t19 & 217 & 59.9 & 59.9 & 12.3188 \\\\\n",
       "\t20 & 37 & 39.6118 & 39.6118 & 11.1969 \\\\\n",
       "\t21 & 223 & 52.6247 & 52.6247 & 12.1393 \\\\\n",
       "\t22 & 37 & 39.6118 & 39.6118 & 11.1969 \\\\\n",
       "\t23 & 217 & 59.9 & 59.9 & 12.3188 \\\\\n",
       "\t24 & 107 & 45.576 & 45.576 & 11.5914 \\\\\n",
       "\t25 & 47 & 40.7386 & 40.7386 & 10.5282 \\\\\n",
       "\t26 & 25 & 40.6852 & 40.6852 & 11.0588 \\\\\n",
       "\t27 & 122 & 60.1917 & 60.1917 & 12.6188 \\\\\n",
       "\t28 & 220 & 61.0094 & 61.0094 & 12.2355 \\\\\n",
       "\t29 & 85 & 38.9891 & 38.9891 & 11.9537 \\\\\n",
       "\t30 & 65 & 45.1506 & 45.1506 & 11.5884 \\\\\n",
       "\t$\\dots$ & $\\dots$ & $\\dots$ & $\\dots$ & $\\dots$ \\\\\n",
       "\\end{tabular}\n"
      ],
      "text/plain": [
       "3769×4 DataFrame\n",
       "│ Row  │ assigned_leaf │ prediciton │ leaf_mean │ leaf_std │\n",
       "│      │ \u001b[90mInt64\u001b[39m         │ \u001b[90mFloat64\u001b[39m    │ \u001b[90mFloat64\u001b[39m   │ \u001b[90mFloat64\u001b[39m  │\n",
       "├──────┼───────────────┼────────────┼───────────┼──────────┤\n",
       "│ 1    │ 129           │ 41.5229    │ 41.5229   │ 10.8626  │\n",
       "│ 2    │ 7             │ 33.7634    │ 33.7634   │ 11.255   │\n",
       "│ 3    │ 37            │ 39.6118    │ 39.6118   │ 11.1969  │\n",
       "│ 4    │ 213           │ 69.7067    │ 69.7067   │ 10.2884  │\n",
       "│ 5    │ 220           │ 61.0094    │ 61.0094   │ 12.2355  │\n",
       "│ 6    │ 37            │ 39.6118    │ 39.6118   │ 11.1969  │\n",
       "│ 7    │ 107           │ 45.576     │ 45.576    │ 11.5914  │\n",
       "│ 8    │ 72            │ 63.3667    │ 63.3667   │ 16.8405  │\n",
       "│ 9    │ 65            │ 45.1506    │ 45.1506   │ 11.5884  │\n",
       "│ 10   │ 97            │ 50.1294    │ 50.1294   │ 12.3594  │\n",
       "⋮\n",
       "│ 3759 │ 134           │ 36.3947    │ 36.3947   │ 10.9126  │\n",
       "│ 3760 │ 217           │ 59.9       │ 59.9      │ 12.3188  │\n",
       "│ 3761 │ 107           │ 45.576     │ 45.576    │ 11.5914  │\n",
       "│ 3762 │ 16            │ 47.7308    │ 47.7308   │ 11.4378  │\n",
       "│ 3763 │ 217           │ 59.9       │ 59.9      │ 12.3188  │\n",
       "│ 3764 │ 217           │ 59.9       │ 59.9      │ 12.3188  │\n",
       "│ 3765 │ 107           │ 45.576     │ 45.576    │ 11.5914  │\n",
       "│ 3766 │ 97            │ 50.1294    │ 50.1294   │ 12.3594  │\n",
       "│ 3767 │ 24            │ 38.2332    │ 38.2332   │ 11.2989  │\n",
       "│ 3768 │ 97            │ 50.1294    │ 50.1294   │ 12.3594  │\n",
       "│ 3769 │ 278           │ 44.07      │ 44.07     │ 14.2254  │"
      ]
     },
     "execution_count": 9,
     "metadata": {},
     "output_type": "execute_result"
    }
   ],
   "source": [
    "pred_mean_std = get_leaf_pred_mean_std(lnr, test_X, train_X, train_y)"
   ]
  },
  {
   "cell_type": "code",
   "execution_count": 58,
   "metadata": {},
   "outputs": [
    {
     "data": {
      "text/plain": [
       "\"../processed/results.csv\""
      ]
     },
     "execution_count": 58,
     "metadata": {},
     "output_type": "execute_result"
    }
   ],
   "source": [
    "CSV.write(\"../processed/results.csv\", pred_mean_std)"
   ]
  }
 ],
 "metadata": {
  "kernelspec": {
   "display_name": "Julia 1.2.0",
   "language": "julia",
   "name": "julia-1.2"
  },
  "language_info": {
   "file_extension": ".jl",
   "mimetype": "application/julia",
   "name": "julia",
   "version": "1.2.0"
  }
 },
 "nbformat": 4,
 "nbformat_minor": 2
}
