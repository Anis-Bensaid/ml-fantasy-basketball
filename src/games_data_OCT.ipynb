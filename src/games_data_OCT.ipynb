{
 "cells": [
  {
   "cell_type": "markdown",
   "metadata": {},
   "source": [
    "# Games data\n",
    "\n",
    "This file takes the player_seasons data and the player_matches_data, aggregates them, and creates a new dataframe in a form that can be easily input to a model"
   ]
  },
  {
   "cell_type": "code",
   "execution_count": 1,
   "metadata": {},
   "outputs": [],
   "source": [
    "import pandas as pd\n",
    "import numpy as np"
   ]
  },
  {
   "cell_type": "code",
   "execution_count": 2,
   "metadata": {},
   "outputs": [],
   "source": [
    "NUM_PLAYERS_CONSIDERED_PER_TEAM = 7\n",
    "ROLLING_GAMES_WINDOW = 5 # must match player_matches_data (should clean this up, non-dup)\n",
    "PLAYER_MATCHES_FILENAME = \"../data/20100101_20191129_player_matches.csv\"\n",
    "PLAYER_SEASONS_FILENAME = \"../data/2009_2019_player_seasons_unique.csv\""
   ]
  },
  {
   "cell_type": "code",
   "execution_count": 3,
   "metadata": {},
   "outputs": [],
   "source": [
    "def swap_colums_orders(colnames, i, j):\n",
    "    pi = \"_p\" + str(i)\n",
    "    pj = \"_p\" + str(j)\n",
    "    swapped_colnames = []\n",
    "    for col in colnames :\n",
    "        new_col = col\n",
    "        if col.find(pi, len(col)-len(pi)) > -1:\n",
    "            new_col = col.replace(pi, pj)\n",
    "        if col.find(pj, len(col)-len(pj)) > -1:\n",
    "            new_col = col.replace(pj, pi)\n",
    "        swapped_colnames.append(new_col)\n",
    "    return swapped_colnames\n",
    "def swap_team_columns(colnames):\n",
    "    swaped_teams = colnames\n",
    "    for i in range(1,8):\n",
    "        swaped_teams = swap_colums_orders(swaped_teams, i, 7+i)\n",
    "    return swaped_teams"
   ]
  },
  {
   "cell_type": "code",
   "execution_count": 5,
   "metadata": {},
   "outputs": [],
   "source": [
    "def create_games_data(player_matches_path, player_seasons_path, nb_players_per_team, rolling_games_window):\n",
    "    player_matches = pd.read_csv(player_matches_path)\n",
    "    player_seasons = pd.read_csv(player_seasons_path)\n",
    "    recent_stats_suffix = \"_l\" + str(rolling_games_window)\n",
    "    player_matches = player_matches.sort_values(by=['game_id', 'fp' + recent_stats_suffix], ascending=[True, False])\n",
    "    team_game_group = player_matches.groupby(by=['game_id', 'home_game'])\n",
    "    player_matches = team_game_group.head(nb_players_per_team).reset_index(drop=True)\n",
    "    stats = ['fgm', 'fga', '3pm', '3pa', 'ftm', 'fta', 'orb', 'drb', 'ast', 'stl', 'blk', 'tvr', 'pf', 'fp']\n",
    "    season_stats = ['player_id'] + [s + \"_seas_avg\" for s in stats]\n",
    "    recent_stats = [s + recent_stats_suffix for s in stats]\n",
    "    merge_season_fields = ['end_year'] + season_stats\n",
    "    to_merge_season_data = player_seasons[merge_season_fields]\n",
    "    merged_data = pd.merge(\n",
    "        player_matches,\n",
    "        to_merge_season_data,\n",
    "        how='left',\n",
    "        left_on=['player_id', 'season_start_year'],\n",
    "        right_on = ['player_id', 'end_year']\n",
    "    ).fillna(0)\n",
    "    y = ['fp']\n",
    "\n",
    "    all_data =  season_stats + recent_stats + y\n",
    "    per_game_df = pd.DataFrame()\n",
    "    game_group = merged_data.groupby('game_id')\n",
    "\n",
    "    for field in all_data:\n",
    "        v = game_group.apply(lambda x: x[field].tolist())\n",
    "        df = pd.DataFrame(v.tolist(), index=v.index).rename(columns=lambda x: x + 1).add_prefix(field + \"_p\").reset_index(drop=True)\n",
    "        per_game_df = pd.concat([per_game_df, df], axis=1, sort=False)\n",
    "    per_game_df = per_game_df.fillna(0)\n",
    "    colnames_all = per_game_df.columns\n",
    "    all_per_game_df = per_game_df\n",
    "\n",
    "    for team in range(2) :\n",
    "        for i in range(2+nb_players_per_team*team, 8+nb_players_per_team*team):\n",
    "            temps_df = per_game_df[swap_colums_orders(colnames_all, 1+nb_players_per_team*team, i)]\n",
    "            if team==1:\n",
    "                temps_df = temps_df[swap_team_columns(colnames_all)]\n",
    "            temps_df.columns = colnames_all\n",
    "            all_per_game_df = pd.concat([all_per_game_df, temps_df])\n",
    "    all_per_game_df = all_per_game_df.drop([\"fp_p\"+str(i) for i in range(2,nb_players_per_team*2+1)], axis=1)\n",
    "    all_per_game_df = all_per_game_df.drop([\"player_id_p\"+str(i) for i in range(2,nb_players_per_team*2+1)], axis=1)\n",
    "    \n",
    "    output_path = \"../data/all_games_\" + str(NUM_PLAYERS_CONSIDERED_PER_TEAM) + \"_players\" + \".csv\"\n",
    "    all_per_game_df.to_csv(output_path, index = False)\n",
    "    \n",
    "    return all_per_game_df"
   ]
  },
  {
   "cell_type": "code",
   "execution_count": 8,
   "metadata": {},
   "outputs": [],
   "source": [
    "all_per_game_df = create_games_data(PLAYER_MATCHES_FILENAME, PLAYER_SEASONS_FILENAME, NUM_PLAYERS_CONSIDERED_PER_TEAM, ROLLING_GAMES_WINDOW)"
   ]
  },
  {
   "cell_type": "code",
   "execution_count": null,
   "metadata": {},
   "outputs": [],
   "source": []
  }
 ],
 "metadata": {
  "kernelspec": {
   "display_name": "Python 3",
   "language": "python",
   "name": "python3"
  },
  "language_info": {
   "codemirror_mode": {
    "name": "ipython",
    "version": 3
   },
   "file_extension": ".py",
   "mimetype": "text/x-python",
   "name": "python",
   "nbconvert_exporter": "python",
   "pygments_lexer": "ipython3",
   "version": "3.7.3"
  }
 },
 "nbformat": 4,
 "nbformat_minor": 2
}
